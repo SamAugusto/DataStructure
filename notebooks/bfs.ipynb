{
  "cells": [
    {
      "cell_type": "markdown",
      "metadata": {
        "id": "3Ory7gP9vmFM"
      },
      "source": [
        "# Breadth First Search"
      ]
    },
    {
      "cell_type": "markdown",
      "metadata": {
        "id": "bbUCjBetvmFO"
      },
      "source": [
        "[Click here to run this chapter on Colab](https://colab.research.google.com/github/AllenDowney/DSIRP/blob/main/notebooks/bfs.ipynb)"
      ]
    },
    {
      "cell_type": "markdown",
      "metadata": {
        "id": "rUJK3NRpvmFO"
      },
      "source": [
        "In the previous notebook, we constructed an Erdos-Renyi graph and wrote a version of depth-first search (DFS) that works for graphs.\n",
        "\n",
        "When we did DFS in a tree, there was only one path from the root to any other node, so we never discovered the same node twice.\n",
        "In a graph, there might be multiple paths to the same node.\n",
        "To avoid discovering the same node over and over, we have to keep track of the nodes we've seen.\n",
        "\n",
        "In this notebook, we'll adapt the level-order traversal in the same way; the result is a breadth-first search (BFS).\n",
        "Then we'll adapt BFS to implement Dijkstra's algorithm, which computes the shortest path from a starting node to every other node (provided it is reachable).\n",
        "\n",
        "We'll test these functions with a Watts-Strogatz graph, then replicate part of an experiment from a [well-known paper](https://github.com/AllenDowney/ThinkComplexity2/blob/master/papers/watts98collective.pdf)."
      ]
    },
    {
      "cell_type": "markdown",
      "metadata": {
        "id": "PEBg4PbcvmFP"
      },
      "source": [
        "## Watts-Strogatz graphs\n",
        "\n",
        "A Watts-Strogatz (WS) graph is a random graph, like an Erdos-Renyi graph, but the construction process is different.\n",
        "A WS graph starts with a ring lattice and randomly \"rewires\" some of the edges.\n",
        "\n",
        "NetworkX provides [a function that makes a WS graph](https://networkx.org/documentation/stable/reference/generated/networkx.generators.random_graphs.watts_strogatz_graph.html), so we can see what it looks like.\n",
        "\n",
        "Here's an example with `n=10` nodes, each connected to `k=2` neighbors, with probability `p=0` of rewiring each edge."
      ]
    },
    {
      "cell_type": "code",
      "execution_count": 22,
      "metadata": {
        "tags": [],
        "id": "kwllrRBzvmFP",
        "outputId": "7ad150f3-0a5e-42f9-8668-afc24cd03bc9",
        "colab": {
          "base_uri": "https://localhost:8080/"
        }
      },
      "outputs": [
        {
          "output_type": "execute_result",
          "data": {
            "text/plain": [
              "NodeView((0, 1, 2, 3, 4, 5, 6, 7, 8, 9))"
            ]
          },
          "metadata": {},
          "execution_count": 22
        }
      ],
      "source": [
        "import networkx as nx\n",
        "\n",
        "G = nx.watts_strogatz_graph(n=10, k=3, p=0)\n",
        "G.nodes()"
      ]
    },
    {
      "cell_type": "markdown",
      "metadata": {
        "id": "iGD5P8wuvmFQ"
      },
      "source": [
        "The result is a ring where each node holds hands with its immediate neighbors."
      ]
    },
    {
      "cell_type": "code",
      "execution_count": 2,
      "metadata": {
        "id": "rPxLTxHbvmFQ"
      },
      "outputs": [],
      "source": [
        "def draw_graph(G):\n",
        "    nx.draw_circular(G, node_size=1000, with_labels=True)"
      ]
    },
    {
      "cell_type": "code",
      "execution_count": 23,
      "metadata": {
        "id": "kv0HNR0RvmFQ",
        "outputId": "d233c668-4d45-44c0-b011-6b3bf16e1b74",
        "colab": {
          "base_uri": "https://localhost:8080/",
          "height": 516
        }
      },
      "outputs": [
        {
          "output_type": "display_data",
          "data": {
            "text/plain": [
              "<Figure size 640x480 with 1 Axes>"
            ],
            "image/png": "[encoded data removed]"
          },
          "metadata": {}
        }
      ],
      "source": [
        "draw_graph(G)"
      ]
    },
    {
      "cell_type": "markdown",
      "metadata": {
        "id": "cjfGnGzVvmFQ"
      },
      "source": [
        "**Exercise:** Run this code again with different values of `k` and `p` to see what the effect is.\n",
        "\n",
        "Note: If `k` is odd, it gets \"rounded down\" to an even number."
      ]
    },
    {
      "cell_type": "markdown",
      "metadata": {
        "id": "cYl31HuOvmFR"
      },
      "source": [
        "## Breadth-first search\n",
        "\n",
        "Here's the function from the previous notebook that implements depth-first search in a graph."
      ]
    },
    {
      "cell_type": "code",
      "execution_count": 10,
      "metadata": {
        "id": "hyU32er_vmFR"
      },
      "outputs": [],
      "source": [
        "def reachable_nodes(G, start):\n",
        "    seen = set()\n",
        "    stack = [start]\n",
        "    while stack:\n",
        "        node = stack.pop()\n",
        "        if node not in seen:\n",
        "            seen.add(node)\n",
        "            stack.extend(G[node])\n",
        "    return seen"
      ]
    },
    {
      "cell_type": "code",
      "execution_count": 16,
      "metadata": {
        "id": "OthADsZWvmFR",
        "outputId": "62fe99ec-be7e-49fa-c320-7abe264d5e4a",
        "colab": {
          "base_uri": "https://localhost:8080/"
        }
      },
      "outputs": [
        {
          "output_type": "stream",
          "name": "stdout",
          "text": [
            "9.84 µs ± 2.42 µs per loop (mean ± std. dev. of 7 runs, 100000 loops each)\n"
          ]
        }
      ],
      "source": [
        "%timeit reachable_nodes(G, 0)"
      ]
    },
    {
      "cell_type": "markdown",
      "metadata": {
        "id": "68P-PBW_vmFR"
      },
      "source": [
        "**Exercise:** Make a version of this function called `reachable_nodes_bfs` that does the same thing using breadth-first search."
      ]
    },
    {
      "cell_type": "code",
      "execution_count": 7,
      "metadata": {
        "id": "F7mLgPPBvmFR"
      },
      "outputs": [],
      "source": [
        "from collections import deque\n"
      ]
    },
    {
      "cell_type": "code",
      "execution_count": 33,
      "metadata": {
        "id": "RNNHOzmevmFR"
      },
      "outputs": [],
      "source": [
        "def reachable_nodes_bfs(G, start):\n",
        "    seen = set()\n",
        "    queue = deque([start])\n",
        "    while queue:\n",
        "        node = queue.popleft()\n",
        "        if node not in seen:\n",
        "            seen.add(node)\n",
        "            queue.extend(G[node])\n",
        "    return seen"
      ]
    },
    {
      "cell_type": "markdown",
      "metadata": {
        "id": "HXEiMRIRvmFR"
      },
      "source": [
        "You can use this example to test your code."
      ]
    },
    {
      "cell_type": "code",
      "execution_count": 27,
      "metadata": {
        "id": "PRqJso8pvmFR",
        "outputId": "8935bde0-e963-4d48-ffe6-4bfdf0e8562a",
        "colab": {
          "base_uri": "https://localhost:8080/"
        }
      },
      "outputs": [
        {
          "output_type": "execute_result",
          "data": {
            "text/plain": [
              "{0, 1, 2, 3, 4, 5, 6, 7, 8, 9}"
            ]
          },
          "metadata": {},
          "execution_count": 27
        }
      ],
      "source": [
        "reachable_nodes_bfs(G, 0)"
      ]
    },
    {
      "cell_type": "markdown",
      "metadata": {
        "id": "YkYDbsFBvmFR"
      },
      "source": [
        "## Fast BFS\n",
        "\n",
        "NetworkX provides a simple, fast implementation of BFS, available from [the NetworkX repository on GitHub](https://github.com/networkx/networkx/blob/master/networkx/algorithms/components/connected.py).\n",
        "Here is a version I modified to return a set of nodes:"
      ]
    },
    {
      "cell_type": "code",
      "execution_count": 32,
      "metadata": {
        "id": "2zDinOYLvmFR"
      },
      "outputs": [],
      "source": [
        "def plain_bfs(G, start):\n",
        "    seen = set()\n",
        "    nextlevel = {start}\n",
        "    while nextlevel:\n",
        "        thislevel = nextlevel\n",
        "        nextlevel = set()\n",
        "        for v in thislevel:\n",
        "            if v not in seen:\n",
        "                seen.add(v)\n",
        "                nextlevel.update(G[v])\n",
        "    return seen"
      ]
    },
    {
      "cell_type": "markdown",
      "metadata": {
        "id": "ECC3AHUUvmFR"
      },
      "source": [
        "Let's compare this function to `reachable_nodes_bfs` and see which is faster."
      ]
    },
    {
      "cell_type": "code",
      "execution_count": 18,
      "metadata": {
        "id": "sTZAeb32vmFS"
      },
      "outputs": [],
      "source": [
        "G = nx.watts_strogatz_graph(1000, 10, 0.01)"
      ]
    },
    {
      "cell_type": "code",
      "execution_count": 19,
      "metadata": {
        "id": "ekJPM_7CvmFS",
        "outputId": "2359e72f-38ae-4b88-8a21-89239d226cda",
        "colab": {
          "base_uri": "https://localhost:8080/"
        }
      },
      "outputs": [
        {
          "output_type": "stream",
          "name": "stdout",
          "text": [
            "1.43 ms ± 298 µs per loop (mean ± std. dev. of 7 runs, 1000 loops each)\n"
          ]
        }
      ],
      "source": [
        "%timeit reachable_nodes_bfs(G, 0)"
      ]
    },
    {
      "cell_type": "code",
      "execution_count": 20,
      "metadata": {
        "id": "DHGYyzKAvmFS",
        "outputId": "e149c0cf-bfa0-4a42-c237-3f26cbe78c24",
        "colab": {
          "base_uri": "https://localhost:8080/"
        }
      },
      "outputs": [
        {
          "output_type": "stream",
          "name": "stdout",
          "text": [
            "1.31 ms ± 481 µs per loop (mean ± std. dev. of 7 runs, 1000 loops each)\n"
          ]
        }
      ],
      "source": [
        "%timeit plain_bfs(G, 0)"
      ]
    },
    {
      "cell_type": "markdown",
      "metadata": {
        "id": "xoPu-AWTvmFS"
      },
      "source": [
        "## Dijkstra's algorithm\n",
        "\n",
        "During a breadth-first search, whenever we discover a new node, the path we took must be the shortest.\n",
        "That's necessarily true because, if there had been a shorter path, we would have discovered the node sooner.\n",
        "\n",
        "This insight is the basis of Dijkstra's algorithm, which computes the shortest path from a give \"source\" node to all other (reachable) nodes.\n",
        "\n",
        "The general version of Dijkstra's algorithm works on graphs where the edges have different lengths, like the distance between cities, for example.\n",
        "\n",
        "We'll start with a simpler version where all edges have length `1`.\n",
        "This version is similar to BFS, with one change: instead of keeping a set of nodes that have already been seen, we keep a dictionary that maps from each discovered node to its distance from the source."
      ]
    },
    {
      "cell_type": "markdown",
      "metadata": {
        "id": "xIvRHwgtvmFS"
      },
      "source": [
        "**Exercise:** Write a version of `reachable_nodes_bfs` called `shortest_path_dijkstra`. It should take a graph and a source node as parameters and return a dictionary that maps from each reachable node to its distance from the source.\n",
        "\n",
        "Hint: Start with a dictionary that maps from the source node to distance `0`."
      ]
    },
    {
      "cell_type": "code",
      "execution_count": 46,
      "metadata": {
        "id": "HLRRkxt8vmFS"
      },
      "outputs": [],
      "source": [
        "def shortest_path_dijkstra(G, source):\n",
        "    dist = {source: 0}\n",
        "\n",
        "    queue = deque([source])\n",
        "    while queue:\n",
        "        node = queue.popleft()\n",
        "        for neigbhor in G[node]:\n",
        "          if neigbhor not in dist.keys():\n",
        "              dist[neigbhor] = dist[node] + 1\n",
        "              queue.append(neigbhor)\n",
        "\n",
        "    return dist"
      ]
    },
    {
      "cell_type": "markdown",
      "metadata": {
        "id": "nEpLvqhpvmFS"
      },
      "source": [
        "We'll test it on a ring lattice."
      ]
    },
    {
      "cell_type": "code",
      "execution_count": 47,
      "metadata": {
        "id": "RY5-5T2vvmFS"
      },
      "outputs": [],
      "source": [
        "G = nx.watts_strogatz_graph(10, 4, 0)"
      ]
    },
    {
      "cell_type": "code",
      "execution_count": 48,
      "metadata": {
        "id": "kwHNk_whvmFS",
        "outputId": "9083ba04-8d3b-4261-fc58-9cecb0539a43",
        "colab": {
          "base_uri": "https://localhost:8080/",
          "height": 516
        }
      },
      "outputs": [
        {
          "output_type": "display_data",
          "data": {
            "text/plain": [
              "<Figure size 640x480 with 1 Axes>"
            ],
            "image/png": "[encoded data removed]"
          },
          "metadata": {}
        }
      ],
      "source": [
        "draw_graph(G)"
      ]
    },
    {
      "cell_type": "code",
      "execution_count": 49,
      "metadata": {
        "id": "879uc7knvmFS",
        "outputId": "b7420727-b7df-4221-a6d4-8c572cedf1f7",
        "colab": {
          "base_uri": "https://localhost:8080/"
        }
      },
      "outputs": [
        {
          "output_type": "execute_result",
          "data": {
            "text/plain": [
              "{0: 0, 1: 1, 9: 1, 2: 1, 8: 1, 3: 2, 7: 2, 4: 2, 6: 2, 5: 3}"
            ]
          },
          "metadata": {},
          "execution_count": 49
        }
      ],
      "source": [
        "shortest_path_dijkstra(G, 0)"
      ]
    },
    {
      "cell_type": "markdown",
      "metadata": {
        "id": "5Gw8B2jhvmFS"
      },
      "source": [
        "**Exercise:** Starting with `plain_bfs` write a (possibly faster) implementation of Dijkstra's algorithm that returns a dictionary that maps from each reachable node to its distance from a given source node."
      ]
    },
    {
      "cell_type": "code",
      "execution_count": 54,
      "metadata": {
        "id": "ftgixLLSvmFS"
      },
      "outputs": [],
      "source": [
        "def plain_shortest_path(G, start):\n",
        "    dist = {start:0}\n",
        "    nextlevel = {start}\n",
        "    while nextlevel:\n",
        "        thislevel = nextlevel\n",
        "        nextlevel = set()\n",
        "        for v in thislevel:\n",
        "            for n in G[v]:\n",
        "                if n not in dist:\n",
        "                    dist[n] = dist[v] + 1\n",
        "                    nextlevel.add(n)\n",
        "    return dist"
      ]
    },
    {
      "cell_type": "markdown",
      "metadata": {
        "id": "6rxOU-RHvmFS"
      },
      "source": [
        "You can use the following example to test it."
      ]
    },
    {
      "cell_type": "code",
      "execution_count": 55,
      "metadata": {
        "id": "SzLjtFfVvmFS",
        "outputId": "e798656e-9f29-4ff9-9278-c69f0270dfdc",
        "colab": {
          "base_uri": "https://localhost:8080/"
        }
      },
      "outputs": [
        {
          "output_type": "execute_result",
          "data": {
            "text/plain": [
              "True"
            ]
          },
          "metadata": {},
          "execution_count": 55
        }
      ],
      "source": [
        "G = nx.watts_strogatz_graph(1000, 10, 0)\n",
        "d1 = shortest_path_dijkstra(G, 0)\n",
        "d2 = plain_shortest_path(G, 0)\n",
        "d1 == d2"
      ]
    },
    {
      "cell_type": "markdown",
      "metadata": {
        "id": "26tS0PSuvmFS"
      },
      "source": [
        "And let's see which version is faster."
      ]
    },
    {
      "cell_type": "code",
      "execution_count": 56,
      "metadata": {
        "id": "K4bXmHBovmFT",
        "outputId": "c4b6fb1c-6815-40cb-a951-9be65de1be62",
        "colab": {
          "base_uri": "https://localhost:8080/"
        }
      },
      "outputs": [
        {
          "output_type": "stream",
          "name": "stdout",
          "text": [
            "1.63 ms ± 436 µs per loop (mean ± std. dev. of 7 runs, 100 loops each)\n"
          ]
        }
      ],
      "source": [
        "%timeit shortest_path_dijkstra(G, 0)"
      ]
    },
    {
      "cell_type": "code",
      "execution_count": 57,
      "metadata": {
        "id": "aXbxAZ-cvmFT",
        "outputId": "58ec0322-e694-40e0-ee27-abccd54db291",
        "colab": {
          "base_uri": "https://localhost:8080/"
        }
      },
      "outputs": [
        {
          "output_type": "stream",
          "name": "stdout",
          "text": [
            "1.49 ms ± 1.02 ms per loop (mean ± std. dev. of 7 runs, 1000 loops each)\n"
          ]
        }
      ],
      "source": [
        "%timeit plain_shortest_path(G, 0)"
      ]
    },
    {
      "cell_type": "markdown",
      "metadata": {
        "id": "txYM3ARovmFT"
      },
      "source": [
        "We can also compare it to the NetworkX function that does the same thing."
      ]
    },
    {
      "cell_type": "code",
      "execution_count": 58,
      "metadata": {
        "id": "b69UC0KWvmFT",
        "outputId": "62b9e019-9d94-4c91-cbc6-13b7582894cc",
        "colab": {
          "base_uri": "https://localhost:8080/"
        }
      },
      "outputs": [
        {
          "output_type": "stream",
          "name": "stdout",
          "text": [
            "705 µs ± 16.6 µs per loop (mean ± std. dev. of 7 runs, 1000 loops each)\n"
          ]
        }
      ],
      "source": [
        "%timeit nx.shortest_path_length(G, 0)"
      ]
    },
    {
      "cell_type": "markdown",
      "metadata": {
        "id": "6Fm-01HKvmFV"
      },
      "source": [
        "## The WS Experiment\n",
        "\n",
        "The original purpose of the Watts-Strogatz graph is to explore the structure of social networks, particularly the \"small world\" phenomenon, also known as \"six degrees of separation\".\n",
        "\n",
        "The observation is that path lengths in social networks are shorter than you might expect: the distance between any two people on earth might be six connections (or less) on average.\n",
        "\n",
        "The random edges in a WS graph often connect people in parts of the graph that would otherwise be far apart. Even a small number of these \"long links\" can greatly reduce the average path length.\n",
        "\n",
        "To replicate part of their original experiment, I'll use `nx.average_shortest_path_length`, which takes a graph, uses the unweighted version of Dijkstra's algorithm to compute the shortest path from each node to all of the others, and returns the average of the shortest path lengths."
      ]
    },
    {
      "cell_type": "code",
      "execution_count": 59,
      "metadata": {
        "id": "llsl-EUUvmFV",
        "outputId": "e0cd6431-5a70-4792-ec6c-0f0a38147494",
        "colab": {
          "base_uri": "https://localhost:8080/"
        }
      },
      "outputs": [
        {
          "output_type": "execute_result",
          "data": {
            "text/plain": [
              "1.6666666666666667"
            ]
          },
          "metadata": {},
          "execution_count": 59
        }
      ],
      "source": [
        "G = nx.watts_strogatz_graph(10, 4, 0)\n",
        "nx.average_shortest_path_length(G)"
      ]
    },
    {
      "cell_type": "code",
      "execution_count": 60,
      "metadata": {
        "id": "vJuiYlKuvmFV",
        "outputId": "33600c65-6841-43d8-ffa0-06433a8d1f6d",
        "colab": {
          "base_uri": "https://localhost:8080/"
        }
      },
      "outputs": [
        {
          "output_type": "execute_result",
          "data": {
            "text/plain": [
              "50.450450450450454"
            ]
          },
          "metadata": {},
          "execution_count": 60
        }
      ],
      "source": [
        "G = nx.watts_strogatz_graph(1000, 10, 0)\n",
        "nx.average_shortest_path_length(G)"
      ]
    },
    {
      "cell_type": "markdown",
      "metadata": {
        "id": "qcu_R6-8vmFV"
      },
      "source": [
        "We'll run this function for WS graphs with a range of values for `p`."
      ]
    },
    {
      "cell_type": "code",
      "execution_count": 61,
      "metadata": {
        "id": "S_GComZGvmFV",
        "outputId": "d22dadd5-481a-4a54-8947-debc9a1a71b1",
        "colab": {
          "base_uri": "https://localhost:8080/"
        }
      },
      "outputs": [
        {
          "output_type": "stream",
          "name": "stdout",
          "text": [
            "[1.00000000e-04 3.16227766e-04 1.00000000e-03 3.16227766e-03\n",
            " 1.00000000e-02 3.16227766e-02 1.00000000e-01 3.16227766e-01\n",
            " 1.00000000e+00]\n"
          ]
        }
      ],
      "source": [
        "import numpy as np\n",
        "\n",
        "ps = np.logspace(-4, 0, 9)\n",
        "print(ps)"
      ]
    },
    {
      "cell_type": "code",
      "execution_count": 62,
      "metadata": {
        "id": "-DSGjX-7vmFV",
        "outputId": "7089003a-4151-4fa9-f974-db8286a312b2",
        "colab": {
          "base_uri": "https://localhost:8080/"
        }
      },
      "outputs": [
        {
          "output_type": "stream",
          "name": "stdout",
          "text": [
            "0.0001\n",
            "0.00031622776601683794\n",
            "0.001\n",
            "0.0031622776601683794\n",
            "0.01\n",
            "0.03162277660168379\n",
            "0.1\n",
            "0.31622776601683794\n",
            "1.0\n"
          ]
        }
      ],
      "source": [
        "lengths = []\n",
        "\n",
        "n = 1000\n",
        "k = 10\n",
        "for p in ps:\n",
        "    print(p)\n",
        "    G = nx.watts_strogatz_graph(n, k, p)\n",
        "    aspl = nx.average_shortest_path_length(G)\n",
        "    lengths.append(aspl)"
      ]
    },
    {
      "cell_type": "markdown",
      "metadata": {
        "id": "5tSzIWp9vmFV"
      },
      "source": [
        "Here's what the result looks like."
      ]
    },
    {
      "cell_type": "code",
      "execution_count": 63,
      "metadata": {
        "id": "2C4vXFMLvmFV",
        "outputId": "44ced7c2-1592-4678-af4d-746a387a9f28",
        "colab": {
          "base_uri": "https://localhost:8080/",
          "height": 476
        }
      },
      "outputs": [
        {
          "output_type": "display_data",
          "data": {
            "text/plain": [
              "<Figure size 640x480 with 1 Axes>"
            ],
            "image/png": "[encoded data removed]"
          },
          "metadata": {}
        }
      ],
      "source": [
        "import matplotlib.pyplot as plt\n",
        "\n",
        "plt.plot(ps, lengths, 'o-', linewidth=1, label='L(p)')\n",
        "plt.xlabel('Rewiring probability (p)')\n",
        "plt.xscale('log')\n",
        "plt.ylim([0, max(lengths)+3])\n",
        "plt.title('Average path length');"
      ]
    },
    {
      "cell_type": "markdown",
      "metadata": {
        "id": "cy-nBhgAvmFV"
      },
      "source": [
        "With `p=0.01`, we're only rewiring 1% of the edges, but the average path length is already down about as low as it will go."
      ]
    },
    {
      "cell_type": "markdown",
      "metadata": {
        "id": "KYgGPnWqvmFV"
      },
      "source": [
        "*Data Structures and Information Retrieval in Python*\n",
        "\n",
        "Copyright 2021 Allen Downey\n",
        "\n",
        "License: [Creative Commons Attribution-NonCommercial-ShareAlike 4.0 International](https://creativecommons.org/licenses/by-nc-sa/4.0/)"
      ]
    }
  ],
  "metadata": {
    "anaconda-cloud": {},
    "celltoolbar": "Tags",
    "kernelspec": {
      "display_name": "Python 3 (ipykernel)",
      "language": "python",
      "name": "python3"
    },
    "language_info": {
      "codemirror_mode": {
        "name": "ipython",
        "version": 3
      },
      "file_extension": ".py",
      "mimetype": "text/x-python",
      "name": "python",
      "nbconvert_exporter": "python",
      "pygments_lexer": "ipython3",
      "version": "3.10.1"
    },
    "colab": {
      "provenance": []
    }
  },
  "nbformat": 4,
  "nbformat_minor": 0
}