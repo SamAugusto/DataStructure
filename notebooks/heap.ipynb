{
  "cells": [
    {
      "cell_type": "markdown",
      "metadata": {
        "id": "Yg6doIlDF4_1"
      },
      "source": [
        "# Priority Queues and Heaps"
      ]
    },
    {
      "cell_type": "markdown",
      "metadata": {
        "id": "zUTCu57LF4_2"
      },
      "source": [
        "[Click here to run this chapter on Colab](https://colab.research.google.com/github/AllenDowney/DSIRP/blob/main/notebooks/heap.ipynb)"
      ]
    },
    {
      "cell_type": "markdown",
      "metadata": {
        "id": "9mPN6Z-HF4_2"
      },
      "source": [
        "## The `heapq` module\n",
        "\n",
        "The `heapq` module provides functions for adding and removing elements to and from a heap.\n",
        "\n"
      ]
    },
    {
      "cell_type": "code",
      "execution_count": 1,
      "metadata": {
        "id": "iwzet9IfF4_3"
      },
      "outputs": [],
      "source": [
        "from heapq import heappush, heappop"
      ]
    },
    {
      "cell_type": "markdown",
      "metadata": {
        "id": "2U0QHBxqF4_3"
      },
      "source": [
        "The heap itself is literally a list, so if you create an empty list, you can think of it as a heap with no elements."
      ]
    },
    {
      "cell_type": "code",
      "execution_count": 2,
      "metadata": {
        "id": "-S7CzckeF4_3"
      },
      "outputs": [],
      "source": [
        "heap = []"
      ]
    },
    {
      "cell_type": "markdown",
      "metadata": {
        "id": "dysjvlN-F4_3"
      },
      "source": [
        "Then you can use `heappush` to add one element at a time."
      ]
    },
    {
      "cell_type": "code",
      "execution_count": 3,
      "metadata": {
        "id": "JVLVpW5tF4_4",
        "outputId": "e340a482-9651-4b18-86bf-7e854fec2c25",
        "colab": {
          "base_uri": "https://localhost:8080/"
        }
      },
      "outputs": [
        {
          "output_type": "execute_result",
          "data": {
            "text/plain": [
              "[1, 2, 3, 5, 7, 4, 6, 9, 8]"
            ]
          },
          "metadata": {},
          "execution_count": 3
        }
      ],
      "source": [
        "data = [4, 9, 3, 7, 5, 1, 6, 8, 2]\n",
        "\n",
        "for x in data:\n",
        "    heappush(heap, x)\n",
        "\n",
        "heap"
      ]
    },
    {
      "cell_type": "markdown",
      "metadata": {
        "id": "5b3vD9eEF4_4"
      },
      "source": [
        "The result is a list that represents a tree.\n",
        "Here's how the correspondence works between the list representation and the tree representation:\n",
        "\n",
        "* The first element (index 0) is the root.\n",
        "\n",
        "* The next two elements are the children of the root.\n",
        "\n",
        "* The next four element are the grandchildren of the root.\n",
        "\n",
        "And so on."
      ]
    },
    {
      "cell_type": "markdown",
      "metadata": {
        "id": "3b0cRGlmF4_4"
      },
      "source": [
        "In general, if the index of an element is `i`, its parent is `(i-1)//2` and its children are `2*i + 1` and `2*i + 2`."
      ]
    },
    {
      "cell_type": "markdown",
      "metadata": {
        "id": "yCIVKIw7F4_4"
      },
      "source": [
        "## Drawing the Tree\n",
        "\n",
        "To generate the tree representation of the heap, the following function iterates through the heap and makes a NetworkX graph with an edge between each node and its parent."
      ]
    },
    {
      "cell_type": "code",
      "execution_count": 4,
      "metadata": {
        "id": "VOqu_aLjF4_4"
      },
      "outputs": [],
      "source": [
        "import networkx as nx\n",
        "\n",
        "def make_dag(heap):\n",
        "    \"\"\"Make a NetworkX graph that represents the heap.\"\"\"\n",
        "    G = nx.DiGraph()\n",
        "\n",
        "    for i in range(1, len(heap)):\n",
        "        parent = (i-1)//2\n",
        "        G.add_edge(parent, i)\n",
        "\n",
        "    return G"
      ]
    },
    {
      "cell_type": "code",
      "execution_count": 5,
      "metadata": {
        "id": "GbIhz0ILF4_4"
      },
      "outputs": [],
      "source": [
        "G = make_dag(heap)"
      ]
    },
    {
      "cell_type": "markdown",
      "metadata": {
        "id": "TcXbnITxF4_4"
      },
      "source": [
        "To draw the tree, we'll use a module called `EoN` that provides a function called [hierarchy_pos](https://epidemicsonnetworks.readthedocs.io/en/latest/functions/EoN.hierarchy_pos.html#EoN.hierarchy_pos).\n",
        "\n",
        "It takes as a parameter a NetworkX graph that represents a tree, and it returns a dictionary that maps from each node to a position in the Cartesian plane.\n",
        "If we pass this dictionary to `nx.draw`, it lays the tree out accordingly."
      ]
    },
    {
      "cell_type": "code",
      "execution_count": 6,
      "metadata": {
        "id": "1g2E3SduF4_4",
        "outputId": "16f19ed3-7db1-4e53-ae54-492f92407472",
        "colab": {
          "base_uri": "https://localhost:8080/"
        }
      },
      "outputs": [
        {
          "output_type": "stream",
          "name": "stdout",
          "text": [
            "Collecting EoN\n",
            "  Downloading eon-1.2.tar.gz (117 kB)\n",
            "\u001b[?25l     \u001b[90m━━━━━━━━━━━━━━━━━━━━━━━━━━━━━━━━━━━━━━━━\u001b[0m \u001b[32m0.0/117.3 kB\u001b[0m \u001b[31m?\u001b[0m eta \u001b[36m-:--:--\u001b[0m\r\u001b[2K     \u001b[91m━━━━━━━━━━━━━━━━━━━━━━━━━━━━━━━━━━━━━\u001b[0m\u001b[90m╺\u001b[0m\u001b[90m━\u001b[0m \u001b[32m112.6/117.3 kB\u001b[0m \u001b[31m6.7 MB/s\u001b[0m eta \u001b[36m0:00:01\u001b[0m\r\u001b[2K     \u001b[90m━━━━━━━━━━━━━━━━━━━━━━━━━━━━━━━━━━━━━━━\u001b[0m \u001b[32m117.3/117.3 kB\u001b[0m \u001b[31m2.5 MB/s\u001b[0m eta \u001b[36m0:00:00\u001b[0m\n",
            "\u001b[?25h  Preparing metadata (setup.py) ... \u001b[?25l\u001b[?25hdone\n",
            "Requirement already satisfied: networkx>=2 in /usr/local/lib/python3.11/dist-packages (from EoN) (3.5)\n",
            "Requirement already satisfied: numpy in /usr/local/lib/python3.11/dist-packages (from EoN) (2.0.2)\n",
            "Requirement already satisfied: scipy in /usr/local/lib/python3.11/dist-packages (from EoN) (1.15.3)\n",
            "Requirement already satisfied: matplotlib in /usr/local/lib/python3.11/dist-packages (from EoN) (3.10.0)\n",
            "Requirement already satisfied: contourpy>=1.0.1 in /usr/local/lib/python3.11/dist-packages (from matplotlib->EoN) (1.3.2)\n",
            "Requirement already satisfied: cycler>=0.10 in /usr/local/lib/python3.11/dist-packages (from matplotlib->EoN) (0.12.1)\n",
            "Requirement already satisfied: fonttools>=4.22.0 in /usr/local/lib/python3.11/dist-packages (from matplotlib->EoN) (4.58.1)\n",
            "Requirement already satisfied: kiwisolver>=1.3.1 in /usr/local/lib/python3.11/dist-packages (from matplotlib->EoN) (1.4.8)\n",
            "Requirement already satisfied: packaging>=20.0 in /usr/local/lib/python3.11/dist-packages (from matplotlib->EoN) (24.2)\n",
            "Requirement already satisfied: pillow>=8 in /usr/local/lib/python3.11/dist-packages (from matplotlib->EoN) (11.2.1)\n",
            "Requirement already satisfied: pyparsing>=2.3.1 in /usr/local/lib/python3.11/dist-packages (from matplotlib->EoN) (3.2.3)\n",
            "Requirement already satisfied: python-dateutil>=2.7 in /usr/local/lib/python3.11/dist-packages (from matplotlib->EoN) (2.9.0.post0)\n",
            "Requirement already satisfied: six>=1.5 in /usr/local/lib/python3.11/dist-packages (from python-dateutil>=2.7->matplotlib->EoN) (1.17.0)\n",
            "Building wheels for collected packages: EoN\n",
            "  Building wheel for EoN (setup.py) ... \u001b[?25l\u001b[?25hdone\n",
            "  Created wheel for EoN: filename=EoN-1.2-py3-none-any.whl size=122468 sha256=661e3cb95fbbc45299541d314ad56ab0b0989a4bfb651e46379dcd91eee12160\n",
            "  Stored in directory: /root/.cache/pip/wheels/10/ec/88/6daefcc5ebdf7e373db9da6a61386f33143571d885c4c7708a\n",
            "Successfully built EoN\n",
            "Installing collected packages: EoN\n",
            "Successfully installed EoN-1.2\n"
          ]
        }
      ],
      "source": [
        "try:\n",
        "    import EoN\n",
        "except ImportError:\n",
        "    !pip install EoN"
      ]
    },
    {
      "cell_type": "code",
      "execution_count": 7,
      "metadata": {
        "id": "8KeDwAziF4_4"
      },
      "outputs": [],
      "source": [
        "from EoN import hierarchy_pos\n",
        "\n",
        "def draw_heap(heap):\n",
        "    G = make_dag(heap)\n",
        "    pos = hierarchy_pos(G)\n",
        "    labels = dict(enumerate(heap))\n",
        "    nx.draw(G, pos, labels=labels, alpha=0.4)"
      ]
    },
    {
      "cell_type": "markdown",
      "metadata": {
        "id": "1BTnXyaMF4_5"
      },
      "source": [
        "Here's what the tree representation looks like."
      ]
    },
    {
      "cell_type": "code",
      "execution_count": 8,
      "metadata": {
        "id": "T57t6VlfF4_5",
        "outputId": "269dd528-35bc-4050-ec38-697a8cea878a",
        "colab": {
          "base_uri": "https://localhost:8080/",
          "height": 533
        }
      },
      "outputs": [
        {
          "output_type": "stream",
          "name": "stdout",
          "text": [
            "[1, 2, 3, 5, 7, 4, 6, 9, 8]\n"
          ]
        },
        {
          "output_type": "display_data",
          "data": {
            "text/plain": [
              "<Figure size 640x480 with 1 Axes>"
            ],
            "image/png": "[encoded data removed]"
          },
          "metadata": {}
        }
      ],
      "source": [
        "print(heap)\n",
        "draw_heap(heap)"
      ]
    },
    {
      "cell_type": "markdown",
      "metadata": {
        "id": "bpiWrxIPF4_5"
      },
      "source": [
        "## The Heap Property\n",
        "\n",
        "If the list is a heap, the tree should have the heap property:\n",
        "\n",
        "> Every parent is less than or equal to its children.\n",
        "\n",
        "Or more formally:\n",
        "\n",
        "> For all pairs of nodes P and C, where P is the parent of C, the value of P must be less than or equal to the value of C.\n",
        "\n",
        "The following function checks whether this property is true for all nodes."
      ]
    },
    {
      "cell_type": "code",
      "execution_count": 9,
      "metadata": {
        "id": "Vv5TxPv1F4_5"
      },
      "outputs": [],
      "source": [
        "def is_heap(heap):\n",
        "    \"\"\"Check if a sequence has the heap property.\n",
        "\n",
        "    Every child should be >= its parent.\n",
        "    \"\"\"\n",
        "    for i in range(1, len(heap)):\n",
        "        parent = (i-1) // 2\n",
        "        if heap[parent] > heap[i]:\n",
        "            return False\n",
        "    return True"
      ]
    },
    {
      "cell_type": "markdown",
      "metadata": {
        "id": "s9C_VGHLF4_5"
      },
      "source": [
        "As we might hope, `heap` is a heap."
      ]
    },
    {
      "cell_type": "code",
      "execution_count": 10,
      "metadata": {
        "id": "AGzDtpbDF4_5",
        "outputId": "adb0da63-6e00-4d43-cbe0-24262ccdc51c",
        "colab": {
          "base_uri": "https://localhost:8080/"
        }
      },
      "outputs": [
        {
          "output_type": "execute_result",
          "data": {
            "text/plain": [
              "True"
            ]
          },
          "metadata": {},
          "execution_count": 10
        }
      ],
      "source": [
        "is_heap(heap)"
      ]
    },
    {
      "cell_type": "markdown",
      "metadata": {
        "id": "NIgYhIcyF4_5"
      },
      "source": [
        "Here's a list of integers in no particular order, and as you might expect, it does not have the heap property."
      ]
    },
    {
      "cell_type": "code",
      "execution_count": 11,
      "metadata": {
        "id": "ZeZeLpUmF4_5",
        "outputId": "1c28a142-2876-45e4-9e3a-cab592f2dba8",
        "colab": {
          "base_uri": "https://localhost:8080/"
        }
      },
      "outputs": [
        {
          "output_type": "execute_result",
          "data": {
            "text/plain": [
              "False"
            ]
          },
          "metadata": {},
          "execution_count": 11
        }
      ],
      "source": [
        "data = [4, 9, 3, 7, 5, 1, 6, 8, 2]\n",
        "is_heap(data)"
      ]
    },
    {
      "cell_type": "markdown",
      "metadata": {
        "id": "j6E5vNbhF4_5"
      },
      "source": [
        "## Using a Heap to Sort\n",
        "\n",
        "Given a heap, we can implement a sort algorithm called [heapsort](https://en.wikipedia.org/wiki/Heapsort).\n",
        "\n",
        "Let's start again with a fresh heap:"
      ]
    },
    {
      "cell_type": "code",
      "execution_count": 12,
      "metadata": {
        "id": "PGjrSVuFF4_5"
      },
      "outputs": [],
      "source": [
        "heap = []\n",
        "for x in data:\n",
        "    heappush(heap, x)"
      ]
    },
    {
      "cell_type": "markdown",
      "metadata": {
        "id": "UnjbiOZQF4_5"
      },
      "source": [
        "If we know that a list is a heap, we can use `heappop` to find and remove the smallest element."
      ]
    },
    {
      "cell_type": "code",
      "execution_count": 13,
      "metadata": {
        "id": "VF4OVFbYF4_5",
        "outputId": "99a53079-ff6c-41bc-c12c-c49e58470f09",
        "colab": {
          "base_uri": "https://localhost:8080/"
        }
      },
      "outputs": [
        {
          "output_type": "execute_result",
          "data": {
            "text/plain": [
              "1"
            ]
          },
          "metadata": {},
          "execution_count": 13
        }
      ],
      "source": [
        "heappop(heap)"
      ]
    },
    {
      "cell_type": "markdown",
      "metadata": {
        "id": "F6KvUPCoF4_5"
      },
      "source": [
        "`heappop` rearranges the remaining elements of the list to restore the heap property (we'll see how soon)."
      ]
    },
    {
      "cell_type": "code",
      "execution_count": 14,
      "metadata": {
        "id": "8KJD0dxSF4_5",
        "outputId": "81869337-7ccb-47f3-a9f9-b11de51b4fac",
        "colab": {
          "base_uri": "https://localhost:8080/"
        }
      },
      "outputs": [
        {
          "output_type": "execute_result",
          "data": {
            "text/plain": [
              "[2, 5, 3, 8, 7, 4, 6, 9]"
            ]
          },
          "metadata": {},
          "execution_count": 14
        }
      ],
      "source": [
        "heap"
      ]
    },
    {
      "cell_type": "code",
      "execution_count": 15,
      "metadata": {
        "id": "IcwendxAF4_5",
        "outputId": "15384312-ec63-4aa0-f6e5-c120e7cf3c4a",
        "colab": {
          "base_uri": "https://localhost:8080/"
        }
      },
      "outputs": [
        {
          "output_type": "execute_result",
          "data": {
            "text/plain": [
              "True"
            ]
          },
          "metadata": {},
          "execution_count": 15
        }
      ],
      "source": [
        "is_heap(heap)"
      ]
    },
    {
      "cell_type": "markdown",
      "metadata": {
        "id": "qkaD7e47F4_5"
      },
      "source": [
        "And that means we can use `heappop` again to get the second smallest element (of the original heap):"
      ]
    },
    {
      "cell_type": "code",
      "execution_count": 16,
      "metadata": {
        "id": "sEk2MmbYF4_5",
        "outputId": "520db334-1d92-42aa-e511-2df93817a4cc",
        "colab": {
          "base_uri": "https://localhost:8080/"
        }
      },
      "outputs": [
        {
          "output_type": "execute_result",
          "data": {
            "text/plain": [
              "2"
            ]
          },
          "metadata": {},
          "execution_count": 16
        }
      ],
      "source": [
        "heappop(heap)"
      ]
    },
    {
      "cell_type": "markdown",
      "metadata": {
        "id": "dkXsX2eqF4_5"
      },
      "source": [
        "Which means we can use a heap to sort a list."
      ]
    },
    {
      "cell_type": "markdown",
      "metadata": {
        "id": "iRmCs2GEF4_6"
      },
      "source": [
        "**Exercise:** Write a generator function called `heapsort` that takes an iterable and yields the elements of the iterable in increasing order."
      ]
    },
    {
      "cell_type": "code",
      "execution_count": 55,
      "metadata": {
        "id": "poDIgI0dF4_6"
      },
      "outputs": [],
      "source": [
        "data = [4, 9, 3, 7, 5, 1, 6, 8, 2]"
      ]
    },
    {
      "cell_type": "code",
      "execution_count": 62,
      "metadata": {
        "id": "WdzW_SPaF4_6",
        "outputId": "f4847dad-6422-417f-9e27-440b2d59346d",
        "colab": {
          "base_uri": "https://localhost:8080/"
        }
      },
      "outputs": [
        {
          "output_type": "execute_result",
          "data": {
            "text/plain": [
              "1"
            ]
          },
          "metadata": {},
          "execution_count": 62
        }
      ],
      "source": [
        "def heapsort(data):\n",
        "  heap = []\n",
        "  for x in data:\n",
        "      heappush(heap, x)\n",
        "  while heap:\n",
        "    yield heappop(heap)\n",
        "gen = heapsort(data)\n",
        "next(gen)"
      ]
    },
    {
      "cell_type": "code",
      "execution_count": 69,
      "metadata": {
        "id": "blHOIDY-F4_6",
        "outputId": "eeb7dd98-9c90-4085-c464-91f5879f341d",
        "colab": {
          "base_uri": "https://localhost:8080/"
        }
      },
      "outputs": [
        {
          "output_type": "execute_result",
          "data": {
            "text/plain": [
              "8"
            ]
          },
          "metadata": {},
          "execution_count": 69
        }
      ],
      "source": [
        "next(gen)"
      ]
    },
    {
      "cell_type": "markdown",
      "metadata": {
        "id": "2o52mqILF4_8"
      },
      "source": [
        "Now let's see how a heap is implemented.\n",
        "The two key methods are `push` and `pop`."
      ]
    },
    {
      "cell_type": "markdown",
      "metadata": {
        "id": "H0wwNLvgF4_8"
      },
      "source": [
        "## Push\n",
        "\n",
        "To insert an element in a heap, you start by appending it to the list.\n",
        "\n",
        "The result is generally not a heap, so you have to do some work to restore the heap property:\n",
        "\n",
        "* If the new element is greater than or equal to its parent, you are done.\n",
        "\n",
        "* Otherwise swap the new element with its parent.\n",
        "\n",
        "* If the new element is greater than or equal to the parent's parent, you are done.\n",
        "\n",
        "* Otherwise swap the new element with its parent's parent.\n",
        "\n",
        "* And repeat, working your way up the tree, until you're done or you reach the root."
      ]
    },
    {
      "cell_type": "markdown",
      "metadata": {
        "id": "PTWH6tosF4_8"
      },
      "source": [
        "This process is called \"sift-up\" or sometimes [swim](https://en.wikipedia.org/wiki/Heap_(data_structure)#Implementation)."
      ]
    },
    {
      "cell_type": "markdown",
      "metadata": {
        "id": "Ihwr8qRkF4_8"
      },
      "source": [
        "**Exercise:** Write a function called `push` that does the same thing as `heappush`: it should take as parameters a list (which should be a heap) and a new element; it should add the new element to the list and restore the heap property."
      ]
    },
    {
      "cell_type": "code",
      "execution_count": null,
      "metadata": {
        "id": "Q33wkNIHF4_8"
      },
      "outputs": [],
      "source": []
    },
    {
      "cell_type": "markdown",
      "metadata": {
        "id": "0uUzoXWwF4_8"
      },
      "source": [
        "You can use this example to test your code:"
      ]
    },
    {
      "cell_type": "code",
      "execution_count": null,
      "metadata": {
        "id": "An0GNl1nF4_8"
      },
      "outputs": [],
      "source": [
        "heap = []\n",
        "for x in data:\n",
        "    push(heap, x)\n",
        "    assert is_heap(heap)\n",
        "\n",
        "heap"
      ]
    },
    {
      "cell_type": "code",
      "execution_count": null,
      "metadata": {
        "id": "iVQVP9RbF4_8"
      },
      "outputs": [],
      "source": [
        "is_heap(heap)"
      ]
    },
    {
      "cell_type": "markdown",
      "metadata": {
        "id": "x5siWtzWF4_8"
      },
      "source": [
        "## Pop\n",
        "\n",
        "To remove an element from the heap, you:\n",
        "\n",
        "* Make a copy of the root element,\n",
        "\n",
        "* Pop the *last* element off the list and store it at the root.\n",
        "\n",
        "* Then you have to restore the heap property. If the new root is less than or equal to both of its children, you are done.\n",
        "\n",
        "* Otherwise, swap the parent with the smaller of its children.\n",
        "\n",
        "* Then repeat the process with the child you just replaced, and continue until you get to a leaf node.\n",
        "\n",
        "This process is called a \"sift-down\" or sometimes \"sink\"."
      ]
    },
    {
      "cell_type": "markdown",
      "metadata": {
        "id": "QL6ycjKuF4_8"
      },
      "source": [
        "**Exercise:** Write a function called `pop` that does the same thing as `heappop`: it should remove the smallest element, restore the heap property, and return the smallest element.\n",
        "\n",
        "Hint: This one is tricky because you have to deal with several special cases."
      ]
    },
    {
      "cell_type": "code",
      "execution_count": null,
      "metadata": {
        "id": "_yG5d1mYF4_8"
      },
      "outputs": [],
      "source": []
    },
    {
      "cell_type": "code",
      "execution_count": null,
      "metadata": {
        "id": "i2h9pBVxF4_8"
      },
      "outputs": [],
      "source": [
        "heap = []\n",
        "for x in data:\n",
        "    heappush(heap, x)\n",
        "\n",
        "while heap:\n",
        "    print(pop(heap))\n",
        "    assert is_heap(heap)"
      ]
    },
    {
      "cell_type": "code",
      "execution_count": null,
      "metadata": {
        "id": "crx3VBQgF4_8"
      },
      "outputs": [],
      "source": []
    },
    {
      "cell_type": "code",
      "execution_count": null,
      "metadata": {
        "id": "P1dFx9WGF4_8"
      },
      "outputs": [],
      "source": []
    },
    {
      "cell_type": "markdown",
      "metadata": {
        "id": "rR61Mf4VF4_8"
      },
      "source": [
        "*Data Structures and Information Retrieval in Python*\n",
        "\n",
        "Copyright 2021 Allen Downey\n",
        "\n",
        "License: [Creative Commons Attribution-NonCommercial-ShareAlike 4.0 International](https://creativecommons.org/licenses/by-nc-sa/4.0/)"
      ]
    }
  ],
  "metadata": {
    "kernelspec": {
      "display_name": "Python 3 (ipykernel)",
      "language": "python",
      "name": "python3"
    },
    "language_info": {
      "codemirror_mode": {
        "name": "ipython",
        "version": 3
      },
      "file_extension": ".py",
      "mimetype": "text/x-python",
      "name": "python",
      "nbconvert_exporter": "python",
      "pygments_lexer": "ipython3",
      "version": "3.10.1"
    },
    "colab": {
      "provenance": []
    }
  },
  "nbformat": 4,
  "nbformat_minor": 0
}