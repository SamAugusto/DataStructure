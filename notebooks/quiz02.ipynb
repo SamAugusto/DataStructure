{
  "cells": [
    {
      "cell_type": "markdown",
      "metadata": {
        "id": "RbuompSbtUVE"
      },
      "source": [
        "# Quiz 2\n",
        "\n",
        "BEFORE YOU START THIS QUIZ:\n",
        "\n",
        "1. Click on \"Copy to Drive\" to make a copy of the quiz,\n",
        "\n",
        "2. Click on \"Share\",\n",
        "    \n",
        "3. Click on \"Change\" and select \"Anyone with this link can edit\"\n",
        "    \n",
        "4. Click \"Copy link\" and\n",
        "\n",
        "5. Paste the link into [this Canvas assignment](https://canvas.olin.edu/courses/313/assignments/4929).\n",
        "\n",
        "This quiz is open notes, open internet. The only thing you can't do is ask for help.\n",
        "\n",
        "Copyright 2021 Allen Downey, [MIT License](http://opensource.org/licenses/MIT)"
      ]
    },
    {
      "cell_type": "markdown",
      "metadata": {
        "id": "oUw1l1EvtUVE"
      },
      "source": [
        "## Question 1\n",
        "\n",
        "Suppose you have a function that takes a lot of options; some are required and some are optional.\n",
        "\n",
        "Before you run the function, you might want to check that:\n",
        "\n",
        "1. All required options are provided, and\n",
        "\n",
        "2. No illegal options are provided.\n",
        "\n",
        "For example, suppose this dictionary contains the provided options and their values:"
      ]
    },
    {
      "cell_type": "code",
      "execution_count": 18,
      "metadata": {
        "id": "fPvLqiMBtUVE",
        "outputId": "ddc9c747-489a-42be-c650-beefb093544d",
        "colab": {
          "base_uri": "https://localhost:8080/"
        }
      },
      "outputs": [
        {
          "output_type": "execute_result",
          "data": {
            "text/plain": [
              "{'a': 1, 'b': 2}"
            ]
          },
          "metadata": {},
          "execution_count": 18
        }
      ],
      "source": [
        "options = dict(a=1, b=2)\n",
        "options"
      ]
    },
    {
      "cell_type": "markdown",
      "metadata": {
        "id": "72oEhbx_tUVF"
      },
      "source": [
        "And suppose that only `a` is required."
      ]
    },
    {
      "cell_type": "code",
      "execution_count": 14,
      "metadata": {
        "id": "ugz-RebHtUVF"
      },
      "outputs": [],
      "source": [
        "required = ['a']"
      ]
    },
    {
      "cell_type": "markdown",
      "metadata": {
        "id": "xwo38xr5tUVF"
      },
      "source": [
        "And the optional arguments are `b`, and `c`:"
      ]
    },
    {
      "cell_type": "code",
      "execution_count": 3,
      "metadata": {
        "id": "srh4ADzOtUVF"
      },
      "outputs": [],
      "source": [
        "optional = ['b', 'c']"
      ]
    },
    {
      "cell_type": "markdown",
      "metadata": {
        "id": "iFvwXjKxtUVF"
      },
      "source": [
        "An option is legal if it is required or optional. All other options are illegal.\n",
        "\n",
        "Write a function called `check_options` that takes a dictionary of options and their values, a sequence of required options, and a sequence of options that are legal but not required.\n",
        "\n",
        "1. It should check that all required options are provided and, if not, print an error message that lists the ones that are missing.\n",
        "\n",
        "2. It should check that all provided options are legal and, if not, print an error message that lists the ones that are illegal.\n",
        "\n",
        "For full credit, you must use set operations when they are appropriate rather than writing `for` loops."
      ]
    },
    {
      "cell_type": "markdown",
      "metadata": {
        "id": "4r5g_7DItUVG"
      },
      "source": [
        "The following test should display nothing because the dictionary contains all required options and no illegal ones."
      ]
    },
    {
      "cell_type": "code",
      "source": [
        "def check_options(options,required,optional):\n",
        "  bolean_lst = [req for req  in required if req in options.keys()]\n",
        "  comparisson =  set(required)-set(bolean_lst)\n",
        "  if len(comparisson) != 0:\n",
        "    return print(f'Error, {comparisson} options missing')\n",
        "  ilegal_options = (set(options)-set(required))-set(optional)\n",
        "  if len(ilegal_options) != 0:\n",
        "    print(f\"Error, illegal options provided {ilegal_options}\")\n",
        "  else:\n",
        "    return print(\"All requirements met\")\n",
        "\n",
        "check_options(options,required,optional)\n",
        "\n",
        "\n"
      ],
      "metadata": {
        "id": "a6nzHtLLtotU",
        "outputId": "f9f0012b-3f5c-4141-bb5d-49eedbc18823",
        "colab": {
          "base_uri": "https://localhost:8080/"
        }
      },
      "execution_count": 17,
      "outputs": [
        {
          "output_type": "stream",
          "name": "stdout",
          "text": [
            "Error, illegal options provided {'d'}\n"
          ]
        }
      ]
    },
    {
      "cell_type": "code",
      "source": [
        "options.keys()\n",
        "lst =['a','b']\n",
        "for options in options.keys():\n",
        "  if options in lst:\n",
        "    print(\"True\")"
      ],
      "metadata": {
        "id": "a2qnopx1uU5H",
        "outputId": "bc4e542c-bf7b-4f78-a0d1-7ad7453848cc",
        "colab": {
          "base_uri": "https://localhost:8080/"
        }
      },
      "execution_count": 6,
      "outputs": [
        {
          "output_type": "stream",
          "name": "stdout",
          "text": [
            "True\n",
            "True\n"
          ]
        }
      ]
    },
    {
      "cell_type": "code",
      "execution_count": 19,
      "metadata": {
        "id": "jaVogY6VtUVG",
        "outputId": "b28d0dff-bab4-4dba-ce60-4eaffcc13de3",
        "colab": {
          "base_uri": "https://localhost:8080/"
        }
      },
      "outputs": [
        {
          "output_type": "stream",
          "name": "stdout",
          "text": [
            "All requirements met\n"
          ]
        }
      ],
      "source": [
        "options = dict(a=1, b=2)\n",
        "check_options(options, required, optional)"
      ]
    },
    {
      "cell_type": "markdown",
      "metadata": {
        "id": "koDb9YF6tUVG"
      },
      "source": [
        "The following test should print an error message because the dictionary is missing a required option."
      ]
    },
    {
      "cell_type": "code",
      "execution_count": 20,
      "metadata": {
        "id": "fWJMivBwtUVG",
        "outputId": "5c17a34f-3616-44c4-8354-cf2b25b2654f",
        "colab": {
          "base_uri": "https://localhost:8080/"
        }
      },
      "outputs": [
        {
          "output_type": "stream",
          "name": "stdout",
          "text": [
            "Error, {'a'} options missing\n"
          ]
        }
      ],
      "source": [
        "options = dict(b=2, c=3)\n",
        "check_options(options, required, optional)"
      ]
    },
    {
      "cell_type": "markdown",
      "metadata": {
        "id": "aghnWEaNtUVG"
      },
      "source": [
        "The following test should display an error message because the dictionary contains an illegal option."
      ]
    },
    {
      "cell_type": "code",
      "execution_count": 21,
      "metadata": {
        "id": "w6vucYJ8tUVG",
        "outputId": "24c36d18-24d4-477c-8a71-4f76a6754279",
        "colab": {
          "base_uri": "https://localhost:8080/"
        }
      },
      "outputs": [
        {
          "output_type": "stream",
          "name": "stdout",
          "text": [
            "Error, illegal options provided {'d'}\n"
          ]
        }
      ],
      "source": [
        "options = dict(a=1, b=2, d=4)\n",
        "check_options(options, required, optional)"
      ]
    },
    {
      "cell_type": "markdown",
      "metadata": {
        "id": "-MFLGbu8tUVG"
      },
      "source": [
        "## Question 2\n",
        "\n",
        "The set method `symmetric_difference` operates on two sets and computes the set of elements that appear in either set but not both."
      ]
    },
    {
      "cell_type": "code",
      "execution_count": 22,
      "metadata": {
        "id": "678qIFkytUVG",
        "outputId": "490a4d17-59dd-49a3-837c-0d193b7324bf",
        "colab": {
          "base_uri": "https://localhost:8080/"
        }
      },
      "outputs": [
        {
          "output_type": "execute_result",
          "data": {
            "text/plain": [
              "{1, 3}"
            ]
          },
          "metadata": {},
          "execution_count": 22
        }
      ],
      "source": [
        "s1 = {1, 2}\n",
        "s2 = {2, 3}\n",
        "\n",
        "s1.symmetric_difference(s2)"
      ]
    },
    {
      "cell_type": "markdown",
      "metadata": {
        "id": "Pr5ErdKztUVG"
      },
      "source": [
        "The symmetric difference operation is also defined for more that two sets. It computes **the set of elements that appear in an odd number of sets**.\n",
        "\n",
        "The `symmetric_difference` method can only handle two sets (unlike some of the other set methods), but you can chain the method like this:"
      ]
    },
    {
      "cell_type": "code",
      "execution_count": 23,
      "metadata": {
        "id": "uJZ3P7XltUVG",
        "outputId": "46d90722-28d4-494c-85d1-22046e8a03aa",
        "colab": {
          "base_uri": "https://localhost:8080/"
        }
      },
      "outputs": [
        {
          "output_type": "execute_result",
          "data": {
            "text/plain": [
              "{1, 4}"
            ]
          },
          "metadata": {},
          "execution_count": 23
        }
      ],
      "source": [
        "s3 = {3, 4}\n",
        "s1.symmetric_difference(s2).symmetric_difference(s3)"
      ]
    },
    {
      "cell_type": "markdown",
      "metadata": {
        "id": "tcs-lT9ItUVG"
      },
      "source": [
        "However, for the sake of the exercise, let's suppose we don't have the set method `symmetric_difference` the equivalent `^` operator.\n",
        "\n",
        "Write a function that takes a list of sets as a parameter, computes their symmetric difference, and returns the result as a `set`."
      ]
    },
    {
      "cell_type": "code",
      "execution_count": 55,
      "metadata": {
        "id": "roWw18cgtUVG"
      },
      "outputs": [],
      "source": [
        "def symmetric_difference(lst):\n",
        "  if len(lst) < 2:\n",
        "    return lst[0]\n",
        "  else:\n",
        "     return set(lst[0]-symmetric_difference(lst[1:]))| (symmetric_difference(lst[1:])-lst[0])\n"
      ]
    },
    {
      "cell_type": "markdown",
      "metadata": {
        "id": "H8sRwElttUVG"
      },
      "source": [
        "Use the following tests to check your function."
      ]
    },
    {
      "cell_type": "code",
      "execution_count": 57,
      "metadata": {
        "id": "-sZmNuTztUVH",
        "outputId": "5b4b51fc-188d-432d-8683-30850cf2be51",
        "colab": {
          "base_uri": "https://localhost:8080/"
        }
      },
      "outputs": [
        {
          "output_type": "execute_result",
          "data": {
            "text/plain": [
              "{1, 3}"
            ]
          },
          "metadata": {},
          "execution_count": 57
        }
      ],
      "source": [
        "symmetric_difference([s1, s2])    # should be {1, 3}"
      ]
    },
    {
      "cell_type": "code",
      "execution_count": 58,
      "metadata": {
        "id": "ggtHqKNJtUVH",
        "outputId": "524e0c16-2d7c-4cb4-84b3-a7a87094f8d0",
        "colab": {
          "base_uri": "https://localhost:8080/"
        }
      },
      "outputs": [
        {
          "output_type": "execute_result",
          "data": {
            "text/plain": [
              "{2, 4}"
            ]
          },
          "metadata": {},
          "execution_count": 58
        }
      ],
      "source": [
        "symmetric_difference([s2, s3])     # should be {2, 4}"
      ]
    },
    {
      "cell_type": "code",
      "execution_count": 56,
      "metadata": {
        "id": "4ZN4QrBGtUVH",
        "outputId": "360d451e-c893-49e8-df6e-36b519cf8859",
        "colab": {
          "base_uri": "https://localhost:8080/"
        }
      },
      "outputs": [
        {
          "output_type": "execute_result",
          "data": {
            "text/plain": [
              "{1, 4}"
            ]
          },
          "metadata": {},
          "execution_count": 56
        }
      ],
      "source": [
        "symmetric_difference([s1, s2, s3]) # should be {1, 4}"
      ]
    },
    {
      "cell_type": "code",
      "execution_count": null,
      "metadata": {
        "id": "UnddIjgDtUVH"
      },
      "outputs": [],
      "source": []
    },
    {
      "cell_type": "code",
      "execution_count": null,
      "metadata": {
        "id": "e5NX76r2tUVH"
      },
      "outputs": [],
      "source": []
    },
    {
      "cell_type": "code",
      "execution_count": null,
      "metadata": {
        "id": "Zq--ddVXtUVH"
      },
      "outputs": [],
      "source": []
    },
    {
      "cell_type": "code",
      "execution_count": null,
      "metadata": {
        "id": "C7_qIRlDtUVH"
      },
      "outputs": [],
      "source": []
    },
    {
      "cell_type": "code",
      "execution_count": null,
      "metadata": {
        "id": "QlhTypbitUVH"
      },
      "outputs": [],
      "source": []
    },
    {
      "cell_type": "markdown",
      "metadata": {
        "id": "CdDJIHaHtUVH"
      },
      "source": [
        "## Question 3\n",
        "\n",
        "Write a generator function called `evens_and_odds` that takes a list of integers and yields:\n",
        "\n",
        "* All of the elements of the list that are even, followed by\n",
        "\n",
        "* All of the elements of the list that are odd.\n",
        "\n",
        "For example, if the list is `[1, 2, 4, 7]`, the sequence of values generated should be `2, 4, 1, 7`."
      ]
    },
    {
      "cell_type": "code",
      "execution_count": null,
      "metadata": {
        "id": "TDKvjbGltUVH"
      },
      "outputs": [],
      "source": []
    },
    {
      "cell_type": "markdown",
      "metadata": {
        "id": "6lpTKimstUVH"
      },
      "source": [
        "Use this example to test your function."
      ]
    },
    {
      "cell_type": "code",
      "execution_count": null,
      "metadata": {
        "id": "ToCIConNtUVH"
      },
      "outputs": [],
      "source": [
        "t = [1, 2, 4, 7]\n",
        "\n",
        "for x in evens_and_odds(t):\n",
        "    print(x)"
      ]
    },
    {
      "cell_type": "markdown",
      "metadata": {
        "id": "exP7skcvtUVH"
      },
      "source": [
        "As a challenge, JUST FOR FUN, write a version of this function that works if the argument is an iterator that you can only iterate once."
      ]
    },
    {
      "cell_type": "code",
      "execution_count": null,
      "metadata": {
        "id": "zQ7ezEQ3tUVH"
      },
      "outputs": [],
      "source": []
    },
    {
      "cell_type": "code",
      "execution_count": null,
      "metadata": {
        "id": "FLck2eSLtUVH"
      },
      "outputs": [],
      "source": []
    },
    {
      "cell_type": "markdown",
      "metadata": {
        "id": "0Reqg3GctUVH"
      },
      "source": [
        "## Question 4\n",
        "\n",
        "The following string contains the lyrics of a [well-known song](https://youtu.be/dQw4w9WgXcQ?t=43)."
      ]
    },
    {
      "cell_type": "code",
      "execution_count": null,
      "metadata": {
        "id": "TEZQiSmrtUVH"
      },
      "outputs": [],
      "source": [
        "lyrics = \"\"\"\n",
        "Never gonna give you up\n",
        "Never gonna let you down\n",
        "Never gonna run around and desert you\n",
        "Never gonna make you cry\n",
        "Never gonna say goodbye\n",
        "Never gonna tell a lie and hurt you\n",
        "\"\"\""
      ]
    },
    {
      "cell_type": "markdown",
      "metadata": {
        "id": "rSUA-O16tUVJ"
      },
      "source": [
        "The following generator function yields the words in `lyrics` one at a time."
      ]
    },
    {
      "cell_type": "code",
      "execution_count": null,
      "metadata": {
        "id": "Nfay0oEJtUVJ"
      },
      "outputs": [],
      "source": [
        "def generate_lyrics(lyrics):\n",
        "    for word in lyrics.split():\n",
        "        yield word"
      ]
    },
    {
      "cell_type": "markdown",
      "metadata": {
        "id": "3zycStrWtUVJ"
      },
      "source": [
        "Write a few lines of code that use `generate_lyrics` to iterate through the words **only once** and build a dictionary that maps from each word to the set of words that follow it.\n",
        "\n",
        "For example, the first two entries in the dictionary should be\n",
        "\n",
        "```\n",
        "{'Never': {'gonna'},\n",
        " 'gonna': {'give', 'let', 'make', 'run', 'say', 'tell'},\n",
        " ...\n",
        "```\n",
        "\n",
        "because in `lyrics`, the word \"Never\" is always followed by \"gonna\", and the word \"gonna\" is followed by six different words."
      ]
    },
    {
      "cell_type": "code",
      "execution_count": null,
      "metadata": {
        "id": "JE8wVNGutUVJ"
      },
      "outputs": [],
      "source": []
    },
    {
      "cell_type": "code",
      "execution_count": null,
      "metadata": {
        "id": "fmgEAElXtUVK"
      },
      "outputs": [],
      "source": []
    },
    {
      "cell_type": "code",
      "execution_count": null,
      "metadata": {
        "id": "Ov98unOBtUVK"
      },
      "outputs": [],
      "source": []
    },
    {
      "cell_type": "code",
      "execution_count": null,
      "metadata": {
        "id": "ToDcs2H4tUVK"
      },
      "outputs": [],
      "source": []
    }
  ],
  "metadata": {
    "kernelspec": {
      "display_name": "Python 3",
      "language": "python",
      "name": "python3"
    },
    "language_info": {
      "codemirror_mode": {
        "name": "ipython",
        "version": 3
      },
      "file_extension": ".py",
      "mimetype": "text/x-python",
      "name": "python",
      "nbconvert_exporter": "python",
      "pygments_lexer": "ipython3",
      "version": "3.9.4"
    },
    "colab": {
      "provenance": []
    }
  },
  "nbformat": 4,
  "nbformat_minor": 0
}