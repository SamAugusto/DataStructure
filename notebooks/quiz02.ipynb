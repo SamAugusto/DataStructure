{
  "cells": [
    {
      "cell_type": "markdown",
      "metadata": {
        "id": "G29uJCsZH4xs"
      },
      "source": [
        "# Quiz 2\n",
        "\n",
        "BEFORE YOU START THIS QUIZ:\n",
        "\n",
        "1. Click on \"Copy to Drive\" to make a copy of the quiz,\n",
        "\n",
        "2. Click on \"Share\",\n",
        "    \n",
        "3. Click on \"Change\" and select \"Anyone with this link can edit\"\n",
        "    \n",
        "4. Click \"Copy link\" and\n",
        "\n",
        "5. Paste the link into [this Canvas assignment](https://canvas.olin.edu/courses/313/assignments/4929).\n",
        "\n",
        "This quiz is open notes, open internet. The only thing you can't do is ask for help.\n",
        "\n",
        "Copyright 2021 Allen Downey, [MIT License](http://opensource.org/licenses/MIT)"
      ]
    },
    {
      "cell_type": "markdown",
      "metadata": {
        "id": "q081I15VH4xu"
      },
      "source": [
        "## Question 1\n",
        "\n",
        "Suppose you have a function that takes a lot of options; some are required and some are optional.\n",
        "\n",
        "Before you run the function, you might want to check that:\n",
        "\n",
        "1. All required options are provided, and\n",
        "\n",
        "2. No illegal options are provided.\n",
        "\n",
        "For example, suppose this dictionary contains the provided options and their values:"
      ]
    },
    {
      "cell_type": "code",
      "execution_count": 45,
      "metadata": {
        "colab": {
          "base_uri": "https://localhost:8080/"
        },
        "id": "L_wZ2O1KH4xu",
        "outputId": "2a105a73-d3cd-4f6b-f02a-27367ce11d18"
      },
      "outputs": [
        {
          "output_type": "execute_result",
          "data": {
            "text/plain": [
              "dict_keys(['a', 'b'])"
            ]
          },
          "metadata": {},
          "execution_count": 45
        }
      ],
      "source": [
        "options = dict(a=1, b=2)\n",
        "options.keys()"
      ]
    },
    {
      "cell_type": "markdown",
      "metadata": {
        "id": "FFd9xsiCH4xv"
      },
      "source": [
        "And suppose that only `a` is required."
      ]
    },
    {
      "cell_type": "code",
      "execution_count": 31,
      "metadata": {
        "id": "wy5_300rH4xv"
      },
      "outputs": [],
      "source": [
        "required = ['a']"
      ]
    },
    {
      "cell_type": "markdown",
      "metadata": {
        "id": "rebhzdtiH4xv"
      },
      "source": [
        "And the optional arguments are `b`, and `c`:"
      ]
    },
    {
      "cell_type": "code",
      "execution_count": 4,
      "metadata": {
        "id": "1oAn9mwlH4xv"
      },
      "outputs": [],
      "source": [
        "optional = ['b', 'c']"
      ]
    },
    {
      "cell_type": "markdown",
      "metadata": {
        "id": "Fy_2YyUfH4xw"
      },
      "source": [
        "An option is legal if it is required or optional. All other options are illegal.\n",
        "\n",
        "Write a function called `check_options` that takes a dictionary of options and their values, a sequence of required options, and a sequence of options that are legal but not required.\n",
        "\n",
        "1. It should check that all required options are provided and, if not, print an error message that lists the ones that are missing.\n",
        "\n",
        "2. It should check that all provided options are legal and, if not, print an error message that lists the ones that are illegal.\n",
        "\n",
        "For full credit, you must use set operations when they are appropriate rather than writing `for` loops."
      ]
    },
    {
      "cell_type": "code",
      "execution_count": 52,
      "metadata": {
        "id": "6yhNs-pcH4xw"
      },
      "outputs": [],
      "source": [
        "def check_options(options, required, optional):\n",
        "\n",
        "  if len(set(required) - set(options.keys())) != 0:\n",
        "   print(f'Error the following required options are missing: { set(required )- set(options.keys()) } ')\n",
        "  elif len((set(options.keys()) - set(required)) - set(optional)) != 0:\n",
        "    print(f'Illegal option is present: {(set(options.keys()) - set(required)) - set(optional)}')\n",
        "\n"
      ]
    },
    {
      "cell_type": "markdown",
      "metadata": {
        "id": "bD5gEC9eH4xw"
      },
      "source": [
        "The following test should display nothing because the dictionary contains all required options and no illegal ones."
      ]
    },
    {
      "cell_type": "code",
      "execution_count": 53,
      "metadata": {
        "id": "-azg6Cv2H4xw"
      },
      "outputs": [],
      "source": [
        "options = dict(a=1, b=2)\n",
        "check_options(options, required, optional)"
      ]
    },
    {
      "cell_type": "markdown",
      "metadata": {
        "id": "JdfKmR7hH4xw"
      },
      "source": [
        "The following test should print an error message because the dictionary is missing a required option."
      ]
    },
    {
      "cell_type": "code",
      "execution_count": 54,
      "metadata": {
        "colab": {
          "base_uri": "https://localhost:8080/"
        },
        "id": "ASVf3mi_H4xw",
        "outputId": "cdd4f841-1f80-47d2-d225-bbf61341ef16"
      },
      "outputs": [
        {
          "output_type": "stream",
          "name": "stdout",
          "text": [
            "Error the following required options are missing: {'a'} \n"
          ]
        }
      ],
      "source": [
        "options = dict(b=2, c=3)\n",
        "check_options(options, required, optional)"
      ]
    },
    {
      "cell_type": "markdown",
      "metadata": {
        "id": "NQkc5aLPH4xw"
      },
      "source": [
        "The following test should display an error message because the dictionary contains an illegal option."
      ]
    },
    {
      "cell_type": "code",
      "execution_count": 55,
      "metadata": {
        "colab": {
          "base_uri": "https://localhost:8080/"
        },
        "id": "TdmhnX1VH4xw",
        "outputId": "71576c68-880a-4e90-9953-f685deea3a7a"
      },
      "outputs": [
        {
          "output_type": "stream",
          "name": "stdout",
          "text": [
            "Illegal option is present: {'d'}\n"
          ]
        }
      ],
      "source": [
        "options = dict(a=1, b=2, d=4)\n",
        "check_options(options, required, optional)"
      ]
    },
    {
      "cell_type": "markdown",
      "metadata": {
        "id": "z34eo79MH4xw"
      },
      "source": [
        "## Question 2\n",
        "\n",
        "The set method `symmetric_difference` operates on two sets and computes the set of elements that appear in either set but not both."
      ]
    },
    {
      "cell_type": "code",
      "execution_count": null,
      "metadata": {
        "id": "zuT3vMIuH4xw"
      },
      "outputs": [],
      "source": [
        "s1 = {1, 2}\n",
        "s2 = {2, 3}\n",
        "\n",
        "s1.symmetric_difference(s2)"
      ]
    },
    {
      "cell_type": "markdown",
      "metadata": {
        "id": "KRv9BxKwH4xx"
      },
      "source": [
        "The symmetric difference operation is also defined for more that two sets. It computes **the set of elements that appear in an odd number of sets**.\n",
        "\n",
        "The `symmetric_difference` method can only handle two sets (unlike some of the other set methods), but you can chain the method like this:"
      ]
    },
    {
      "cell_type": "code",
      "execution_count": 57,
      "metadata": {
        "colab": {
          "base_uri": "https://localhost:8080/"
        },
        "id": "e6Tg7583H4xx",
        "outputId": "7fe854ef-9951-4b09-f57e-36e1c0dfb891"
      },
      "outputs": [
        {
          "output_type": "execute_result",
          "data": {
            "text/plain": [
              "{1, 4}"
            ]
          },
          "metadata": {},
          "execution_count": 57
        }
      ],
      "source": [
        "s3 = {3, 4}\n",
        "s1.symmetric_difference(s2).symmetric_difference(s3)"
      ]
    },
    {
      "cell_type": "markdown",
      "metadata": {
        "id": "o0x11MNsH4xx"
      },
      "source": [
        "However, for the sake of the exercise, let's suppose we don't have the set method `symmetric_difference` the equivalent `^` operator.\n",
        "\n",
        "Write a function that takes a list of sets as a parameter, computes their symmetric difference, and returns the result as a `set`."
      ]
    },
    {
      "cell_type": "code",
      "execution_count": 56,
      "metadata": {
        "colab": {
          "base_uri": "https://localhost:8080/"
        },
        "id": "lR226Ee2H4xx",
        "outputId": "6e58c0a5-4acc-4fd7-9308-0330c7e328f1"
      },
      "outputs": [
        {
          "output_type": "execute_result",
          "data": {
            "text/plain": [
              "{1, 3}"
            ]
          },
          "metadata": {},
          "execution_count": 56
        }
      ],
      "source": [
        "def symmetric_difference(lst):\n",
        "  if len(lst) < 2:\n",
        "    return lst[0]\n",
        "  else:\n",
        "     return set(lst[0]-symmetric_difference(lst[1:]))| (symmetric_difference(lst[1:])-lst[0])\n",
        "s1 = {1, 2}\n",
        "s2 = {2, 3}\n",
        "\n",
        "symmetric_difference([s1, s2])"
      ]
    },
    {
      "cell_type": "markdown",
      "metadata": {
        "id": "7Q5FsPJzH4xx"
      },
      "source": [
        "Use the following tests to check your function."
      ]
    },
    {
      "cell_type": "code",
      "execution_count": 58,
      "metadata": {
        "colab": {
          "base_uri": "https://localhost:8080/"
        },
        "id": "aNMyYgOIH4xx",
        "outputId": "e75d622e-e4be-4061-d497-71218096b022"
      },
      "outputs": [
        {
          "output_type": "execute_result",
          "data": {
            "text/plain": [
              "{1, 3}"
            ]
          },
          "metadata": {},
          "execution_count": 58
        }
      ],
      "source": [
        "symmetric_difference([s1, s2])    # should be {1, 3}"
      ]
    },
    {
      "cell_type": "code",
      "execution_count": 59,
      "metadata": {
        "colab": {
          "base_uri": "https://localhost:8080/"
        },
        "id": "mvyJjm-mH4xx",
        "outputId": "bd42814b-5fe4-4833-c998-255923588cdd"
      },
      "outputs": [
        {
          "output_type": "execute_result",
          "data": {
            "text/plain": [
              "{2, 4}"
            ]
          },
          "metadata": {},
          "execution_count": 59
        }
      ],
      "source": [
        "symmetric_difference([s2, s3])     # should be {2, 4}"
      ]
    },
    {
      "cell_type": "code",
      "execution_count": 60,
      "metadata": {
        "colab": {
          "base_uri": "https://localhost:8080/"
        },
        "id": "ujSxET8NH4xx",
        "outputId": "a780b0f3-8f8f-424f-aa2a-6df01b026968"
      },
      "outputs": [
        {
          "output_type": "execute_result",
          "data": {
            "text/plain": [
              "{1, 4}"
            ]
          },
          "metadata": {},
          "execution_count": 60
        }
      ],
      "source": [
        "symmetric_difference([s1, s2, s3]) # should be {1, 4}"
      ]
    },
    {
      "cell_type": "code",
      "execution_count": null,
      "metadata": {
        "id": "_2hRQOXDH4xx"
      },
      "outputs": [],
      "source": []
    },
    {
      "cell_type": "code",
      "execution_count": null,
      "metadata": {
        "id": "cO0ToVIAH4xx"
      },
      "outputs": [],
      "source": []
    },
    {
      "cell_type": "code",
      "execution_count": null,
      "metadata": {
        "id": "3mxV5VJJH4xx"
      },
      "outputs": [],
      "source": []
    },
    {
      "cell_type": "code",
      "execution_count": null,
      "metadata": {
        "id": "JZpYwhh0H4xx"
      },
      "outputs": [],
      "source": []
    },
    {
      "cell_type": "code",
      "execution_count": null,
      "metadata": {
        "id": "kInHOPC7H4xx"
      },
      "outputs": [],
      "source": []
    },
    {
      "cell_type": "markdown",
      "metadata": {
        "id": "Hx2H1Ti_H4xx"
      },
      "source": [
        "## Question 3\n",
        "\n",
        "Write a generator function called `evens_and_odds` that takes a list of integers and yields:\n",
        "\n",
        "* All of the elements of the list that are even, followed by\n",
        "\n",
        "* All of the elements of the list that are odd.\n",
        "\n",
        "For example, if the list is `[1, 2, 4, 7]`, the sequence of values generated should be `2, 4, 1, 7`."
      ]
    },
    {
      "cell_type": "code",
      "execution_count": 69,
      "metadata": {
        "id": "h6R6Lkh5H4xx"
      },
      "outputs": [],
      "source": [
        "def evens_and_odds(integers):\n",
        "  for elements in integers:\n",
        "    if elements%2 == 0:\n",
        "      yield elements\n",
        "  for ele in integers:\n",
        "    if ele%2 ==1:\n",
        "      yield ele"
      ]
    },
    {
      "cell_type": "markdown",
      "metadata": {
        "id": "m5hXWyqrH4xx"
      },
      "source": [
        "Use this example to test your function."
      ]
    },
    {
      "cell_type": "code",
      "execution_count": 71,
      "metadata": {
        "colab": {
          "base_uri": "https://localhost:8080/"
        },
        "id": "syGMo4GbH4xx",
        "outputId": "f95f698b-f71b-42a4-bb7b-4d655e3f2e00"
      },
      "outputs": [
        {
          "output_type": "stream",
          "name": "stdout",
          "text": [
            "2\n",
            "4\n",
            "1\n",
            "7\n"
          ]
        }
      ],
      "source": [
        "t = [1, 2, 4, 7]\n",
        "\n",
        "for x in evens_and_odds(t):\n",
        "    print(x)"
      ]
    },
    {
      "cell_type": "markdown",
      "metadata": {
        "id": "SyV4NVLhH4xx"
      },
      "source": [
        "As a challenge, JUST FOR FUN, write a version of this function that works if the argument is an iterator that you can only iterate once."
      ]
    },
    {
      "cell_type": "code",
      "execution_count": 66,
      "metadata": {
        "id": "zicC9gpVH4xx"
      },
      "outputs": [],
      "source": [
        "#No clue the only attempt i could do generated them not in order all the attempts i tried needed 2  loops"
      ]
    },
    {
      "cell_type": "code",
      "execution_count": null,
      "metadata": {
        "id": "tszzQaJxH4xx"
      },
      "outputs": [],
      "source": []
    },
    {
      "cell_type": "markdown",
      "metadata": {
        "id": "J_Ecv3v0H4xx"
      },
      "source": [
        "## Question 4\n",
        "\n",
        "The following string contains the lyrics of a [well-known song](https://youtu.be/dQw4w9WgXcQ?t=43)."
      ]
    },
    {
      "cell_type": "code",
      "execution_count": null,
      "metadata": {
        "id": "aDghBqIEH4xx"
      },
      "outputs": [],
      "source": [
        "lyrics = \"\"\"\n",
        "Never gonna give you up\n",
        "Never gonna let you down\n",
        "Never gonna run around and desert you\n",
        "Never gonna make you cry\n",
        "Never gonna say goodbye\n",
        "Never gonna tell a lie and hurt you\n",
        "\"\"\""
      ]
    },
    {
      "cell_type": "markdown",
      "metadata": {
        "id": "Y7HrNG7WH4x0"
      },
      "source": [
        "The following generator function yields the words in `lyrics` one at a time."
      ]
    },
    {
      "cell_type": "code",
      "execution_count": 72,
      "metadata": {
        "id": "6ArtF5t_H4x0"
      },
      "outputs": [],
      "source": [
        "def generate_lyrics(lyrics):\n",
        "    for word in lyrics.split():\n",
        "        yield word"
      ]
    },
    {
      "cell_type": "markdown",
      "metadata": {
        "id": "GR3G8Py5H4x0"
      },
      "source": [
        "Write a few lines of code that use `generate_lyrics` to iterate through the words **only once** and build a dictionary that maps from each word to the set of words that follow it.\n",
        "\n",
        "For example, the first two entries in the dictionary should be\n",
        "\n",
        "```\n",
        "{'Never': {'gonna'},\n",
        " 'gonna': {'give', 'let', 'make', 'run', 'say', 'tell'},\n",
        " ...\n",
        "```\n",
        "\n",
        "because in `lyrics`, the word \"Never\" is always followed by \"gonna\", and the word \"gonna\" is followed by six different words."
      ]
    },
    {
      "cell_type": "code",
      "execution_count": null,
      "metadata": {
        "id": "MvQkR14TH4x0"
      },
      "outputs": [],
      "source": []
    },
    {
      "cell_type": "code",
      "execution_count": null,
      "metadata": {
        "id": "w0y7IkFhH4x0"
      },
      "outputs": [],
      "source": []
    },
    {
      "cell_type": "code",
      "execution_count": null,
      "metadata": {
        "id": "pLjynlJuH4x0"
      },
      "outputs": [],
      "source": []
    },
    {
      "cell_type": "code",
      "execution_count": null,
      "metadata": {
        "id": "ZJHyvHLTH4x0"
      },
      "outputs": [],
      "source": []
    }
  ],
  "metadata": {
    "kernelspec": {
      "display_name": "Python 3",
      "language": "python",
      "name": "python3"
    },
    "language_info": {
      "codemirror_mode": {
        "name": "ipython",
        "version": 3
      },
      "file_extension": ".py",
      "mimetype": "text/x-python",
      "name": "python",
      "nbconvert_exporter": "python",
      "pygments_lexer": "ipython3",
      "version": "3.9.4"
    },
    "colab": {
      "provenance": []
    }
  },
  "nbformat": 4,
  "nbformat_minor": 0
}