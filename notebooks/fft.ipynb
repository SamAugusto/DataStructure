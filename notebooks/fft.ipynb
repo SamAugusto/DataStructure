{
  "cells": [
    {
      "cell_type": "markdown",
      "metadata": {
        "id": "8NDDiEg7voIG"
      },
      "source": [
        "# FFT"
      ]
    },
    {
      "cell_type": "markdown",
      "metadata": {
        "id": "x6vhxOfVvoIJ"
      },
      "source": [
        "[Click here to run this chapter on Colab](https://colab.research.google.com/github/AllenDowney/DSIRP/blob/main/notebooks/fft.ipynb)"
      ]
    },
    {
      "cell_type": "code",
      "execution_count": 1,
      "metadata": {
        "colab": {
          "base_uri": "https://localhost:8080/"
        },
        "id": "yjf65W02voIK",
        "outputId": "a16aee4b-4d14-46cf-d1cc-855e777b17cf"
      },
      "outputs": [
        {
          "output_type": "stream",
          "name": "stdout",
          "text": [
            "Downloaded timing.py\n"
          ]
        }
      ],
      "source": [
        "from os.path import basename, exists\n",
        "\n",
        "def download(url):\n",
        "    filename = basename(url)\n",
        "    if not exists(filename):\n",
        "        from urllib.request import urlretrieve\n",
        "        local, _ = urlretrieve(url, filename)\n",
        "        print('Downloaded ' + local)\n",
        "\n",
        "download('https://github.com/AllenDowney/DSIRP/raw/main/timing.py')"
      ]
    },
    {
      "cell_type": "code",
      "execution_count": 2,
      "metadata": {
        "id": "NDBkoOW1voIM"
      },
      "outputs": [],
      "source": [
        "from timing import run_timing_test, plot_timing_test"
      ]
    },
    {
      "cell_type": "markdown",
      "metadata": {
        "id": "ijhgVvG6voIM"
      },
      "source": [
        "## Discrete Fourier Transform\n",
        "\n",
        "According to our friends at [Wikipedia](https://en.wikipedia.org/wiki/Discrete_Fourier_transform):\n",
        "\n",
        "> The discrete Fourier transform transforms a sequence of $N$ complex numbers\n",
        "${\\displaystyle \\mathbf{x} =x_{0},x_{1},\\ldots ,x_{N-1}}$ into another sequence of complex numbers,\n",
        "${\\displaystyle \\mathbf{X} =X_{0},X_{1},\\ldots ,X_{N-1},}$ which is defined by $$X_k = \\sum_{n=0}^N x_n \\cdot e^{-i 2 \\pi k n / N} $$\n",
        "\n",
        "Notice:\n",
        "\n",
        "* $X$ and $x$ are the same length, $N$.\n",
        "\n",
        "* $n$ is the index that specifies an element of $x$, and\n",
        "\n",
        "* $k$ is the index that specifies an element of $X$.\n",
        "\n",
        "Let's start with a small example and use Numpy's implementation of FFT to compute the DFT."
      ]
    },
    {
      "cell_type": "code",
      "execution_count": 3,
      "metadata": {
        "id": "gexllpSEvoIN"
      },
      "outputs": [],
      "source": [
        "x = [1, 0, 0, 0]"
      ]
    },
    {
      "cell_type": "code",
      "execution_count": 4,
      "metadata": {
        "colab": {
          "base_uri": "https://localhost:8080/"
        },
        "id": "7osnR-S-voIO",
        "outputId": "ca0a1766-f4a5-4f7b-ee57-dc0ddd1ba599"
      },
      "outputs": [
        {
          "output_type": "execute_result",
          "data": {
            "text/plain": [
              "array([1.+0.j, 1.+0.j, 1.+0.j, 1.+0.j])"
            ]
          },
          "metadata": {},
          "execution_count": 4
        }
      ],
      "source": [
        "import numpy as np\n",
        "\n",
        "np.fft.fft(x)"
      ]
    },
    {
      "cell_type": "markdown",
      "metadata": {
        "id": "5ED_3c_5voIP"
      },
      "source": [
        "Now we know what the answer is, let's compute it ourselves.\n",
        "\n",
        "Here's the expression that computes one element of $X$."
      ]
    },
    {
      "cell_type": "code",
      "execution_count": 5,
      "metadata": {
        "id": "-BVNtE5TvoIQ"
      },
      "outputs": [],
      "source": [
        "pi = np.pi\n",
        "exp = np.exp\n",
        "N = len(x)\n",
        "k = 0"
      ]
    },
    {
      "cell_type": "code",
      "execution_count": 6,
      "metadata": {
        "tags": [],
        "colab": {
          "base_uri": "https://localhost:8080/"
        },
        "id": "jzsmr7uivoIQ",
        "outputId": "a678fafc-a9cb-482f-8437-711585186212"
      },
      "outputs": [
        {
          "output_type": "execute_result",
          "data": {
            "text/plain": [
              "np.complex128(1+0j)"
            ]
          },
          "metadata": {},
          "execution_count": 6
        }
      ],
      "source": [
        "sum(x[n] * exp(-2j * pi * k * n / N) for n in range(N))"
      ]
    },
    {
      "cell_type": "markdown",
      "metadata": {
        "id": "cAKE-05rvoIR"
      },
      "source": [
        "Wrapping this code in a function makes the roles of `k` and `n` clearer:\n",
        "\n",
        "* `k` is the parameter that specifies which element of the DFT to compute, and\n",
        "\n",
        "* `n` is the loop variable we use to compute the summation."
      ]
    },
    {
      "cell_type": "code",
      "execution_count": 7,
      "metadata": {
        "tags": [],
        "id": "47tghwzHvoIR"
      },
      "outputs": [],
      "source": [
        "def dft_k(x, k):\n",
        "    N = len(x)\n",
        "    return sum(x[n] * exp(-2j * pi * k * n / N) for n in range(N))"
      ]
    },
    {
      "cell_type": "code",
      "execution_count": 8,
      "metadata": {
        "colab": {
          "base_uri": "https://localhost:8080/"
        },
        "id": "zeyOe_cJvoIR",
        "outputId": "255b5441-7a56-487e-fed7-41cce9ce4299"
      },
      "outputs": [
        {
          "output_type": "execute_result",
          "data": {
            "text/plain": [
              "np.complex128(1+0j)"
            ]
          },
          "metadata": {},
          "execution_count": 8
        }
      ],
      "source": [
        "dft_k(x, k=1)"
      ]
    },
    {
      "cell_type": "markdown",
      "metadata": {
        "id": "AOVJ3iVCvoIS"
      },
      "source": [
        "Usually we compute $X$ all at once, so we can wrap `dft_k` in another function:"
      ]
    },
    {
      "cell_type": "code",
      "execution_count": 9,
      "metadata": {
        "tags": [],
        "id": "LA9MgzkUvoIS"
      },
      "outputs": [],
      "source": [
        "def dft(x):\n",
        "    N = len(x)\n",
        "    X = [dft_k(x, k) for k in range(N)]\n",
        "    return X"
      ]
    },
    {
      "cell_type": "code",
      "execution_count": 10,
      "metadata": {
        "colab": {
          "base_uri": "https://localhost:8080/"
        },
        "id": "IIG3vLxNvoIT",
        "outputId": "21abc88b-7be7-4b69-8cdb-cf5e6e88b762"
      },
      "outputs": [
        {
          "output_type": "execute_result",
          "data": {
            "text/plain": [
              "[np.complex128(1+0j),\n",
              " np.complex128(1+0j),\n",
              " np.complex128(1+0j),\n",
              " np.complex128(1+0j)]"
            ]
          },
          "metadata": {},
          "execution_count": 10
        }
      ],
      "source": [
        "dft(x)"
      ]
    },
    {
      "cell_type": "markdown",
      "metadata": {
        "id": "1yFH1xG3voIT"
      },
      "source": [
        "And that's what we got from Numpy."
      ]
    },
    {
      "cell_type": "markdown",
      "metadata": {
        "id": "49XRL75cvoIT"
      },
      "source": [
        "## Timing DFT\n",
        "\n",
        "Let's see what the performance of `dft` looks like."
      ]
    },
    {
      "cell_type": "code",
      "execution_count": 11,
      "metadata": {
        "id": "-njeExw6voIT"
      },
      "outputs": [],
      "source": [
        "def test_dft(N):\n",
        "    x = np.random.normal(size=N)\n",
        "    X = dft(x)"
      ]
    },
    {
      "cell_type": "code",
      "execution_count": 12,
      "metadata": {
        "colab": {
          "base_uri": "https://localhost:8080/"
        },
        "id": "csxjTex9voIT",
        "outputId": "aa4c0335-4197-40f5-bed6-e105e2460846"
      },
      "outputs": [
        {
          "output_type": "stream",
          "name": "stdout",
          "text": [
            "CPU times: user 403 ms, sys: 0 ns, total: 403 ms\n",
            "Wall time: 403 ms\n"
          ]
        }
      ],
      "source": [
        "%time test_dft(512)"
      ]
    },
    {
      "cell_type": "code",
      "execution_count": 13,
      "metadata": {
        "colab": {
          "base_uri": "https://localhost:8080/",
          "height": 558
        },
        "id": "A7ladvMQvoIU",
        "outputId": "1f9112a5-c85d-4e74-fc4a-b54146954cf9"
      },
      "outputs": [
        {
          "output_type": "stream",
          "name": "stdout",
          "text": [
            "32 0.0\n",
            "64 0.010000000000000231\n",
            "128 0.019999999999999574\n",
            "256 0.10000000000000009\n",
            "512 0.3899999999999997\n",
            "1024 1.6200000000000006\n"
          ]
        },
        {
          "output_type": "display_data",
          "data": {
            "text/plain": [
              "<Figure size 640x480 with 1 Axes>"
            ],
            "image/png": "[encoded data removed]"
          },
          "metadata": {}
        }
      ],
      "source": [
        "ns, ts = run_timing_test(test_dft, start_at=5)\n",
        "plot_timing_test(ns, ts, 'test_dft', exp=2)"
      ]
    },
    {
      "cell_type": "markdown",
      "metadata": {
        "id": "qC5VHs-6voIU"
      },
      "source": [
        "## Implementing FFT\n",
        "\n",
        "The key to the FFT algorithm is the [Danielson-Lanczos lemma](https://mathworld.wolfram.com/Danielson-LanczosLemma.html), which says\n",
        "\n",
        "$ X_k = E_k + e^{-i 2 \\pi n / N} O_k $\n",
        "\n",
        "Where\n",
        "\n",
        "* $E$ is the FFT of the even elements of $x$, and\n",
        "\n",
        "* $O$ is the DFT of the odd elements of $x$.\n",
        "\n",
        "Before we can translate this expression into code, we have to deal with a gotcha.\n",
        "\n",
        "Remember that, if the length of $x$ is $N$, the length of $X$ is also $N$.\n",
        "\n",
        "If we select the even elements of $x$, the result is a sequence with length $N/2$, which means that the length of $E$ is $N/2$.\n",
        "And the same for $O$.\n",
        "\n",
        "But if $k$ goes from $0$ up to $N-1$, what do we do when it exceeds $N/2-1$?\n",
        "\n",
        "Fortunately, the DFT repeats itself so, $X_N$ is the same as $X_0$.\n",
        "That means we can extend $E$ and $O$ to be the same length as $X$ just by repeating them.\n",
        "And we can do that with the Numpy function `tile`.\n",
        "\n",
        "So, here's a version of `merge` based on the D-L lemma."
      ]
    },
    {
      "cell_type": "code",
      "execution_count": 29,
      "metadata": {
        "tags": [],
        "id": "jCJxq9WfvoIV"
      },
      "outputs": [],
      "source": [
        "def merge(E, O):\n",
        "    N = len(E) * 2\n",
        "    ns = np.arange(N)\n",
        "    W = np.exp(-2j * pi * ns / N)\n",
        "    return np.tile(E, 2) + W * np.tile(O, 2)"
      ]
    },
    {
      "cell_type": "markdown",
      "metadata": {
        "id": "lcEsVTOavoIV"
      },
      "source": [
        "**Exercise:** As a first step toward implementing FFT, write a non-recursive function called `fft_norec` that takes a sequence called `x` and\n",
        "\n",
        "1. Divides `x` into even and odd elements,\n",
        "\n",
        "2. Uses `dft` to compute `E` and `O`, and\n",
        "\n",
        "3. Uses `merge` to compute `X`."
      ]
    },
    {
      "cell_type": "code",
      "execution_count": 34,
      "metadata": {
        "id": "0IrHQ09qvoIW"
      },
      "outputs": [],
      "source": [
        "def fft_norec(x):\n",
        "  even = x[::2]\n",
        "  odd =x[1::2]\n",
        "  E = dft(even)\n",
        "  O = dft(odd)\n",
        "  return merge(E,O)"
      ]
    },
    {
      "cell_type": "code",
      "execution_count": 35,
      "metadata": {
        "colab": {
          "base_uri": "https://localhost:8080/"
        },
        "id": "1ef53MkEvoIW",
        "outputId": "09e3c87b-2797-4893-84d7-c5745f433d0f"
      },
      "outputs": [
        {
          "output_type": "execute_result",
          "data": {
            "text/plain": [
              "array([1.+0.j, 1.+0.j, 1.+0.j, 1.+0.j])"
            ]
          },
          "metadata": {},
          "execution_count": 35
        }
      ],
      "source": [
        "fft_norec(x)"
      ]
    },
    {
      "cell_type": "markdown",
      "metadata": {
        "id": "Wv1mbmo6voIW"
      },
      "source": [
        "Let's see what the performance looks like."
      ]
    },
    {
      "cell_type": "code",
      "execution_count": 36,
      "metadata": {
        "id": "9leHOjh9voIW"
      },
      "outputs": [],
      "source": [
        "def test_fft_norec(N):\n",
        "    x = np.random.normal(size=N)\n",
        "    spectrum = fft_norec(x)"
      ]
    },
    {
      "cell_type": "code",
      "execution_count": 37,
      "metadata": {
        "colab": {
          "base_uri": "https://localhost:8080/"
        },
        "id": "5au_KVNdvoIW",
        "outputId": "8168184a-144e-4da0-97ca-9a0390a661d1"
      },
      "outputs": [
        {
          "output_type": "stream",
          "name": "stdout",
          "text": [
            "CPU times: user 202 ms, sys: 0 ns, total: 202 ms\n",
            "Wall time: 202 ms\n"
          ]
        }
      ],
      "source": [
        "%time test_fft_norec(512)"
      ]
    },
    {
      "cell_type": "code",
      "execution_count": 38,
      "metadata": {
        "colab": {
          "base_uri": "https://localhost:8080/",
          "height": 576
        },
        "id": "Ewo1cviUvoIX",
        "outputId": "21f79f5a-90fe-4a33-9f28-1eb5a1510024"
      },
      "outputs": [
        {
          "output_type": "stream",
          "name": "stdout",
          "text": [
            "32 0.0\n",
            "64 0.010000000000001563\n",
            "128 0.00999999999999801\n",
            "256 0.05000000000000071\n",
            "512 0.1999999999999993\n",
            "1024 0.8599999999999994\n",
            "2048 4.290000000000003\n"
          ]
        },
        {
          "output_type": "display_data",
          "data": {
            "text/plain": [
              "<Figure size 640x480 with 1 Axes>"
            ],
            "image/png": "[encoded data removed]"
          },
          "metadata": {}
        }
      ],
      "source": [
        "ns, ts = run_timing_test(test_fft_norec, start_at=5)\n",
        "plot_timing_test(ns, ts, 'test_fft_norec', exp=2)"
      ]
    },
    {
      "cell_type": "markdown",
      "metadata": {
        "id": "a2QVM1sFvoIX"
      },
      "source": [
        "**Exercise:**  Starting with `fft_norec`, write a function called `fft_rec` that's fully recursive; that is, instead of using `dft` to compute the DFTs of the halves, it should use `fft_rec`.\n",
        "\n",
        "You will need a base case to avoid an infinite recursion.  You have two options:\n",
        "\n",
        "1) The DFT of an array with length 1 is the array itself.\n",
        "\n",
        "2) If the parameter, `x`, is smaller than some threshold length, you could use DFT.\n",
        "\n",
        "Use `test_fft_rec`, below, to check the performance of your function."
      ]
    },
    {
      "cell_type": "code",
      "execution_count": 39,
      "metadata": {
        "id": "oVg8g8mCvoIX"
      },
      "outputs": [],
      "source": [
        "def fft_rec(x):\n",
        "  if len(x) ==1:\n",
        "    return x\n",
        "  even = x[::2]\n",
        "  odd =x[1::2]\n",
        "  return merge(fft_rec(even), fft_rec(odd))"
      ]
    },
    {
      "cell_type": "code",
      "execution_count": 40,
      "metadata": {
        "colab": {
          "base_uri": "https://localhost:8080/"
        },
        "id": "ntq-lDuDvoIY",
        "outputId": "3bb2a43b-b6a2-4232-919b-b301cf4b9b99"
      },
      "outputs": [
        {
          "output_type": "execute_result",
          "data": {
            "text/plain": [
              "array([1.+0.j, 1.+0.j, 1.+0.j, 1.+0.j])"
            ]
          },
          "metadata": {},
          "execution_count": 40
        }
      ],
      "source": [
        "fft_rec(x)"
      ]
    },
    {
      "cell_type": "code",
      "execution_count": 41,
      "metadata": {
        "id": "fqNqBcO4voIY"
      },
      "outputs": [],
      "source": [
        "def test_fft_rec(N):\n",
        "    x = np.random.normal(size=N)\n",
        "    spectrum = fft_rec(x)"
      ]
    },
    {
      "cell_type": "code",
      "execution_count": 42,
      "metadata": {
        "colab": {
          "base_uri": "https://localhost:8080/"
        },
        "id": "1GIxjQ5zvoIZ",
        "outputId": "1d644a72-541d-4fe7-b173-95b33e68a9a9"
      },
      "outputs": [
        {
          "output_type": "stream",
          "name": "stdout",
          "text": [
            "CPU times: user 19.6 ms, sys: 3.12 ms, total: 22.7 ms\n",
            "Wall time: 21.4 ms\n"
          ]
        }
      ],
      "source": [
        "%time test_fft_rec(512)"
      ]
    },
    {
      "cell_type": "code",
      "execution_count": 43,
      "metadata": {
        "colab": {
          "base_uri": "https://localhost:8080/",
          "height": 576
        },
        "id": "vNMI6rEwvoIZ",
        "outputId": "6691954e-8b19-48cb-fd13-74ea5b813526"
      },
      "outputs": [
        {
          "output_type": "stream",
          "name": "stdout",
          "text": [
            "1024 0.03999999999999915\n",
            "2048 0.05000000000000071\n",
            "4096 0.07000000000000028\n",
            "8192 0.21999999999999886\n",
            "16384 0.33999999999999986\n",
            "32768 0.7000000000000028\n",
            "65536 1.4499999999999993\n"
          ]
        },
        {
          "output_type": "display_data",
          "data": {
            "text/plain": [
              "<Figure size 640x480 with 1 Axes>"
            ],
            "image/png": "[encoded data removed]"
          },
          "metadata": {}
        }
      ],
      "source": [
        "ns, ts = run_timing_test(test_fft_rec)\n",
        "plot_timing_test(ns, ts, 'test_fft_rec', exp=1)"
      ]
    },
    {
      "cell_type": "markdown",
      "metadata": {
        "id": "f23DaP8BvoIZ"
      },
      "source": [
        "If things go according to plan, your FFT implementation should be faster than `dft` and `fft_norec`, and over a range of problem sizes, it might be indistinguishable from linear."
      ]
    },
    {
      "cell_type": "markdown",
      "metadata": {
        "id": "fqQzMTTqvoIZ"
      },
      "source": [
        "*Data Structures and Information Retrieval in Python*\n",
        "\n",
        "Copyright 2021 Allen Downey\n",
        "\n",
        "License: [Creative Commons Attribution-NonCommercial-ShareAlike 4.0 International](https://creativecommons.org/licenses/by-nc-sa/4.0/)"
      ]
    }
  ],
  "metadata": {
    "anaconda-cloud": {},
    "celltoolbar": "Tags",
    "kernelspec": {
      "display_name": "Python 3 (ipykernel)",
      "language": "python",
      "name": "python3"
    },
    "language_info": {
      "codemirror_mode": {
        "name": "ipython",
        "version": 3
      },
      "file_extension": ".py",
      "mimetype": "text/x-python",
      "name": "python",
      "nbconvert_exporter": "python",
      "pygments_lexer": "ipython3",
      "version": "3.10.1"
    },
    "colab": {
      "provenance": []
    }
  },
  "nbformat": 4,
  "nbformat_minor": 0
}