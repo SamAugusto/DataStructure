{
  "cells": [
    {
      "cell_type": "markdown",
      "id": "af0fce85",
      "metadata": {
        "id": "af0fce85"
      },
      "source": [
        "# Linked List"
      ]
    },
    {
      "cell_type": "markdown",
      "id": "c91bcf8f",
      "metadata": {
        "id": "c91bcf8f"
      },
      "source": [
        "[Click here to run this chapter on Colab](https://colab.research.google.com/github/AllenDowney/DSIRP/blob/main/notebooks/linked_list.ipynb)"
      ]
    },
    {
      "cell_type": "markdown",
      "id": "394c2889",
      "metadata": {
        "id": "394c2889"
      },
      "source": [
        "## Linked Lists\n",
        "\n",
        "Implementing operations on linked lists is a staple of programming classes and technical interviews.\n",
        "\n",
        "I resist them because it is unlikely that you will ever have to implement a linked list in your professional work. And if you do, someone has made a bad decision.\n",
        "\n",
        "However, they can be good études, that is, pieces that you practice in order to learn, but never perform."
      ]
    },
    {
      "cell_type": "markdown",
      "id": "b33cc740",
      "metadata": {
        "id": "b33cc740"
      },
      "source": [
        "For many of these problems, there are several possible solutions, depending on the requirements:\n",
        "\n",
        "* Are you allowed to modify an existing list, or do you have to create a new one?\n",
        "\n",
        "* If you modify an existing structure, are you also supposed to return a reference to it?\n",
        "\n",
        "* Are you allowed to allocate temporary structures, or do you have to perform all operations in place?\n",
        "\n",
        "And for all of these problems, you could write a solution iteratively or recursively. So there are many possible solutions for each."
      ]
    },
    {
      "cell_type": "markdown",
      "id": "36900610",
      "metadata": {
        "id": "36900610"
      },
      "source": [
        "As we consider alternatives, some of the factors to keep in mind are:\n",
        "\n",
        "* Performance in terms of time and space.\n",
        "\n",
        "* Readability and demonstrably correctness.\n",
        "\n",
        "In general, performance should be asymptotically efficient; for example, if there is a constant time solution, a linear solution would not be acceptable.\n",
        "But we might be willing to pay some overhead to achieve bulletproof correctness."
      ]
    },
    {
      "cell_type": "markdown",
      "id": "7aa7d3f6",
      "metadata": {
        "id": "7aa7d3f6"
      },
      "source": [
        "Here's the class we'll use to represent the nodes in a list."
      ]
    },
    {
      "cell_type": "code",
      "execution_count": 1,
      "id": "c3eda892",
      "metadata": {
        "id": "c3eda892"
      },
      "outputs": [],
      "source": [
        "class Node:\n",
        "    def __init__(self, data, next=None):\n",
        "        self.data = data\n",
        "        self.next = next\n",
        "\n",
        "    def __repr__(self):\n",
        "        return f'Node({self.data}, {repr(self.next)})'"
      ]
    },
    {
      "cell_type": "markdown",
      "id": "bbf5ad6f",
      "metadata": {
        "id": "bbf5ad6f"
      },
      "source": [
        "We can create nodes like this:"
      ]
    },
    {
      "cell_type": "code",
      "execution_count": 2,
      "id": "3eb18535",
      "metadata": {
        "tags": [],
        "colab": {
          "base_uri": "https://localhost:8080/"
        },
        "id": "3eb18535",
        "outputId": "590e4b2d-9b63-41a3-96f7-bbd693e62c9f"
      },
      "outputs": [
        {
          "output_type": "execute_result",
          "data": {
            "text/plain": [
              "Node(1, None)"
            ]
          },
          "metadata": {},
          "execution_count": 2
        }
      ],
      "source": [
        "node1 = Node(1)\n",
        "node2 = Node(2)\n",
        "node3 = Node(3)\n",
        "\n",
        "node1"
      ]
    },
    {
      "cell_type": "markdown",
      "id": "fdfd0222",
      "metadata": {
        "id": "fdfd0222"
      },
      "source": [
        "And then link them up, like this:"
      ]
    },
    {
      "cell_type": "code",
      "execution_count": 3,
      "id": "80748b5d",
      "metadata": {
        "tags": [],
        "id": "80748b5d"
      },
      "outputs": [],
      "source": [
        "node1.next = node2\n",
        "node2.next = node3"
      ]
    },
    {
      "cell_type": "code",
      "execution_count": 4,
      "id": "29a7ebcc",
      "metadata": {
        "colab": {
          "base_uri": "https://localhost:8080/"
        },
        "id": "29a7ebcc",
        "outputId": "6888145b-7268-4f14-9b6d-a52ff3691d57"
      },
      "outputs": [
        {
          "output_type": "execute_result",
          "data": {
            "text/plain": [
              "Node(1, Node(2, Node(3, None)))"
            ]
          },
          "metadata": {},
          "execution_count": 4
        }
      ],
      "source": [
        "node1"
      ]
    },
    {
      "cell_type": "markdown",
      "id": "c0568a9b",
      "metadata": {
        "id": "c0568a9b"
      },
      "source": [
        "There are two ways to think about what `node1` is:\n",
        "\n",
        "* It is \"just\" a node object, which happens to contain a link to another node.\n",
        "\n",
        "* It is the first node in a linked list of nodes.\n",
        "\n",
        "When we pass a node as a parameter, sometimes we think of it as a node and sometimes we think of it as the beginning of a list."
      ]
    },
    {
      "cell_type": "markdown",
      "id": "f21575f6",
      "metadata": {
        "id": "f21575f6"
      },
      "source": [
        "## LinkedList objects\n",
        "\n",
        "For some operations, it will be convenient to have another object that represents the whole list (as opposed to one of its nodes).\n",
        "\n",
        "Here's the class definition."
      ]
    },
    {
      "cell_type": "code",
      "execution_count": 5,
      "id": "f1c32da2",
      "metadata": {
        "id": "f1c32da2"
      },
      "outputs": [],
      "source": [
        "class LinkedList:\n",
        "    def __init__(self, head=None):\n",
        "        self.head = head\n",
        "\n",
        "    def __repr__(self):\n",
        "        return f'LinkedList({repr(self.head)})'"
      ]
    },
    {
      "cell_type": "markdown",
      "id": "c41fb536",
      "metadata": {
        "id": "c41fb536"
      },
      "source": [
        "If we create a `LinkedList` with a reference to `node1`, we can think of the result as a list with three elements."
      ]
    },
    {
      "cell_type": "code",
      "execution_count": 16,
      "id": "f8def755",
      "metadata": {
        "tags": [],
        "colab": {
          "base_uri": "https://localhost:8080/"
        },
        "id": "f8def755",
        "outputId": "c11623ce-be73-41f9-8cfc-9cd5b44f053b"
      },
      "outputs": [
        {
          "output_type": "execute_result",
          "data": {
            "text/plain": [
              "1"
            ]
          },
          "metadata": {},
          "execution_count": 16
        }
      ],
      "source": [
        "t = LinkedList(node1)\n",
        "t.head.data"
      ]
    },
    {
      "cell_type": "markdown",
      "id": "e38e3c31",
      "metadata": {
        "id": "e38e3c31"
      },
      "source": [
        "## Search\n",
        "\n",
        "**Exercise:** Write a function called `find` that takes a `LinkedList` and a target value; if the target value appears in the `LinkedList`, it should return the `Node` that contains it; otherwise it should return `None`."
      ]
    },
    {
      "cell_type": "code",
      "execution_count": 32,
      "id": "0ce358f1",
      "metadata": {
        "id": "0ce358f1"
      },
      "outputs": [],
      "source": [
        "def find(linked_list,target,first_call = True):\n",
        "  if first_call:\n",
        "    node = linked_list.head\n",
        "  else:\n",
        "    node = linked_list\n",
        "  try:\n",
        "    if node.data == target:\n",
        "      return node\n",
        "    else:\n",
        "      return find(node.next,target,first_call=False)\n",
        "  except AttributeError:\n",
        "    print(\"Target not found returning None\")\n",
        "    return None\n"
      ]
    },
    {
      "cell_type": "markdown",
      "id": "c2261efc",
      "metadata": {
        "id": "c2261efc"
      },
      "source": [
        "You can use these examples to test your code."
      ]
    },
    {
      "cell_type": "code",
      "execution_count": 33,
      "id": "415369b0",
      "metadata": {
        "colab": {
          "base_uri": "https://localhost:8080/"
        },
        "id": "415369b0",
        "outputId": "669ff362-8d2d-49cf-cbf0-e431e58958fb"
      },
      "outputs": [
        {
          "output_type": "execute_result",
          "data": {
            "text/plain": [
              "Node(1, Node(2, Node(3, None)))"
            ]
          },
          "metadata": {},
          "execution_count": 33
        }
      ],
      "source": [
        "find(t, 1)"
      ]
    },
    {
      "cell_type": "code",
      "execution_count": 34,
      "id": "320aa238",
      "metadata": {
        "colab": {
          "base_uri": "https://localhost:8080/"
        },
        "id": "320aa238",
        "outputId": "49dd1e57-198d-4566-ea10-c3d833e9e85a"
      },
      "outputs": [
        {
          "output_type": "execute_result",
          "data": {
            "text/plain": [
              "Node(3, None)"
            ]
          },
          "metadata": {},
          "execution_count": 34
        }
      ],
      "source": [
        "find(t, 3)"
      ]
    },
    {
      "cell_type": "code",
      "execution_count": 35,
      "id": "70165057",
      "metadata": {
        "colab": {
          "base_uri": "https://localhost:8080/"
        },
        "id": "70165057",
        "outputId": "d1b1f588-2e72-4c73-d75e-a07741cba6da"
      },
      "outputs": [
        {
          "output_type": "stream",
          "name": "stdout",
          "text": [
            "Target not found returning None\n"
          ]
        }
      ],
      "source": [
        "find(t, 5)"
      ]
    },
    {
      "cell_type": "markdown",
      "id": "44af708a",
      "metadata": {
        "id": "44af708a"
      },
      "source": [
        "## Push and Pop\n",
        "\n",
        "Adding and removing elements from the *left* side of a linked list is relatively easy:"
      ]
    },
    {
      "cell_type": "code",
      "execution_count": 36,
      "id": "7b522c71",
      "metadata": {
        "tags": [],
        "id": "7b522c71"
      },
      "outputs": [],
      "source": [
        "def lpush(t, value):\n",
        "    t.head = Node(value, t.head)"
      ]
    },
    {
      "cell_type": "code",
      "execution_count": 37,
      "id": "9ee37b46",
      "metadata": {
        "tags": [],
        "colab": {
          "base_uri": "https://localhost:8080/"
        },
        "id": "9ee37b46",
        "outputId": "1089c196-67ca-4941-cbc1-ae4acf4143e7"
      },
      "outputs": [
        {
          "output_type": "execute_result",
          "data": {
            "text/plain": [
              "LinkedList(Node(1, Node(2, Node(3, None))))"
            ]
          },
          "metadata": {},
          "execution_count": 37
        }
      ],
      "source": [
        "t = LinkedList()\n",
        "lpush(t, 3)\n",
        "lpush(t, 2)\n",
        "lpush(t, 1)\n",
        "t"
      ]
    },
    {
      "cell_type": "code",
      "execution_count": 38,
      "id": "541d2764",
      "metadata": {
        "tags": [],
        "id": "541d2764"
      },
      "outputs": [],
      "source": [
        "def lpop(t):\n",
        "    if t.head is None:\n",
        "        raise ValueError('Tried to pop from empty LinkedList')\n",
        "    node = t.head\n",
        "    t.head = node.next\n",
        "    return node.data"
      ]
    },
    {
      "cell_type": "code",
      "execution_count": 39,
      "id": "091cf27c",
      "metadata": {
        "tags": [],
        "colab": {
          "base_uri": "https://localhost:8080/"
        },
        "id": "091cf27c",
        "outputId": "fab3eee1-081d-4a90-e2dd-8747726b7da2"
      },
      "outputs": [
        {
          "output_type": "execute_result",
          "data": {
            "text/plain": [
              "(1, 2, 3)"
            ]
          },
          "metadata": {},
          "execution_count": 39
        }
      ],
      "source": [
        "lpop(t), lpop(t), lpop(t)"
      ]
    },
    {
      "cell_type": "code",
      "execution_count": 89,
      "id": "23ac16de",
      "metadata": {
        "tags": [],
        "colab": {
          "base_uri": "https://localhost:8080/"
        },
        "id": "23ac16de",
        "outputId": "ce6cb816-2d86-4e73-ae4e-e78d18fdda63"
      },
      "outputs": [
        {
          "output_type": "execute_result",
          "data": {
            "text/plain": [
              "Node(1, None)"
            ]
          },
          "metadata": {},
          "execution_count": 89
        }
      ],
      "source": [
        "t"
      ]
    },
    {
      "cell_type": "markdown",
      "id": "82eaab11",
      "metadata": {
        "id": "82eaab11"
      },
      "source": [
        "Adding and removing from the end right side take longer because we have to traverse the list.\n",
        "\n",
        "**Exercise:** Write `rpush` and `rpop`."
      ]
    },
    {
      "cell_type": "code",
      "execution_count": 97,
      "id": "0830b88e",
      "metadata": {
        "id": "0830b88e"
      },
      "outputs": [],
      "source": [
        "def rpush(t, value):\n",
        "  if t.head is None:\n",
        "    t.head = Node(value)\n",
        "  else:\n",
        "    node =t.head\n",
        "    while node.next is not None:\n",
        "      node= node.next\n",
        "    node.next = Node(value)\n",
        "  return t.head"
      ]
    },
    {
      "cell_type": "code",
      "execution_count": 116,
      "id": "4a6d6869",
      "metadata": {
        "id": "4a6d6869"
      },
      "outputs": [],
      "source": [
        "def rpop(t):\n",
        "    if t.head is None:\n",
        "        raise ValueError('Tried to pop from empty LinkedList')\n",
        "    node = t.head\n",
        "    if t.head.next is None:\n",
        "        value = t.head.data\n",
        "        t.head = None\n",
        "        return value\n",
        "    while node.next.next is not None:\n",
        "      node= node.next\n",
        "    value = node.next.data\n",
        "    node.next = None\n",
        "    return value"
      ]
    },
    {
      "cell_type": "code",
      "source": [
        "type(t.head.next)\n",
        "t.next"
      ],
      "metadata": {
        "colab": {
          "base_uri": "https://localhost:8080/",
          "height": 159
        },
        "id": "XITEIAOPaPE5",
        "outputId": "035fa200-c4f5-4a96-d14f-c718ad14f800"
      },
      "id": "XITEIAOPaPE5",
      "execution_count": 93,
      "outputs": [
        {
          "output_type": "error",
          "ename": "AttributeError",
          "evalue": "'LinkedList' object has no attribute 'next'",
          "traceback": [
            "\u001b[0;31m---------------------------------------------------------------------------\u001b[0m",
            "\u001b[0;31mAttributeError\u001b[0m                            Traceback (most recent call last)",
            "\u001b[0;32m/tmp/ipython-input-93-3523614213.py\u001b[0m in \u001b[0;36m<cell line: 0>\u001b[0;34m()\u001b[0m\n\u001b[1;32m      1\u001b[0m \u001b[0mtype\u001b[0m\u001b[0;34m(\u001b[0m\u001b[0mt\u001b[0m\u001b[0;34m.\u001b[0m\u001b[0mhead\u001b[0m\u001b[0;34m.\u001b[0m\u001b[0mnext\u001b[0m\u001b[0;34m)\u001b[0m\u001b[0;34m\u001b[0m\u001b[0;34m\u001b[0m\u001b[0m\n\u001b[0;32m----> 2\u001b[0;31m \u001b[0mt\u001b[0m\u001b[0;34m.\u001b[0m\u001b[0mnext\u001b[0m\u001b[0;34m\u001b[0m\u001b[0;34m\u001b[0m\u001b[0m\n\u001b[0m",
            "\u001b[0;31mAttributeError\u001b[0m: 'LinkedList' object has no attribute 'next'"
          ]
        }
      ]
    },
    {
      "cell_type": "markdown",
      "id": "03468ac4",
      "metadata": {
        "id": "03468ac4"
      },
      "source": [
        "You can use the following example to test your code."
      ]
    },
    {
      "cell_type": "code",
      "execution_count": 119,
      "id": "e598b176",
      "metadata": {
        "colab": {
          "base_uri": "https://localhost:8080/"
        },
        "id": "e598b176",
        "outputId": "9ee05679-ee38-451a-8a7f-83ac4f787a0a"
      },
      "outputs": [
        {
          "output_type": "execute_result",
          "data": {
            "text/plain": [
              "LinkedList(Node(1, None))"
            ]
          },
          "metadata": {},
          "execution_count": 119
        }
      ],
      "source": [
        "t = LinkedList()\n",
        "rpush(t, 1)\n",
        "t"
      ]
    },
    {
      "cell_type": "code",
      "execution_count": 120,
      "id": "40c86ff1",
      "metadata": {
        "colab": {
          "base_uri": "https://localhost:8080/"
        },
        "id": "40c86ff1",
        "outputId": "26520f3a-76f7-42c4-869d-25fdb8c76987"
      },
      "outputs": [
        {
          "output_type": "execute_result",
          "data": {
            "text/plain": [
              "LinkedList(Node(1, Node(2, None)))"
            ]
          },
          "metadata": {},
          "execution_count": 120
        }
      ],
      "source": [
        "rpush(t, 2)\n",
        "t"
      ]
    },
    {
      "cell_type": "code",
      "execution_count": 121,
      "id": "e0f844f6",
      "metadata": {
        "colab": {
          "base_uri": "https://localhost:8080/"
        },
        "id": "e0f844f6",
        "outputId": "f799846e-5a37-48fe-b47f-ba1fce25bd0e"
      },
      "outputs": [
        {
          "output_type": "execute_result",
          "data": {
            "text/plain": [
              "2"
            ]
          },
          "metadata": {},
          "execution_count": 121
        }
      ],
      "source": [
        "rpop(t)"
      ]
    },
    {
      "cell_type": "code",
      "execution_count": 122,
      "id": "53af610c",
      "metadata": {
        "colab": {
          "base_uri": "https://localhost:8080/"
        },
        "id": "53af610c",
        "outputId": "f2d81bdb-4b55-4976-e820-ffc706c6ec1d"
      },
      "outputs": [
        {
          "output_type": "execute_result",
          "data": {
            "text/plain": [
              "1"
            ]
          },
          "metadata": {},
          "execution_count": 122
        }
      ],
      "source": [
        "rpop(t)"
      ]
    },
    {
      "cell_type": "code",
      "execution_count": 123,
      "id": "860a382c",
      "metadata": {
        "colab": {
          "base_uri": "https://localhost:8080/"
        },
        "id": "860a382c",
        "outputId": "91688d26-79b1-4476-96a7-de1b005601c6"
      },
      "outputs": [
        {
          "output_type": "stream",
          "name": "stdout",
          "text": [
            "Tried to pop from empty LinkedList\n"
          ]
        }
      ],
      "source": [
        "try:\n",
        "    rpop(t)\n",
        "except ValueError as e:\n",
        "    print(e)"
      ]
    },
    {
      "cell_type": "markdown",
      "id": "4c3b6a6c",
      "metadata": {
        "id": "4c3b6a6c"
      },
      "source": [
        "## Reverse\n",
        "\n",
        "Reversing a linked list is a classic interview question, although at this point it is so classic you will probably never encounter it.\n",
        "\n",
        "But it is still a good exercise, in part because there are so many ways to do it. My solutions here are based on [this tutorial](https://www.geeksforgeeks.org/reverse-a-linked-list/)."
      ]
    },
    {
      "cell_type": "markdown",
      "id": "0c1dc751",
      "metadata": {
        "id": "0c1dc751"
      },
      "source": [
        "If you are allowed to make a new list, you can traverse the old list and `lpush` the elements onto the new list:"
      ]
    },
    {
      "cell_type": "code",
      "execution_count": 124,
      "id": "8e09adea",
      "metadata": {
        "id": "8e09adea"
      },
      "outputs": [],
      "source": [
        "def reverse(t):\n",
        "    t2 = LinkedList()\n",
        "    node = t.head\n",
        "    while node:\n",
        "        lpush(t2, node.data)\n",
        "        node = node.next\n",
        "\n",
        "    return t2"
      ]
    },
    {
      "cell_type": "code",
      "execution_count": 125,
      "id": "fd9fcc52",
      "metadata": {
        "colab": {
          "base_uri": "https://localhost:8080/"
        },
        "id": "fd9fcc52",
        "outputId": "37573488-0de3-466a-809d-cdde50f72f2c"
      },
      "outputs": [
        {
          "output_type": "execute_result",
          "data": {
            "text/plain": [
              "LinkedList(Node(3, Node(2, Node(1, None))))"
            ]
          },
          "metadata": {},
          "execution_count": 125
        }
      ],
      "source": [
        "t = LinkedList(Node(1, Node(2, Node(3, None))))\n",
        "reverse(t)"
      ]
    },
    {
      "cell_type": "markdown",
      "id": "650cd970",
      "metadata": {
        "id": "650cd970"
      },
      "source": [
        "Here's a recursive version that doesn't allocate anything"
      ]
    },
    {
      "cell_type": "code",
      "execution_count": 126,
      "id": "39ecaac5",
      "metadata": {
        "id": "39ecaac5"
      },
      "outputs": [],
      "source": [
        "def reverse(t):\n",
        "    t.head = reverse_rec(t.head)\n",
        "\n",
        "def reverse_rec(node):\n",
        "\n",
        "    # if there are 0 or 1 nodes\n",
        "    if node is None or node.next is None:\n",
        "        return node\n",
        "\n",
        "    # reverse the rest LinkedList\n",
        "    rest = reverse_rec(node.next)\n",
        "\n",
        "    # Put first element at the end\n",
        "    node.next.next = node\n",
        "    node.next = None\n",
        "\n",
        "    return rest"
      ]
    },
    {
      "cell_type": "code",
      "execution_count": 127,
      "id": "a1b1c5b4",
      "metadata": {
        "colab": {
          "base_uri": "https://localhost:8080/"
        },
        "id": "a1b1c5b4",
        "outputId": "bc5824fb-c493-4e1f-c10e-0b1d73472e31"
      },
      "outputs": [
        {
          "output_type": "execute_result",
          "data": {
            "text/plain": [
              "LinkedList(Node(3, Node(2, Node(1, None))))"
            ]
          },
          "metadata": {},
          "execution_count": 127
        }
      ],
      "source": [
        "t = LinkedList(Node(1, Node(2, Node(3, None))))\n",
        "reverse(t)\n",
        "t"
      ]
    },
    {
      "cell_type": "markdown",
      "id": "24e735a0",
      "metadata": {
        "id": "24e735a0"
      },
      "source": [
        "And finally an iterative version that doesn't allocate anything."
      ]
    },
    {
      "cell_type": "code",
      "execution_count": 128,
      "id": "a99a76d9",
      "metadata": {
        "id": "a99a76d9"
      },
      "outputs": [],
      "source": [
        "def reverse(t):\n",
        "    prev = None\n",
        "    current = t.head\n",
        "    while current :\n",
        "        next = current.next\n",
        "        current.next = prev\n",
        "        prev = current\n",
        "        current = next\n",
        "    t.head = prev"
      ]
    },
    {
      "cell_type": "code",
      "execution_count": 129,
      "id": "bfe8841a",
      "metadata": {
        "colab": {
          "base_uri": "https://localhost:8080/"
        },
        "id": "bfe8841a",
        "outputId": "8d3ca431-1a1c-4d3b-d94e-343e8d4a0032"
      },
      "outputs": [
        {
          "output_type": "execute_result",
          "data": {
            "text/plain": [
              "LinkedList(Node(3, Node(2, Node(1, None))))"
            ]
          },
          "metadata": {},
          "execution_count": 129
        }
      ],
      "source": [
        "t = LinkedList(Node(1, Node(2, Node(3, None))))\n",
        "reverse(t)\n",
        "t"
      ]
    },
    {
      "cell_type": "markdown",
      "id": "cf2e89ec",
      "metadata": {
        "id": "cf2e89ec"
      },
      "source": [
        "## Remove\n",
        "\n",
        "One of the advantages of a linked list (compared to an array list) is that we can add and remove elements from the middle of the list in constant time.\n",
        "\n",
        "For example, the following function takes a node and removes the node that follows it."
      ]
    },
    {
      "cell_type": "code",
      "execution_count": 130,
      "id": "9b7d0ef5",
      "metadata": {
        "id": "9b7d0ef5"
      },
      "outputs": [],
      "source": [
        "def remove_after(node):\n",
        "    removed = node.next\n",
        "    node.next = node.next.next\n",
        "    return removed.data"
      ]
    },
    {
      "cell_type": "markdown",
      "id": "2e0f3d2b",
      "metadata": {
        "id": "2e0f3d2b"
      },
      "source": [
        "Here's an example:"
      ]
    },
    {
      "cell_type": "code",
      "execution_count": 131,
      "id": "fbb1598d",
      "metadata": {
        "colab": {
          "base_uri": "https://localhost:8080/"
        },
        "id": "fbb1598d",
        "outputId": "6903d558-b91a-4f91-f98e-4b86cb216757"
      },
      "outputs": [
        {
          "output_type": "execute_result",
          "data": {
            "text/plain": [
              "LinkedList(Node(1, Node(3, None)))"
            ]
          },
          "metadata": {},
          "execution_count": 131
        }
      ],
      "source": [
        "t = LinkedList(Node(1, Node(2, Node(3, None))))\n",
        "remove_after(t.head)\n",
        "t"
      ]
    },
    {
      "cell_type": "markdown",
      "id": "2208f44f",
      "metadata": {
        "id": "2208f44f"
      },
      "source": [
        "**Exercise:** Write a function called `remove` that takes a LinkedList and a target value. It should remove the first node that contains the value, or raise a `ValueError` if it is not found.\n",
        "\n",
        "Hint: This one is a little tricky."
      ]
    },
    {
      "cell_type": "code",
      "execution_count": 162,
      "id": "aaa399ce",
      "metadata": {
        "id": "aaa399ce"
      },
      "outputs": [],
      "source": [
        "def remove(lst,target):\n",
        "    node = lst.head\n",
        "    if node is None:\n",
        "        raise ValueError(f\"{target} not found in the list\")\n",
        "\n",
        "    if node is not None and node.data == target:\n",
        "        lst.head = node.next\n",
        "        return\n",
        "\n",
        "    while node.next is not None:\n",
        "        if node.next.data == target:\n",
        "            node.next = node.next.next\n",
        "            return\n",
        "        node = node.next\n",
        "\n",
        "\n",
        "    raise ValueError(f\"{target} not found in the list\")\n",
        ""
      ]
    },
    {
      "cell_type": "markdown",
      "id": "1a61ed4d",
      "metadata": {
        "id": "1a61ed4d"
      },
      "source": [
        "You can use this example to test your code."
      ]
    },
    {
      "cell_type": "code",
      "execution_count": 155,
      "id": "f8038acf",
      "metadata": {
        "colab": {
          "base_uri": "https://localhost:8080/"
        },
        "id": "f8038acf",
        "outputId": "3b3c564a-324c-49cd-bd5f-d4dbebf6f8b4"
      },
      "outputs": [
        {
          "output_type": "execute_result",
          "data": {
            "text/plain": [
              "LinkedList(Node(1, Node(3, None)))"
            ]
          },
          "metadata": {},
          "execution_count": 155
        }
      ],
      "source": [
        "t = LinkedList(Node(1, Node(2, Node(3, None))))\n",
        "remove(t, 2)\n",
        "t"
      ]
    },
    {
      "cell_type": "code",
      "execution_count": 156,
      "id": "0531d0b5",
      "metadata": {
        "colab": {
          "base_uri": "https://localhost:8080/"
        },
        "id": "0531d0b5",
        "outputId": "3038fa15-8742-4fbe-95ec-6a677b724417"
      },
      "outputs": [
        {
          "output_type": "execute_result",
          "data": {
            "text/plain": [
              "LinkedList(Node(3, None))"
            ]
          },
          "metadata": {},
          "execution_count": 156
        }
      ],
      "source": [
        "remove(t, 1)\n",
        "t"
      ]
    },
    {
      "cell_type": "code",
      "execution_count": 157,
      "id": "191c9489",
      "metadata": {
        "colab": {
          "base_uri": "https://localhost:8080/"
        },
        "id": "191c9489",
        "outputId": "cc1b8e31-8137-4f8d-db31-90aaa0f0fd9a"
      },
      "outputs": [
        {
          "output_type": "stream",
          "name": "stdout",
          "text": [
            "4 not found in the list\n"
          ]
        }
      ],
      "source": [
        "try:\n",
        "    remove(t, 4)\n",
        "except ValueError as e:\n",
        "    print(e)"
      ]
    },
    {
      "cell_type": "code",
      "execution_count": 158,
      "id": "41214410",
      "metadata": {
        "colab": {
          "base_uri": "https://localhost:8080/"
        },
        "id": "41214410",
        "outputId": "4e7597ce-e994-42ad-cb0a-41c91ef42d06"
      },
      "outputs": [
        {
          "output_type": "execute_result",
          "data": {
            "text/plain": [
              "LinkedList(None)"
            ]
          },
          "metadata": {},
          "execution_count": 158
        }
      ],
      "source": [
        "remove(t, 3)\n",
        "t"
      ]
    },
    {
      "cell_type": "code",
      "execution_count": 163,
      "id": "99aecad6",
      "metadata": {
        "colab": {
          "base_uri": "https://localhost:8080/"
        },
        "id": "99aecad6",
        "outputId": "d9965f0a-85e1-428e-b3d8-269d9dde0cf5"
      },
      "outputs": [
        {
          "output_type": "stream",
          "name": "stdout",
          "text": [
            "5 not found in the list\n"
          ]
        }
      ],
      "source": [
        "try:\n",
        "    remove(t, 5)\n",
        "except ValueError as e:\n",
        "    print(e)"
      ]
    },
    {
      "cell_type": "markdown",
      "id": "db955d01",
      "metadata": {
        "id": "db955d01"
      },
      "source": [
        "Although `remove_after` is constant time, `remove` is not. Because we have to iterate through the nodes to find the target, `remove` takes linear time."
      ]
    },
    {
      "cell_type": "markdown",
      "id": "ab7f0a6a",
      "metadata": {
        "id": "ab7f0a6a"
      },
      "source": [
        "## Insert Sorted\n",
        "\n",
        "Similarly, you can insert an element into the middle of a linked list in constant time.\n",
        "\n",
        "The following function inserts `data` after the given node in a list."
      ]
    },
    {
      "cell_type": "code",
      "execution_count": 166,
      "id": "3e754808",
      "metadata": {
        "id": "3e754808"
      },
      "outputs": [],
      "source": [
        "def insert_after(node, data):\n",
        "    node.next = Node(data, node.next)"
      ]
    },
    {
      "cell_type": "code",
      "execution_count": 167,
      "id": "c8022b07",
      "metadata": {
        "colab": {
          "base_uri": "https://localhost:8080/"
        },
        "id": "c8022b07",
        "outputId": "baeb7832-867d-4b98-e06f-bd54bdf8f21b"
      },
      "outputs": [
        {
          "output_type": "execute_result",
          "data": {
            "text/plain": [
              "LinkedList(Node(1, Node(5, Node(2, Node(3, None)))))"
            ]
          },
          "metadata": {},
          "execution_count": 167
        }
      ],
      "source": [
        "t = LinkedList(Node(1, Node(2, Node(3, None))))\n",
        "insert_after(t.head, 5)\n",
        "t"
      ]
    },
    {
      "cell_type": "markdown",
      "id": "5f2a2a1c",
      "metadata": {
        "id": "5f2a2a1c"
      },
      "source": [
        "**Exercise:** Write a function called `insert_sorted` (also known as `insort`) that takes a linked list and a value and inserts the value in the list in the first place where it will be in increasing sorted order, that is, with the smallest element at the beginning."
      ]
    },
    {
      "cell_type": "code",
      "execution_count": 168,
      "id": "ec6634e9",
      "metadata": {
        "id": "ec6634e9"
      },
      "outputs": [],
      "source": [
        "def insert_sorted(t, data):\n",
        "    if t.head is None or t.head.data > data:\n",
        "        lpush(t, data)\n",
        "        return\n",
        "\n",
        "    node = t.head\n",
        "    while node.next:\n",
        "        if node.next.data > data:\n",
        "            insert_after(node, data)\n",
        "            return\n",
        "        node = node.next\n",
        "\n",
        "    insert_after(node, data)"
      ]
    },
    {
      "cell_type": "markdown",
      "id": "7de8e7f1",
      "metadata": {
        "id": "7de8e7f1"
      },
      "source": [
        "You can use the following example to test your code."
      ]
    },
    {
      "cell_type": "code",
      "execution_count": 169,
      "id": "57cb85bf",
      "metadata": {
        "colab": {
          "base_uri": "https://localhost:8080/"
        },
        "id": "57cb85bf",
        "outputId": "95d0216a-3377-4211-a973-ac043e80ccfc"
      },
      "outputs": [
        {
          "output_type": "execute_result",
          "data": {
            "text/plain": [
              "LinkedList(Node(1, None))"
            ]
          },
          "metadata": {},
          "execution_count": 169
        }
      ],
      "source": [
        "t = LinkedList()\n",
        "insert_sorted(t, 1)\n",
        "t"
      ]
    },
    {
      "cell_type": "code",
      "execution_count": 170,
      "id": "aff32ed5",
      "metadata": {
        "colab": {
          "base_uri": "https://localhost:8080/"
        },
        "id": "aff32ed5",
        "outputId": "c34a68a6-b4f3-4125-fac5-ea1ee1927f11"
      },
      "outputs": [
        {
          "output_type": "execute_result",
          "data": {
            "text/plain": [
              "LinkedList(Node(1, Node(3, None)))"
            ]
          },
          "metadata": {},
          "execution_count": 170
        }
      ],
      "source": [
        "insert_sorted(t, 3)\n",
        "t"
      ]
    },
    {
      "cell_type": "code",
      "execution_count": 171,
      "id": "14fd6809",
      "metadata": {
        "colab": {
          "base_uri": "https://localhost:8080/"
        },
        "id": "14fd6809",
        "outputId": "3bcc0603-62c5-4d44-df14-08b2879b445f"
      },
      "outputs": [
        {
          "output_type": "execute_result",
          "data": {
            "text/plain": [
              "LinkedList(Node(0, Node(1, Node(3, None))))"
            ]
          },
          "metadata": {},
          "execution_count": 171
        }
      ],
      "source": [
        "insert_sorted(t, 0)\n",
        "t"
      ]
    },
    {
      "cell_type": "code",
      "execution_count": 172,
      "id": "f612292f",
      "metadata": {
        "colab": {
          "base_uri": "https://localhost:8080/"
        },
        "id": "f612292f",
        "outputId": "9a924ea3-c391-44d7-9bd8-b21f552703cf"
      },
      "outputs": [
        {
          "output_type": "execute_result",
          "data": {
            "text/plain": [
              "LinkedList(Node(0, Node(1, Node(2, Node(3, None)))))"
            ]
          },
          "metadata": {},
          "execution_count": 172
        }
      ],
      "source": [
        "insert_sorted(t, 2)\n",
        "t"
      ]
    },
    {
      "cell_type": "markdown",
      "id": "007dd1d1",
      "metadata": {
        "id": "007dd1d1"
      },
      "source": [
        "Although `insert_after` is constant time, `insert_sorted` is not. Because we have to iterate through the nodes to find the insertion point, `insert_sorted` takes linear time."
      ]
    },
    {
      "cell_type": "markdown",
      "id": "7386a9b5",
      "metadata": {
        "id": "7386a9b5"
      },
      "source": [
        "*Data Structures and Information Retrieval in Python*\n",
        "\n",
        "Copyright 2021 Allen Downey\n",
        "\n",
        "License: [Creative Commons Attribution-NonCommercial-ShareAlike 4.0 International](https://creativecommons.org/licenses/by-nc-sa/4.0/)"
      ]
    }
  ],
  "metadata": {
    "celltoolbar": "Tags",
    "kernelspec": {
      "display_name": "Python 3 (ipykernel)",
      "language": "python",
      "name": "python3"
    },
    "language_info": {
      "codemirror_mode": {
        "name": "ipython",
        "version": 3
      },
      "file_extension": ".py",
      "mimetype": "text/x-python",
      "name": "python",
      "nbconvert_exporter": "python",
      "pygments_lexer": "ipython3",
      "version": "3.10.1"
    },
    "colab": {
      "provenance": []
    }
  },
  "nbformat": 4,
  "nbformat_minor": 5
}