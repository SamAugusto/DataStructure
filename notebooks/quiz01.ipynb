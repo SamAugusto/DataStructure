{
  "cells": [
    {
      "cell_type": "markdown",
      "metadata": {
        "id": "kcKUlN3zFa0w"
      },
      "source": [
        "# Quiz 1\n",
        "\n",
        "BEFORE YOU START THIS QUIZ:\n",
        "\n",
        "1. Click on \"Copy to Drive\" to make a copy of the quiz,\n",
        "\n",
        "2. Click on \"Share\",\n",
        "    \n",
        "3. Click on \"Change\" and select \"Anyone with this link can edit\"\n",
        "    \n",
        "4. Click \"Copy link\" and\n",
        "\n",
        "5. Paste the link into [this Canvas assignment](https://canvas.olin.edu/courses/313/assignments/4866).\n",
        "\n",
        "Copyright 2021 Allen Downey, [MIT License](http://opensource.org/licenses/MIT)"
      ]
    },
    {
      "cell_type": "markdown",
      "metadata": {
        "id": "j4_qp-P8Fa0y"
      },
      "source": [
        "## Setup"
      ]
    },
    {
      "cell_type": "markdown",
      "metadata": {
        "id": "Zgq2L_yAFa0y"
      },
      "source": [
        "The following cells download a file that contains a list of words, reads the words, and stores them in a `set`."
      ]
    },
    {
      "cell_type": "code",
      "execution_count": 1,
      "metadata": {
        "id": "68N5sDXEFa0y"
      },
      "outputs": [],
      "source": [
        "from os.path import basename, exists\n",
        "\n",
        "def download(url):\n",
        "    filename = basename(url)\n",
        "    if not exists(filename):\n",
        "        from urllib.request import urlretrieve\n",
        "        local, _ = urlretrieve(url, filename)\n",
        "        print('Downloaded ' + local)\n",
        "\n",
        "download('https://github.com/AllenDowney/DSIRP/raw/main/american-english')"
      ]
    },
    {
      "cell_type": "code",
      "execution_count": 2,
      "metadata": {
        "id": "CFV0W7laFa0z"
      },
      "outputs": [],
      "source": [
        "def read_words(filename):\n",
        "    \"\"\"Read lines from a file and split them into words.\"\"\"\n",
        "    res = set()\n",
        "    for line in open(filename):\n",
        "        for word in line.split():\n",
        "            res.add(word.strip().lower())\n",
        "    return res"
      ]
    },
    {
      "cell_type": "code",
      "execution_count": 3,
      "metadata": {
        "id": "cE8WOG7zFa0z",
        "outputId": "dcb03a26-519e-497f-c57a-6f5a0ece1686",
        "colab": {
          "base_uri": "https://localhost:8080/"
        }
      },
      "outputs": [
        {
          "output_type": "execute_result",
          "data": {
            "text/plain": [
              "100781"
            ]
          },
          "metadata": {},
          "execution_count": 3
        }
      ],
      "source": [
        "word_list = read_words('american-english')\n",
        "len(word_list)"
      ]
    },
    {
      "cell_type": "markdown",
      "metadata": {
        "id": "dvUoXiPlFa0z"
      },
      "source": [
        "## Question 1\n",
        "\n",
        "The following function takes a string and returns `True` if the letters in the string appear in alphabetical order."
      ]
    },
    {
      "cell_type": "code",
      "execution_count": 4,
      "metadata": {
        "id": "NqrQuHvuFa0z"
      },
      "outputs": [],
      "source": [
        "def is_alphabetical(word):\n",
        "    return list(word) == sorted(word)"
      ]
    },
    {
      "cell_type": "code",
      "execution_count": 5,
      "metadata": {
        "id": "OvOJTIu6Fa0z",
        "outputId": "1b480f88-6dab-4ef1-d981-9870d36341ae",
        "colab": {
          "base_uri": "https://localhost:8080/"
        }
      },
      "outputs": [
        {
          "output_type": "execute_result",
          "data": {
            "text/plain": [
              "True"
            ]
          },
          "metadata": {},
          "execution_count": 5
        }
      ],
      "source": [
        "is_alphabetical('almost') # True"
      ]
    },
    {
      "cell_type": "code",
      "execution_count": 6,
      "metadata": {
        "id": "scA5d2PyFa00",
        "outputId": "bed7b08c-a11d-47ab-db9b-ab00000e98e1",
        "colab": {
          "base_uri": "https://localhost:8080/"
        }
      },
      "outputs": [
        {
          "output_type": "execute_result",
          "data": {
            "text/plain": [
              "False"
            ]
          },
          "metadata": {},
          "execution_count": 6
        }
      ],
      "source": [
        "is_alphabetical('alphabetical') # False"
      ]
    },
    {
      "cell_type": "markdown",
      "metadata": {
        "id": "_e1zn5blFa00"
      },
      "source": [
        "Make a new list called `alpha_words` that contains only the words in `word_list` that are alphabetical, and display the length of the list."
      ]
    },
    {
      "cell_type": "code",
      "execution_count": 7,
      "metadata": {
        "id": "PS8EuXmEFa00"
      },
      "outputs": [],
      "source": [
        "def alpha_list(word_list):\n",
        "  alpha_words = [al_words for al_words in word_list if is_alphabetical(al_words)]\n",
        "  return alpha_words"
      ]
    },
    {
      "cell_type": "code",
      "execution_count": 8,
      "metadata": {
        "id": "lg2_YZ22Fa00",
        "outputId": "3c34cfce-bef4-4d47-8aa7-6324d6aa3b0f",
        "colab": {
          "base_uri": "https://localhost:8080/"
        }
      },
      "outputs": [
        {
          "output_type": "execute_result",
          "data": {
            "text/plain": [
              "502"
            ]
          },
          "metadata": {},
          "execution_count": 8
        }
      ],
      "source": [
        "alpha_words = alpha_list(word_list)\n",
        "len(alpha_words)"
      ]
    },
    {
      "cell_type": "markdown",
      "metadata": {
        "id": "KdLtN4y5Fa00"
      },
      "source": [
        "## Question 2\n",
        "\n",
        "Find and display the longest word in `alpha_words`.\n",
        "If there is more than one word with the maximal length, you can display any one of them (but only one).\n",
        "\n",
        "NOTE: You can write code for this question even if your answer to the previous question doesn't work. I'll grade the code, not the output."
      ]
    },
    {
      "cell_type": "code",
      "execution_count": 9,
      "metadata": {
        "id": "fhIYK48YFa00"
      },
      "outputs": [],
      "source": [
        "def longest_word(word_list):\n",
        "  sorted_list = sorted(word_list, key= lambda word:len(word), reverse = True)\n",
        "  return sorted_list[0]"
      ]
    },
    {
      "cell_type": "code",
      "execution_count": 10,
      "metadata": {
        "id": "Qui_oicoFa00",
        "outputId": "32136de1-67a6-4761-b28b-63c81b597f98",
        "colab": {
          "base_uri": "https://localhost:8080/",
          "height": 36
        }
      },
      "outputs": [
        {
          "output_type": "execute_result",
          "data": {
            "text/plain": [
              "'billowy'"
            ],
            "application/vnd.google.colaboratory.intrinsic+json": {
              "type": "string"
            }
          },
          "metadata": {},
          "execution_count": 10
        }
      ],
      "source": [
        "longest_word(alpha_words)\n"
      ]
    },
    {
      "cell_type": "markdown",
      "metadata": {
        "id": "H20H1MhkFa00"
      },
      "source": [
        "## Question 3\n",
        "\n",
        "Write a function called `encompasses` that takes two words and returns `True` if the first word contains the second word, but not at the beginning or the end (and `False` otherwise). For example, `hippopotomus` encompasses the word `pot`.\n",
        "\n",
        "HINT: You might find the string method `find` useful."
      ]
    },
    {
      "cell_type": "code",
      "execution_count": 11,
      "metadata": {
        "id": "Yk6tQ5Q7Fa00",
        "outputId": "500361f4-1dba-483b-8775-66dc80691b45",
        "colab": {
          "base_uri": "https://localhost:8080/"
        }
      },
      "outputs": [
        {
          "output_type": "execute_result",
          "data": {
            "text/plain": [
              "5"
            ]
          },
          "metadata": {},
          "execution_count": 11
        }
      ],
      "source": [
        "'hippopotomus'.find('pot')"
      ]
    },
    {
      "cell_type": "code",
      "execution_count": 12,
      "metadata": {
        "id": "u8HXYV8xFa00",
        "outputId": "e87e5b5c-cb95-4b99-8c81-b4ba892a68b7",
        "colab": {
          "base_uri": "https://localhost:8080/"
        }
      },
      "outputs": [
        {
          "output_type": "execute_result",
          "data": {
            "text/plain": [
              "-1"
            ]
          },
          "metadata": {},
          "execution_count": 12
        }
      ],
      "source": [
        "'hippopotomus'.find('potato')"
      ]
    },
    {
      "cell_type": "code",
      "execution_count": 13,
      "metadata": {
        "id": "SzLrF-Y7Fa00"
      },
      "outputs": [],
      "source": [
        "# WRITE YOUR FUNCTION HERE"
      ]
    },
    {
      "cell_type": "code",
      "execution_count": 14,
      "metadata": {
        "id": "6qc9_DnjFa00"
      },
      "outputs": [],
      "source": [
        "def encompasses(word1,word2):\n",
        "    return True if word1.find(word2) != -1 and word1.find(word2) != 0 and word1.find(word2) != len(word1) - len(word2) else False"
      ]
    },
    {
      "cell_type": "code",
      "execution_count": 15,
      "metadata": {
        "id": "Jltok8dwFa00",
        "outputId": "05716bce-bf4e-47d9-b784-c9038db0cae9",
        "colab": {
          "base_uri": "https://localhost:8080/"
        }
      },
      "outputs": [
        {
          "output_type": "execute_result",
          "data": {
            "text/plain": [
              "False"
            ]
          },
          "metadata": {},
          "execution_count": 15
        }
      ],
      "source": [
        "encompasses('hippopotomus','potato')"
      ]
    },
    {
      "cell_type": "code",
      "execution_count": 16,
      "metadata": {
        "id": "qJoFwsIWFa00"
      },
      "outputs": [],
      "source": [
        "#Better version\n",
        "def encompasses(word1,word2):\n",
        "    index = word1.find(word2)\n",
        "    return index > 0 and index < len(word1) - len(word2)"
      ]
    },
    {
      "cell_type": "markdown",
      "metadata": {
        "id": "pkO7iMOoFa00"
      },
      "source": [
        "You can use the following examples to test your function."
      ]
    },
    {
      "cell_type": "code",
      "execution_count": 17,
      "metadata": {
        "id": "pdDCC8gYFa00"
      },
      "outputs": [],
      "source": [
        "word1 = 'hippopotamus'\n",
        "word2 = 'pot'\n",
        "word3 = 'hippo'\n",
        "word4 = 'mus'\n",
        "word5 = 'potato'"
      ]
    },
    {
      "cell_type": "code",
      "execution_count": 18,
      "metadata": {
        "id": "1vtQL9fQFa01",
        "outputId": "0c8d1932-f100-45bc-feb7-39c3b475a5cd",
        "colab": {
          "base_uri": "https://localhost:8080/"
        }
      },
      "outputs": [
        {
          "output_type": "execute_result",
          "data": {
            "text/plain": [
              "True"
            ]
          },
          "metadata": {},
          "execution_count": 18
        }
      ],
      "source": [
        "encompasses(word1, word2) # True"
      ]
    },
    {
      "cell_type": "code",
      "execution_count": 19,
      "metadata": {
        "id": "SOy35nl3Fa01",
        "outputId": "59cfb59d-62af-4434-932e-c0c9a210f449",
        "colab": {
          "base_uri": "https://localhost:8080/"
        }
      },
      "outputs": [
        {
          "output_type": "execute_result",
          "data": {
            "text/plain": [
              "False"
            ]
          },
          "metadata": {},
          "execution_count": 19
        }
      ],
      "source": [
        "encompasses(word1, word3) # False because word3 is at the beginning"
      ]
    },
    {
      "cell_type": "code",
      "execution_count": 20,
      "metadata": {
        "id": "85vqmqejFa01",
        "outputId": "2709b522-7e48-46b5-a177-8167cc4c90db",
        "colab": {
          "base_uri": "https://localhost:8080/"
        }
      },
      "outputs": [
        {
          "output_type": "execute_result",
          "data": {
            "text/plain": [
              "False"
            ]
          },
          "metadata": {},
          "execution_count": 20
        }
      ],
      "source": [
        "encompasses(word1, word4) # False because word4 is at the end"
      ]
    },
    {
      "cell_type": "code",
      "execution_count": 21,
      "metadata": {
        "id": "1NuFfAlyFa01",
        "outputId": "14b6f0bf-5e15-4e30-a543-c8a069255f39",
        "colab": {
          "base_uri": "https://localhost:8080/"
        }
      },
      "outputs": [
        {
          "output_type": "execute_result",
          "data": {
            "text/plain": [
              "False"
            ]
          },
          "metadata": {},
          "execution_count": 21
        }
      ],
      "source": [
        "encompasses(word1, word5) # False because word5 is not in word1"
      ]
    },
    {
      "cell_type": "markdown",
      "metadata": {
        "id": "XMFCgbgxFa01"
      },
      "source": [
        "## Question 4\n",
        "\n",
        "Two words make a \"reverse pair\" if one of them is the reverse of the other. For example, `pots` and `stop` are a reverse pair.\n",
        "\n",
        "The words in a reverse pair must be different, so `gag` and `gag` are not a reverse pair.\n",
        "\n",
        "\n",
        "Make a list of all reverse pairs in `word_list`. Each pair of words should appear only once, so if `('tons', 'snot')` is in the list, `('snot', 'tons')` should not be.\n"
      ]
    },
    {
      "cell_type": "code",
      "execution_count": 24,
      "metadata": {
        "id": "AqI4u2_yFa01",
        "outputId": "e4e4272e-b70d-45fa-b161-64bfd49ac3a7",
        "colab": {
          "base_uri": "https://localhost:8080/"
        }
      },
      "outputs": [
        {
          "output_type": "execute_result",
          "data": {
            "text/plain": [
              "[]"
            ]
          },
          "metadata": {},
          "execution_count": 24
        }
      ],
      "source": [
        "def reverse_pair(word_list):\n",
        "    reverse_pairs = []\n",
        "    word_set = set(word_list)  # faster lookup\n",
        "\n",
        "    for word in word_list:\n",
        "        reversed_word = word[::-1]\n",
        "        if reversed_word in word_set and word != reversed_word:\n",
        "            pair = tuple(sorted((word, reversed_word)))\n",
        "            if pair not in reverse_pairs:\n",
        "                reverse_pairs.append(pair)\n",
        "\n",
        "    return reverse_pairs\n"
      ]
    },
    {
      "cell_type": "markdown",
      "metadata": {
        "id": "Nkjj3SidFa01"
      },
      "source": [
        "BONUS QUESTION JUST FOR FUN: What is the longest reverse pair in this word list?"
      ]
    },
    {
      "cell_type": "code",
      "execution_count": null,
      "metadata": {
        "id": "TM6qbJCgFa01"
      },
      "outputs": [],
      "source": []
    },
    {
      "cell_type": "code",
      "execution_count": null,
      "metadata": {
        "id": "oXMvrTMnFa01"
      },
      "outputs": [],
      "source": []
    }
  ],
  "metadata": {
    "kernelspec": {
      "display_name": "Python 3",
      "language": "python",
      "name": "python3"
    },
    "language_info": {
      "codemirror_mode": {
        "name": "ipython",
        "version": 3
      },
      "file_extension": ".py",
      "mimetype": "text/x-python",
      "name": "python",
      "nbconvert_exporter": "python",
      "pygments_lexer": "ipython3",
      "version": "3.9.4"
    },
    "colab": {
      "provenance": []
    }
  },
  "nbformat": 4,
  "nbformat_minor": 0
}