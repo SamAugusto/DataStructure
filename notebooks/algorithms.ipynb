{
  "cells": [
    {
      "cell_type": "markdown",
      "metadata": {
        "id": "Niyd_J6cCspA"
      },
      "source": [
        "# Algorithms"
      ]
    },
    {
      "cell_type": "markdown",
      "metadata": {
        "id": "p6M0Szl5CspA"
      },
      "source": [
        "[Click here to run this chapter on Colab](https://colab.research.google.com/github/AllenDowney/DSIRP/blob/main/notebooks/algorithms.ipynb)"
      ]
    },
    {
      "cell_type": "markdown",
      "metadata": {
        "id": "dZKp3-qICspB"
      },
      "source": [
        "## Searching for anagrams\n",
        "\n",
        "In this notebook we'll implement algorithms for two tasks:\n",
        "\n",
        "* Testing a pair of words to see if they are anagrams of each other, that is, if you can rearrange the letters in one word to spell the other.\n",
        "\n",
        "* Searching a list of words for all pairs that are anagrams of each other.\n",
        "\n",
        "There is a point to these examples, which I will explain at the end."
      ]
    },
    {
      "cell_type": "markdown",
      "metadata": {
        "id": "NHSJuqIYCspB"
      },
      "source": [
        "**Exercise 1:** Write a function that takes two words and returns `True` if they are anagrams. Test your function with the examples below."
      ]
    },
    {
      "cell_type": "code",
      "execution_count": 1,
      "metadata": {
        "id": "6dlx4yNLCspB"
      },
      "outputs": [],
      "source": [
        "from collections import Counter\n",
        "def is_anagram(word1, word2):\n",
        "    if Counter(word1)== Counter(word2):\n",
        "        return True\n",
        "    return False"
      ]
    },
    {
      "cell_type": "code",
      "execution_count": 2,
      "metadata": {
        "id": "54gwMX6WCspB",
        "outputId": "27b83715-9744-45b7-f787-f0d5cbe37f52",
        "colab": {
          "base_uri": "https://localhost:8080/"
        }
      },
      "outputs": [
        {
          "output_type": "execute_result",
          "data": {
            "text/plain": [
              "True"
            ]
          },
          "metadata": {},
          "execution_count": 2
        }
      ],
      "source": [
        "is_anagram('tachymetric', 'mccarthyite') # True\n"
      ]
    },
    {
      "cell_type": "code",
      "execution_count": 3,
      "metadata": {
        "id": "vjvrZWvhCspC",
        "outputId": "ce929af3-dbe0-4fbc-dd64-48e79e7578f1",
        "colab": {
          "base_uri": "https://localhost:8080/"
        }
      },
      "outputs": [
        {
          "output_type": "execute_result",
          "data": {
            "text/plain": [
              "False"
            ]
          },
          "metadata": {},
          "execution_count": 3
        }
      ],
      "source": [
        "is_anagram('post', 'top') # False, letter not present\n"
      ]
    },
    {
      "cell_type": "code",
      "execution_count": 4,
      "metadata": {
        "id": "NdBrOlVrCspC",
        "outputId": "a0fbedbe-e70b-46a1-e31c-e38dd5fafbb2",
        "colab": {
          "base_uri": "https://localhost:8080/"
        }
      },
      "outputs": [
        {
          "output_type": "execute_result",
          "data": {
            "text/plain": [
              "False"
            ]
          },
          "metadata": {},
          "execution_count": 4
        }
      ],
      "source": [
        "is_anagram('pott', 'top') # False, letter present but not enough copies\n"
      ]
    },
    {
      "cell_type": "code",
      "execution_count": 5,
      "metadata": {
        "id": "9ddr9JDnCspC",
        "outputId": "b5d87dc1-e7d9-4cbb-8be3-236f7b4eaa81",
        "colab": {
          "base_uri": "https://localhost:8080/"
        }
      },
      "outputs": [
        {
          "output_type": "execute_result",
          "data": {
            "text/plain": [
              "True"
            ]
          },
          "metadata": {},
          "execution_count": 5
        }
      ],
      "source": [
        "is_anagram('tachymetric', 'mccarthyite') # True"
      ]
    },
    {
      "cell_type": "code",
      "execution_count": 6,
      "metadata": {
        "id": "swNGvN-qCspD",
        "outputId": "11b5e3fe-d233-45c2-d086-f1a525a7c79e",
        "colab": {
          "base_uri": "https://localhost:8080/"
        }
      },
      "outputs": [
        {
          "output_type": "execute_result",
          "data": {
            "text/plain": [
              "False"
            ]
          },
          "metadata": {},
          "execution_count": 6
        }
      ],
      "source": [
        "is_anagram('post', 'top') # False, letter not present"
      ]
    },
    {
      "cell_type": "code",
      "execution_count": 7,
      "metadata": {
        "id": "wmVeXVoGCspD",
        "outputId": "a51c0ae2-f7d7-4bff-b06e-989b54aa08c4",
        "colab": {
          "base_uri": "https://localhost:8080/"
        }
      },
      "outputs": [
        {
          "output_type": "execute_result",
          "data": {
            "text/plain": [
              "False"
            ]
          },
          "metadata": {},
          "execution_count": 7
        }
      ],
      "source": [
        "is_anagram('pott', 'top') # False, letter present but not enough copies"
      ]
    },
    {
      "cell_type": "code",
      "execution_count": 8,
      "metadata": {
        "id": "8Q0d0FZXCspD",
        "outputId": "91124c1c-46c8-47bc-951d-1e9eb7fb5239",
        "colab": {
          "base_uri": "https://localhost:8080/"
        }
      },
      "outputs": [
        {
          "output_type": "execute_result",
          "data": {
            "text/plain": [
              "False"
            ]
          },
          "metadata": {},
          "execution_count": 8
        }
      ],
      "source": [
        "is_anagram('top', 'post') # False, letters left over at the end"
      ]
    },
    {
      "cell_type": "code",
      "execution_count": 9,
      "metadata": {
        "id": "BFlKRs0zCspE",
        "outputId": "86c59080-cbb7-46b5-d32b-6f5e223c16d3",
        "colab": {
          "base_uri": "https://localhost:8080/"
        }
      },
      "outputs": [
        {
          "output_type": "execute_result",
          "data": {
            "text/plain": [
              "False"
            ]
          },
          "metadata": {},
          "execution_count": 9
        }
      ],
      "source": [
        "is_anagram('topss', 'postt') # False"
      ]
    },
    {
      "cell_type": "markdown",
      "metadata": {
        "id": "n_rR305yCspJ"
      },
      "source": [
        "**Exercise 2:** Use `timeit` to see how fast your function is for these examples:"
      ]
    },
    {
      "cell_type": "code",
      "execution_count": 10,
      "metadata": {
        "id": "WdEX7f-JCspJ",
        "outputId": "c59092b2-de16-45a8-aea8-5f87443572ea",
        "colab": {
          "base_uri": "https://localhost:8080/"
        }
      },
      "outputs": [
        {
          "output_type": "stream",
          "name": "stdout",
          "text": [
            "12.1 µs ± 6.05 µs per loop (mean ± std. dev. of 7 runs, 100000 loops each)\n"
          ]
        }
      ],
      "source": [
        "%timeit is_anagram('tops', 'spot')"
      ]
    },
    {
      "cell_type": "code",
      "execution_count": 11,
      "metadata": {
        "id": "lZxALijtCspJ",
        "outputId": "a28a0e05-070d-40c5-846e-f0db27b20484",
        "colab": {
          "base_uri": "https://localhost:8080/"
        }
      },
      "outputs": [
        {
          "output_type": "stream",
          "name": "stdout",
          "text": [
            "11.5 µs ± 1.31 µs per loop (mean ± std. dev. of 7 runs, 100000 loops each)\n"
          ]
        }
      ],
      "source": [
        "%timeit is_anagram('tachymetric', 'mccarthyite')"
      ]
    },
    {
      "cell_type": "markdown",
      "metadata": {
        "id": "gPOdhzDmCspJ"
      },
      "source": [
        "How can we compare algorithms running on different computers?\n",
        "\n",
        "> Add blockquote\n",
        "\n"
      ]
    },
    {
      "cell_type": "markdown",
      "metadata": {
        "id": "QFcZM2_vCspJ"
      },
      "source": [
        "## Searching for anagram pairs"
      ]
    },
    {
      "cell_type": "markdown",
      "metadata": {
        "id": "B_2bRyLOCspO"
      },
      "source": [
        "**Exercise 3:** Write a function that takes a word list and returns a list of all anagram pairs."
      ]
    },
    {
      "cell_type": "code",
      "execution_count": 12,
      "metadata": {
        "id": "XgqaLvUvCspO"
      },
      "outputs": [],
      "source": [
        "short_word_list = ['proudest', 'stop', 'pots', 'tops', 'sprouted']"
      ]
    },
    {
      "cell_type": "code",
      "execution_count": 13,
      "metadata": {
        "id": "7tQVKILnCspP"
      },
      "outputs": [],
      "source": [
        "from collections import defaultdict\n",
        "\n",
        "def all_anagram_pairs(word_list):\n",
        "    anagram_map = defaultdict(list)\n",
        "    for word in word_list:\n",
        "        sorted_word = ''.join(sorted(word))\n",
        "        anagram_map[sorted_word].append(word)\n",
        "    return anagram_map"
      ]
    },
    {
      "cell_type": "code",
      "execution_count": 14,
      "metadata": {
        "id": "2BQRcDYICspU",
        "outputId": "6ebe67fe-de7c-4810-e802-5169dec6184d",
        "colab": {
          "base_uri": "https://localhost:8080/"
        }
      },
      "outputs": [
        {
          "output_type": "execute_result",
          "data": {
            "text/plain": [
              "defaultdict(list,\n",
              "            {'deoprstu': ['proudest', 'sprouted'],\n",
              "             'opst': ['stop', 'pots', 'tops']})"
            ]
          },
          "metadata": {},
          "execution_count": 14
        }
      ],
      "source": [
        "all_anagram_pairs(short_word_list)"
      ]
    },
    {
      "cell_type": "markdown",
      "metadata": {
        "id": "77V_91a8CspU"
      },
      "source": [
        "The following cell downloads a file containing a list of English words."
      ]
    },
    {
      "cell_type": "code",
      "execution_count": 15,
      "metadata": {
        "id": "pUigqFXHCspU",
        "outputId": "c6206001-949f-4d6e-ff6c-10e6be67bafa",
        "colab": {
          "base_uri": "https://localhost:8080/"
        }
      },
      "outputs": [
        {
          "output_type": "stream",
          "name": "stdout",
          "text": [
            "Downloaded american-english\n"
          ]
        }
      ],
      "source": [
        "from os.path import basename, exists\n",
        "\n",
        "def download(url):\n",
        "    filename = basename(url)\n",
        "    if not exists(filename):\n",
        "        from urllib.request import urlretrieve\n",
        "        local, _ = urlretrieve(url, filename)\n",
        "        print('Downloaded ' + local)\n",
        "\n",
        "download('https://github.com/AllenDowney/DSIRP/raw/main/american-english')"
      ]
    },
    {
      "cell_type": "markdown",
      "metadata": {
        "id": "kskKp8xCCspU"
      },
      "source": [
        "The following function reads a file and returns a set of words (I used a set because after we convert words to lower case, there are some repeats.)"
      ]
    },
    {
      "cell_type": "code",
      "execution_count": 16,
      "metadata": {
        "id": "xnfyu2TTCspU"
      },
      "outputs": [],
      "source": [
        "def read_words(filename):\n",
        "    \"\"\"Read lines from a file and split them into words.\"\"\"\n",
        "    res = set()\n",
        "    for line in open(filename):\n",
        "        for word in line.split():\n",
        "            res.add(word.strip().lower())\n",
        "    return res"
      ]
    },
    {
      "cell_type": "code",
      "execution_count": 17,
      "metadata": {
        "id": "aNTB_8fJCspU",
        "outputId": "6d8d8ddc-508b-494b-83b0-2892a59c6944",
        "colab": {
          "base_uri": "https://localhost:8080/"
        }
      },
      "outputs": [
        {
          "output_type": "execute_result",
          "data": {
            "text/plain": [
              "100781"
            ]
          },
          "metadata": {},
          "execution_count": 17
        }
      ],
      "source": [
        "word_list = read_words('american-english')\n",
        "len(word_list)"
      ]
    },
    {
      "cell_type": "markdown",
      "metadata": {
        "id": "ft6WFRaQCspU"
      },
      "source": [
        "**Exercise 4:** Loop through the word list and print all words that are anagrams of `stop`."
      ]
    },
    {
      "cell_type": "code",
      "execution_count": 18,
      "metadata": {
        "id": "gVSdkgB6CspU",
        "outputId": "c6210c2f-296e-4c66-c3b3-f4d1487a9506",
        "colab": {
          "base_uri": "https://localhost:8080/"
        }
      },
      "outputs": [
        {
          "output_type": "stream",
          "name": "stdout",
          "text": [
            "stop\n",
            "pots\n",
            "tops\n",
            "spot\n",
            "post\n",
            "opts\n"
          ]
        }
      ],
      "source": [
        "def is_anagram(word1, word2):\n",
        "    if Counter(word1)== Counter(word2):\n",
        "        return True\n",
        "    return False\n",
        "for words in word_list:\n",
        "    if is_anagram(words,'stop'):\n",
        "        print(words)"
      ]
    },
    {
      "cell_type": "markdown",
      "metadata": {
        "id": "qe5ATPkwCspW"
      },
      "source": [
        "Now run `all_anagram_pairs` with the full `word_list`:"
      ]
    },
    {
      "cell_type": "code",
      "execution_count": 19,
      "metadata": {
        "id": "UssbFbnFCspW"
      },
      "outputs": [],
      "source": [
        "pairs = all_anagram_pairs(word_list)"
      ]
    },
    {
      "cell_type": "markdown",
      "metadata": {
        "id": "LWdv9MyxCspW"
      },
      "source": [
        "**Exercise 5:** While that's running, let's estimate how long it's going to take."
      ]
    },
    {
      "cell_type": "code",
      "execution_count": 20,
      "metadata": {
        "id": "xiLLyZ3ZCspW",
        "outputId": "f49a9b7b-6cb1-4721-da52-a97fbb8b880f",
        "colab": {
          "base_uri": "https://localhost:8080/"
        }
      },
      "outputs": [
        {
          "output_type": "stream",
          "name": "stdout",
          "text": [
            "263 ms ± 29.4 ms per loop (mean ± std. dev. of 7 runs, 1 loop each)\n"
          ]
        }
      ],
      "source": [
        "%timeit all_anagram_pairs(word_list)"
      ]
    },
    {
      "cell_type": "markdown",
      "metadata": {
        "id": "UI7eRfh6CspW"
      },
      "source": [
        "## A better algorithm\n",
        "\n",
        "**Exercise 6:** Write a better algorithm! Hint: make a dictionary. How much faster is your algorithm?"
      ]
    },
    {
      "cell_type": "code",
      "execution_count": 21,
      "metadata": {
        "id": "_ylOy3jACspW"
      },
      "outputs": [],
      "source": [
        "from collections import defaultdict\n",
        "\n",
        "def all_anagram_lists(word_list):\n",
        "    \"\"\"Finds all anagrams in a list of words.\n",
        "\n",
        "    word_list: sequence of strings\n",
        "    \"\"\"\n",
        "\n",
        "    anagram_map = defaultdict(list)\n",
        "    for word in word_list:\n",
        "        sorted_word = ''.join(sorted(word))\n",
        "        anagram_map[sorted_word].append(word)\n",
        "    return anagram_map"
      ]
    },
    {
      "cell_type": "code",
      "execution_count": 21,
      "metadata": {
        "id": "w0ZslnJ_CspW"
      },
      "outputs": [],
      "source": []
    },
    {
      "cell_type": "code",
      "execution_count": 22,
      "metadata": {
        "id": "nkOFul9rCspW",
        "colab": {
          "base_uri": "https://localhost:8080/"
        },
        "outputId": "c6570809-0752-4a2d-ff8d-7b5fcf3a7d4d"
      },
      "outputs": [
        {
          "output_type": "stream",
          "name": "stdout",
          "text": [
            "CPU times: user 257 ms, sys: 6.14 ms, total: 263 ms\n",
            "Wall time: 269 ms\n"
          ]
        }
      ],
      "source": [
        "%time anagram_map = all_anagram_lists(word_list)"
      ]
    },
    {
      "cell_type": "code",
      "execution_count": 23,
      "metadata": {
        "id": "ubiN-IdxCspW",
        "colab": {
          "base_uri": "https://localhost:8080/"
        },
        "outputId": "15bc5730-42be-4bb2-ea9b-23c3ecf8311a"
      },
      "outputs": [
        {
          "output_type": "execute_result",
          "data": {
            "text/plain": [
              "93406"
            ]
          },
          "metadata": {},
          "execution_count": 23
        }
      ],
      "source": [
        "len(anagram_map)"
      ]
    },
    {
      "cell_type": "code",
      "execution_count": 23,
      "metadata": {
        "id": "jS51ahoUCspb"
      },
      "outputs": [],
      "source": []
    },
    {
      "cell_type": "markdown",
      "metadata": {
        "id": "J3Q_GibCCspb"
      },
      "source": [
        "## Summary\n",
        "\n",
        "What is the point of the examples in this notebook?\n",
        "\n",
        "* The different versions of `is_anagram` show that, when inputs are small, it is hard to say which algorithm will be the fastest. It often depends on details of the implementation. Anyway, the differences tend to be small, so it might not matter much in practice.\n",
        "\n",
        "* The different algorithms we used to search for anagram pairs show that, when inputs are large, we can often tell which algorithm will be fastest. And the difference between a fast algorithm and a slow one can be huge!"
      ]
    },
    {
      "cell_type": "markdown",
      "metadata": {
        "id": "5V6kqS4YCspb"
      },
      "source": [
        "## Exercises\n",
        "\n",
        "Before you work on these exercises, you might want to read the Python [Sorting How-To](https://docs.python.org/3/howto/sorting.html). It uses `lambda` to define an anonymous function, which [you can read about here](https://www.w3schools.com/python/python_lambda.asp).\n",
        "\n",
        "**Exercise 7:**\n",
        "Make a dictionary like `anagram_map` that contains only keys that map to a list with more than one element. You can use a `for` loop to make a new dictionary, or a [dictionary comprehension](https://www.freecodecamp.org/news/dictionary-comprehension-in-python-explained-with-examples/)."
      ]
    },
    {
      "cell_type": "code",
      "execution_count": 24,
      "metadata": {
        "id": "9AOJ-IdpCspc",
        "colab": {
          "base_uri": "https://localhost:8080/"
        },
        "outputId": "ab4122eb-ff8f-4f75-fc92-69014142f6b4"
      },
      "outputs": [
        {
          "output_type": "stream",
          "name": "stderr",
          "text": [
            "\n",
            "PYDEV DEBUGGER WARNING:\n",
            "sys.settrace() should not be used when the debugger is being used.\n",
            "This may cause the debugger to stop working correctly.\n",
            "If this is needed, please check: \n",
            "http://pydev.blogspot.com/2007/06/why-cant-pydev-debugger-work-with.html\n",
            "to see how to restore the debug tracing back correctly.\n",
            "Call Location:\n",
            "  File \"/usr/lib/python3.11/doctest.py\", line 1523, in run\n",
            "    sys.settrace(save_trace)\n",
            "\n"
          ]
        }
      ],
      "source": [
        "from collections import defaultdict\n",
        "\n",
        "def all_anagram_pairs(word_list):\n",
        "    anagram_map = defaultdict(list)\n",
        "    for word in word_list:\n",
        "        sorted_word = ''.join(sorted(word))\n",
        "        anagram_map[sorted_word].append(word)\n",
        "    anagram_map = two_or_more_pairs(anagram_map)\n",
        "    return anagram_map\n",
        "def two_or_more_pairs(dictionary):\n",
        "    new_dict = {key:value for (key,value) in dictionary.items() if len(value) > 1}\n",
        "    return new_dict\n",
        "if __name__ == \"__main__\":\n",
        "    import doctest\n",
        "    doctest.testmod()"
      ]
    },
    {
      "cell_type": "markdown",
      "metadata": {
        "id": "rdhijceICspc"
      },
      "source": [
        "**Exercise 8:**\n",
        "Find the longest word with at least one anagram. Suggestion: use the `key` argument of `sort` or `sorted` ([see here](https://stackoverflow.com/questions/8966538/syntax-behind-sortedkey-lambda))."
      ]
    },
    {
      "cell_type": "code",
      "execution_count": 34,
      "metadata": {
        "id": "ayUdTl5hCspc",
        "colab": {
          "base_uri": "https://localhost:8080/"
        },
        "outputId": "dcc748b9-7027-43d3-a8c6-f0fa3942d350"
      },
      "outputs": [
        {
          "output_type": "stream",
          "name": "stdout",
          "text": [
            "listen\n"
          ]
        }
      ],
      "source": [
        "word_list = [\n",
        "    'tea', 'eat', 'ate',        # 3-letter anagrams\n",
        "    'dog', 'god',               # 3-letter anagrams\n",
        "    'cat', 'tac', 'act',        # 3-letter anagrams\n",
        "    'stop', 'pots', 'spot',     # 4-letter anagrams\n",
        "    'flow', 'wolf',             # 4-letter anagrams\n",
        "    'shark', 'harks',           # 5-letter anagrams\n",
        "    'listen', 'silent',         # 6-letter anagrams\n",
        "    'rescue', 'secure',         # 6-letter anagrams\n",
        "    'angel', 'glean',           # 5-letter anagrams\n",
        "]\n",
        "\n",
        "anagram_map = all_anagram_lists(word_list)\n",
        "sorted_lst = sorted(anagram_map.values(),key = lambda words: len(words[0]), reverse=True)\n",
        "print(sorted_lst[0][0])"
      ]
    },
    {
      "cell_type": "markdown",
      "metadata": {
        "id": "QfZ-q5s8Cspc"
      },
      "source": [
        "**Exercise 9:**\n",
        "Find the largest list of words that are anagrams of each other."
      ]
    },
    {
      "cell_type": "code",
      "execution_count": 35,
      "metadata": {
        "id": "NN1ei1_8Cspc",
        "outputId": "8f4ea7d8-e30b-44e3-e1a6-b39d92a66549",
        "colab": {
          "base_uri": "https://localhost:8080/"
        }
      },
      "outputs": [
        {
          "output_type": "stream",
          "name": "stdout",
          "text": [
            "['stop', 'pots', 'post', 'tops', 'spot', 'opts']\n"
          ]
        }
      ],
      "source": [
        "word_list = [\n",
        "    # Largest anagram group (6 words, 4 letters)\n",
        "    'stop', 'pots', 'post', 'tops', 'spot', 'opts',\n",
        "\n",
        "    # Medium group (5 words, 3 letters)\n",
        "    'tea', 'eat', 'ate', 'eta', 'tae',\n",
        "\n",
        "    # Small group (2 words, 3 letters)\n",
        "    'dog', 'god',\n",
        "\n",
        "    # Small group (3 words, 3 letters)\n",
        "    'cat', 'tac', 'act',\n",
        "\n",
        "    # Medium group (4 words, 4 letters)\n",
        "    'flow', 'wolf', 'fowl', 'lofw',\n",
        "\n",
        "    # Pair (5-letter)\n",
        "    'shark', 'harks',\n",
        "\n",
        "    # Pair (6-letter)\n",
        "    'listen', 'silent',\n",
        "\n",
        "    # Pair (6-letter)\n",
        "    'rescue', 'secure',\n",
        "\n",
        "    # Pair (5-letter)\n",
        "    'angel', 'glean',\n",
        "]\n",
        "anagram_map = all_anagram_lists(word_list)\n",
        "sorted_lst = sorted(anagram_map.values(),key = lambda words: len(words), reverse=True)\n",
        "print(sorted_lst[0])\n"
      ]
    },
    {
      "cell_type": "markdown",
      "metadata": {
        "id": "cXFFwbIpCspc"
      },
      "source": [
        "**Exercise 10:**\n",
        "Write a function that takes an integer `word_length` and finds the longest list of words with the given length that are anagrams of each other."
      ]
    },
    {
      "cell_type": "code",
      "execution_count": 70,
      "metadata": {
        "id": "3EVBmL3WCspc",
        "outputId": "d4862aaf-744c-48db-b93d-4e4796f34e81",
        "colab": {
          "base_uri": "https://localhost:8080/"
        }
      },
      "outputs": [
        {
          "output_type": "stream",
          "name": "stdout",
          "text": [
            "finder\n"
          ]
        }
      ],
      "source": [
        "word_list = [\n",
        "    # Largest anagram group (6 words, 4 letters)\n",
        "    'stop', 'pots', 'post', 'tops', 'spot', 'opts',\n",
        "\n",
        "    # Medium group (5 words, 3 letters)\n",
        "    'tea', 'eat', 'ate', 'eta', 'tae',\n",
        "\n",
        "    # Small group (2 words, 3 letters)\n",
        "    'dog', 'god',\n",
        "\n",
        "    # Small group (3 words, 3 letters)\n",
        "    'cat', 'tac', 'act',\n",
        "\n",
        "    # Medium group (4 words, 4 letters)\n",
        "    'flow', 'wolf', 'fowl', 'lofw',\n",
        "\n",
        "    # Pair (5-letter)\n",
        "    'shark', 'harks',\n",
        "\n",
        "    # Pair (6-letter)\n",
        "    'listen', 'silent',\n",
        "\n",
        "    # Pair (6-letter)\n",
        "    'rescue', 'secure',\n",
        "\n",
        "    'finder', 'friend', 'refind',\n",
        "\n",
        "    # Pair (5-letter)\n",
        "    'angel', 'glean',\n",
        "]\n",
        "word_length = 6\n",
        "def longest_anagram_list(word_list, word_length):\n",
        "  anagram_map = all_anagram_lists(word_list)\n",
        "  sorted_lst = sorted(anagram_map.values(),key = lambda words: len(words), reverse=True)\n",
        "  for lst in sorted_lst:\n",
        "    if len(lst[0]) == word_length:\n",
        "      return lst[0]\n",
        "\n",
        "print(longest_anagram_list(word_list, word_length))"
      ]
    },
    {
      "cell_type": "code",
      "execution_count": 49,
      "metadata": {
        "id": "uiTUTFt0Cspc",
        "outputId": "fb353d8d-f467-4312-95fd-9840f9c500ec",
        "colab": {
          "base_uri": "https://localhost:8080/"
        }
      },
      "outputs": [
        {
          "output_type": "stream",
          "name": "stdout",
          "text": [
            "['stop', 'pots', 'post', 'tops', 'spot', 'opts', 'tea', 'eat', 'ate', 'eta', 'tae', 'dog', 'god', 'cat', 'tac', 'act', 'flow', 'wolf', 'fowl', 'lofw', 'shark', 'harks', 'listen', 'silent', 'rescue', 'secure', 'finder', 'friend', 'refind', 'angel', 'glean']\n"
          ]
        }
      ],
      "source": []
    },
    {
      "cell_type": "markdown",
      "metadata": {
        "id": "mOIsqWE6Cspc"
      },
      "source": [
        "**Exercise 11:**\n",
        "At this point we have a data structure that contains lists of words that are anagrams, but we have not actually enumerated all pairs.\n",
        "Write a function that takes `anagram_map` and returns a list of all anagram pairs.\n",
        "How many are there?"
      ]
    },
    {
      "cell_type": "code",
      "execution_count": 80,
      "metadata": {
        "id": "VI0MShEjCspc",
        "outputId": "325311bd-c9e8-41a5-9c15-9d06826c363f",
        "colab": {
          "base_uri": "https://localhost:8080/"
        }
      },
      "outputs": [
        {
          "output_type": "stream",
          "name": "stdout",
          "text": [
            "(defaultdict(<class 'list'>, {'opst': ['stop', 'pots', 'post', 'tops', 'spot', 'opts'], 'aet': ['tea', 'eat', 'ate', 'eta', 'tae'], 'dgo': ['dog', 'god'], 'act': ['cat', 'tac', 'act'], 'flow': ['flow', 'wolf', 'fowl', 'lofw'], 'ahkrs': ['shark', 'harks'], 'eilnst': ['listen', 'silent'], 'ceersu': ['rescue', 'secure'], 'definr': ['finder', 'friend', 'refind'], 'aegln': ['angel', 'glean']}), 9)\n"
          ]
        }
      ],
      "source": [
        "anagram_map = all_anagram_lists(word_list)\n",
        "def anagram_counter(anagram_map):\n",
        "  anagram_lst = list(enumerate(anagram_map))\n",
        "  return anagram_map, anagram_lst[-1][0]\n",
        "\n",
        "counts =  anagram_counter(anagram_map)\n",
        "print(counts)\n"
      ]
    },
    {
      "cell_type": "code",
      "execution_count": null,
      "metadata": {
        "id": "ciewN9INCspd"
      },
      "outputs": [],
      "source": []
    },
    {
      "cell_type": "code",
      "execution_count": null,
      "metadata": {
        "id": "au2ScSJkCspd"
      },
      "outputs": [],
      "source": []
    },
    {
      "cell_type": "code",
      "execution_count": null,
      "metadata": {
        "id": "mJe-aNziCspd"
      },
      "outputs": [],
      "source": []
    },
    {
      "cell_type": "markdown",
      "metadata": {
        "id": "dLoFraoWCspd"
      },
      "source": [
        "*Data Structures and Information Retrieval in Python*\n",
        "\n",
        "Copyright 2021 Allen Downey\n",
        "\n",
        "License: [Creative Commons Attribution-NonCommercial-ShareAlike 4.0 International](https://creativecommons.org/licenses/by-nc-sa/4.0/)"
      ]
    }
  ],
  "metadata": {
    "kernelspec": {
      "display_name": "Python 3 (ipykernel)",
      "language": "python",
      "name": "python3"
    },
    "language_info": {
      "codemirror_mode": {
        "name": "ipython",
        "version": 3
      },
      "file_extension": ".py",
      "mimetype": "text/x-python",
      "name": "python",
      "nbconvert_exporter": "python",
      "pygments_lexer": "ipython3",
      "version": "3.10.1"
    },
    "colab": {
      "provenance": []
    }
  },
  "nbformat": 4,
  "nbformat_minor": 0
}