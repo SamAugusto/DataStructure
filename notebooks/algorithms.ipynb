{
  "cells": [
    {
      "cell_type": "markdown",
      "metadata": {
        "id": "Niyd_J6cCspA"
      },
      "source": [
        "# Algorithms"
      ]
    },
    {
      "cell_type": "markdown",
      "metadata": {
        "id": "p6M0Szl5CspA"
      },
      "source": [
        "[Click here to run this chapter on Colab](https://colab.research.google.com/github/AllenDowney/DSIRP/blob/main/notebooks/algorithms.ipynb)"
      ]
    },
    {
      "cell_type": "markdown",
      "metadata": {
        "id": "dZKp3-qICspB"
      },
      "source": [
        "## Searching for anagrams\n",
        "\n",
        "In this notebook we'll implement algorithms for two tasks:\n",
        "\n",
        "* Testing a pair of words to see if they are anagrams of each other, that is, if you can rearrange the letters in one word to spell the other.\n",
        "\n",
        "* Searching a list of words for all pairs that are anagrams of each other.\n",
        "\n",
        "There is a point to these examples, which I will explain at the end."
      ]
    },
    {
      "cell_type": "markdown",
      "metadata": {
        "id": "NHSJuqIYCspB"
      },
      "source": [
        "**Exercise 1:** Write a function that takes two words and returns `True` if they are anagrams. Test your function with the examples below."
      ]
    },
    {
      "cell_type": "code",
      "execution_count": 3,
      "metadata": {
        "id": "6dlx4yNLCspB"
      },
      "outputs": [],
      "source": [
        "from collections import Counter\n",
        "def is_anagram(word1, word2):\n",
        "    if Counter(word1)== Counter(word2):\n",
        "        return True\n",
        "    return False"
      ]
    },
    {
      "cell_type": "code",
      "execution_count": 4,
      "metadata": {
        "id": "54gwMX6WCspB",
        "outputId": "1ff16fe3-8429-4f9d-ddad-6e63c81b67b5",
        "colab": {
          "base_uri": "https://localhost:8080/"
        }
      },
      "outputs": [
        {
          "output_type": "execute_result",
          "data": {
            "text/plain": [
              "True"
            ]
          },
          "metadata": {},
          "execution_count": 4
        }
      ],
      "source": [
        "is_anagram('tachymetric', 'mccarthyite') # True\n"
      ]
    },
    {
      "cell_type": "code",
      "execution_count": 5,
      "metadata": {
        "id": "vjvrZWvhCspC",
        "outputId": "581da1dd-4e02-4a4a-9b5a-faccbf5dbb09",
        "colab": {
          "base_uri": "https://localhost:8080/"
        }
      },
      "outputs": [
        {
          "output_type": "execute_result",
          "data": {
            "text/plain": [
              "False"
            ]
          },
          "metadata": {},
          "execution_count": 5
        }
      ],
      "source": [
        "is_anagram('post', 'top') # False, letter not present\n"
      ]
    },
    {
      "cell_type": "code",
      "execution_count": 6,
      "metadata": {
        "id": "NdBrOlVrCspC",
        "outputId": "7769ef9b-2098-4843-bd58-570b5b4b220b",
        "colab": {
          "base_uri": "https://localhost:8080/"
        }
      },
      "outputs": [
        {
          "output_type": "execute_result",
          "data": {
            "text/plain": [
              "False"
            ]
          },
          "metadata": {},
          "execution_count": 6
        }
      ],
      "source": [
        "is_anagram('pott', 'top') # False, letter present but not enough copies\n"
      ]
    },
    {
      "cell_type": "code",
      "execution_count": 7,
      "metadata": {
        "id": "9ddr9JDnCspC",
        "outputId": "8e1303f3-c086-430d-970d-e2479228c4e4",
        "colab": {
          "base_uri": "https://localhost:8080/"
        }
      },
      "outputs": [
        {
          "output_type": "execute_result",
          "data": {
            "text/plain": [
              "True"
            ]
          },
          "metadata": {},
          "execution_count": 7
        }
      ],
      "source": [
        "is_anagram('tachymetric', 'mccarthyite') # True"
      ]
    },
    {
      "cell_type": "code",
      "execution_count": 8,
      "metadata": {
        "id": "swNGvN-qCspD",
        "outputId": "24f1f10e-4abd-4706-868b-6361a78d5f21",
        "colab": {
          "base_uri": "https://localhost:8080/"
        }
      },
      "outputs": [
        {
          "output_type": "execute_result",
          "data": {
            "text/plain": [
              "False"
            ]
          },
          "metadata": {},
          "execution_count": 8
        }
      ],
      "source": [
        "is_anagram('post', 'top') # False, letter not present"
      ]
    },
    {
      "cell_type": "code",
      "execution_count": 9,
      "metadata": {
        "id": "wmVeXVoGCspD",
        "outputId": "d2237fc3-fce8-410d-a82a-b96d328b18ea",
        "colab": {
          "base_uri": "https://localhost:8080/"
        }
      },
      "outputs": [
        {
          "output_type": "execute_result",
          "data": {
            "text/plain": [
              "False"
            ]
          },
          "metadata": {},
          "execution_count": 9
        }
      ],
      "source": [
        "is_anagram('pott', 'top') # False, letter present but not enough copies"
      ]
    },
    {
      "cell_type": "code",
      "execution_count": 10,
      "metadata": {
        "id": "8Q0d0FZXCspD",
        "outputId": "085e3e85-917f-45a3-faa4-911e0e006c9a",
        "colab": {
          "base_uri": "https://localhost:8080/"
        }
      },
      "outputs": [
        {
          "output_type": "execute_result",
          "data": {
            "text/plain": [
              "False"
            ]
          },
          "metadata": {},
          "execution_count": 10
        }
      ],
      "source": [
        "is_anagram('top', 'post') # False, letters left over at the end"
      ]
    },
    {
      "cell_type": "code",
      "execution_count": 11,
      "metadata": {
        "id": "BFlKRs0zCspE",
        "outputId": "a72e45bd-b9bb-462b-cbf4-a466f0c9359a",
        "colab": {
          "base_uri": "https://localhost:8080/"
        }
      },
      "outputs": [
        {
          "output_type": "execute_result",
          "data": {
            "text/plain": [
              "False"
            ]
          },
          "metadata": {},
          "execution_count": 11
        }
      ],
      "source": [
        "is_anagram('topss', 'postt') # False"
      ]
    },
    {
      "cell_type": "markdown",
      "metadata": {
        "id": "n_rR305yCspJ"
      },
      "source": [
        "**Exercise 2:** Use `timeit` to see how fast your function is for these examples:"
      ]
    },
    {
      "cell_type": "code",
      "execution_count": 12,
      "metadata": {
        "id": "WdEX7f-JCspJ",
        "outputId": "4fa1f80d-8900-4391-95b8-59107daa8827",
        "colab": {
          "base_uri": "https://localhost:8080/"
        }
      },
      "outputs": [
        {
          "output_type": "stream",
          "name": "stdout",
          "text": [
            "6.19 µs ± 3.21 µs per loop (mean ± std. dev. of 7 runs, 100000 loops each)\n"
          ]
        }
      ],
      "source": [
        "%timeit is_anagram('tops', 'spot')"
      ]
    },
    {
      "cell_type": "code",
      "execution_count": 13,
      "metadata": {
        "id": "lZxALijtCspJ",
        "outputId": "14fd4508-4e1c-4904-a8df-8dac216f3048",
        "colab": {
          "base_uri": "https://localhost:8080/"
        }
      },
      "outputs": [
        {
          "output_type": "stream",
          "name": "stdout",
          "text": [
            "7.97 µs ± 2.29 µs per loop (mean ± std. dev. of 7 runs, 100000 loops each)\n"
          ]
        }
      ],
      "source": [
        "%timeit is_anagram('tachymetric', 'mccarthyite')"
      ]
    },
    {
      "cell_type": "markdown",
      "metadata": {
        "id": "gPOdhzDmCspJ"
      },
      "source": [
        "How can we compare algorithms running on different computers?\n",
        "\n",
        "> Add blockquote\n",
        "\n"
      ]
    },
    {
      "cell_type": "markdown",
      "metadata": {
        "id": "QFcZM2_vCspJ"
      },
      "source": [
        "## Searching for anagram pairs"
      ]
    },
    {
      "cell_type": "markdown",
      "metadata": {
        "id": "B_2bRyLOCspO"
      },
      "source": [
        "**Exercise 3:** Write a function that takes a word list and returns a list of all anagram pairs."
      ]
    },
    {
      "cell_type": "code",
      "execution_count": 14,
      "metadata": {
        "id": "XgqaLvUvCspO"
      },
      "outputs": [],
      "source": [
        "short_word_list = ['proudest', 'stop', 'pots', 'tops', 'sprouted']"
      ]
    },
    {
      "cell_type": "code",
      "execution_count": 15,
      "metadata": {
        "id": "7tQVKILnCspP"
      },
      "outputs": [],
      "source": [
        "from collections import defaultdict\n",
        "\n",
        "def all_anagram_pairs(word_list):\n",
        "    anagram_map = defaultdict(list)\n",
        "    for word in word_list:\n",
        "        sorted_word = ''.join(sorted(word))\n",
        "        anagram_map[sorted_word].append(word)\n",
        "    return anagram_map"
      ]
    },
    {
      "cell_type": "code",
      "execution_count": 16,
      "metadata": {
        "id": "2BQRcDYICspU",
        "outputId": "fd482cce-8ab6-401e-de00-740e0278a942",
        "colab": {
          "base_uri": "https://localhost:8080/"
        }
      },
      "outputs": [
        {
          "output_type": "execute_result",
          "data": {
            "text/plain": [
              "defaultdict(list,\n",
              "            {'deoprstu': ['proudest', 'sprouted'],\n",
              "             'opst': ['stop', 'pots', 'tops']})"
            ]
          },
          "metadata": {},
          "execution_count": 16
        }
      ],
      "source": [
        "all_anagram_pairs(short_word_list)"
      ]
    },
    {
      "cell_type": "markdown",
      "metadata": {
        "id": "77V_91a8CspU"
      },
      "source": [
        "The following cell downloads a file containing a list of English words."
      ]
    },
    {
      "cell_type": "code",
      "execution_count": 17,
      "metadata": {
        "id": "pUigqFXHCspU",
        "outputId": "e190615b-eca1-4af3-cf2e-45024aa0ad1a",
        "colab": {
          "base_uri": "https://localhost:8080/"
        }
      },
      "outputs": [
        {
          "output_type": "stream",
          "name": "stdout",
          "text": [
            "Downloaded american-english\n"
          ]
        }
      ],
      "source": [
        "from os.path import basename, exists\n",
        "\n",
        "def download(url):\n",
        "    filename = basename(url)\n",
        "    if not exists(filename):\n",
        "        from urllib.request import urlretrieve\n",
        "        local, _ = urlretrieve(url, filename)\n",
        "        print('Downloaded ' + local)\n",
        "\n",
        "download('https://github.com/AllenDowney/DSIRP/raw/main/american-english')"
      ]
    },
    {
      "cell_type": "markdown",
      "metadata": {
        "id": "kskKp8xCCspU"
      },
      "source": [
        "The following function reads a file and returns a set of words (I used a set because after we convert words to lower case, there are some repeats.)"
      ]
    },
    {
      "cell_type": "code",
      "execution_count": 18,
      "metadata": {
        "id": "xnfyu2TTCspU"
      },
      "outputs": [],
      "source": [
        "def read_words(filename):\n",
        "    \"\"\"Read lines from a file and split them into words.\"\"\"\n",
        "    res = set()\n",
        "    for line in open(filename):\n",
        "        for word in line.split():\n",
        "            res.add(word.strip().lower())\n",
        "    return res"
      ]
    },
    {
      "cell_type": "code",
      "execution_count": 19,
      "metadata": {
        "id": "aNTB_8fJCspU",
        "outputId": "908cb63c-3c46-495d-f85a-cf2001235399",
        "colab": {
          "base_uri": "https://localhost:8080/"
        }
      },
      "outputs": [
        {
          "output_type": "execute_result",
          "data": {
            "text/plain": [
              "100781"
            ]
          },
          "metadata": {},
          "execution_count": 19
        }
      ],
      "source": [
        "word_list = read_words('american-english')\n",
        "len(word_list)"
      ]
    },
    {
      "cell_type": "markdown",
      "metadata": {
        "id": "ft6WFRaQCspU"
      },
      "source": [
        "**Exercise 4:** Loop through the word list and print all words that are anagrams of `stop`."
      ]
    },
    {
      "cell_type": "code",
      "execution_count": 20,
      "metadata": {
        "id": "gVSdkgB6CspU",
        "outputId": "23baf4e0-cb03-452d-e04a-208eb6605583",
        "colab": {
          "base_uri": "https://localhost:8080/"
        }
      },
      "outputs": [
        {
          "output_type": "stream",
          "name": "stdout",
          "text": [
            "opts\n",
            "post\n",
            "stop\n",
            "pots\n",
            "spot\n",
            "tops\n"
          ]
        }
      ],
      "source": [
        "def is_anagram(word1, word2):\n",
        "    if Counter(word1)== Counter(word2):\n",
        "        return True\n",
        "    return False\n",
        "for words in word_list:\n",
        "    if is_anagram(words,'stop'):\n",
        "        print(words)"
      ]
    },
    {
      "cell_type": "markdown",
      "metadata": {
        "id": "qe5ATPkwCspW"
      },
      "source": [
        "Now run `all_anagram_pairs` with the full `word_list`:"
      ]
    },
    {
      "cell_type": "code",
      "execution_count": 21,
      "metadata": {
        "id": "UssbFbnFCspW"
      },
      "outputs": [],
      "source": [
        "pairs = all_anagram_pairs(word_list)"
      ]
    },
    {
      "cell_type": "markdown",
      "metadata": {
        "id": "LWdv9MyxCspW"
      },
      "source": [
        "**Exercise 5:** While that's running, let's estimate how long it's going to take."
      ]
    },
    {
      "cell_type": "code",
      "execution_count": 22,
      "metadata": {
        "id": "xiLLyZ3ZCspW",
        "outputId": "9deae74b-ff5e-4d2e-9d92-4f86822a31fc",
        "colab": {
          "base_uri": "https://localhost:8080/"
        }
      },
      "outputs": [
        {
          "output_type": "stream",
          "name": "stdout",
          "text": [
            "185 ms ± 29.4 ms per loop (mean ± std. dev. of 7 runs, 10 loops each)\n"
          ]
        }
      ],
      "source": [
        "%timeit all_anagram_pairs(word_list)"
      ]
    },
    {
      "cell_type": "markdown",
      "metadata": {
        "id": "UI7eRfh6CspW"
      },
      "source": [
        "## A better algorithm\n",
        "\n",
        "**Exercise 6:** Write a better algorithm! Hint: make a dictionary. How much faster is your algorithm?"
      ]
    },
    {
      "cell_type": "code",
      "execution_count": 23,
      "metadata": {
        "id": "_ylOy3jACspW"
      },
      "outputs": [],
      "source": [
        "from collections import defaultdict\n",
        "\n",
        "def all_anagram_lists(word_list):\n",
        "    \"\"\"Finds all anagrams in a list of words.\n",
        "\n",
        "    word_list: sequence of strings\n",
        "    \"\"\"\n",
        "\n",
        "    anagram_map = defaultdict(list)\n",
        "    for word in word_list:\n",
        "        sorted_word = ''.join(sorted(word))\n",
        "        anagram_map[sorted_word].append(word)\n",
        "    return anagram_map"
      ]
    },
    {
      "cell_type": "code",
      "execution_count": 23,
      "metadata": {
        "id": "w0ZslnJ_CspW"
      },
      "outputs": [],
      "source": []
    },
    {
      "cell_type": "code",
      "execution_count": 24,
      "metadata": {
        "id": "nkOFul9rCspW",
        "colab": {
          "base_uri": "https://localhost:8080/"
        },
        "outputId": "4ab872a0-ce0f-41c2-9269-c47e54393ec3"
      },
      "outputs": [
        {
          "output_type": "stream",
          "name": "stdout",
          "text": [
            "CPU times: user 264 ms, sys: 1.05 ms, total: 265 ms\n",
            "Wall time: 265 ms\n"
          ]
        }
      ],
      "source": [
        "%time anagram_map = all_anagram_lists(word_list)"
      ]
    },
    {
      "cell_type": "code",
      "execution_count": 25,
      "metadata": {
        "id": "ubiN-IdxCspW",
        "colab": {
          "base_uri": "https://localhost:8080/"
        },
        "outputId": "14e0ee9c-a165-45d5-eac7-75c3801c27ed"
      },
      "outputs": [
        {
          "output_type": "execute_result",
          "data": {
            "text/plain": [
              "93406"
            ]
          },
          "metadata": {},
          "execution_count": 25
        }
      ],
      "source": [
        "len(anagram_map)"
      ]
    },
    {
      "cell_type": "code",
      "execution_count": 25,
      "metadata": {
        "id": "jS51ahoUCspb"
      },
      "outputs": [],
      "source": []
    },
    {
      "cell_type": "markdown",
      "metadata": {
        "id": "J3Q_GibCCspb"
      },
      "source": [
        "## Summary\n",
        "\n",
        "What is the point of the examples in this notebook?\n",
        "\n",
        "* The different versions of `is_anagram` show that, when inputs are small, it is hard to say which algorithm will be the fastest. It often depends on details of the implementation. Anyway, the differences tend to be small, so it might not matter much in practice.\n",
        "\n",
        "* The different algorithms we used to search for anagram pairs show that, when inputs are large, we can often tell which algorithm will be fastest. And the difference between a fast algorithm and a slow one can be huge!"
      ]
    },
    {
      "cell_type": "markdown",
      "metadata": {
        "id": "5V6kqS4YCspb"
      },
      "source": [
        "## Exercises\n",
        "\n",
        "Before you work on these exercises, you might want to read the Python [Sorting How-To](https://docs.python.org/3/howto/sorting.html). It uses `lambda` to define an anonymous function, which [you can read about here](https://www.w3schools.com/python/python_lambda.asp).\n",
        "\n",
        "**Exercise 7:**\n",
        "Make a dictionary like `anagram_map` that contains only keys that map to a list with more than one element. You can use a `for` loop to make a new dictionary, or a [dictionary comprehension](https://www.freecodecamp.org/news/dictionary-comprehension-in-python-explained-with-examples/)."
      ]
    },
    {
      "cell_type": "code",
      "execution_count": 26,
      "metadata": {
        "id": "9AOJ-IdpCspc",
        "colab": {
          "base_uri": "https://localhost:8080/"
        },
        "outputId": "81a2dbf9-7279-42f4-f273-f2782ebb3b24"
      },
      "outputs": [
        {
          "output_type": "stream",
          "name": "stderr",
          "text": [
            "\n",
            "PYDEV DEBUGGER WARNING:\n",
            "sys.settrace() should not be used when the debugger is being used.\n",
            "This may cause the debugger to stop working correctly.\n",
            "If this is needed, please check: \n",
            "http://pydev.blogspot.com/2007/06/why-cant-pydev-debugger-work-with.html\n",
            "to see how to restore the debug tracing back correctly.\n",
            "Call Location:\n",
            "  File \"/usr/lib/python3.11/doctest.py\", line 1523, in run\n",
            "    sys.settrace(save_trace)\n",
            "\n"
          ]
        }
      ],
      "source": [
        "from collections import defaultdict\n",
        "\n",
        "def all_anagram_pairs(word_list):\n",
        "    anagram_map = defaultdict(list)\n",
        "    for word in word_list:\n",
        "        sorted_word = ''.join(sorted(word))\n",
        "        anagram_map[sorted_word].append(word)\n",
        "    anagram_map = two_or_more_pairs(anagram_map)\n",
        "    return anagram_map\n",
        "def two_or_more_pairs(dictionary):\n",
        "    new_dict = {key:value for (key,value) in dictionary.items() if len(value) > 1}\n",
        "    return new_dict\n",
        "if __name__ == \"__main__\":\n",
        "    import doctest\n",
        "    doctest.testmod()"
      ]
    },
    {
      "cell_type": "markdown",
      "metadata": {
        "id": "rdhijceICspc"
      },
      "source": [
        "**Exercise 8:**\n",
        "Find the longest word with at least one anagram. Suggestion: use the `key` argument of `sort` or `sorted` ([see here](https://stackoverflow.com/questions/8966538/syntax-behind-sortedkey-lambda))."
      ]
    },
    {
      "cell_type": "code",
      "execution_count": 32,
      "metadata": {
        "id": "ayUdTl5hCspc",
        "colab": {
          "base_uri": "https://localhost:8080/"
        },
        "outputId": "5d8067e9-a3d4-4f2c-8685-8ae5bd2a9e7f"
      },
      "outputs": [
        {
          "output_type": "stream",
          "name": "stdout",
          "text": [
            "dict_values([['tea', 'eat', 'ate'], ['dog', 'god'], ['cat', 'tac', 'act'], ['run', 'urn']])\n"
          ]
        }
      ],
      "source": [
        "word_list = ['tea', 'eat', 'ate', 'dog', 'god', 'cat', 'tac', 'act', 'run', 'urn']\n",
        "anagram_map = all_anagram_lists(word_list)\n",
        "\n",
        "print(sorted(anagram_map.values(),key = ))"
      ]
    },
    {
      "cell_type": "markdown",
      "metadata": {
        "id": "QfZ-q5s8Cspc"
      },
      "source": [
        "**Exercise 9:**\n",
        "Find the largest list of words that are anagrams of each other."
      ]
    },
    {
      "cell_type": "code",
      "execution_count": 26,
      "metadata": {
        "id": "NN1ei1_8Cspc"
      },
      "outputs": [],
      "source": []
    },
    {
      "cell_type": "markdown",
      "metadata": {
        "id": "cXFFwbIpCspc"
      },
      "source": [
        "**Exercise 10:**\n",
        "Write a function that takes an integer `word_length` and finds the longest list of words with the given length that are anagrams of each other."
      ]
    },
    {
      "cell_type": "code",
      "execution_count": 26,
      "metadata": {
        "id": "3EVBmL3WCspc"
      },
      "outputs": [],
      "source": []
    },
    {
      "cell_type": "code",
      "execution_count": 26,
      "metadata": {
        "id": "uiTUTFt0Cspc"
      },
      "outputs": [],
      "source": []
    },
    {
      "cell_type": "markdown",
      "metadata": {
        "id": "mOIsqWE6Cspc"
      },
      "source": [
        "**Exercise 11:**\n",
        "At this point we have a data structure that contains lists of words that are anagrams, but we have not actually enumerated all pairs.\n",
        "Write a function that takes `anagram_map` and returns a list of all anagram pairs.\n",
        "How many are there?"
      ]
    },
    {
      "cell_type": "code",
      "execution_count": 26,
      "metadata": {
        "id": "VI0MShEjCspc"
      },
      "outputs": [],
      "source": []
    },
    {
      "cell_type": "code",
      "execution_count": 26,
      "metadata": {
        "id": "ciewN9INCspd"
      },
      "outputs": [],
      "source": []
    },
    {
      "cell_type": "code",
      "execution_count": 26,
      "metadata": {
        "id": "au2ScSJkCspd"
      },
      "outputs": [],
      "source": []
    },
    {
      "cell_type": "code",
      "execution_count": 26,
      "metadata": {
        "id": "mJe-aNziCspd"
      },
      "outputs": [],
      "source": []
    },
    {
      "cell_type": "markdown",
      "metadata": {
        "id": "dLoFraoWCspd"
      },
      "source": [
        "*Data Structures and Information Retrieval in Python*\n",
        "\n",
        "Copyright 2021 Allen Downey\n",
        "\n",
        "License: [Creative Commons Attribution-NonCommercial-ShareAlike 4.0 International](https://creativecommons.org/licenses/by-nc-sa/4.0/)"
      ]
    }
  ],
  "metadata": {
    "kernelspec": {
      "display_name": "Python 3 (ipykernel)",
      "language": "python",
      "name": "python3"
    },
    "language_info": {
      "codemirror_mode": {
        "name": "ipython",
        "version": 3
      },
      "file_extension": ".py",
      "mimetype": "text/x-python",
      "name": "python",
      "nbconvert_exporter": "python",
      "pygments_lexer": "ipython3",
      "version": "3.10.1"
    },
    "colab": {
      "provenance": []
    }
  },
  "nbformat": 4,
  "nbformat_minor": 0
}