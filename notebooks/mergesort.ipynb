{
  "cells": [
    {
      "cell_type": "markdown",
      "metadata": {
        "id": "DWn8Ij5Wh8e0"
      },
      "source": [
        "# Merge Sort"
      ]
    },
    {
      "cell_type": "markdown",
      "metadata": {
        "id": "UDH9ptHJh8e_"
      },
      "source": [
        "[Click here to run this chapter on Colab](https://colab.research.google.com/github/AllenDowney/DSIRP/blob/main/notebooks/mergesort.ipynb)"
      ]
    },
    {
      "cell_type": "markdown",
      "metadata": {
        "id": "HP2mGv1Lh8fA"
      },
      "source": [
        "## Implementing Merge Sort\n",
        "\n",
        "[Merge sort](https://en.wikipedia.org/wiki/Merge_sort) is a divide and conquer strategy:\n",
        "\n",
        "1. Divide the sequence into two halves,\n",
        "\n",
        "2. Sort the halves, and\n",
        "\n",
        "3. Merge the sorted sub-sequences into a single sequence."
      ]
    },
    {
      "cell_type": "markdown",
      "metadata": {
        "id": "IMaO7Xqjh8fB"
      },
      "source": [
        "Since step 2 involves sorting, this algorithm is recursive, so we need a base case.\n",
        "There are two options:\n",
        "\n",
        "1. If the size falls below some threshold, we can use another sort algorithm.\n",
        "\n",
        "2. If the size of a sub-sequence is 1, it is already sorted.\n",
        "\n",
        "[Comparison with other sort algorithms](https://en.wikipedia.org/wiki/Merge_sort#Comparison_with_other_sort_algorithms)"
      ]
    },
    {
      "cell_type": "markdown",
      "metadata": {
        "id": "VlNBmSS6h8fC"
      },
      "source": [
        "To implement merge sort, I think it's helpful to start with a non-recursive version that uses the Python `sort` function to sort the sub-sequences."
      ]
    },
    {
      "cell_type": "code",
      "execution_count": 1,
      "metadata": {
        "tags": [],
        "id": "KPsA0B1Rh8fD"
      },
      "outputs": [],
      "source": [
        "def merge_sort_norec(xs):\n",
        "    n = len(xs)\n",
        "    mid = n//2\n",
        "    left = xs[:mid]\n",
        "    right = xs[mid:]\n",
        "\n",
        "    left.sort()\n",
        "    right.sort()\n",
        "\n",
        "    return merge(left, right)"
      ]
    },
    {
      "cell_type": "markdown",
      "metadata": {
        "id": "x_Ot6oo8h8fF"
      },
      "source": [
        "**Exercise:** Write a function called `merge` that takes two sorted sequences, `left` and `right`, and returns a sequence that contains all elements from `left` and `right`, in ascending order (or non-decreasing order, to be more precise).\n",
        "\n",
        "Note: this function is not conceptually difficult, but it is notoriously tricky to get all of the edge cases right without making the function unreadable.\n",
        "Take it as a challenge to write a version that is correct, concise, and readable.\n",
        "I found that I could write it more concisely as a generator function."
      ]
    },
    {
      "cell_type": "code",
      "execution_count": 2,
      "metadata": {
        "id": "ElKrFw9Dh8fH"
      },
      "outputs": [],
      "source": [
        "from collections import deque\n",
        "\n",
        "def merge(left,right):\n",
        "  sorted_lst = []\n",
        "  left = deque(left)\n",
        "  right = deque(right)\n",
        "  while left or right:\n",
        "    if left:\n",
        "      left_val = left[0]\n",
        "    else:\n",
        "      sorted_lst.extend(right)\n",
        "      break\n",
        "    if right:\n",
        "      right_val = right[0]\n",
        "    else:\n",
        "      sorted_lst.extend(left)\n",
        "      break\n",
        "    if left_val>right_val:\n",
        "      sorted_lst.append(right_val)\n",
        "      right.popleft()\n",
        "    else:\n",
        "      sorted_lst.append(left_val)\n",
        "      left.popleft()\n",
        "  return sorted_lst\n",
        "\n",
        "\n",
        "\n",
        "\n"
      ]
    },
    {
      "cell_type": "markdown",
      "metadata": {
        "id": "ffRZroV1h8fJ"
      },
      "source": [
        "You can use the following example to test your code."
      ]
    },
    {
      "cell_type": "code",
      "execution_count": 3,
      "metadata": {
        "id": "osamQYI-h8fM",
        "outputId": "1a647ea8-b7f6-417c-fa7f-ee62aaac9bbe",
        "colab": {
          "base_uri": "https://localhost:8080/"
        }
      },
      "outputs": [
        {
          "output_type": "execute_result",
          "data": {
            "text/plain": [
              "[70, 43, 56, 2, 57, 27]"
            ]
          },
          "metadata": {},
          "execution_count": 3
        }
      ],
      "source": [
        "import random\n",
        "\n",
        "population = range(100)\n",
        "xs = random.sample(population, k=6)\n",
        "ys = random.sample(population, k=6)\n",
        "ys"
      ]
    },
    {
      "cell_type": "code",
      "execution_count": 4,
      "metadata": {
        "id": "6g9Tx-LFh8fO",
        "outputId": "bf6acaaa-c176-4f3e-b6e2-a49bbd7a5291",
        "colab": {
          "base_uri": "https://localhost:8080/"
        }
      },
      "outputs": [
        {
          "output_type": "execute_result",
          "data": {
            "text/plain": [
              "[2, 27, 43, 56, 57, 70]"
            ]
          },
          "metadata": {},
          "execution_count": 4
        }
      ],
      "source": [
        "xs.sort()\n",
        "ys.sort()\n",
        "ys"
      ]
    },
    {
      "cell_type": "code",
      "execution_count": 5,
      "metadata": {
        "id": "km5vvHpxh8fP",
        "outputId": "15ac796a-fca1-4297-c546-46e8fb555ed5",
        "colab": {
          "base_uri": "https://localhost:8080/"
        }
      },
      "outputs": [
        {
          "output_type": "execute_result",
          "data": {
            "text/plain": [
              "[2, 2, 5, 20, 27, 43, 43, 46, 56, 57, 64, 70]"
            ]
          },
          "metadata": {},
          "execution_count": 5
        }
      ],
      "source": [
        "res = list(merge(xs, ys))\n",
        "res"
      ]
    },
    {
      "cell_type": "code",
      "execution_count": 6,
      "metadata": {
        "id": "oLqH6w3bh8fQ",
        "outputId": "d08ac364-64e9-4e51-81e0-cfee8c68f256",
        "colab": {
          "base_uri": "https://localhost:8080/"
        }
      },
      "outputs": [
        {
          "output_type": "execute_result",
          "data": {
            "text/plain": [
              "True"
            ]
          },
          "metadata": {},
          "execution_count": 6
        }
      ],
      "source": [
        "sorted(res) == res"
      ]
    },
    {
      "cell_type": "markdown",
      "metadata": {
        "id": "JfStKyPBh8fQ"
      },
      "source": [
        "**Exercise:**  Starting with `merge_sort_norec`, write a function called `merge_sort_rec` that's fully recursive; that is, instead of using Python's `sort` function to sort the halves, it should use `merge_sort_rec`.  Of course, you will need a base case to avoid an infinite recursion.\n",
        "\n"
      ]
    },
    {
      "cell_type": "code",
      "source": [
        "def merge_sort_norec(xs):\n",
        "    n = len(xs)\n",
        "    mid = n//2\n",
        "    left = xs[:mid]\n",
        "    right = xs[mid:]\n",
        "\n",
        "    left.sort()\n",
        "    right.sort()\n",
        "\n",
        "    return merge(left, right)"
      ],
      "metadata": {
        "id": "v-wBlFKajpgM"
      },
      "execution_count": 7,
      "outputs": []
    },
    {
      "cell_type": "code",
      "execution_count": 13,
      "metadata": {
        "id": "lqyw7AXHh8fQ"
      },
      "outputs": [],
      "source": [
        "def merge_sort_rec(xs):\n",
        "    n = len(xs)\n",
        "    if n <= 1:\n",
        "        return xs\n",
        "\n",
        "    mid = n // 2\n",
        "    left = xs[:mid]\n",
        "    right = xs[mid:]\n",
        "\n",
        "    return merge(merge_sort_rec(left), merge_sort_rec(right))"
      ]
    },
    {
      "cell_type": "markdown",
      "metadata": {
        "id": "RJzJ0Owkh8fR"
      },
      "source": [
        "Test your method by running the code in the next cell, then use `test_merge_sort_rec`, below, to check the performance of your function."
      ]
    },
    {
      "cell_type": "code",
      "execution_count": 9,
      "metadata": {
        "colab": {
          "base_uri": "https://localhost:8080/"
        },
        "id": "BVJXzDaAh8fR",
        "outputId": "b0f8e021-7338-4557-e08a-680e576fee28"
      },
      "outputs": [
        {
          "output_type": "execute_result",
          "data": {
            "text/plain": [
              "[38, 26, 0, 5, 36, 28, 60, 15, 48, 74, 95, 85]"
            ]
          },
          "metadata": {},
          "execution_count": 9
        }
      ],
      "source": [
        "xs = random.sample(population, k=12)\n",
        "xs"
      ]
    },
    {
      "cell_type": "code",
      "execution_count": 15,
      "metadata": {
        "colab": {
          "base_uri": "https://localhost:8080/"
        },
        "id": "pS702mXDh8fR",
        "outputId": "d82534db-f0e8-443a-82ff-473df1114f30"
      },
      "outputs": [
        {
          "output_type": "execute_result",
          "data": {
            "text/plain": [
              "[0, 5, 15, 26, 28, 36, 38, 48, 60, 74, 85, 95]"
            ]
          },
          "metadata": {},
          "execution_count": 15
        }
      ],
      "source": [
        "res = list(merge_sort_rec(xs))\n",
        "res"
      ]
    },
    {
      "cell_type": "code",
      "execution_count": 16,
      "metadata": {
        "colab": {
          "base_uri": "https://localhost:8080/"
        },
        "id": "dv613v3Oh8fS",
        "outputId": "03eef057-50d2-4e71-fecb-922cb1771963"
      },
      "outputs": [
        {
          "output_type": "execute_result",
          "data": {
            "text/plain": [
              "True"
            ]
          },
          "metadata": {},
          "execution_count": 16
        }
      ],
      "source": [
        "sorted(res) == res"
      ]
    },
    {
      "cell_type": "markdown",
      "metadata": {
        "id": "jps6f_TOh8fS"
      },
      "source": [
        "## Heap Merge\n",
        "\n",
        "Suppose we want to merge more than two sub-sequences.\n",
        "A convenient way to do that is to use a heap.\n",
        "For example, here are three sorted sub-sequences."
      ]
    },
    {
      "cell_type": "code",
      "execution_count": 17,
      "metadata": {
        "id": "QC7sT3dkh8fS",
        "outputId": "c7b26840-ec7c-4a55-a05c-75e95b49323f",
        "colab": {
          "base_uri": "https://localhost:8080/"
        }
      },
      "outputs": [
        {
          "output_type": "execute_result",
          "data": {
            "text/plain": [
              "(3, 15, 17)"
            ]
          },
          "metadata": {},
          "execution_count": 17
        }
      ],
      "source": [
        "xs = random.sample(population, k=5)\n",
        "ys = random.sample(population, k=5)\n",
        "zs = random.sample(population, k=5)\n",
        "\n",
        "min(xs), min(ys), min(zs)"
      ]
    },
    {
      "cell_type": "code",
      "execution_count": 18,
      "metadata": {
        "id": "tHdT3XMkh8fT"
      },
      "outputs": [],
      "source": [
        "xs.sort()\n",
        "ys.sort()\n",
        "zs.sort()"
      ]
    },
    {
      "cell_type": "markdown",
      "metadata": {
        "id": "EawGtOnHh8fT"
      },
      "source": [
        "For each sequence, I'll make an iterator and push onto the heap a tuple that contains:\n",
        "\n",
        "* The first element from the iterator,\n",
        "\n",
        "* An index that's different for each iterator, and\n",
        "\n",
        "* The iterator itself.\n",
        "\n",
        "When the heap compares two of these tuples, it compares the elements first.\n",
        "If there's a tie, it compares the indices.\n",
        "Since the indices are unique, there can't be a tie, so we never have to compare iterators (which would be an error)."
      ]
    },
    {
      "cell_type": "code",
      "execution_count": 19,
      "metadata": {
        "tags": [],
        "id": "ACWZ-zWDh8fT"
      },
      "outputs": [],
      "source": [
        "sequences = [xs, ys, zs]"
      ]
    },
    {
      "cell_type": "code",
      "execution_count": 20,
      "metadata": {
        "tags": [],
        "id": "EpqShFQch8fT"
      },
      "outputs": [],
      "source": [
        "from heapq import heappush, heappop\n",
        "\n",
        "heap = []\n",
        "for i, seq in enumerate(sequences):\n",
        "    iterator = iter(seq)\n",
        "    first = next(iterator)\n",
        "    heappush(heap, (first, i, iterator))"
      ]
    },
    {
      "cell_type": "markdown",
      "metadata": {
        "id": "ht_Aa1_sh8fU"
      },
      "source": [
        "When we pop a value from the heap, we get the tuple with the smallest value."
      ]
    },
    {
      "cell_type": "code",
      "execution_count": 21,
      "metadata": {
        "tags": [],
        "id": "E5_CBTJ-h8fU",
        "outputId": "df7d181e-03eb-4b9f-a802-d6c9e387fe23",
        "colab": {
          "base_uri": "https://localhost:8080/"
        }
      },
      "outputs": [
        {
          "output_type": "execute_result",
          "data": {
            "text/plain": [
              "3"
            ]
          },
          "metadata": {},
          "execution_count": 21
        }
      ],
      "source": [
        "value, i, iterator = heappop(heap)\n",
        "value"
      ]
    },
    {
      "cell_type": "markdown",
      "metadata": {
        "id": "I9G0HjsEh8fU"
      },
      "source": [
        "If we know that the iterator has more values, we can use `next` to get the next one and then push a tuple back into the heap."
      ]
    },
    {
      "cell_type": "code",
      "execution_count": 22,
      "metadata": {
        "tags": [],
        "id": "QjdoBgush8fU"
      },
      "outputs": [],
      "source": [
        "heappush(heap, (next(iterator), i, iterator))"
      ]
    },
    {
      "cell_type": "markdown",
      "metadata": {
        "id": "S-LWaUC7h8fV"
      },
      "source": [
        "If we repeat this process, we'll get all elements from all sub-sequences in ascending order.\n",
        "\n",
        "However, we have to deal with the case where the iterator is empty.\n",
        "In Python, the only way to check is to call `next` and take your chances!\n",
        "If there are no more elements in the iterator, `next` raises a `StopIteration` exception, which you can handle with a `try` statement, like this:"
      ]
    },
    {
      "cell_type": "code",
      "execution_count": 23,
      "metadata": {
        "tags": [],
        "id": "VztdIjp3h8fV",
        "outputId": "2e74873e-f6fb-40ad-f10a-e994b0b5455b",
        "colab": {
          "base_uri": "https://localhost:8080/"
        }
      },
      "outputs": [
        {
          "output_type": "stream",
          "name": "stdout",
          "text": [
            "3\n",
            "73\n",
            "75\n",
            "79\n",
            "90\n"
          ]
        }
      ],
      "source": [
        "iterator = iter(xs)\n",
        "\n",
        "while True:\n",
        "    try:\n",
        "        print(next(iterator))\n",
        "    except StopIteration:\n",
        "        break"
      ]
    },
    {
      "cell_type": "markdown",
      "metadata": {
        "id": "Bgth4ReQh8fW"
      },
      "source": [
        "**Exercise:** Write a generator function called `heapmerge` that takes a list of sequences and yields the elements from the sequences in increasing order."
      ]
    },
    {
      "cell_type": "code",
      "execution_count": 24,
      "metadata": {
        "id": "m2iESiA2h8fW"
      },
      "outputs": [],
      "source": [
        "def heap_merge(seq_lst):\n",
        "  heap = []\n",
        "  for i, seq in enumerate(sequences):\n",
        "      iterator = iter(seq)\n",
        "      first = next(iterator)\n",
        "      heappush(heap, (first, i, iterator))\n",
        "  while heap:\n",
        "      value, i, iterator = heappop(heap)\n",
        "      yield value\n",
        "      try:\n",
        "          nextval = next(iterator)\n",
        "          heappush(heap, (nextval, i, iterator))\n",
        "      except StopIteration:\n",
        "          pass\n",
        ""
      ]
    },
    {
      "cell_type": "markdown",
      "metadata": {
        "id": "kySqB0G1h8fW"
      },
      "source": [
        "You can use the following examples to test your function."
      ]
    },
    {
      "cell_type": "code",
      "execution_count": 26,
      "metadata": {
        "id": "o-tXcNO_h8fW",
        "outputId": "4efed26f-30fe-4a30-d9bd-84e92b18bf52",
        "colab": {
          "base_uri": "https://localhost:8080/"
        }
      },
      "outputs": [
        {
          "output_type": "execute_result",
          "data": {
            "text/plain": [
              "[3, 15, 17, 32, 48, 73, 73, 75, 77, 78, 79, 90, 91, 94, 95]"
            ]
          },
          "metadata": {},
          "execution_count": 26
        }
      ],
      "source": [
        "seq = list(heap_merge([xs, ys, zs]))\n",
        "seq"
      ]
    },
    {
      "cell_type": "code",
      "execution_count": 27,
      "metadata": {
        "id": "xV0OsFDPh8fX",
        "outputId": "8a83bb2b-8d55-43b9-9435-f570e3661ca0",
        "colab": {
          "base_uri": "https://localhost:8080/"
        }
      },
      "outputs": [
        {
          "output_type": "execute_result",
          "data": {
            "text/plain": [
              "True"
            ]
          },
          "metadata": {},
          "execution_count": 27
        }
      ],
      "source": [
        "sorted(seq) == seq"
      ]
    },
    {
      "cell_type": "markdown",
      "metadata": {
        "id": "Xpc1wGP8h8fY"
      },
      "source": [
        "The `heapq` module provides a function called `merge` that implements this algorithm."
      ]
    },
    {
      "cell_type": "markdown",
      "metadata": {
        "id": "n9AVSQHdh8fZ"
      },
      "source": [
        "## Comparing sort algorithms\n",
        "\n",
        "NumPy provides implementations of three sorting algorithms, quicksort, mergesort, and heapsort.\n",
        "\n",
        "In theory that are all in `O(n log n)`.\n",
        "Let's see what that looks like when we plot runtime versus problem size.\n"
      ]
    },
    {
      "cell_type": "code",
      "execution_count": 28,
      "metadata": {
        "id": "bTB8Wkabh8fc",
        "outputId": "e5d84e7d-05c3-4260-9f59-b09fced1f0cb",
        "colab": {
          "base_uri": "https://localhost:8080/"
        }
      },
      "outputs": [
        {
          "output_type": "stream",
          "name": "stdout",
          "text": [
            "Downloaded timing.py\n"
          ]
        }
      ],
      "source": [
        "from os.path import basename, exists\n",
        "\n",
        "def download(url):\n",
        "    filename = basename(url)\n",
        "    if not exists(filename):\n",
        "        from urllib.request import urlretrieve\n",
        "        local, _ = urlretrieve(url, filename)\n",
        "        print('Downloaded ' + local)\n",
        "\n",
        "download('https://github.com/AllenDowney/DSIRP/raw/main/timing.py')"
      ]
    },
    {
      "cell_type": "code",
      "execution_count": 29,
      "metadata": {
        "id": "G6-aSmTHh8fj"
      },
      "outputs": [],
      "source": [
        "from timing import run_timing_test, plot_timing_test"
      ]
    },
    {
      "cell_type": "code",
      "execution_count": 30,
      "metadata": {
        "id": "jD4LVvEmh8fj",
        "outputId": "e2d67860-fd2c-431a-dca5-253dd72a7283",
        "colab": {
          "base_uri": "https://localhost:8080/",
          "height": 714
        }
      },
      "outputs": [
        {
          "output_type": "stream",
          "name": "stdout",
          "text": [
            "1024 0.00999999999999801\n",
            "2048 0.0\n",
            "4096 0.0\n",
            "8192 0.0\n",
            "16384 0.0\n",
            "32768 0.010000000000001563\n",
            "65536 0.0\n",
            "131072 0.00999999999999801\n",
            "262144 0.010000000000001563\n",
            "524288 0.03999999999999915\n",
            "1048576 0.07000000000000028\n",
            "2097152 0.14000000000000057\n",
            "4194304 0.27999999999999936\n",
            "8388608 0.5800000000000001\n",
            "16777216 1.1500000000000004\n"
          ]
        },
        {
          "output_type": "display_data",
          "data": {
            "text/plain": [
              "<Figure size 640x480 with 1 Axes>"
            ],
            "image/png": "[encoded data removed]"
          },
          "metadata": {}
        }
      ],
      "source": [
        "import numpy as np\n",
        "\n",
        "def test_quicksort(n):\n",
        "    xs = np.random.normal(size=n)\n",
        "    xs.sort(kind='quicksort')\n",
        "\n",
        "ns, ts = run_timing_test(test_quicksort)\n",
        "plot_timing_test(ns, ts, 'test_quicksort', exp=1)"
      ]
    },
    {
      "cell_type": "markdown",
      "metadata": {
        "id": "YT3EmLPph8fk"
      },
      "source": [
        "quicksort is hard to distinguish from linear, up to about 10 million elements."
      ]
    },
    {
      "cell_type": "code",
      "execution_count": 31,
      "metadata": {
        "id": "xOBJ9W8kh8fk",
        "outputId": "df65192f-5dc3-46d1-d30b-f7e73f24f81d",
        "colab": {
          "base_uri": "https://localhost:8080/",
          "height": 697
        }
      },
      "outputs": [
        {
          "output_type": "stream",
          "name": "stdout",
          "text": [
            "1024 0.00999999999999801\n",
            "2048 0.0\n",
            "4096 0.0\n",
            "8192 0.0\n",
            "16384 0.0\n",
            "32768 0.010000000000001563\n",
            "65536 0.010000000000001563\n",
            "131072 0.029999999999997584\n",
            "262144 0.05000000000000071\n",
            "524288 0.10000000000000142\n",
            "1048576 0.21999999999999886\n",
            "2097152 0.4599999999999973\n",
            "4194304 0.9500000000000028\n",
            "8388608 1.9800000000000004\n"
          ]
        },
        {
          "output_type": "display_data",
          "data": {
            "text/plain": [
              "<Figure size 640x480 with 1 Axes>"
            ],
            "image/png": "[encoded data removed]"
          },
          "metadata": {}
        }
      ],
      "source": [
        "def test_mergesort(n):\n",
        "    xs = np.random.normal(size=n)\n",
        "    xs.sort(kind='mergesort')\n",
        "\n",
        "ns, ts = run_timing_test(test_mergesort)\n",
        "plot_timing_test(ns, ts, 'test_mergesort', exp=1)"
      ]
    },
    {
      "cell_type": "markdown",
      "metadata": {
        "id": "SQJ_2pkyh8fk"
      },
      "source": [
        "Merge sort is similar, maybe with some upward curvature."
      ]
    },
    {
      "cell_type": "code",
      "execution_count": 32,
      "metadata": {
        "id": "9qkjCDWbh8fk",
        "outputId": "d5bd9950-ba88-4ecc-bdb0-27fb5e63f821",
        "colab": {
          "base_uri": "https://localhost:8080/",
          "height": 714
        }
      },
      "outputs": [
        {
          "output_type": "stream",
          "name": "stdout",
          "text": [
            "1024 0.0\n",
            "2048 0.0\n",
            "4096 0.0\n",
            "8192 0.0\n",
            "16384 0.0\n",
            "32768 0.010000000000001563\n",
            "65536 0.0\n",
            "131072 0.00999999999999801\n",
            "262144 0.010000000000001563\n",
            "524288 0.03999999999999915\n",
            "1048576 0.060000000000002274\n",
            "2097152 0.129999999999999\n",
            "4194304 0.259999999999998\n",
            "8388608 0.5599999999999987\n",
            "16777216 1.1300000000000026\n"
          ]
        },
        {
          "output_type": "display_data",
          "data": {
            "text/plain": [
              "<Figure size 640x480 with 1 Axes>"
            ],
            "image/png": "[encoded data removed]"
          },
          "metadata": {}
        }
      ],
      "source": [
        "def test_heapsort(n):\n",
        "    xs = np.random.normal(size=n)\n",
        "    xs.sort(kind='heapsort')\n",
        "\n",
        "ns, ts = run_timing_test(test_quicksort)\n",
        "plot_timing_test(ns, ts, 'test_heapsort', exp=1)"
      ]
    },
    {
      "cell_type": "markdown",
      "metadata": {
        "id": "upYYLktah8fl"
      },
      "source": [
        "The three methods are effectively linear over this range of problem sizes.\n",
        "\n",
        "And their run times are about the same, with quicksort being the fastest, despite being the one with the worst asympotic performance in the worst case.\n",
        "\n",
        "Now let's see how our implementation of merge sort does."
      ]
    },
    {
      "cell_type": "code",
      "execution_count": 33,
      "metadata": {
        "id": "fU3yB1peh8fl",
        "outputId": "b28a0f53-cb8e-40df-a772-5db7cedb724f",
        "colab": {
          "base_uri": "https://localhost:8080/",
          "height": 610
        }
      },
      "outputs": [
        {
          "output_type": "stream",
          "name": "stdout",
          "text": [
            "1024 0.0\n",
            "2048 0.019999999999999574\n",
            "4096 0.030000000000001137\n",
            "8192 0.07000000000000028\n",
            "16384 0.16000000000000014\n",
            "32768 0.23000000000000043\n",
            "65536 0.379999999999999\n",
            "131072 0.7399999999999984\n",
            "262144 1.6200000000000045\n"
          ]
        },
        {
          "output_type": "display_data",
          "data": {
            "text/plain": [
              "<Figure size 640x480 with 1 Axes>"
            ],
            "image/png": "[encoded data removed]"
          },
          "metadata": {}
        }
      ],
      "source": [
        "def test_merge_sort_rec(n):\n",
        "    xs = np.random.normal(size=n)\n",
        "    spectrum = merge_sort_rec(xs)\n",
        "\n",
        "ns, ts = run_timing_test(test_merge_sort_rec)\n",
        "plot_timing_test(ns, ts, 'test_merge_sort_rec', exp=1)"
      ]
    },
    {
      "cell_type": "markdown",
      "metadata": {
        "id": "NQlpz5WKh8fl"
      },
      "source": [
        "If things go according to plan, our implementation of merge sort should be close to linear, or a little steeper."
      ]
    },
    {
      "cell_type": "markdown",
      "metadata": {
        "id": "bcsaFaZOh8fm"
      },
      "source": [
        "*Data Structures and Information Retrieval in Python*\n",
        "\n",
        "Copyright 2021 Allen Downey\n",
        "\n",
        "License: [Creative Commons Attribution-NonCommercial-ShareAlike 4.0 International](https://creativecommons.org/licenses/by-nc-sa/4.0/)"
      ]
    }
  ],
  "metadata": {
    "anaconda-cloud": {},
    "celltoolbar": "Tags",
    "kernelspec": {
      "display_name": "Python 3 (ipykernel)",
      "language": "python",
      "name": "python3"
    },
    "language_info": {
      "codemirror_mode": {
        "name": "ipython",
        "version": 3
      },
      "file_extension": ".py",
      "mimetype": "text/x-python",
      "name": "python",
      "nbconvert_exporter": "python",
      "pygments_lexer": "ipython3",
      "version": "3.10.1"
    },
    "colab": {
      "provenance": []
    }
  },
  "nbformat": 4,
  "nbformat_minor": 0
}