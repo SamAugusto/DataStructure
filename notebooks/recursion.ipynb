{
  "cells": [
    {
      "cell_type": "markdown",
      "id": "af0fce85",
      "metadata": {
        "id": "af0fce85"
      },
      "source": [
        "# Recursion"
      ]
    },
    {
      "cell_type": "markdown",
      "id": "c91bcf8f",
      "metadata": {
        "id": "c91bcf8f"
      },
      "source": [
        "[Click here to run this chapter on Colab](https://colab.research.google.com/github/AllenDowney/DSIRP/blob/main/notebooks/recursion.ipynb)"
      ]
    },
    {
      "cell_type": "markdown",
      "id": "3c45976d",
      "metadata": {
        "id": "3c45976d"
      },
      "source": [
        "## Example 1\n",
        "\n",
        "Here's an example of recursion from [this section of Think Python](https://greenteapress.com/thinkpython2/html/thinkpython2006.html#sec62)."
      ]
    },
    {
      "cell_type": "code",
      "execution_count": 1,
      "id": "680f0927",
      "metadata": {
        "tags": [],
        "id": "680f0927"
      },
      "outputs": [],
      "source": [
        "def countdown(n):\n",
        "    if n == 0:\n",
        "        print('Blastoff!')\n",
        "    else:\n",
        "        print(n)\n",
        "        countdown(n-1)"
      ]
    },
    {
      "cell_type": "code",
      "execution_count": 2,
      "id": "ca1913c3",
      "metadata": {
        "tags": [],
        "colab": {
          "base_uri": "https://localhost:8080/"
        },
        "id": "ca1913c3",
        "outputId": "dc3fd811-420b-4e3e-9c1c-cb5f1981c74a"
      },
      "outputs": [
        {
          "output_type": "stream",
          "name": "stdout",
          "text": [
            "3\n",
            "2\n",
            "1\n",
            "Blastoff!\n"
          ]
        }
      ],
      "source": [
        "countdown(3)"
      ]
    },
    {
      "cell_type": "markdown",
      "id": "b8122d2f",
      "metadata": {
        "id": "b8122d2f"
      },
      "source": [
        "To understand recursion, it's important to have a good mental model of what happens when you run a function:\n",
        "\n",
        "1. Python interprets the arguments.\n",
        "\n",
        "2. It creates a stack frame, which will contain the parameters and local variables.\n",
        "\n",
        "3. Next it assigns the values of the arguments to the parameters.\n",
        "\n",
        "4. Python runs the body of the function.\n",
        "\n",
        "5. Then it recycles the stack frame.\n",
        "\n",
        "The runtime stack contains the stack frames of currently-running functions."
      ]
    },
    {
      "cell_type": "markdown",
      "id": "13be8c33",
      "metadata": {
        "id": "13be8c33"
      },
      "source": [
        "Here's a stack diagram that shows what happens when this `countdown` runs.\n",
        "\n",
        "<img src=\"https://greenteapress.com/thinkpython2/html/thinkpython2005.png\">"
      ]
    },
    {
      "cell_type": "markdown",
      "id": "d3656030",
      "metadata": {
        "id": "d3656030"
      },
      "source": [
        "**Exercise:** What happens if you run countdown with a negative number?  [See here for more info]()"
      ]
    },
    {
      "cell_type": "code",
      "execution_count": 3,
      "id": "926b7e09",
      "metadata": {
        "id": "926b7e09"
      },
      "outputs": [],
      "source": [
        "#Since there is no basecase the function calls will go run infinitely and will stop at arround 996 calls"
      ]
    },
    {
      "cell_type": "markdown",
      "id": "65453461",
      "metadata": {
        "id": "65453461"
      },
      "source": [
        "## Example 2\n",
        "\n",
        "Here's an example of recursion with a function that returns a value, from [this section of Think Python](https://greenteapress.com/thinkpython2/html/thinkpython2007.html#sec74)."
      ]
    },
    {
      "cell_type": "code",
      "execution_count": 4,
      "id": "05f2cbae",
      "metadata": {
        "tags": [],
        "id": "05f2cbae"
      },
      "outputs": [],
      "source": [
        "def factorial(n):\n",
        "    if n == 0:\n",
        "        print(n, 1)\n",
        "        return 1\n",
        "    else:\n",
        "        recurse = factorial(n-1)\n",
        "        result = n * recurse\n",
        "        print(n, recurse, result)\n",
        "        return result"
      ]
    },
    {
      "cell_type": "code",
      "execution_count": 5,
      "id": "4b28a55a",
      "metadata": {
        "tags": [],
        "colab": {
          "base_uri": "https://localhost:8080/"
        },
        "id": "4b28a55a",
        "outputId": "96b232fe-98da-4f1d-c776-9f0f738ec377"
      },
      "outputs": [
        {
          "output_type": "stream",
          "name": "stdout",
          "text": [
            "0 1\n",
            "1 1 1\n",
            "2 1 2\n",
            "3 2 6\n"
          ]
        },
        {
          "output_type": "execute_result",
          "data": {
            "text/plain": [
              "6"
            ]
          },
          "metadata": {},
          "execution_count": 5
        }
      ],
      "source": [
        "factorial(3)"
      ]
    },
    {
      "cell_type": "markdown",
      "id": "88e729ef",
      "metadata": {
        "id": "88e729ef"
      },
      "source": [
        "Here's the stack frame."
      ]
    },
    {
      "cell_type": "markdown",
      "id": "05dab401",
      "metadata": {
        "id": "05dab401"
      },
      "source": [
        "<img src=\"https://greenteapress.com/thinkpython2/html/thinkpython2007.png\">"
      ]
    },
    {
      "cell_type": "markdown",
      "id": "5501bd21",
      "metadata": {
        "id": "5501bd21"
      },
      "source": [
        "**Exercise:** Suppose you want to raise a number, `x`, to an integer power, `k`. An efficient way to do that is:\n",
        "\n",
        "* If `k` is even, raise `x` to `k/2` and square it.\n",
        "\n",
        "* If `k` is odd, raise `x` to `(k-1)/2`, square it, and multiply by `x` one more time.\n",
        "\n",
        "Write a recursive function that implements this algorithm."
      ]
    },
    {
      "cell_type": "code",
      "execution_count": 6,
      "id": "c4efae39",
      "metadata": {
        "id": "c4efae39"
      },
      "outputs": [],
      "source": [
        "def power(x, k):\n",
        "  if k ==0:\n",
        "    return 1\n",
        "  elif k%2 == 0:\n",
        "    return power(x,k//2)*power(x,k//2)\n",
        "  else:\n",
        "    return power(x,(k-1)//2)*power(x,(k-1)//2)*x\n",
        ""
      ]
    },
    {
      "cell_type": "code",
      "execution_count": 7,
      "id": "305c176f",
      "metadata": {
        "colab": {
          "base_uri": "https://localhost:8080/"
        },
        "id": "305c176f",
        "outputId": "52f755e3-c834-4207-d842-e2ce33fb4251"
      },
      "outputs": [
        {
          "output_type": "stream",
          "name": "stdout",
          "text": [
            "4\n"
          ]
        }
      ],
      "source": [
        "print(power(2,2))"
      ]
    },
    {
      "cell_type": "code",
      "execution_count": 8,
      "id": "1d537011",
      "metadata": {
        "colab": {
          "base_uri": "https://localhost:8080/"
        },
        "id": "1d537011",
        "outputId": "7a45299d-8934-4008-f451-b88b04353299"
      },
      "outputs": [
        {
          "output_type": "stream",
          "name": "stdout",
          "text": [
            "64\n"
          ]
        }
      ],
      "source": [
        "print(power(4,3))"
      ]
    },
    {
      "cell_type": "markdown",
      "id": "52f8ff4a",
      "metadata": {
        "id": "52f8ff4a"
      },
      "source": [
        "What is the order of growth of this algorithm?\n",
        "To keep it simple, suppose `k` is a power of two.\n",
        "How many times do we have to divide `k` by two before we get to 1?\n",
        "\n",
        "Thinking about it in reverse, starting with 1, how many times do we have to double 1 before we get to `k`? In math notation, the question is\n",
        "\n",
        "$$2^y = k$$\n",
        "\n",
        "where `y` is the unknown number of steps. Taking the log of both sides, base 2:\n",
        "\n",
        "$$y = log_2 k$$\n",
        "\n",
        "In terms of order of growth, this algorithm is in `O(log k)`. We don't have to specify the base of the logarithm, because a log in one base is a constant multiple of a log in any other base."
      ]
    },
    {
      "cell_type": "markdown",
      "id": "2b004c03",
      "metadata": {
        "id": "2b004c03"
      },
      "source": [
        "## Example 3\n",
        "\n",
        "Here's another example of recursion from [this section of Think Python](https://greenteapress.com/thinkpython2/html/thinkpython2007.html#sec76)."
      ]
    },
    {
      "cell_type": "code",
      "execution_count": 9,
      "id": "6e0b79eb",
      "metadata": {
        "tags": [],
        "id": "6e0b79eb"
      },
      "outputs": [],
      "source": [
        "def fibonacci(n):\n",
        "    print(n)\n",
        "    if n == 0:\n",
        "        return 0\n",
        "    elif  n == 1:\n",
        "        return 1\n",
        "    else:\n",
        "        return fibonacci(n-1) + fibonacci(n-2)"
      ]
    },
    {
      "cell_type": "code",
      "execution_count": 10,
      "id": "d049364c",
      "metadata": {
        "tags": [],
        "colab": {
          "base_uri": "https://localhost:8080/"
        },
        "id": "d049364c",
        "outputId": "4f697c69-c8ae-418b-ca61-59de5b5a7112"
      },
      "outputs": [
        {
          "output_type": "stream",
          "name": "stdout",
          "text": [
            "4\n",
            "3\n",
            "2\n",
            "1\n",
            "0\n",
            "1\n",
            "2\n",
            "1\n",
            "0\n"
          ]
        },
        {
          "output_type": "execute_result",
          "data": {
            "text/plain": [
              "3"
            ]
          },
          "metadata": {},
          "execution_count": 10
        }
      ],
      "source": [
        "fibonacci(4)"
      ]
    },
    {
      "cell_type": "markdown",
      "id": "029884a3",
      "metadata": {
        "id": "029884a3"
      },
      "source": [
        "Here's a stack graph that shows all stack frames created during this function call.\n",
        "\n",
        "Note that these frames are not all on the stack at the same time."
      ]
    },
    {
      "cell_type": "markdown",
      "id": "fbb61c50",
      "metadata": {
        "id": "fbb61c50"
      },
      "source": [
        "<img src=\"https://greenteapress.com/thinkpython2/html/thinkpython2017.png\">"
      ]
    },
    {
      "cell_type": "markdown",
      "id": "365ece74",
      "metadata": {
        "id": "365ece74"
      },
      "source": [
        "Here's the [section from Think Python](https://greenteapress.com/thinkpython2/html/thinkpython2012.html#sec135) that shows how we can make fibonacci faster by \"memoizing\" it. That's not a typo; the word is really [memoize](https://en.wikipedia.org/wiki/Memoization)."
      ]
    },
    {
      "cell_type": "code",
      "execution_count": 11,
      "id": "200c66d3",
      "metadata": {
        "tags": [],
        "id": "200c66d3"
      },
      "outputs": [],
      "source": [
        "known = {0:0, 1:1}\n",
        "\n",
        "def fibonacci_memo(n):\n",
        "    if n in known:\n",
        "        return known[n]\n",
        "\n",
        "    print(n)\n",
        "    res = fibonacci_memo(n-1) + fibonacci_memo(n-2)\n",
        "    known[n] = res\n",
        "    return res"
      ]
    },
    {
      "cell_type": "code",
      "execution_count": 12,
      "id": "da2c92b5",
      "metadata": {
        "tags": [],
        "colab": {
          "base_uri": "https://localhost:8080/"
        },
        "id": "da2c92b5",
        "outputId": "4f031fd0-a696-4643-ead9-a4f345beccba"
      },
      "outputs": [
        {
          "output_type": "stream",
          "name": "stdout",
          "text": [
            "4\n",
            "3\n",
            "2\n"
          ]
        },
        {
          "output_type": "execute_result",
          "data": {
            "text/plain": [
              "3"
            ]
          },
          "metadata": {},
          "execution_count": 12
        }
      ],
      "source": [
        "fibonacci_memo(4)"
      ]
    },
    {
      "cell_type": "code",
      "source": [
        "x = {0:3, 1:2}\n",
        "x[0]"
      ],
      "metadata": {
        "colab": {
          "base_uri": "https://localhost:8080/"
        },
        "id": "3tG8lWSlSPmW",
        "outputId": "6c6a780f-edc2-4db3-e835-775e1aa1c2a9"
      },
      "id": "3tG8lWSlSPmW",
      "execution_count": 13,
      "outputs": [
        {
          "output_type": "execute_result",
          "data": {
            "text/plain": [
              "3"
            ]
          },
          "metadata": {},
          "execution_count": 13
        }
      ]
    },
    {
      "cell_type": "markdown",
      "id": "af40054a",
      "metadata": {
        "id": "af40054a"
      },
      "source": [
        "**Exercise:** The [Ackermann function](http://en.wikipedia.org/wiki/Ackermann_function), $A(m, n)$, is defined:\n",
        "\n",
        "$$\n",
        "A(m, n) = \\begin{cases}\n",
        "              n+1 & \\mbox{if } m = 0 \\\\\n",
        "        A(m-1, 1) & \\mbox{if } m > 0 \\mbox{ and } n = 0 \\\\\n",
        "A(m-1, A(m, n-1)) & \\mbox{if } m > 0 \\mbox{ and } n > 0.\n",
        "\\end{cases}\n",
        "$$\n",
        "\n",
        "Write a function named `ackermann` that evaluates the Ackermann function.\n",
        "Use your function to evaluate `ackermann(3, 4)`, which should be 125.\n",
        "\n",
        "What happens for larger values of `m` and `n`?\n",
        "\n",
        "If you memoize it, can you evaluate the function with bigger values?"
      ]
    },
    {
      "cell_type": "code",
      "execution_count": 14,
      "id": "cb5278e3",
      "metadata": {
        "id": "cb5278e3"
      },
      "outputs": [],
      "source": [
        "memo = {}\n",
        "def ackermann(m,n):\n",
        "  if (m,n) in memo:\n",
        "    return memo[(m,n)]\n",
        "  elif m == 0:\n",
        "     res = n+1\n",
        "  elif m>0 and n == 0:\n",
        "     res = ackermann(m-1,1)\n",
        "  else:\n",
        "     res = ackermann(m-1,ackermann(m,n-1))\n",
        "  memo[(m,n)] = res\n",
        "  return res"
      ]
    },
    {
      "cell_type": "code",
      "execution_count": 18,
      "id": "f9b3e242",
      "metadata": {
        "colab": {
          "base_uri": "https://localhost:8080/"
        },
        "id": "f9b3e242",
        "outputId": "90ed1060-3096-42e1-ff5c-b793f03ebad8"
      },
      "outputs": [
        {
          "output_type": "execute_result",
          "data": {
            "text/plain": [
              "2045"
            ]
          },
          "metadata": {},
          "execution_count": 18
        }
      ],
      "source": [
        "ackermann(3 , 8)"
      ]
    },
    {
      "cell_type": "markdown",
      "id": "fd5c67a1",
      "metadata": {
        "id": "fd5c67a1"
      },
      "source": [
        "## String functions\n",
        "\n",
        "Many things we do iteratively can be expressed recursively as well."
      ]
    },
    {
      "cell_type": "code",
      "execution_count": 19,
      "id": "ceea0cb3",
      "metadata": {
        "tags": [],
        "id": "ceea0cb3"
      },
      "outputs": [],
      "source": [
        "def reverse(s):\n",
        "    if len(s) < 2:\n",
        "        return s\n",
        "\n",
        "    first, rest = s[0], s[1:]\n",
        "    return reverse(rest) + first"
      ]
    },
    {
      "cell_type": "code",
      "execution_count": 20,
      "id": "7f033242",
      "metadata": {
        "tags": [],
        "colab": {
          "base_uri": "https://localhost:8080/",
          "height": 36
        },
        "id": "7f033242",
        "outputId": "7e929439-4927-42c4-fde5-85e3defd63bb"
      },
      "outputs": [
        {
          "output_type": "execute_result",
          "data": {
            "text/plain": [
              "'esrever'"
            ],
            "application/vnd.google.colaboratory.intrinsic+json": {
              "type": "string"
            }
          },
          "metadata": {},
          "execution_count": 20
        }
      ],
      "source": [
        "reverse('reverse')"
      ]
    },
    {
      "cell_type": "markdown",
      "id": "2b69c809",
      "metadata": {
        "id": "2b69c809"
      },
      "source": [
        "For sequences and mapping types, there's usually no advantage of the recursive version. But for trees and graphs, a recursive implementation can be clearer, more concise, and more demonstrably correct."
      ]
    },
    {
      "cell_type": "markdown",
      "id": "39577761",
      "metadata": {
        "id": "39577761"
      },
      "source": [
        "**Exercise:** Here's an exercise from, of all places, [StackOverflow](https://stackoverflow.com/questions/28977737/writing-a-recursive-string-function):\n",
        "\n",
        "> Write a recursive, string-valued function, `replace`, that accepts a string and returns a new string consisting of the original string with each blank replaced with an asterisk (*)\n",
        ">\n",
        "> Replacing the blanks in a string involves:\n",
        ">\n",
        "> 1. Nothing if the string is empty\n",
        ">\n",
        "> 2. Otherwise: If the first character is not a blank, simply concatenate it with the result of replacing the rest of the string\n",
        ">\n",
        "> 3. If the first character IS a blank, concatenate an * with the result of replacing the rest of the string\n"
      ]
    },
    {
      "cell_type": "code",
      "execution_count": 21,
      "id": "cdfe44c6",
      "metadata": {
        "id": "cdfe44c6"
      },
      "outputs": [],
      "source": [
        "def replace(string):\n",
        "  if len(string) == 0:\n",
        "    return ''\n",
        "  elif string[0] == ' ':\n",
        "    return '*' + replace(string[1:])\n",
        "  elif string[0] != ' ':\n",
        "    return string[0] + replace(string[1:])"
      ]
    },
    {
      "cell_type": "code",
      "execution_count": 22,
      "id": "f8e5fdbe",
      "metadata": {
        "colab": {
          "base_uri": "https://localhost:8080/",
          "height": 36
        },
        "id": "f8e5fdbe",
        "outputId": "e360fd22-ebef-4b70-b3c8-6dde589db215"
      },
      "outputs": [
        {
          "output_type": "execute_result",
          "data": {
            "text/plain": [
              "'*hel*l*o'"
            ],
            "application/vnd.google.colaboratory.intrinsic+json": {
              "type": "string"
            }
          },
          "metadata": {},
          "execution_count": 22
        }
      ],
      "source": [
        "replace(' hel l o')"
      ]
    },
    {
      "cell_type": "markdown",
      "id": "97ece24e",
      "metadata": {
        "id": "97ece24e"
      },
      "source": [
        "## Exercises"
      ]
    },
    {
      "cell_type": "markdown",
      "id": "8a0380a7",
      "metadata": {
        "id": "8a0380a7"
      },
      "source": [
        "This one is from [Structure and Interpretation of Computer Programs](https://mitpress.mit.edu/sites/default/files/sicp/index.html):\n",
        "\n",
        "> The greatest common divisor (GCD) of two integers `a` and `b` is defined to be the largest integer that divides both `a` and `b` with no remainder. For example, the GCD of 16 and 28 is 4. [...] One way to find the GCD of two integers is to factor them and search for common factors, but there is a [famous algorithm](https://en.wikipedia.org/wiki/Euclidean_algorithm) that is much more efficient.\n",
        ">\n",
        "> The idea of the algorithm is based on the observation that, if `r` is the remainder when `a` is divided by `b`, then the common divisors of `a` and `b` are precisely the same as the common divisors of `b` and `r`.\n",
        ">\n",
        "> Thus, we can use the equation\n",
        ">\n",
        "> $$GCD(a, b) = GCD(b, r)$$\n",
        ">\n",
        ">to successively reduce the problem of computing a GCD to the problem of computing the GCD of smaller and smaller pairs of integers.\n",
        ">\n",
        "> It is possible to show that starting with any two positive integers and performing repeated reductions will always eventually produce a pair where the second number is 0. Then the GCD is the other number in the pair.\n",
        "\n",
        "Write a function called `gcd` that takes two integers and uses this algorithm to compute their greatest common divisor."
      ]
    },
    {
      "cell_type": "code",
      "execution_count": 23,
      "id": "51bce3ad",
      "metadata": {
        "id": "51bce3ad"
      },
      "outputs": [],
      "source": [
        " def gcd(a,b):\n",
        "  r= a%b\n",
        "  if r == 0:\n",
        "    return b\n",
        "  else:\n",
        "    return gcd(b,r)"
      ]
    },
    {
      "cell_type": "code",
      "execution_count": 24,
      "id": "e00ef245",
      "metadata": {
        "colab": {
          "base_uri": "https://localhost:8080/"
        },
        "id": "e00ef245",
        "outputId": "a15d7eda-3773-4055-8a93-712a8edff30b"
      },
      "outputs": [
        {
          "output_type": "execute_result",
          "data": {
            "text/plain": [
              "4"
            ]
          },
          "metadata": {},
          "execution_count": 24
        }
      ],
      "source": [
        "gcd(28,16)"
      ]
    },
    {
      "cell_type": "markdown",
      "id": "9f61ddfc",
      "metadata": {
        "id": "9f61ddfc"
      },
      "source": [
        "This one is from [Structure and Interpretation of Computer Programs](https://mitpress.mit.edu/sites/default/files/sicp/index.html):\n",
        "\n",
        "> How many different ways can we make change of \\$1.00, given half-dollars, quarters, dimes, nickels, and pennies? [...]\n",
        ">\n",
        ">[...] Suppose we think of the types of coins available as arranged in some order. [..] observe that the ways to make change can be divided into two groups: those that do not use any of the first kind of coin, and those that do. Therefore, the total number of ways to make change for some amount is equal to the number of ways to make change for the amount without using any of the first kind of coin, plus the number of ways to make change assuming that we do use the first kind of coin.\n",
        "\n",
        "Write a function that takes as parameters an amount of money in cents and a sequence of coin denominations. It should return the number of combinations of coins that add up to the given amount.\n",
        "\n",
        "The result for one dollar (`100` cents) with coins of denominations `(50, 25, 10, 5, 1)` should be `292`.\n",
        "\n",
        "You might have to give some thought to the base cases."
      ]
    },
    {
      "cell_type": "code",
      "execution_count": 5,
      "id": "62c10987",
      "metadata": {
        "id": "62c10987"
      },
      "outputs": [],
      "source": [
        "def change(amount, coins):\n",
        "  if amount == 0:\n",
        "    return 1\n",
        "  elif amount < 0:\n",
        "    return 0\n",
        "  elif len(coins) == 0:\n",
        "    return 0\n",
        "  else:\n",
        "    return change(amount -  coins[0], coins) + change( amount, coins[1:])\n",
        ""
      ]
    },
    {
      "cell_type": "code",
      "execution_count": 6,
      "id": "4b89658b",
      "metadata": {
        "colab": {
          "base_uri": "https://localhost:8080/"
        },
        "id": "4b89658b",
        "outputId": "e9f43e55-0f40-49de-805e-3c95237cdbe6"
      },
      "outputs": [
        {
          "output_type": "execute_result",
          "data": {
            "text/plain": [
              "292"
            ]
          },
          "metadata": {},
          "execution_count": 6
        }
      ],
      "source": [
        "change(100, (50, 25, 10, 5, 1))"
      ]
    },
    {
      "cell_type": "markdown",
      "id": "0596803c",
      "metadata": {
        "id": "0596803c"
      },
      "source": [
        "**Exercise:** Here's one of my favorite Car Talk Puzzlers (http://www.cartalk.com/content/puzzlers):\n",
        "\n",
        ">What is the longest English word, that remains a valid English word, as you remove its letters one at a time?\n",
        ">\n",
        ">Now, letters can be removed from either end, or the middle, but you can’t rearrange any of the letters. Every time you drop a letter, you wind up with another English word. If you do that, you’re eventually going to wind up with one letter and that too is going to be an English word—one that’s found in the dictionary. I want to know what’s the longest word and how many letters does it have?\n",
        ">\n",
        ">I’m going to give you a little modest example: Sprite. Ok? You start off with sprite, you take a letter off, one from the interior of the word, take the r away, and we’re left with the word spite, then we take the e off the end, we’re left with spit, we take the s off, we’re left with pit, it, and I.\n",
        "\n",
        "Write a program to find all words that can be reduced in this way, and then find the longest one.\n",
        "\n",
        "This exercise is a little more challenging than most, so here are some suggestions:\n",
        "\n",
        "* You might want to write a function that takes a word and computes a list of all the words that can be formed by removing one letter. These are the “children” of the word.\n",
        "    \n",
        "* Recursively, a word is reducible if any of its children are reducible. As base cases, you can consider the single letter words “I”, “a” to be reducible.\n",
        "    \n",
        "* To improve the performance of your program, you might want to memoize the words that are known to be reducible."
      ]
    },
    {
      "cell_type": "code",
      "execution_count": 7,
      "id": "2a6a1f2c",
      "metadata": {
        "colab": {
          "base_uri": "https://localhost:8080/"
        },
        "id": "2a6a1f2c",
        "outputId": "f1781ef3-d9b4-4a3a-ac1b-414db2ec0934"
      },
      "outputs": [
        {
          "output_type": "stream",
          "name": "stdout",
          "text": [
            "Downloaded american-english\n"
          ]
        }
      ],
      "source": [
        "from os.path import basename, exists\n",
        "\n",
        "def download(url):\n",
        "    filename = basename(url)\n",
        "    if not exists(filename):\n",
        "        from urllib.request import urlretrieve\n",
        "        local, _ = urlretrieve(url, filename)\n",
        "        print('Downloaded ' + local)\n",
        "\n",
        "download('https://github.com/AllenDowney/DSIRP/raw/main/american-english')"
      ]
    },
    {
      "cell_type": "code",
      "execution_count": 8,
      "id": "b1abe9e3",
      "metadata": {
        "id": "b1abe9e3"
      },
      "outputs": [],
      "source": [
        "def read_words(filename):\n",
        "    \"\"\"Read lines from a file and split them into words.\"\"\"\n",
        "    res = set()\n",
        "    for line in open(filename):\n",
        "        for word in line.split():\n",
        "            res.add(word.strip().lower())\n",
        "    return res"
      ]
    },
    {
      "cell_type": "code",
      "execution_count": 9,
      "id": "07100ed0",
      "metadata": {
        "colab": {
          "base_uri": "https://localhost:8080/"
        },
        "id": "07100ed0",
        "outputId": "ebdeca47-6807-47d2-dbdd-b12bc0a43114"
      },
      "outputs": [
        {
          "output_type": "execute_result",
          "data": {
            "text/plain": [
              "100781"
            ]
          },
          "metadata": {},
          "execution_count": 9
        }
      ],
      "source": [
        "word_set = read_words('american-english')\n",
        "len(word_set)"
      ]
    },
    {
      "cell_type": "code",
      "execution_count": 11,
      "id": "1e8ecbff",
      "metadata": {
        "id": "1e8ecbff"
      },
      "outputs": [],
      "source": [
        "BASE_CASES = {'a', 'i'}\n",
        "memo = {}\n",
        "\n",
        "def is_reducible(word):\n",
        "    if word in memo:\n",
        "        return memo[word]\n",
        "    if word in BASE_CASES:\n",
        "        memo[word] = True\n",
        "        return True\n",
        "    for i in range(len(word)):\n",
        "        child = word[:i] + word[i+1:]\n",
        "        if child in word_set and is_reducible(child):\n",
        "            memo[word] = True\n",
        "            return True\n",
        "    memo[word] = False\n",
        "    return False\n"
      ]
    },
    {
      "cell_type": "code",
      "execution_count": 21,
      "id": "17ffca66",
      "metadata": {
        "colab": {
          "base_uri": "https://localhost:8080/"
        },
        "id": "17ffca66",
        "outputId": "c94e0e94-c066-4456-9763-1d919a3b391d"
      },
      "outputs": [
        {
          "output_type": "stream",
          "name": "stdout",
          "text": [
            "splitting's\n"
          ]
        }
      ],
      "source": [
        "red_words = {word for word in memo if memo[word]}\n",
        "red_words = sorted(red_words,key= lambda word:len(word), reverse = True)\n",
        "print(red_words[0])"
      ]
    },
    {
      "cell_type": "code",
      "execution_count": null,
      "id": "142591b4",
      "metadata": {
        "tags": [],
        "id": "142591b4"
      },
      "outputs": [],
      "source": [
        "# Recursion is super hard and I dont think I am ready for this yet So I will solve 1 recursion problem\n",
        "# a day untill I think I am ready"
      ]
    },
    {
      "cell_type": "code",
      "execution_count": 4,
      "id": "b0764433",
      "metadata": {
        "tags": [],
        "id": "b0764433"
      },
      "outputs": [],
      "source": [
        "#Write a recursive function sum_digits(n) that takes a non-negative integer n, and returns the sum of its digits.\n",
        "\n",
        "\n",
        "def sum_digits(n):\n",
        "  n =  str(n)\n",
        "  if len(n) == 1:\n",
        "    return int(n)\n",
        "  else:\n",
        "    return int(n[0]) + sum_digits(n[1:])\n",
        "def sum_digits(n):\n",
        "  if n == 0:\n",
        "    return 0\n",
        "  return n%10 + sum_digits(n//10)"
      ]
    },
    {
      "cell_type": "code",
      "execution_count": 3,
      "id": "af0a7034",
      "metadata": {
        "tags": [],
        "colab": {
          "base_uri": "https://localhost:8080/"
        },
        "id": "af0a7034",
        "outputId": "4106f034-ea0c-440b-cbda-9d949810fe53"
      },
      "outputs": [
        {
          "output_type": "execute_result",
          "data": {
            "text/plain": [
              "6"
            ]
          },
          "metadata": {},
          "execution_count": 3
        }
      ],
      "source": [
        "sum_digits(123)\n",
        ""
      ]
    },
    {
      "cell_type": "code",
      "execution_count": 12,
      "id": "aac76078",
      "metadata": {
        "tags": [],
        "id": "aac76078"
      },
      "outputs": [],
      "source": [
        "#Problem 2 Write a recursive function reverse_string(s) that takes a string s and returns the string reversed.\n",
        "string = 'hello'\n",
        "\n",
        "def reverse_string(string):\n",
        "  if string == '':\n",
        "    return ''\n",
        "  elif len(string) == 1:\n",
        "    return string\n",
        "  return string[-1]+ reverse_string(string[:-1])"
      ]
    },
    {
      "cell_type": "code",
      "execution_count": 13,
      "id": "1186d411",
      "metadata": {
        "colab": {
          "base_uri": "https://localhost:8080/",
          "height": 36
        },
        "id": "1186d411",
        "outputId": "396071f3-f7f9-4fb1-8128-bd93997be663"
      },
      "outputs": [
        {
          "output_type": "execute_result",
          "data": {
            "text/plain": [
              "'olleh'"
            ],
            "application/vnd.google.colaboratory.intrinsic+json": {
              "type": "string"
            }
          },
          "metadata": {},
          "execution_count": 13
        }
      ],
      "source": [
        "reverse_string('hello')\n"
      ]
    },
    {
      "cell_type": "code",
      "source": [
        "def count_zeros(n):\n",
        "  n = str(n)\n",
        "  if len(n) == 1:\n",
        "    if int(n[0]) == 0:\n",
        "      return 1\n",
        "    else:\n",
        "      return 0\n",
        "  elif int(n[0]) == 0:\n",
        "    return 1 + count_zeros(n[1:])\n",
        "  else:\n",
        "    return 0 + count_zeros(n[1:])"
      ],
      "metadata": {
        "id": "SJSCnUS2j1kO"
      },
      "id": "SJSCnUS2j1kO",
      "execution_count": 22,
      "outputs": []
    },
    {
      "cell_type": "code",
      "source": [
        "count_zeros(1050)"
      ],
      "metadata": {
        "id": "nnKFQjRKj1br",
        "outputId": "af4a35b8-9de6-4baf-af6b-0d30822da147",
        "colab": {
          "base_uri": "https://localhost:8080/"
        }
      },
      "id": "nnKFQjRKj1br",
      "execution_count": 23,
      "outputs": [
        {
          "output_type": "execute_result",
          "data": {
            "text/plain": [
              "2"
            ]
          },
          "metadata": {},
          "execution_count": 23
        }
      ]
    },
    {
      "cell_type": "markdown",
      "id": "28320e58",
      "metadata": {
        "id": "28320e58"
      },
      "source": [
        "*Data Structures and Information Retrieval in Python*\n",
        "\n",
        "Copyright 2021 Allen Downey\n",
        "\n",
        "License: [Creative Commons Attribution-NonCommercial-ShareAlike 4.0 International](https://creativecommons.org/licenses/by-nc-sa/4.0/)"
      ]
    }
  ],
  "metadata": {
    "celltoolbar": "Tags",
    "kernelspec": {
      "display_name": "Python 3 (ipykernel)",
      "language": "python",
      "name": "python3"
    },
    "language_info": {
      "codemirror_mode": {
        "name": "ipython",
        "version": 3
      },
      "file_extension": ".py",
      "mimetype": "text/x-python",
      "name": "python",
      "nbconvert_exporter": "python",
      "pygments_lexer": "ipython3",
      "version": "3.10.1"
    },
    "colab": {
      "provenance": []
    }
  },
  "nbformat": 4,
  "nbformat_minor": 5
}