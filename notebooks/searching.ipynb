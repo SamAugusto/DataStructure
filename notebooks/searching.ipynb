{
  "cells": [
    {
      "cell_type": "markdown",
      "id": "af0fce85",
      "metadata": {
        "id": "af0fce85"
      },
      "source": [
        "# Search"
      ]
    },
    {
      "cell_type": "markdown",
      "id": "c91bcf8f",
      "metadata": {
        "id": "c91bcf8f"
      },
      "source": [
        "[Click here to run this chapter on Colab](https://colab.research.google.com/github/AllenDowney/DSIRP/blob/main/notebooks/searching.ipynb)"
      ]
    },
    {
      "cell_type": "markdown",
      "id": "da096f4e",
      "metadata": {
        "id": "da096f4e"
      },
      "source": [
        "## Linear Search\n",
        "\n",
        "Suppose you have a list."
      ]
    },
    {
      "cell_type": "code",
      "execution_count": 2,
      "id": "794faac3",
      "metadata": {
        "id": "794faac3"
      },
      "outputs": [],
      "source": [
        "t = [5, 1, 2, 4, 2]"
      ]
    },
    {
      "cell_type": "markdown",
      "id": "acec78b5",
      "metadata": {
        "id": "acec78b5"
      },
      "source": [
        "And you want to know whether an element appears in the list. You can use the `in` operator, which returns `True` or `False`."
      ]
    },
    {
      "cell_type": "code",
      "execution_count": 3,
      "id": "5df60b7a",
      "metadata": {
        "colab": {
          "base_uri": "https://localhost:8080/"
        },
        "id": "5df60b7a",
        "outputId": "e590be52-982c-4a0a-cdfc-a4fddf09b0d8"
      },
      "outputs": [
        {
          "output_type": "execute_result",
          "data": {
            "text/plain": [
              "(True, False)"
            ]
          },
          "metadata": {},
          "execution_count": 3
        }
      ],
      "source": [
        "5 in t, 6 in t"
      ]
    },
    {
      "cell_type": "markdown",
      "id": "265e5e54",
      "metadata": {
        "id": "265e5e54"
      },
      "source": [
        "If you want to know where in the list it is, you can use `index`, which returns the index of the element if it appears."
      ]
    },
    {
      "cell_type": "code",
      "execution_count": 4,
      "id": "e8f9ed55",
      "metadata": {
        "colab": {
          "base_uri": "https://localhost:8080/"
        },
        "id": "e8f9ed55",
        "outputId": "702b799e-8aaf-4800-939d-378aadf1eee7"
      },
      "outputs": [
        {
          "output_type": "execute_result",
          "data": {
            "text/plain": [
              "2"
            ]
          },
          "metadata": {},
          "execution_count": 4
        }
      ],
      "source": [
        "t.index(2)"
      ]
    },
    {
      "cell_type": "markdown",
      "id": "30fd2826",
      "metadata": {
        "id": "30fd2826"
      },
      "source": [
        "Or raises a `ValueError` otherwise."
      ]
    },
    {
      "cell_type": "code",
      "execution_count": 5,
      "id": "2ff1a40f",
      "metadata": {
        "tags": [],
        "colab": {
          "base_uri": "https://localhost:8080/"
        },
        "id": "2ff1a40f",
        "outputId": "1652aa6c-23a6-4490-e4a0-092b92537f4e"
      },
      "outputs": [
        {
          "output_type": "stream",
          "name": "stdout",
          "text": [
            "6 is not in list\n"
          ]
        }
      ],
      "source": [
        "try:\n",
        "    t.index(6)\n",
        "except ValueError as e:\n",
        "    print(e)"
      ]
    },
    {
      "cell_type": "markdown",
      "id": "75d3ac2e",
      "metadata": {
        "id": "75d3ac2e"
      },
      "source": [
        "The following function does the same thing as `string.index`:"
      ]
    },
    {
      "cell_type": "code",
      "execution_count": 6,
      "id": "00053cad",
      "metadata": {
        "tags": [],
        "id": "00053cad"
      },
      "outputs": [],
      "source": [
        "def index(t, target):\n",
        "    for i, x in enumerate(t):\n",
        "        if x == target:\n",
        "            return i\n",
        "    raise ValueError(f'{target} is not in list')"
      ]
    },
    {
      "cell_type": "code",
      "execution_count": 7,
      "id": "9b85ea64",
      "metadata": {
        "tags": [],
        "colab": {
          "base_uri": "https://localhost:8080/"
        },
        "id": "9b85ea64",
        "outputId": "73b5ce15-c156-40e3-a791-999ae121f5ad"
      },
      "outputs": [
        {
          "output_type": "execute_result",
          "data": {
            "text/plain": [
              "2"
            ]
          },
          "metadata": {},
          "execution_count": 7
        }
      ],
      "source": [
        "index(t, 2)"
      ]
    },
    {
      "cell_type": "code",
      "execution_count": 8,
      "id": "bfd0c730",
      "metadata": {
        "tags": [],
        "colab": {
          "base_uri": "https://localhost:8080/"
        },
        "id": "bfd0c730",
        "outputId": "4f87af42-f6dd-40de-d2ca-998eeec7cd6e"
      },
      "outputs": [
        {
          "output_type": "stream",
          "name": "stdout",
          "text": [
            "6 is not in list\n"
          ]
        }
      ],
      "source": [
        "try:\n",
        "    index(t, 6)\n",
        "except ValueError as e:\n",
        "    print(e)"
      ]
    },
    {
      "cell_type": "markdown",
      "id": "3488b7b6",
      "metadata": {
        "id": "3488b7b6"
      },
      "source": [
        "The runtime of this kind of search is in `O(n)`, where `n` is the length of the list, because\n",
        "\n",
        "1. If the target is not in the list, you have to check every element in the list.\n",
        "\n",
        "2. If the target is in a random location, you have to check half the list on average.\n",
        "\n",
        "As an exception, if you know that the target is within the first `k` elements, for a value of `k` that does not depend on `n`, you can consider this search `O(1)`."
      ]
    },
    {
      "cell_type": "markdown",
      "id": "3253f9ca",
      "metadata": {
        "id": "3253f9ca"
      },
      "source": [
        "## Bisection\n",
        "\n",
        "If we know that the elements of the list are in order, we can do better.\n",
        "\n",
        "The `bisect` module provides an implementation of a \"bisection search\", which works by\n",
        "\n",
        "1. Checking the element in the middle of the list. If it's the target, we're done.\n",
        "\n",
        "2. If the middle element is larger than the target, we search the left half.\n",
        "\n",
        "3. If the middle element is smaller than the target, we search the right half.\n",
        "\n",
        "[Here is the documentation of the bisect modle](https://docs.python.org/3/library/bisect.html).\n",
        "\n",
        "To test it, we'll start with a sorted list."
      ]
    },
    {
      "cell_type": "code",
      "execution_count": 9,
      "id": "8cabe7db",
      "metadata": {
        "colab": {
          "base_uri": "https://localhost:8080/"
        },
        "id": "8cabe7db",
        "outputId": "b18b4b87-67e4-40db-ac18-c4fe5760668e"
      },
      "outputs": [
        {
          "output_type": "execute_result",
          "data": {
            "text/plain": [
              "[1, 2, 2, 4, 5]"
            ]
          },
          "metadata": {},
          "execution_count": 9
        }
      ],
      "source": [
        "t.sort()\n",
        "t"
      ]
    },
    {
      "cell_type": "markdown",
      "id": "393ab1d6",
      "metadata": {
        "id": "393ab1d6"
      },
      "source": [
        "`bisect_left` is similar to `index`"
      ]
    },
    {
      "cell_type": "code",
      "execution_count": 15,
      "id": "1beddca9",
      "metadata": {
        "tags": [],
        "colab": {
          "base_uri": "https://localhost:8080/"
        },
        "id": "1beddca9",
        "outputId": "ddca4095-411a-49b7-cdf0-15e4ee3ce5e5"
      },
      "outputs": [
        {
          "output_type": "execute_result",
          "data": {
            "text/plain": [
              "(0, 1, 3, 4)"
            ]
          },
          "metadata": {},
          "execution_count": 15
        }
      ],
      "source": [
        "from bisect import bisect_left\n",
        "\n",
        "bisect_left(t, 1), bisect_left(t, 2), bisect_left(t, 4), bisect_left(t, 5)"
      ]
    },
    {
      "cell_type": "markdown",
      "id": "b3753602",
      "metadata": {
        "id": "b3753602"
      },
      "source": [
        "But with elements that are not in the list, it returns their insertion point, that is, the place where you would put the target to keep the list sorted."
      ]
    },
    {
      "cell_type": "code",
      "execution_count": 11,
      "id": "339127a0",
      "metadata": {
        "tags": [],
        "colab": {
          "base_uri": "https://localhost:8080/"
        },
        "id": "339127a0",
        "outputId": "8c043f9f-b7c3-4681-d9da-5929ad4182a7"
      },
      "outputs": [
        {
          "output_type": "execute_result",
          "data": {
            "text/plain": [
              "5"
            ]
          },
          "metadata": {},
          "execution_count": 11
        }
      ],
      "source": [
        "bisect_left(t, 6)"
      ]
    },
    {
      "cell_type": "markdown",
      "id": "a48971bd",
      "metadata": {
        "id": "a48971bd"
      },
      "source": [
        "We can use `bisect_left` to implement `index`, like this:"
      ]
    },
    {
      "cell_type": "code",
      "execution_count": 12,
      "id": "ff88efe7",
      "metadata": {
        "id": "ff88efe7"
      },
      "outputs": [],
      "source": [
        "from bisect import bisect_left\n",
        "\n",
        "def index_bisect(a, x):\n",
        "    \"\"\"Locate the leftmost value exactly equal to x\"\"\"\n",
        "    i = bisect_left(a, x)\n",
        "    if i != len(a) and a[i] == x:\n",
        "        return i\n",
        "    raise ValueError(f'{x} not in list')"
      ]
    },
    {
      "cell_type": "code",
      "execution_count": 13,
      "id": "81be3390",
      "metadata": {
        "colab": {
          "base_uri": "https://localhost:8080/"
        },
        "id": "81be3390",
        "outputId": "48875b6f-2d7f-409d-812b-ac845eebe866"
      },
      "outputs": [
        {
          "output_type": "execute_result",
          "data": {
            "text/plain": [
              "(0, 1, 3, 4)"
            ]
          },
          "metadata": {},
          "execution_count": 13
        }
      ],
      "source": [
        "index_bisect(t, 1), index_bisect(t, 2), index_bisect(t, 4), index_bisect(t, 5)"
      ]
    },
    {
      "cell_type": "code",
      "execution_count": 14,
      "id": "906b0689",
      "metadata": {
        "colab": {
          "base_uri": "https://localhost:8080/"
        },
        "id": "906b0689",
        "outputId": "019016fe-3ab5-4e40-a92a-cc4db86184bb"
      },
      "outputs": [
        {
          "output_type": "stream",
          "name": "stdout",
          "text": [
            "6 not in list\n"
          ]
        }
      ],
      "source": [
        "try:\n",
        "    index_bisect(t, 6)\n",
        "except ValueError as e:\n",
        "    print(e)"
      ]
    },
    {
      "cell_type": "markdown",
      "id": "803a5433",
      "metadata": {
        "id": "803a5433"
      },
      "source": [
        "**Exercise:** Write your own version of `bisect_left`. You can do it iteratively or recursively."
      ]
    },
    {
      "cell_type": "code",
      "execution_count": 1,
      "id": "4b8a49e2",
      "metadata": {
        "colab": {
          "base_uri": "https://localhost:8080/"
        },
        "id": "4b8a49e2",
        "outputId": "1a13d2ed-4c09-4fee-8a6e-1f1072b453f9"
      },
      "outputs": [
        {
          "output_type": "stream",
          "name": "stdout",
          "text": [
            "Target not found\n"
          ]
        }
      ],
      "source": [
        "def bisect_left_recursive(arr, target, lo=0, hi=None):\n",
        "    if hi is None:\n",
        "        hi = len(arr)\n",
        "    if lo >= hi:\n",
        "        return lo\n",
        "\n",
        "    mid = (lo + hi) // 2\n",
        "    if arr[mid] < target:\n",
        "        return bisect_left_recursive(arr, target, mid + 1, hi)\n",
        "    else:\n",
        "        return bisect_left_recursive(arr, target, lo, mid)\n",
        "\n"
      ]
    },
    {
      "cell_type": "code",
      "source": [
        "def bisect_left_iterative(arr, target):\n",
        "    lo, hi = 0, len(arr)\n",
        "    while lo < hi:\n",
        "        mid = (lo + hi) // 2\n",
        "        if arr[mid] < target:\n",
        "            lo = mid + 1\n",
        "        else:\n",
        "            hi = mid\n",
        "    return lo\n"
      ],
      "metadata": {
        "id": "Po-56hZMKAIT"
      },
      "id": "Po-56hZMKAIT",
      "execution_count": null,
      "outputs": []
    },
    {
      "cell_type": "markdown",
      "id": "dcc155b6",
      "metadata": {
        "id": "dcc155b6"
      },
      "source": [
        "Each time through the loop, we cut the search region in half, so if we start with `n` elements, we have `n/2` during the next loop, `n/4` during the second loop, and so on. When we get to 1 element, we're done.\n",
        "\n",
        "[See this animation](https://blog.penjee.com/binary-vs-linear-search-animated-gifs/)\n",
        "\n",
        "So how many steps does that take? Thinking about it in reverse, starting with 1, how many times do we have to double it before we get to `n`? In math notation, the question is\n",
        "\n",
        "$$2^x = n$$\n",
        "\n",
        "Where `x` is the unknown number of steps. Taking the log of both sides, base 2:\n",
        "\n",
        "$$x = log_2 n$$\n",
        "\n",
        "In terms of order of growth, bisection search is in `O(log n)`. Notice that we don't bother to specify the base of the logarithm, because a log in one base is a constant multiple of a log in any other base."
      ]
    },
    {
      "cell_type": "markdown",
      "id": "9d7801bc",
      "metadata": {
        "id": "9d7801bc"
      },
      "source": [
        "`bisect` also provides methods to insert elements while maintaining sorted order."
      ]
    },
    {
      "cell_type": "code",
      "execution_count": null,
      "id": "05bfdb77",
      "metadata": {
        "tags": [],
        "id": "05bfdb77"
      },
      "outputs": [],
      "source": [
        "from bisect import insort\n",
        "\n",
        "insort(t, 3)\n",
        "t"
      ]
    },
    {
      "cell_type": "markdown",
      "id": "0ad6d2fb",
      "metadata": {
        "id": "0ad6d2fb"
      },
      "source": [
        "However, as the documentation explains, \"Keep in mind that the O(log n) search is dominated by the slow O(n) insertion step.\""
      ]
    },
    {
      "cell_type": "markdown",
      "id": "f7b6da2b",
      "metadata": {
        "id": "f7b6da2b"
      },
      "source": [
        "## Binary search tree\n",
        "\n",
        "Using a sorted array to support log-time search is a reasonable choice if we don't have to add or remove elements very often.\n",
        "\n",
        "But if the number of add/remove operations is similar to the number of searches, the overall performance would be linear.\n",
        "\n",
        "We can solve that problem with a [binary search tree](https://en.wikipedia.org/wiki/Binary_search_tree).\n",
        "\n",
        "To implement a tree, I'll define a new class that represents a `Node`.\n",
        "Each node contains data and a reference to two \"children\" called `left` and `right`.\n",
        "(It's called a binary tree because every node has two children)."
      ]
    },
    {
      "cell_type": "code",
      "execution_count": 16,
      "id": "e84d724b",
      "metadata": {
        "id": "e84d724b"
      },
      "outputs": [],
      "source": [
        "class Node:\n",
        "    def __init__(self, data, left=None, right=None):\n",
        "        self.data = data\n",
        "        self.left = left\n",
        "        self.right = right\n",
        "\n",
        "    def __repr__(self):\n",
        "        return f'Node({self.data}, {repr(self.left)}, {repr(self.right)})'"
      ]
    },
    {
      "cell_type": "markdown",
      "id": "36fbd2bb",
      "metadata": {
        "id": "36fbd2bb"
      },
      "source": [
        "Here's how we can instantiate two nodes."
      ]
    },
    {
      "cell_type": "code",
      "execution_count": 17,
      "id": "6e7f2ba1",
      "metadata": {
        "tags": [],
        "id": "6e7f2ba1"
      },
      "outputs": [],
      "source": [
        "node3 = Node(3)\n",
        "node10 = Node(10)"
      ]
    },
    {
      "cell_type": "markdown",
      "id": "0c39a976",
      "metadata": {
        "id": "0c39a976"
      },
      "source": [
        "Because `Node` provides `__repr__`, we can display a node like this."
      ]
    },
    {
      "cell_type": "code",
      "execution_count": 18,
      "id": "c20d9129",
      "metadata": {
        "tags": [],
        "colab": {
          "base_uri": "https://localhost:8080/"
        },
        "id": "c20d9129",
        "outputId": "6a8f2262-f5e6-4357-b02c-449778e0b053"
      },
      "outputs": [
        {
          "output_type": "execute_result",
          "data": {
            "text/plain": [
              "Node(3, None, None)"
            ]
          },
          "metadata": {},
          "execution_count": 18
        }
      ],
      "source": [
        "node3"
      ]
    },
    {
      "cell_type": "markdown",
      "id": "cbee9588",
      "metadata": {
        "id": "cbee9588"
      },
      "source": [
        "Now we'll make a parent node that has the first two nodes as children."
      ]
    },
    {
      "cell_type": "code",
      "execution_count": 19,
      "id": "3ee9ef73",
      "metadata": {
        "tags": [],
        "colab": {
          "base_uri": "https://localhost:8080/"
        },
        "id": "3ee9ef73",
        "outputId": "24a6466b-5017-4c63-d014-6352de2672fc"
      },
      "outputs": [
        {
          "output_type": "execute_result",
          "data": {
            "text/plain": [
              "Node(8, Node(3, None, None), Node(10, None, None))"
            ]
          },
          "metadata": {},
          "execution_count": 19
        }
      ],
      "source": [
        "node8 = Node(8, node3, node10)\n",
        "node8"
      ]
    },
    {
      "cell_type": "markdown",
      "id": "83f6eede",
      "metadata": {
        "id": "83f6eede"
      },
      "source": [
        "I'll define another class to represent the tree.\n",
        "The only thing it contains is a reference to the top of the tree, which is confusingly called the root node."
      ]
    },
    {
      "cell_type": "code",
      "execution_count": 20,
      "id": "2d91e1ee",
      "metadata": {
        "id": "2d91e1ee"
      },
      "outputs": [],
      "source": [
        "class BSTree:\n",
        "    def __init__(self, root=None):\n",
        "        self.root = root\n",
        "\n",
        "    def __repr__(self):\n",
        "        return f'BSTree({repr(self.root)})'"
      ]
    },
    {
      "cell_type": "markdown",
      "id": "be727518",
      "metadata": {
        "id": "be727518"
      },
      "source": [
        "Here's tree with a reference to `node8`, so it implicitly contains `node3` and `node10` as well."
      ]
    },
    {
      "cell_type": "code",
      "execution_count": 21,
      "id": "be02722f",
      "metadata": {
        "tags": [],
        "colab": {
          "base_uri": "https://localhost:8080/"
        },
        "id": "be02722f",
        "outputId": "b6812d31-cdf7-44d9-9d18-37531d759883"
      },
      "outputs": [
        {
          "output_type": "execute_result",
          "data": {
            "text/plain": [
              "BSTree(Node(8, Node(3, None, None), Node(10, None, None)))"
            ]
          },
          "metadata": {},
          "execution_count": 21
        }
      ],
      "source": [
        "tree = BSTree(node8)\n",
        "tree"
      ]
    },
    {
      "cell_type": "markdown",
      "id": "d9106015",
      "metadata": {
        "id": "d9106015"
      },
      "source": [
        "A binary tree is a binary search tree if for every node (1) the value of the left child is lower and (2) the value of the right child is higher.\n",
        "Let's assume for now that there are no duplicates.\n",
        "\n",
        "We can check whether a tree is a BST like this:"
      ]
    },
    {
      "cell_type": "code",
      "execution_count": 23,
      "id": "c7f98919",
      "metadata": {
        "tags": [],
        "id": "c7f98919"
      },
      "outputs": [],
      "source": [
        "def is_bst(tree):\n",
        "    return is_bst_rec(tree.root)\n",
        "\n",
        "def is_bst_rec(node):\n",
        "    if node is None:\n",
        "        return True\n",
        "\n",
        "    if node.left and node.left.data > node.data:\n",
        "        return False\n",
        "    if node.right and node.right.data < node.data:\n",
        "        return False\n",
        "\n",
        "    return is_bst_rec(node.left) and is_bst_rec(node.right)"
      ]
    },
    {
      "cell_type": "code",
      "execution_count": 24,
      "id": "9a038558",
      "metadata": {
        "tags": [],
        "colab": {
          "base_uri": "https://localhost:8080/"
        },
        "id": "9a038558",
        "outputId": "113380e3-d55b-42ce-aeef-e3d53f860c92"
      },
      "outputs": [
        {
          "output_type": "execute_result",
          "data": {
            "text/plain": [
              "True"
            ]
          },
          "metadata": {},
          "execution_count": 24
        }
      ],
      "source": [
        "is_bst(tree)"
      ]
    },
    {
      "cell_type": "markdown",
      "id": "64797dc8",
      "metadata": {
        "id": "64797dc8"
      },
      "source": [
        "And let's see an example where it's not true."
      ]
    },
    {
      "cell_type": "code",
      "execution_count": 25,
      "id": "803f0484",
      "metadata": {
        "tags": [],
        "colab": {
          "base_uri": "https://localhost:8080/"
        },
        "id": "803f0484",
        "outputId": "8defd24d-260f-4329-e7f5-48f62e9e30db"
      },
      "outputs": [
        {
          "output_type": "execute_result",
          "data": {
            "text/plain": [
              "Node(5, Node(10, None, None), Node(3, None, None))"
            ]
          },
          "metadata": {},
          "execution_count": 25
        }
      ],
      "source": [
        "node5 = Node(5, node10, node3)\n",
        "node5"
      ]
    },
    {
      "cell_type": "code",
      "execution_count": 26,
      "id": "2ee8072e",
      "metadata": {
        "tags": [],
        "colab": {
          "base_uri": "https://localhost:8080/"
        },
        "id": "2ee8072e",
        "outputId": "c0c5e284-a2dd-4164-fc1e-0c13800c57ff"
      },
      "outputs": [
        {
          "output_type": "execute_result",
          "data": {
            "text/plain": [
              "False"
            ]
          },
          "metadata": {},
          "execution_count": 26
        }
      ],
      "source": [
        "tree2 = BSTree(node5)\n",
        "is_bst(tree2)"
      ]
    },
    {
      "cell_type": "markdown",
      "id": "e916947e",
      "metadata": {
        "id": "e916947e"
      },
      "source": [
        "## Draw the Tree\n",
        "\n",
        "One of the better functions for drawing trees is part of a package called `EoN`, for \"Epidemics on Networks\", which provides \"tools to study the spread of SIS and SIR diseases in networks\".\n",
        "\n",
        "The function we'll use is called [hierarchy_pos](https://epidemicsonnetworks.readthedocs.io/en/latest/functions/EoN.hierarchy_pos.html#EoN.hierarchy_pos).\n",
        "It takes as a parameter a NetworkX graph that represents a tree, and it returns a dictionary that maps from each node to a position in the Cartesian plane.\n",
        "If we pass this dictionary to `nx.draw`, it lays the tree out accordingly."
      ]
    },
    {
      "cell_type": "code",
      "execution_count": 27,
      "id": "7f40a95c",
      "metadata": {
        "colab": {
          "base_uri": "https://localhost:8080/"
        },
        "id": "7f40a95c",
        "outputId": "04f7bcb2-f05a-4abe-a57b-c2cc2e5679e4"
      },
      "outputs": [
        {
          "output_type": "stream",
          "name": "stdout",
          "text": [
            "Collecting EoN\n",
            "  Downloading eon-1.2.tar.gz (117 kB)\n",
            "\u001b[?25l     \u001b[90m━━━━━━━━━━━━━━━━━━━━━━━━━━━━━━━━━━━━━━━━\u001b[0m \u001b[32m0.0/117.3 kB\u001b[0m \u001b[31m?\u001b[0m eta \u001b[36m-:--:--\u001b[0m\r\u001b[2K     \u001b[90m━━━━━━━━━━━━━━━━━━━━━━━━━━━━━━━━━━━━━━━\u001b[0m \u001b[32m117.3/117.3 kB\u001b[0m \u001b[31m3.7 MB/s\u001b[0m eta \u001b[36m0:00:00\u001b[0m\n",
            "\u001b[?25h  Preparing metadata (setup.py) ... \u001b[?25l\u001b[?25hdone\n",
            "Requirement already satisfied: networkx>=2 in /usr/local/lib/python3.11/dist-packages (from EoN) (3.4.2)\n",
            "Requirement already satisfied: numpy in /usr/local/lib/python3.11/dist-packages (from EoN) (2.0.2)\n",
            "Requirement already satisfied: scipy in /usr/local/lib/python3.11/dist-packages (from EoN) (1.15.3)\n",
            "Requirement already satisfied: matplotlib in /usr/local/lib/python3.11/dist-packages (from EoN) (3.10.0)\n",
            "Requirement already satisfied: contourpy>=1.0.1 in /usr/local/lib/python3.11/dist-packages (from matplotlib->EoN) (1.3.2)\n",
            "Requirement already satisfied: cycler>=0.10 in /usr/local/lib/python3.11/dist-packages (from matplotlib->EoN) (0.12.1)\n",
            "Requirement already satisfied: fonttools>=4.22.0 in /usr/local/lib/python3.11/dist-packages (from matplotlib->EoN) (4.58.0)\n",
            "Requirement already satisfied: kiwisolver>=1.3.1 in /usr/local/lib/python3.11/dist-packages (from matplotlib->EoN) (1.4.8)\n",
            "Requirement already satisfied: packaging>=20.0 in /usr/local/lib/python3.11/dist-packages (from matplotlib->EoN) (24.2)\n",
            "Requirement already satisfied: pillow>=8 in /usr/local/lib/python3.11/dist-packages (from matplotlib->EoN) (11.2.1)\n",
            "Requirement already satisfied: pyparsing>=2.3.1 in /usr/local/lib/python3.11/dist-packages (from matplotlib->EoN) (3.2.3)\n",
            "Requirement already satisfied: python-dateutil>=2.7 in /usr/local/lib/python3.11/dist-packages (from matplotlib->EoN) (2.9.0.post0)\n",
            "Requirement already satisfied: six>=1.5 in /usr/local/lib/python3.11/dist-packages (from python-dateutil>=2.7->matplotlib->EoN) (1.17.0)\n",
            "Building wheels for collected packages: EoN\n",
            "  Building wheel for EoN (setup.py) ... \u001b[?25l\u001b[?25hdone\n",
            "  Created wheel for EoN: filename=EoN-1.2-py3-none-any.whl size=122468 sha256=62890ee965587ff6810964279cb9f19d5079703caf9a5972e318050de3342a36\n",
            "  Stored in directory: /root/.cache/pip/wheels/10/ec/88/6daefcc5ebdf7e373db9da6a61386f33143571d885c4c7708a\n",
            "Successfully built EoN\n",
            "Installing collected packages: EoN\n",
            "Successfully installed EoN-1.2\n"
          ]
        }
      ],
      "source": [
        "try:\n",
        "    import EoN\n",
        "except ImportError:\n",
        "    !pip install EoN"
      ]
    },
    {
      "cell_type": "code",
      "execution_count": 28,
      "id": "ae3f0d61",
      "metadata": {
        "id": "ae3f0d61"
      },
      "outputs": [],
      "source": [
        "import networkx as nx\n",
        "\n",
        "def add_edges(node, G):\n",
        "    \"\"\"Make a NetworkX graph that represents the heap.\"\"\"\n",
        "    if node is None:\n",
        "        return\n",
        "\n",
        "    G.add_node(node, label=node.data)\n",
        "    for child in (node.left, node.right):\n",
        "        if child:\n",
        "            G.add_edge(node, child)\n",
        "            add_edges(child, G)"
      ]
    },
    {
      "cell_type": "code",
      "execution_count": 29,
      "id": "0c2368f7",
      "metadata": {
        "colab": {
          "base_uri": "https://localhost:8080/"
        },
        "id": "0c2368f7",
        "outputId": "74152856-f9b8-4b6e-b7a9-9967e597bfdf"
      },
      "outputs": [
        {
          "output_type": "execute_result",
          "data": {
            "text/plain": [
              "NodeView((Node(8, Node(3, None, None), Node(10, None, None)), Node(3, None, None), Node(10, None, None)))"
            ]
          },
          "metadata": {},
          "execution_count": 29
        }
      ],
      "source": [
        "G = nx.DiGraph()\n",
        "add_edges(tree.root, G)\n",
        "G.nodes()"
      ]
    },
    {
      "cell_type": "code",
      "execution_count": 30,
      "id": "bcf86dba",
      "metadata": {
        "colab": {
          "base_uri": "https://localhost:8080/"
        },
        "id": "bcf86dba",
        "outputId": "52085cec-c355-4ca6-ebec-08df20b1a90b"
      },
      "outputs": [
        {
          "output_type": "execute_result",
          "data": {
            "text/plain": [
              "{Node(8, Node(3, None, None), Node(10, None, None)): 8,\n",
              " Node(3, None, None): 3,\n",
              " Node(10, None, None): 10}"
            ]
          },
          "metadata": {},
          "execution_count": 30
        }
      ],
      "source": [
        "labels = {node: node.data for node in G.nodes()}\n",
        "labels"
      ]
    },
    {
      "cell_type": "code",
      "execution_count": 31,
      "id": "16c207e3",
      "metadata": {
        "id": "16c207e3"
      },
      "outputs": [],
      "source": [
        "from EoN import hierarchy_pos\n",
        "\n",
        "def draw_tree(tree):\n",
        "    G = nx.DiGraph()\n",
        "    add_edges(tree.root, G)\n",
        "    pos = hierarchy_pos(G)\n",
        "    labels = {node: node.data for node in G.nodes()}\n",
        "    nx.draw(G, pos, labels=labels, alpha=0.4)"
      ]
    },
    {
      "cell_type": "code",
      "execution_count": 32,
      "id": "6135a805",
      "metadata": {
        "colab": {
          "base_uri": "https://localhost:8080/",
          "height": 516
        },
        "id": "6135a805",
        "outputId": "518b0707-9c31-4ce4-9bde-e12b62d577fb"
      },
      "outputs": [
        {
          "output_type": "display_data",
          "data": {
            "text/plain": [
              "<Figure size 640x480 with 1 Axes>"
            ],
            "image/png": "[encoded data removed]"
          },
          "metadata": {}
        }
      ],
      "source": [
        "draw_tree(tree)"
      ]
    },
    {
      "cell_type": "markdown",
      "id": "efda3593",
      "metadata": {
        "id": "efda3593"
      },
      "source": [
        "## Search\n",
        "\n",
        "Given a tree and a target value, how do we determine whether the target is in the tree?\n",
        "\n",
        "1. Start at the root. If you find the target, stop.\n",
        "\n",
        "2. If the target is less than the value at the root, go left.\n",
        "\n",
        "3. If the target is greater than the value at the root, go right.\n",
        "\n",
        "4. If you get to a non-existent node, stop.\n",
        "\n",
        "**Exercise:** Write a function called `search` that takes a `BSTree` and a target value and returns `True` if the target value appears in the tree."
      ]
    },
    {
      "cell_type": "code",
      "execution_count": 33,
      "id": "0942e36c",
      "metadata": {
        "id": "0942e36c"
      },
      "outputs": [],
      "source": [
        "#Cool method i made up by adapting list search\n",
        "class Node:\n",
        "    def __init__(self, data, left = None, right = None):\n",
        "        self.data = data\n",
        "        self.left = left\n",
        "        self.right = right\n",
        "    def __repr__(self):\n",
        "        return f\"Node({self.data},{repr(self.left)}, {repr(self.right)})\"\n",
        "    def __iter__(self):\n",
        "        yield self.data\n",
        "        if isinstance(self.left, Node):\n",
        "            yield from self.left\n",
        "        if isinstance(self.left, Node):\n",
        "            yield from self.right\n",
        "\n",
        "    def search(self,target):\n",
        "        search_list = []\n",
        "        for nodes in self:\n",
        "            search_list.append(nodes)\n",
        "        if target in search_list:\n",
        "            return True\n",
        "        return False\n",
        "class BSTree:\n",
        "    def __init__(self, root = None):\n",
        "        self.root = root\n",
        "    def __repr__(self):\n",
        "        return f'BSTree({repr(self.root)})'\n",
        "node1 =Node(1)\n",
        "node2 = Node(2)\n",
        "node3 = Node(3, node1,node2)\n"
      ]
    },
    {
      "cell_type": "code",
      "execution_count": 35,
      "id": "3b6f5823",
      "metadata": {
        "colab": {
          "base_uri": "https://localhost:8080/"
        },
        "id": "3b6f5823",
        "outputId": "06bf722a-cf93-4afd-9ad2-244dd80a4ad0"
      },
      "outputs": [
        {
          "output_type": "execute_result",
          "data": {
            "text/plain": [
              "True"
            ]
          },
          "metadata": {},
          "execution_count": 35
        }
      ],
      "source": [
        "#Exercise Solution\n",
        "class Node:\n",
        "    def __init__(self, data, left = None, right = None):\n",
        "        self.data = data\n",
        "        self.left = left\n",
        "        self.right = right\n",
        "    def __repr__(self):\n",
        "        return f\"Node({self.data},{repr(self.left)}, {repr(self.right)})\"\n",
        "\n",
        "    def search(self,target):\n",
        "        if self.data == target:\n",
        "            return True\n",
        "        elif self.data > target:\n",
        "            if self.left:\n",
        "                return (self.left).search(target)\n",
        "        elif self.data<target:\n",
        "            if self.right:\n",
        "                return (self.right).search(target)\n",
        "        return False\n",
        "class BSTree:\n",
        "    def __init__(self, root = None):\n",
        "        self.root = root\n",
        "    def __repr__(self):\n",
        "        return f'BSTree({repr(self.root)})'\n",
        "node1 =Node(1)\n",
        "node2 = Node(4)\n",
        "node3 = Node(3, node1,node2)\n",
        "node3.search(4)"
      ]
    },
    {
      "cell_type": "markdown",
      "id": "e819fa2a",
      "metadata": {
        "id": "e819fa2a"
      },
      "source": [
        "**Exercise:** Many tree operations lend themselves to recursive implementations. Write a function called `search_rec` that searches the tree recursively.\n",
        "\n",
        "Hint: Start with a copy of `is_bst`."
      ]
    },
    {
      "cell_type": "code",
      "execution_count": null,
      "id": "5f0b6b8b",
      "metadata": {
        "id": "5f0b6b8b"
      },
      "outputs": [],
      "source": [
        "class Node:\n",
        "    def __init__(self, data, left = None, right = None):\n",
        "        self.data = data\n",
        "        self.left = left\n",
        "        self.right = right\n",
        "    def __repr__(self):\n",
        "        return f\"Node({self.data},{repr(self.left)}, {repr(self.right)})\"\n",
        "\n",
        "    def search(self,target):\n",
        "        if self.data == target:\n",
        "            return True\n",
        "        elif self.data > target:\n",
        "            if self.left:\n",
        "                return (self.left).search(target)\n",
        "        elif self.data<target:\n",
        "            if self.right:\n",
        "                return (self.right).search(target)\n",
        "        return False\n",
        "class BSTree:\n",
        "    def __init__(self, root = None):\n",
        "        self.root = root\n",
        "    def __repr__(self):\n",
        "        return f'BSTree({repr(self.root)})'\n",
        "node1 =Node(1)\n",
        "node2 = Node(4)\n",
        "node3 = Node(3, node1,node2)\n",
        "node3.search(4)"
      ]
    },
    {
      "cell_type": "code",
      "execution_count": null,
      "id": "0463f072",
      "metadata": {
        "id": "0463f072"
      },
      "outputs": [],
      "source": []
    },
    {
      "cell_type": "markdown",
      "id": "97fd0127",
      "metadata": {
        "id": "97fd0127"
      },
      "source": [
        "## Insert\n",
        "\n",
        "The point of the BST is that we can add and remove elements efficiently, compared to a sorted array.\n",
        "\n",
        "So let's see what that looks like."
      ]
    },
    {
      "cell_type": "code",
      "execution_count": 68,
      "id": "5b44116a",
      "metadata": {
        "tags": [],
        "id": "5b44116a"
      },
      "outputs": [],
      "source": [
        "def insert(tree, data):\n",
        "    tree.root = insert_node(tree.root, data)\n",
        "\n",
        "def insert_node(node, data):\n",
        "    if node is None:\n",
        "        return Node(data)\n",
        "\n",
        "    if data < node.data:\n",
        "        node.left = insert_node(node.left, data)\n",
        "    else:\n",
        "        node.right = insert_node(node.right, data)\n",
        "\n",
        "    return node"
      ]
    },
    {
      "cell_type": "markdown",
      "id": "a3662da0",
      "metadata": {
        "id": "a3662da0"
      },
      "source": [
        "We'll test it by starting with an empty tree and adding elements one at a time."
      ]
    },
    {
      "cell_type": "code",
      "execution_count": 69,
      "id": "0785335c",
      "metadata": {
        "tags": [],
        "colab": {
          "base_uri": "https://localhost:8080/"
        },
        "id": "0785335c",
        "outputId": "01065077-a92b-4080-9043-09c8bc6adc13"
      },
      "outputs": [
        {
          "output_type": "execute_result",
          "data": {
            "text/plain": [
              "BSTree(Node(8,Node(3,Node(1,None, None), Node(6,Node(4,None, None), Node(7,None, None))), Node(10,None, Node(14,Node(13,None, None), None))))"
            ]
          },
          "metadata": {},
          "execution_count": 69
        }
      ],
      "source": [
        "tree = BSTree()\n",
        "\n",
        "values = [8, 3, 10, 1, 6, 14, 4, 7, 13]\n",
        "for value in values:\n",
        "    insert(tree, value)\n",
        "\n",
        "tree"
      ]
    },
    {
      "cell_type": "code",
      "execution_count": 38,
      "id": "d7f2305d",
      "metadata": {
        "tags": [],
        "colab": {
          "base_uri": "https://localhost:8080/",
          "height": 516
        },
        "id": "d7f2305d",
        "outputId": "3c3b500c-035c-49ea-f9cc-971520fd2c0c"
      },
      "outputs": [
        {
          "output_type": "display_data",
          "data": {
            "text/plain": [
              "<Figure size 640x480 with 1 Axes>"
            ],
            "image/png": "[encoded data removed]"
          },
          "metadata": {}
        }
      ],
      "source": [
        "draw_tree(tree)"
      ]
    },
    {
      "cell_type": "markdown",
      "id": "a8458686",
      "metadata": {
        "id": "a8458686"
      },
      "source": [
        "If things have gone according to plan, the result should be a BST."
      ]
    },
    {
      "cell_type": "code",
      "execution_count": 39,
      "id": "3da47786",
      "metadata": {
        "tags": [],
        "colab": {
          "base_uri": "https://localhost:8080/"
        },
        "id": "3da47786",
        "outputId": "7aebfae8-ff49-45d3-d248-341f44ba6136"
      },
      "outputs": [
        {
          "output_type": "execute_result",
          "data": {
            "text/plain": [
              "True"
            ]
          },
          "metadata": {},
          "execution_count": 39
        }
      ],
      "source": [
        "is_bst(tree)"
      ]
    },
    {
      "cell_type": "markdown",
      "id": "744d5567",
      "metadata": {
        "id": "744d5567"
      },
      "source": [
        "## Sorting\n",
        "\n",
        "If we traverse the tree recursively and print the elements as we go, we get the values in sorted order."
      ]
    },
    {
      "cell_type": "code",
      "execution_count": 40,
      "id": "22e2235f",
      "metadata": {
        "id": "22e2235f"
      },
      "outputs": [],
      "source": [
        "def print_tree(tree):\n",
        "    print_tree_rec(tree.root)\n",
        "\n",
        "def print_tree_rec(node):\n",
        "    if node is None:\n",
        "        return\n",
        "\n",
        "    print_tree_rec(node.left)\n",
        "    print(node.data, end=' ')\n",
        "    print_tree_rec(node.right)"
      ]
    },
    {
      "cell_type": "code",
      "execution_count": 41,
      "id": "12d2a126",
      "metadata": {
        "tags": [],
        "colab": {
          "base_uri": "https://localhost:8080/"
        },
        "id": "12d2a126",
        "outputId": "5e224c34-e5ac-4dcd-c09a-23874e8e34a3"
      },
      "outputs": [
        {
          "output_type": "stream",
          "name": "stdout",
          "text": [
            "1 3 4 6 7 8 10 13 14 "
          ]
        }
      ],
      "source": [
        "print_tree(tree)"
      ]
    },
    {
      "cell_type": "markdown",
      "id": "d0db0e04",
      "metadata": {
        "id": "d0db0e04"
      },
      "source": [
        "**Exercise:** Write a generator method called `iterate_tree` that traverses the tree and yields the elements in order.\n",
        "\n",
        "You can do this iteratively or recursively."
      ]
    },
    {
      "cell_type": "code",
      "execution_count": 71,
      "id": "226d23bd",
      "metadata": {
        "colab": {
          "base_uri": "https://localhost:8080/",
          "height": 321
        },
        "id": "226d23bd",
        "outputId": "e24a97b0-6ee8-4875-813a-227024dd34dd"
      },
      "outputs": [
        {
          "output_type": "error",
          "ename": "AttributeError",
          "evalue": "'Node' object has no attribute 'root'",
          "traceback": [
            "\u001b[0;31m---------------------------------------------------------------------------\u001b[0m",
            "\u001b[0;31mAttributeError\u001b[0m                            Traceback (most recent call last)",
            "\u001b[0;32m<ipython-input-71-14e84c44c2bd>\u001b[0m in \u001b[0;36m<cell line: 0>\u001b[0;34m()\u001b[0m\n\u001b[1;32m     12\u001b[0m \u001b[0mtree\u001b[0m \u001b[0;34m=\u001b[0m \u001b[0mBSTree\u001b[0m\u001b[0;34m(\u001b[0m\u001b[0mnode3\u001b[0m\u001b[0;34m)\u001b[0m  \u001b[0;31m# wrap your root node in a BSTree\u001b[0m\u001b[0;34m\u001b[0m\u001b[0;34m\u001b[0m\u001b[0m\n\u001b[1;32m     13\u001b[0m \u001b[0mgen\u001b[0m \u001b[0;34m=\u001b[0m \u001b[0miterate_tree\u001b[0m\u001b[0;34m(\u001b[0m\u001b[0mtree\u001b[0m\u001b[0;34m)\u001b[0m  \u001b[0;31m# pass the BSTree, not the root node\u001b[0m\u001b[0;34m\u001b[0m\u001b[0;34m\u001b[0m\u001b[0m\n\u001b[0;32m---> 14\u001b[0;31m \u001b[0mprint\u001b[0m\u001b[0;34m(\u001b[0m\u001b[0mnext\u001b[0m\u001b[0;34m(\u001b[0m\u001b[0mgen\u001b[0m\u001b[0;34m)\u001b[0m\u001b[0;34m)\u001b[0m\u001b[0;34m\u001b[0m\u001b[0;34m\u001b[0m\u001b[0m\n\u001b[0m",
            "\u001b[0;32m<ipython-input-71-14e84c44c2bd>\u001b[0m in \u001b[0;36miterate_tree\u001b[0;34m(tree)\u001b[0m\n\u001b[1;32m      1\u001b[0m \u001b[0;32mdef\u001b[0m \u001b[0miterate_tree\u001b[0m\u001b[0;34m(\u001b[0m\u001b[0mtree\u001b[0m\u001b[0;34m)\u001b[0m\u001b[0;34m:\u001b[0m\u001b[0;34m\u001b[0m\u001b[0;34m\u001b[0m\u001b[0m\n\u001b[0;32m----> 2\u001b[0;31m    \u001b[0;32myield\u001b[0m \u001b[0;32mfrom\u001b[0m \u001b[0miterate_tree_rec\u001b[0m\u001b[0;34m(\u001b[0m\u001b[0mtree\u001b[0m\u001b[0;34m.\u001b[0m\u001b[0mroot\u001b[0m\u001b[0;34m)\u001b[0m\u001b[0;34m\u001b[0m\u001b[0;34m\u001b[0m\u001b[0m\n\u001b[0m\u001b[1;32m      3\u001b[0m \u001b[0;34m\u001b[0m\u001b[0m\n\u001b[1;32m      4\u001b[0m \u001b[0;34m\u001b[0m\u001b[0m\n\u001b[1;32m      5\u001b[0m \u001b[0;32mdef\u001b[0m \u001b[0miterate_tree_rec\u001b[0m\u001b[0;34m(\u001b[0m\u001b[0mnode\u001b[0m\u001b[0;34m)\u001b[0m\u001b[0;34m:\u001b[0m\u001b[0;34m\u001b[0m\u001b[0;34m\u001b[0m\u001b[0m\n",
            "\u001b[0;32m<ipython-input-71-14e84c44c2bd>\u001b[0m in \u001b[0;36miterate_tree_rec\u001b[0;34m(node)\u001b[0m\n\u001b[1;32m      5\u001b[0m \u001b[0;32mdef\u001b[0m \u001b[0miterate_tree_rec\u001b[0m\u001b[0;34m(\u001b[0m\u001b[0mnode\u001b[0m\u001b[0;34m)\u001b[0m\u001b[0;34m:\u001b[0m\u001b[0;34m\u001b[0m\u001b[0;34m\u001b[0m\u001b[0m\n\u001b[1;32m      6\u001b[0m     \u001b[0;32mif\u001b[0m \u001b[0mnode\u001b[0m \u001b[0;32mis\u001b[0m \u001b[0;32mnot\u001b[0m \u001b[0;32mNone\u001b[0m\u001b[0;34m:\u001b[0m\u001b[0;34m\u001b[0m\u001b[0;34m\u001b[0m\u001b[0m\n\u001b[0;32m----> 7\u001b[0;31m         \u001b[0;32myield\u001b[0m \u001b[0;32mfrom\u001b[0m \u001b[0miterate_tree\u001b[0m\u001b[0;34m(\u001b[0m\u001b[0mnode\u001b[0m\u001b[0;34m.\u001b[0m\u001b[0mleft\u001b[0m\u001b[0;34m)\u001b[0m\u001b[0;34m\u001b[0m\u001b[0;34m\u001b[0m\u001b[0m\n\u001b[0m\u001b[1;32m      8\u001b[0m         \u001b[0;32myield\u001b[0m \u001b[0mnode\u001b[0m\u001b[0;34m.\u001b[0m\u001b[0mdata\u001b[0m\u001b[0;34m\u001b[0m\u001b[0;34m\u001b[0m\u001b[0m\n\u001b[1;32m      9\u001b[0m         \u001b[0;32myield\u001b[0m \u001b[0;32mfrom\u001b[0m \u001b[0miterate_tree\u001b[0m\u001b[0;34m(\u001b[0m\u001b[0mnode\u001b[0m\u001b[0;34m.\u001b[0m\u001b[0mright\u001b[0m\u001b[0;34m)\u001b[0m\u001b[0;34m\u001b[0m\u001b[0;34m\u001b[0m\u001b[0m\n",
            "\u001b[0;32m<ipython-input-71-14e84c44c2bd>\u001b[0m in \u001b[0;36miterate_tree\u001b[0;34m(tree)\u001b[0m\n\u001b[1;32m      1\u001b[0m \u001b[0;32mdef\u001b[0m \u001b[0miterate_tree\u001b[0m\u001b[0;34m(\u001b[0m\u001b[0mtree\u001b[0m\u001b[0;34m)\u001b[0m\u001b[0;34m:\u001b[0m\u001b[0;34m\u001b[0m\u001b[0;34m\u001b[0m\u001b[0m\n\u001b[0;32m----> 2\u001b[0;31m    \u001b[0;32myield\u001b[0m \u001b[0;32mfrom\u001b[0m \u001b[0miterate_tree_rec\u001b[0m\u001b[0;34m(\u001b[0m\u001b[0mtree\u001b[0m\u001b[0;34m.\u001b[0m\u001b[0mroot\u001b[0m\u001b[0;34m)\u001b[0m\u001b[0;34m\u001b[0m\u001b[0;34m\u001b[0m\u001b[0m\n\u001b[0m\u001b[1;32m      3\u001b[0m \u001b[0;34m\u001b[0m\u001b[0m\n\u001b[1;32m      4\u001b[0m \u001b[0;34m\u001b[0m\u001b[0m\n\u001b[1;32m      5\u001b[0m \u001b[0;32mdef\u001b[0m \u001b[0miterate_tree_rec\u001b[0m\u001b[0;34m(\u001b[0m\u001b[0mnode\u001b[0m\u001b[0;34m)\u001b[0m\u001b[0;34m:\u001b[0m\u001b[0;34m\u001b[0m\u001b[0;34m\u001b[0m\u001b[0m\n",
            "\u001b[0;31mAttributeError\u001b[0m: 'Node' object has no attribute 'root'"
          ]
        }
      ],
      "source": [
        "def iterate_tree(tree):\n",
        "   yield from iterate_tree_rec(tree.root)\n",
        "\n",
        "\n",
        "def iterate_tree_rec(node):\n",
        "    if node is not None:\n",
        "        yield from iterate_tree(node.left)\n",
        "        yield node.data\n",
        "        yield from iterate_tree(node.right)\n",
        "\n",
        "\n",
        "gen = iterate_tree(tree)\n",
        "next(gen)"
      ]
    },
    {
      "cell_type": "code",
      "execution_count": 66,
      "id": "7793c899",
      "metadata": {
        "colab": {
          "base_uri": "https://localhost:8080/"
        },
        "id": "7793c899",
        "outputId": "f25f7ad5-eeda-403d-849b-afd5df559455"
      },
      "outputs": [
        {
          "output_type": "execute_result",
          "data": {
            "text/plain": [
              "BSTree(Node(8,Node(3,Node(1,None, None), Node(6,Node(4,None, None), Node(7,None, None))), Node(10,None, Node(14,Node(13,None, None), None))))"
            ]
          },
          "metadata": {},
          "execution_count": 66
        }
      ],
      "source": [
        "tree = BSTree()\n",
        "\n",
        "values = [8, 3, 10, 1, 6, 14, 4, 7, 13]\n",
        "for value in values:\n",
        "    insert(tree, value)\n",
        "\n",
        "tree"
      ]
    },
    {
      "cell_type": "code",
      "source": [
        "list(tree)"
      ],
      "metadata": {
        "id": "X6DxufsTcjOG",
        "outputId": "ceb8db0e-b1f7-40c2-ff7f-56294aaf74e8",
        "colab": {
          "base_uri": "https://localhost:8080/",
          "height": 141
        }
      },
      "id": "X6DxufsTcjOG",
      "execution_count": 49,
      "outputs": [
        {
          "output_type": "error",
          "ename": "TypeError",
          "evalue": "'BSTree' object is not iterable",
          "traceback": [
            "\u001b[0;31m---------------------------------------------------------------------------\u001b[0m",
            "\u001b[0;31mTypeError\u001b[0m                                 Traceback (most recent call last)",
            "\u001b[0;32m<ipython-input-49-f93e7036cf49>\u001b[0m in \u001b[0;36m<cell line: 0>\u001b[0;34m()\u001b[0m\n\u001b[0;32m----> 1\u001b[0;31m \u001b[0mlist\u001b[0m\u001b[0;34m(\u001b[0m\u001b[0mtree\u001b[0m\u001b[0;34m)\u001b[0m\u001b[0;34m\u001b[0m\u001b[0;34m\u001b[0m\u001b[0m\n\u001b[0m",
            "\u001b[0;31mTypeError\u001b[0m: 'BSTree' object is not iterable"
          ]
        }
      ]
    },
    {
      "cell_type": "markdown",
      "id": "79035143",
      "metadata": {
        "id": "79035143"
      },
      "source": [
        "## Badness 10000\n",
        "\n",
        "If the tree is reasonably well balanced, the height is proportional to `log n`, where `n` is the number of elements.\n",
        "\n",
        "But let's see what happens if we add elements in sorted order."
      ]
    },
    {
      "cell_type": "code",
      "execution_count": null,
      "id": "0b55685e",
      "metadata": {
        "tags": [],
        "id": "0b55685e"
      },
      "outputs": [],
      "source": [
        "tree3 = BSTree()\n",
        "for x in sorted(values):\n",
        "    insert(tree3, x)"
      ]
    },
    {
      "cell_type": "code",
      "execution_count": null,
      "id": "66ba462f",
      "metadata": {
        "tags": [],
        "id": "66ba462f"
      },
      "outputs": [],
      "source": [
        "draw_tree(tree3)"
      ]
    },
    {
      "cell_type": "markdown",
      "id": "be77129c",
      "metadata": {
        "id": "be77129c"
      },
      "source": [
        "Now traversing the tree takes linear time.\n",
        "To avoid this problem, there are variations of BST that are [self-balancing](https://en.wikipedia.org/wiki/Self-balancing_binary_search_tree).\n",
        "\n",
        "Most are based on [tree rotation](https://en.wikipedia.org/wiki/Tree_rotation) operations.\n",
        "For example, the following is a function that rotates a tree to the left (following Wikipedia's nomenclature for what \"left\" and \"right\" mean)."
      ]
    },
    {
      "cell_type": "code",
      "execution_count": null,
      "id": "419b9206",
      "metadata": {
        "id": "419b9206"
      },
      "outputs": [],
      "source": [
        "def rotate_left(node):\n",
        "    if node is None or node.right is None:\n",
        "        return node\n",
        "\n",
        "    pivot = node.right\n",
        "    node.right = pivot.left\n",
        "    pivot.left = node\n",
        "\n",
        "    return pivot"
      ]
    },
    {
      "cell_type": "code",
      "execution_count": null,
      "id": "87807756",
      "metadata": {
        "tags": [],
        "id": "87807756"
      },
      "outputs": [],
      "source": [
        "tree3.root = rotate_left(tree3.root)\n",
        "draw_tree(tree3)"
      ]
    },
    {
      "cell_type": "markdown",
      "id": "0c8acb7e",
      "metadata": {
        "id": "0c8acb7e"
      },
      "source": [
        "*Data Structures and Information Retrieval in Python*\n",
        "\n",
        "Copyright 2021 Allen Downey\n",
        "\n",
        "License: [Creative Commons Attribution-NonCommercial-ShareAlike 4.0 International](https://creativecommons.org/licenses/by-nc-sa/4.0/)"
      ]
    }
  ],
  "metadata": {
    "celltoolbar": "Tags",
    "kernelspec": {
      "display_name": "Python 3 (ipykernel)",
      "language": "python",
      "name": "python3"
    },
    "language_info": {
      "codemirror_mode": {
        "name": "ipython",
        "version": 3
      },
      "file_extension": ".py",
      "mimetype": "text/x-python",
      "name": "python",
      "nbconvert_exporter": "python",
      "pygments_lexer": "ipython3",
      "version": "3.10.1"
    },
    "colab": {
      "provenance": []
    }
  },
  "nbformat": 4,
  "nbformat_minor": 5
}