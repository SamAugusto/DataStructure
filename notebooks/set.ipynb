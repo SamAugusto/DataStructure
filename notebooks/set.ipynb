{
  "cells": [
    {
      "cell_type": "markdown",
      "id": "c905f415",
      "metadata": {
        "id": "c905f415"
      },
      "source": [
        "# Sets"
      ]
    },
    {
      "cell_type": "markdown",
      "id": "42302f03",
      "metadata": {
        "id": "42302f03"
      },
      "source": [
        "[Click here to run this chapter on Colab](https://colab.research.google.com/github/AllenDowney/DSIRP/blob/main/notebooks/set.ipynb)"
      ]
    },
    {
      "cell_type": "markdown",
      "id": "eca6f225",
      "metadata": {
        "id": "eca6f225"
      },
      "source": [
        "## Set operators and methods\n",
        "\n",
        "The following example is based on Luciano Ramalho's talk, [Set Practice: Learning from Python's set type](https://www.youtube.com/watch?v=tGAngdU_8D8)."
      ]
    },
    {
      "cell_type": "code",
      "execution_count": 1,
      "id": "3bdc7cb9",
      "metadata": {
        "id": "3bdc7cb9"
      },
      "outputs": [],
      "source": [
        "def fibonacci(stop):\n",
        "    a, b = 0, 1\n",
        "    while a < stop:\n",
        "        yield a\n",
        "        a, b = b, a + b"
      ]
    },
    {
      "cell_type": "code",
      "execution_count": 2,
      "id": "a920606a",
      "metadata": {
        "id": "a920606a",
        "outputId": "81540c25-2229-4495-bc38-b97839bfb48f",
        "colab": {
          "base_uri": "https://localhost:8080/"
        }
      },
      "outputs": [
        {
          "output_type": "execute_result",
          "data": {
            "text/plain": [
              "{0, 1, 2, 3, 5, 8}"
            ]
          },
          "metadata": {},
          "execution_count": 2
        }
      ],
      "source": [
        "f = {n for n in fibonacci(10)}\n",
        "f"
      ]
    },
    {
      "cell_type": "code",
      "execution_count": 4,
      "id": "ed70c495",
      "metadata": {
        "id": "ed70c495"
      },
      "outputs": [],
      "source": [
        "def primes(stop):\n",
        "    m = {}\n",
        "    q = 2\n",
        "    while q < stop:\n",
        "        if q not in m:\n",
        "            yield q\n",
        "            m[q*q] = [q]\n",
        "        else:\n",
        "            for p in m[q]:\n",
        "                m.setdefault(p+q, []).append(p)\n",
        "            del m[q]\n",
        "        q += 1"
      ]
    },
    {
      "cell_type": "code",
      "execution_count": 5,
      "id": "a19659df",
      "metadata": {
        "id": "a19659df",
        "outputId": "07be0ee4-5972-4a31-8193-49fe604fd693",
        "colab": {
          "base_uri": "https://localhost:8080/"
        }
      },
      "outputs": [
        {
          "output_type": "execute_result",
          "data": {
            "text/plain": [
              "{2, 3, 5, 7}"
            ]
          },
          "metadata": {},
          "execution_count": 5
        }
      ],
      "source": [
        "p = {n for n in primes(10)}\n",
        "p"
      ]
    },
    {
      "cell_type": "markdown",
      "id": "a7b8f36b",
      "metadata": {
        "id": "a7b8f36b"
      },
      "source": [
        "Checking membership is constant time."
      ]
    },
    {
      "cell_type": "code",
      "execution_count": 6,
      "id": "5f32fae1",
      "metadata": {
        "tags": [],
        "id": "5f32fae1",
        "outputId": "62b25fe3-2906-49ff-9abe-698b8d3c265e",
        "colab": {
          "base_uri": "https://localhost:8080/"
        }
      },
      "outputs": [
        {
          "output_type": "execute_result",
          "data": {
            "text/plain": [
              "True"
            ]
          },
          "metadata": {},
          "execution_count": 6
        }
      ],
      "source": [
        "8 in f"
      ]
    },
    {
      "cell_type": "code",
      "execution_count": 7,
      "id": "2b7ee8a8",
      "metadata": {
        "tags": [],
        "id": "2b7ee8a8",
        "outputId": "29ffcda8-f699-437a-f7a7-1061b417cfad",
        "colab": {
          "base_uri": "https://localhost:8080/"
        }
      },
      "outputs": [
        {
          "output_type": "execute_result",
          "data": {
            "text/plain": [
              "False"
            ]
          },
          "metadata": {},
          "execution_count": 7
        }
      ],
      "source": [
        "8 in p"
      ]
    },
    {
      "cell_type": "markdown",
      "id": "922ab0f2",
      "metadata": {
        "id": "922ab0f2"
      },
      "source": [
        "Intersection is like AND: it returns elements in f AND in p."
      ]
    },
    {
      "cell_type": "code",
      "execution_count": 9,
      "id": "a1df245c",
      "metadata": {
        "tags": [],
        "id": "a1df245c",
        "outputId": "e42ef3e7-365a-437b-ef53-9a4138856aa9",
        "colab": {
          "base_uri": "https://localhost:8080/"
        }
      },
      "outputs": [
        {
          "output_type": "execute_result",
          "data": {
            "text/plain": [
              "{2, 3, 5}"
            ]
          },
          "metadata": {},
          "execution_count": 9
        }
      ],
      "source": [
        "f & p"
      ]
    },
    {
      "cell_type": "markdown",
      "id": "8422b7d2",
      "metadata": {
        "id": "8422b7d2"
      },
      "source": [
        "Union is like OR: it returns elements in f OR in p."
      ]
    },
    {
      "cell_type": "code",
      "execution_count": 10,
      "id": "4f06006b",
      "metadata": {
        "tags": [],
        "id": "4f06006b",
        "outputId": "f0cf3a14-1349-4d3c-d8ba-f7a018c318b7",
        "colab": {
          "base_uri": "https://localhost:8080/"
        }
      },
      "outputs": [
        {
          "output_type": "execute_result",
          "data": {
            "text/plain": [
              "{0, 1, 2, 3, 5, 7, 8}"
            ]
          },
          "metadata": {},
          "execution_count": 10
        }
      ],
      "source": [
        "f | p"
      ]
    },
    {
      "cell_type": "markdown",
      "id": "1570034f",
      "metadata": {
        "id": "1570034f"
      },
      "source": [
        "Symmetric difference is like XOR: elements from `f` OR `p` but not both."
      ]
    },
    {
      "cell_type": "code",
      "execution_count": 11,
      "id": "adf1edc2",
      "metadata": {
        "tags": [],
        "id": "adf1edc2",
        "outputId": "2bd40f5b-ef7b-4150-fbc2-ecc64b81f5e0",
        "colab": {
          "base_uri": "https://localhost:8080/"
        }
      },
      "outputs": [
        {
          "output_type": "execute_result",
          "data": {
            "text/plain": [
              "{0, 1, 7, 8}"
            ]
          },
          "metadata": {},
          "execution_count": 11
        }
      ],
      "source": [
        "f ^ p"
      ]
    },
    {
      "cell_type": "markdown",
      "id": "3ef0fcb0",
      "metadata": {
        "id": "3ef0fcb0"
      },
      "source": [
        "Here are the Fibonacci numbers that are not prime."
      ]
    },
    {
      "cell_type": "code",
      "execution_count": 12,
      "id": "dd36b7d7",
      "metadata": {
        "tags": [],
        "id": "dd36b7d7",
        "outputId": "1aabe0fe-0482-4bb8-f370-6a5e9fa90873",
        "colab": {
          "base_uri": "https://localhost:8080/"
        }
      },
      "outputs": [
        {
          "output_type": "execute_result",
          "data": {
            "text/plain": [
              "{0, 1, 8}"
            ]
          },
          "metadata": {},
          "execution_count": 12
        }
      ],
      "source": [
        "f - p"
      ]
    },
    {
      "cell_type": "markdown",
      "id": "2ff76ad6",
      "metadata": {
        "id": "2ff76ad6"
      },
      "source": [
        "And the primes that are not Fibonacci numbers."
      ]
    },
    {
      "cell_type": "code",
      "execution_count": 13,
      "id": "022aebe5",
      "metadata": {
        "tags": [],
        "id": "022aebe5",
        "outputId": "b9976e67-8c15-4d91-a406-a8415c692a7b",
        "colab": {
          "base_uri": "https://localhost:8080/"
        }
      },
      "outputs": [
        {
          "output_type": "execute_result",
          "data": {
            "text/plain": [
              "{7}"
            ]
          },
          "metadata": {},
          "execution_count": 13
        }
      ],
      "source": [
        "p - f"
      ]
    },
    {
      "cell_type": "markdown",
      "id": "5526ba75",
      "metadata": {
        "id": "5526ba75"
      },
      "source": [
        "The comparison operators check for subset and superset relationships.\n",
        "\n",
        "The Fibonacci numbers are not a superset of the primes."
      ]
    },
    {
      "cell_type": "code",
      "execution_count": 14,
      "id": "d3440917",
      "metadata": {
        "tags": [],
        "id": "d3440917",
        "outputId": "f2905dbe-34cf-496f-efaf-b2717b0b2798",
        "colab": {
          "base_uri": "https://localhost:8080/"
        }
      },
      "outputs": [
        {
          "output_type": "execute_result",
          "data": {
            "text/plain": [
              "False"
            ]
          },
          "metadata": {},
          "execution_count": 14
        }
      ],
      "source": [
        "f >= p"
      ]
    },
    {
      "cell_type": "markdown",
      "id": "35721968",
      "metadata": {
        "id": "35721968"
      },
      "source": [
        "And the primes are not a superset of the Fibonacci numbers."
      ]
    },
    {
      "cell_type": "code",
      "execution_count": 15,
      "id": "a3bc8632",
      "metadata": {
        "tags": [],
        "id": "a3bc8632",
        "outputId": "03c2cc7c-ce4a-4b3e-8b07-2faddcc3f65a",
        "colab": {
          "base_uri": "https://localhost:8080/"
        }
      },
      "outputs": [
        {
          "output_type": "execute_result",
          "data": {
            "text/plain": [
              "False"
            ]
          },
          "metadata": {},
          "execution_count": 15
        }
      ],
      "source": [
        "p >= f"
      ]
    },
    {
      "cell_type": "markdown",
      "id": "8ccf5d7b",
      "metadata": {
        "id": "8ccf5d7b"
      },
      "source": [
        "In that sense, sets are not like numbers: they are only [partially ordered](https://en.wikipedia.org/wiki/Partially_ordered_set).\n",
        "\n",
        "`f` is a superset of `{1, 2, 3}`"
      ]
    },
    {
      "cell_type": "code",
      "execution_count": 16,
      "id": "434dace6",
      "metadata": {
        "tags": [],
        "id": "434dace6",
        "outputId": "d894cc55-15d0-45fd-d331-79f76da2b170",
        "colab": {
          "base_uri": "https://localhost:8080/"
        }
      },
      "outputs": [
        {
          "output_type": "execute_result",
          "data": {
            "text/plain": [
              "True"
            ]
          },
          "metadata": {},
          "execution_count": 16
        }
      ],
      "source": [
        "f >= {1, 2, 3}"
      ]
    },
    {
      "cell_type": "code",
      "execution_count": 17,
      "id": "01341068",
      "metadata": {
        "tags": [],
        "id": "01341068",
        "outputId": "72741477-7051-4dc3-d794-e819ac26d820",
        "colab": {
          "base_uri": "https://localhost:8080/"
        }
      },
      "outputs": [
        {
          "output_type": "execute_result",
          "data": {
            "text/plain": [
              "False"
            ]
          },
          "metadata": {},
          "execution_count": 17
        }
      ],
      "source": [
        "p >= {1, 2, 3}"
      ]
    },
    {
      "cell_type": "markdown",
      "id": "0bf147a5",
      "metadata": {
        "id": "0bf147a5"
      },
      "source": [
        "Sets provide methods as well as operators. Why?\n",
        "\n",
        "For one thing, the argument you pass to a method can be any iterable, not just a set."
      ]
    },
    {
      "cell_type": "code",
      "execution_count": 18,
      "id": "f175f4a8",
      "metadata": {
        "tags": [],
        "id": "f175f4a8",
        "outputId": "2d11904e-be8c-4aa0-da8c-a6e0cbca269f",
        "colab": {
          "base_uri": "https://localhost:8080/"
        }
      },
      "outputs": [
        {
          "output_type": "stream",
          "name": "stdout",
          "text": [
            "'>=' not supported between instances of 'set' and 'list'\n"
          ]
        }
      ],
      "source": [
        "try:\n",
        "    f >= [1, 2, 3]\n",
        "except TypeError as e:\n",
        "    print(e)"
      ]
    },
    {
      "cell_type": "code",
      "execution_count": 19,
      "id": "b724811d",
      "metadata": {
        "tags": [],
        "id": "b724811d",
        "outputId": "1b3319ef-0052-4f7a-d1b9-a34628f7249e",
        "colab": {
          "base_uri": "https://localhost:8080/"
        }
      },
      "outputs": [
        {
          "output_type": "execute_result",
          "data": {
            "text/plain": [
              "True"
            ]
          },
          "metadata": {},
          "execution_count": 19
        }
      ],
      "source": [
        "f.issuperset([1,2,3])"
      ]
    },
    {
      "cell_type": "markdown",
      "id": "d1951fd6",
      "metadata": {
        "id": "d1951fd6"
      },
      "source": [
        "Methods also accept more than one argument:"
      ]
    },
    {
      "cell_type": "code",
      "execution_count": 20,
      "id": "eae2b543",
      "metadata": {
        "id": "eae2b543",
        "outputId": "0147bfad-2848-4152-bab7-c373a0982ac1",
        "colab": {
          "base_uri": "https://localhost:8080/"
        }
      },
      "outputs": [
        {
          "output_type": "execute_result",
          "data": {
            "text/plain": [
              "{0, 1, 2, 3, 4, 5, 6, 7, 8}"
            ]
          },
          "metadata": {},
          "execution_count": 20
        }
      ],
      "source": [
        "f.union([1,2,3], (3,4,5), {5,6,7}, {7:'a', 8:'b'})"
      ]
    },
    {
      "cell_type": "markdown",
      "id": "44245e99",
      "metadata": {
        "id": "44245e99"
      },
      "source": [
        "If you don't have a set to start with, you can use an empty set."
      ]
    },
    {
      "cell_type": "code",
      "execution_count": 21,
      "id": "09f015ff",
      "metadata": {
        "id": "09f015ff",
        "outputId": "c60726d2-7a1f-412c-8f35-f11cf2dd8b7a",
        "colab": {
          "base_uri": "https://localhost:8080/"
        }
      },
      "outputs": [
        {
          "output_type": "execute_result",
          "data": {
            "text/plain": [
              "{1, 2, 3, 4, 5, 6, 7, 8}"
            ]
          },
          "metadata": {},
          "execution_count": 21
        }
      ],
      "source": [
        "set().union([1,2,3], (3,4,5), {5,6,7}, {7:'a', 8:'b'})"
      ]
    },
    {
      "cell_type": "markdown",
      "id": "34922ec3",
      "metadata": {
        "id": "34922ec3"
      },
      "source": [
        "One small syntax nuisance: `{1, 2, 3}` is a set, but `{}` is an empty dictionary."
      ]
    },
    {
      "cell_type": "markdown",
      "id": "1cb0143e",
      "metadata": {
        "id": "1cb0143e"
      },
      "source": [
        "## Spelling Bee\n",
        "\n",
        "[The New York Times Spelling Bee](https://www.nytimes.com/puzzles/spelling-bee) is a daily puzzle where the goal is to spell as many words as possible using only the given set of seven letters.\n",
        "For example, in a recent Spelling Bee, the available letters were `dehiklo`,\n",
        "so you could spell \"like\" and \"hold\".\n",
        "\n",
        "You can use each of the letters more than once, so \"hook\" and \"deed\" would be allowed, too.\n",
        "\n",
        "To make it a little more interesting, one of the letters is special and must be included in every word.\n",
        "In this example, the special letter is `o`, so \"hood\" would be allowed, but not \"like\".\n",
        "\n",
        "Each word you find scores points depending on it's length, which must be at least four letters.\n",
        "A word that uses all of the letters is called a \"pangram\" and scores extra points.\n",
        "\n",
        "We'll use this puzzle to explore the use of Python sets."
      ]
    },
    {
      "cell_type": "markdown",
      "id": "6e3bd559",
      "metadata": {
        "id": "6e3bd559"
      },
      "source": [
        "Suppose we're given a word and we would like to know whether it can be spelled using only a given set of letters.\n",
        "The following function solves this problem using string operations."
      ]
    },
    {
      "cell_type": "code",
      "execution_count": 22,
      "id": "61880af0",
      "metadata": {
        "id": "61880af0"
      },
      "outputs": [],
      "source": [
        "def uses_only(word, letters):\n",
        "    for letter in word:\n",
        "        if letter not in letters:\n",
        "            return False\n",
        "    return True"
      ]
    },
    {
      "cell_type": "markdown",
      "id": "b691ac21",
      "metadata": {
        "id": "b691ac21"
      },
      "source": [
        "If we find any letters in `word` that are not in the list of letters, we can return `False` immediately.\n",
        "If we get through the word without finding any unavailable letters, we can return `True`.\n",
        "\n",
        "Let's try it out with some examples. In a recent Spelling Bee, the available letters were `dehiklo`.\n",
        "Let's see what we can spell with them."
      ]
    },
    {
      "cell_type": "code",
      "execution_count": 23,
      "id": "e91c8ab5",
      "metadata": {
        "id": "e91c8ab5",
        "outputId": "474c8491-9978-43d2-c719-e806f5ee501c",
        "colab": {
          "base_uri": "https://localhost:8080/"
        }
      },
      "outputs": [
        {
          "output_type": "execute_result",
          "data": {
            "text/plain": [
              "True"
            ]
          },
          "metadata": {},
          "execution_count": 23
        }
      ],
      "source": [
        "letters = \"dehiklo\"\n",
        "uses_only('lode', letters)"
      ]
    },
    {
      "cell_type": "code",
      "execution_count": 24,
      "id": "2043e70a",
      "metadata": {
        "id": "2043e70a",
        "outputId": "2bdb077c-99d2-4c00-bfec-9c07b2cc596b",
        "colab": {
          "base_uri": "https://localhost:8080/"
        }
      },
      "outputs": [
        {
          "output_type": "execute_result",
          "data": {
            "text/plain": [
              "False"
            ]
          },
          "metadata": {},
          "execution_count": 24
        }
      ],
      "source": [
        "uses_only('implode', letters)"
      ]
    },
    {
      "cell_type": "markdown",
      "id": "2caed2b8",
      "metadata": {
        "id": "2caed2b8"
      },
      "source": [
        "**Exercise:** It is possible to implement `uses_only` more concisely using set operations rather than list operations. [Read the documentation of the `set` class](https://docs.python.org/3/tutorial/datastructures.html#sets) and rewrite `uses_only` using sets."
      ]
    },
    {
      "cell_type": "code",
      "execution_count": 28,
      "id": "c7826a80",
      "metadata": {
        "id": "c7826a80"
      },
      "outputs": [],
      "source": [
        "def uses_only(word, letters):\n",
        "    #for letter in word:\n",
        "       #if letter not in letters:\n",
        "           # return False\n",
        "    #return True\n",
        "    return set(word) <= set(letters)"
      ]
    },
    {
      "cell_type": "code",
      "execution_count": 29,
      "id": "62d631b4",
      "metadata": {
        "id": "62d631b4",
        "outputId": "bf809913-9ccc-4ecf-f5e4-30de44ac5627",
        "colab": {
          "base_uri": "https://localhost:8080/"
        }
      },
      "outputs": [
        {
          "output_type": "execute_result",
          "data": {
            "text/plain": [
              "True"
            ]
          },
          "metadata": {},
          "execution_count": 29
        }
      ],
      "source": [
        "uses_only('lode', letters)"
      ]
    },
    {
      "cell_type": "code",
      "execution_count": 30,
      "id": "c1a84f7d",
      "metadata": {
        "id": "c1a84f7d",
        "outputId": "842b3a6e-378e-4354-ceb2-08d2a55d8667",
        "colab": {
          "base_uri": "https://localhost:8080/"
        }
      },
      "outputs": [
        {
          "output_type": "execute_result",
          "data": {
            "text/plain": [
              "False"
            ]
          },
          "metadata": {},
          "execution_count": 30
        }
      ],
      "source": [
        "uses_only('implode', letters)"
      ]
    },
    {
      "cell_type": "markdown",
      "id": "952485c9",
      "metadata": {
        "id": "952485c9"
      },
      "source": [
        "## Word list\n",
        "\n",
        "The following function downloads a list of about 100,000 words in American English."
      ]
    },
    {
      "cell_type": "code",
      "execution_count": 31,
      "id": "14479b61",
      "metadata": {
        "id": "14479b61",
        "outputId": "f51f4a3c-d8d5-443c-907b-a32d44e13389",
        "colab": {
          "base_uri": "https://localhost:8080/"
        }
      },
      "outputs": [
        {
          "output_type": "stream",
          "name": "stdout",
          "text": [
            "Downloaded american-english\n"
          ]
        }
      ],
      "source": [
        "from os.path import basename, exists\n",
        "\n",
        "def download(url):\n",
        "    filename = basename(url)\n",
        "    if not exists(filename):\n",
        "        from urllib.request import urlretrieve\n",
        "        local, _ = urlretrieve(url, filename)\n",
        "        print('Downloaded ' + local)\n",
        "\n",
        "download('https://github.com/AllenDowney/DSIRP/raw/main/american-english')"
      ]
    },
    {
      "cell_type": "markdown",
      "id": "8ba2793b",
      "metadata": {
        "id": "8ba2793b"
      },
      "source": [
        "The file contains one word per line, so we can read the file and split it into a list of words like this:"
      ]
    },
    {
      "cell_type": "code",
      "execution_count": 32,
      "id": "6f4c8f7b",
      "metadata": {
        "id": "6f4c8f7b",
        "outputId": "bf81c416-11e7-448b-cac6-13410df5f30e",
        "colab": {
          "base_uri": "https://localhost:8080/"
        }
      },
      "outputs": [
        {
          "output_type": "execute_result",
          "data": {
            "text/plain": [
              "102401"
            ]
          },
          "metadata": {},
          "execution_count": 32
        }
      ],
      "source": [
        "word_list = open('american-english').read().split()\n",
        "len(word_list)"
      ]
    },
    {
      "cell_type": "markdown",
      "id": "a26292b0",
      "metadata": {
        "id": "a26292b0"
      },
      "source": [
        "**Exercise:** Write a loop that iterates through this word list and prints only words\n",
        "\n",
        "* With at least four letters,\n",
        "\n",
        "* That can be spelled using only the letters `dehiklo`, and\n",
        "\n",
        "* That include the letter `o`."
      ]
    },
    {
      "cell_type": "code",
      "execution_count": 37,
      "id": "3ace74e4",
      "metadata": {
        "id": "3ace74e4",
        "outputId": "b292b266-d739-4065-9afb-e2ed4c85e2f4",
        "colab": {
          "base_uri": "https://localhost:8080/"
        }
      },
      "outputs": [
        {
          "output_type": "stream",
          "name": "stdout",
          "text": [
            "diode\n",
            "dodo\n",
            "dole\n",
            "doled\n",
            "doll\n",
            "dolled\n",
            "doodle\n",
            "doodled\n",
            "hellhole\n",
            "hello\n",
            "hoed\n",
            "hold\n",
            "hole\n",
            "holed\n",
            "hood\n",
            "hooded\n",
            "hoodie\n",
            "hoodoo\n",
            "hoodooed\n",
            "hook\n",
            "hooked\n",
            "idol\n",
            "kiddo\n",
            "kilo\n",
            "kook\n",
            "kookie\n",
            "likelihood\n",
            "lode\n",
            "loll\n",
            "lolled\n",
            "look\n",
            "looked\n",
            "oiled\n",
            "oldie\n",
            "oleo\n"
          ]
        }
      ],
      "source": [
        "for word in word_list:\n",
        "  print(word) if len(word)>= 4 and set('dehiklo') >= set(word) and 'o' in word else None"
      ]
    },
    {
      "cell_type": "markdown",
      "id": "39a69dc4",
      "metadata": {
        "id": "39a69dc4"
      },
      "source": [
        "**Exercise:** Now let's check for pangrams.\n",
        "Write a function called `uses_all` that takes two strings and returns `True` if the first string uses all of the letters in the second string.\n",
        "Think about how to express this computation using set operations.\n",
        "\n",
        "Test your function with at least one case that returns `True` and one that returns `False`."
      ]
    },
    {
      "cell_type": "code",
      "execution_count": 41,
      "id": "9c84b036",
      "metadata": {
        "id": "9c84b036"
      },
      "outputs": [],
      "source": [
        "def uses_all(word, letters):\n",
        "    return set(word) >= set(letters)"
      ]
    },
    {
      "cell_type": "code",
      "execution_count": 42,
      "id": "78966218",
      "metadata": {
        "id": "78966218",
        "outputId": "5b53f7c8-f987-45d9-b3a9-f97da012676a",
        "colab": {
          "base_uri": "https://localhost:8080/"
        }
      },
      "outputs": [
        {
          "output_type": "execute_result",
          "data": {
            "text/plain": [
              "True"
            ]
          },
          "metadata": {},
          "execution_count": 42
        }
      ],
      "source": [
        "uses_all(\"hooked\", \"ok\")"
      ]
    },
    {
      "cell_type": "code",
      "execution_count": null,
      "id": "053cef91",
      "metadata": {
        "id": "053cef91"
      },
      "outputs": [],
      "source": []
    },
    {
      "cell_type": "markdown",
      "id": "ac17d8e8",
      "metadata": {
        "id": "ac17d8e8"
      },
      "source": [
        "**Exercise:** Modify the previous loop to search the word list for pangrams using `uses_only` and `uses_all`.\n",
        "\n",
        "Or, as a bonus, write a function called `uses_all_and_only` that checks both conditions using a single `set` operation."
      ]
    },
    {
      "cell_type": "code",
      "execution_count": 44,
      "id": "93f8b775",
      "metadata": {
        "id": "93f8b775"
      },
      "outputs": [],
      "source": [
        "def uses_all_and_only(word, letters):\n",
        "    return set(word) == set(letters)"
      ]
    },
    {
      "cell_type": "code",
      "execution_count": 45,
      "id": "2e8ae3c2",
      "metadata": {
        "id": "2e8ae3c2",
        "outputId": "34cc6118-54fb-46c6-f4cb-ae5e59498ddf",
        "colab": {
          "base_uri": "https://localhost:8080/"
        }
      },
      "outputs": [
        {
          "output_type": "stream",
          "name": "stdout",
          "text": [
            "likelihood\n"
          ]
        }
      ],
      "source": [
        "for word in word_list:\n",
        "  print(word) if len(word)>= 4 and uses_all_and_only(word,'dehiklo') and 'o' in word else None"
      ]
    },
    {
      "cell_type": "code",
      "execution_count": null,
      "id": "91cfac2e",
      "metadata": {
        "id": "91cfac2e"
      },
      "outputs": [],
      "source": []
    },
    {
      "cell_type": "markdown",
      "id": "7d2eba1a",
      "metadata": {
        "id": "7d2eba1a"
      },
      "source": [
        "## Leftovers\n",
        "\n",
        "So far we've been writing Boolean functions that test specific conditions, but if they return `False`, they don't explain why.\n",
        "As an alternative to `uses_only`, we could write a function called `bad_letters` that takes a word and a set of letters, and returns a new string that contains the letters in words that are not available.  Let's call it `bad_letters`."
      ]
    },
    {
      "cell_type": "code",
      "execution_count": 46,
      "id": "a023ed32",
      "metadata": {
        "id": "a023ed32"
      },
      "outputs": [],
      "source": [
        "def bad_letters(word, letters):\n",
        "    return set(word) - set(letters)"
      ]
    },
    {
      "cell_type": "markdown",
      "id": "4afd6581",
      "metadata": {
        "id": "4afd6581"
      },
      "source": [
        "Now if we run this function with an illegal word, it will tell us which letters in the word are not available."
      ]
    },
    {
      "cell_type": "code",
      "execution_count": 47,
      "id": "1c78d5c2",
      "metadata": {
        "id": "1c78d5c2",
        "outputId": "0c96ed7c-5345-4a40-f64e-1a69a4efaff5",
        "colab": {
          "base_uri": "https://localhost:8080/"
        }
      },
      "outputs": [
        {
          "output_type": "execute_result",
          "data": {
            "text/plain": [
              "{'f'}"
            ]
          },
          "metadata": {},
          "execution_count": 47
        }
      ],
      "source": [
        "bad_letters('oilfield', letters)"
      ]
    },
    {
      "cell_type": "markdown",
      "id": "5e044976",
      "metadata": {
        "id": "5e044976"
      },
      "source": [
        "**Exercise:** Write a function called `unused_letters` that takes a word and a set of letters and returns the subset of the letters that are not used in `word`."
      ]
    },
    {
      "cell_type": "code",
      "execution_count": 51,
      "id": "b1854ea4",
      "metadata": {
        "id": "b1854ea4"
      },
      "outputs": [],
      "source": [
        "def unused_letters(word, letters):\n",
        "    return set(letters) - set(word)\n"
      ]
    },
    {
      "cell_type": "code",
      "execution_count": 52,
      "id": "0a73331a",
      "metadata": {
        "id": "0a73331a",
        "outputId": "95f5727e-f64b-4d99-e262-6269b18876a8",
        "colab": {
          "base_uri": "https://localhost:8080/"
        }
      },
      "outputs": [
        {
          "output_type": "execute_result",
          "data": {
            "text/plain": [
              "{'h', 'k'}"
            ]
          },
          "metadata": {},
          "execution_count": 52
        }
      ],
      "source": [
        "unused_letters('oilfield', letters)"
      ]
    },
    {
      "cell_type": "markdown",
      "id": "48be61ac",
      "metadata": {
        "id": "48be61ac"
      },
      "source": [
        "**Exercise:** Write a function called `no_duplicates` that takes a string and returns `True` if each letter appears only once."
      ]
    },
    {
      "cell_type": "code",
      "execution_count": 53,
      "id": "5c8422d4",
      "metadata": {
        "id": "5c8422d4"
      },
      "outputs": [],
      "source": [
        "def no_duplicates(word):\n",
        "    return len(word) == len(set(word))"
      ]
    },
    {
      "cell_type": "code",
      "execution_count": 54,
      "id": "7e77124c",
      "metadata": {
        "id": "7e77124c",
        "outputId": "bf80b3e7-ba28-4dbc-c474-b29a4cba9b91",
        "colab": {
          "base_uri": "https://localhost:8080/"
        }
      },
      "outputs": [
        {
          "output_type": "stream",
          "name": "stdout",
          "text": [
            "True\n"
          ]
        }
      ],
      "source": [
        "print(no_duplicates(\"planet\"))"
      ]
    },
    {
      "cell_type": "code",
      "execution_count": 55,
      "id": "0200d5a4",
      "metadata": {
        "id": "0200d5a4",
        "outputId": "32f1a5f1-d992-44d0-9a6b-f8816f1f1c58",
        "colab": {
          "base_uri": "https://localhost:8080/"
        }
      },
      "outputs": [
        {
          "output_type": "stream",
          "name": "stdout",
          "text": [
            "False\n"
          ]
        }
      ],
      "source": [
        "print(no_duplicates(\"letter\"))"
      ]
    },
    {
      "cell_type": "markdown",
      "id": "d0c54f80",
      "metadata": {
        "id": "d0c54f80"
      },
      "source": [
        "*Data Structures and Information Retrieval in Python*\n",
        "\n",
        "Copyright 2021 Allen Downey\n",
        "\n",
        "License: [Creative Commons Attribution-NonCommercial-ShareAlike 4.0 International](https://creativecommons.org/licenses/by-nc-sa/4.0/)"
      ]
    }
  ],
  "metadata": {
    "celltoolbar": "Tags",
    "kernelspec": {
      "display_name": "Python 3 (ipykernel)",
      "language": "python",
      "name": "python3"
    },
    "language_info": {
      "codemirror_mode": {
        "name": "ipython",
        "version": 3
      },
      "file_extension": ".py",
      "mimetype": "text/x-python",
      "name": "python",
      "nbconvert_exporter": "python",
      "pygments_lexer": "ipython3",
      "version": "3.10.1"
    },
    "colab": {
      "provenance": []
    }
  },
  "nbformat": 4,
  "nbformat_minor": 5
}