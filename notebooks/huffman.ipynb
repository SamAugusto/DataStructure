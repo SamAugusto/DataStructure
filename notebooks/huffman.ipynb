{
  "cells": [
    {
      "cell_type": "markdown",
      "metadata": {
        "id": "UIQRD0vwx-HH"
      },
      "source": [
        "# Huffman Code"
      ]
    },
    {
      "cell_type": "markdown",
      "metadata": {
        "id": "4RYKWkR4x-HJ"
      },
      "source": [
        "[Click here to run this chapter on Colab](https://colab.research.google.com/github/AllenDowney/DSIRP/blob/main/notebooks/huffman.ipynb)"
      ]
    },
    {
      "cell_type": "markdown",
      "metadata": {
        "id": "i9-Fb3U2x-HJ"
      },
      "source": [
        "A [Huffman code](https://en.wikipedia.org/wiki/Huffman_coding) is a \"type of optimal prefix code that is commonly used for lossless data compression\".\n",
        "There are three parts of that definition we have to unpack: \"code\", \"prefix\", and \"optimal\".\n",
        "\n",
        "In this context, a \"code\" is a mapping from symbols to bit strings.\n",
        "For example, [ASCII](https://en.wikipedia.org/wiki/ASCII) is a character encoding that maps from characters (like letters, numbers, and punctuation) to seven-bit integers.\n",
        "Since all ASCII bit strings are the same length, it is a \"fixed-length code\", as contrasted with Huffman codes, which are \"variable-length codes\".\n",
        "\n",
        "In order to decode something encoded in a variable-length code, there has to be some way to figure out where one bit string ends and the next begins.\n",
        "In general, there are three ways to solve this problem:\n",
        "\n",
        "* One option is to begin each bit string with a special sequence that indicates its length. This is [how Unicode works](https://stackoverflow.com/questions/1543613/how-does-utf-8-variable-width-encoding-work).\n",
        "\n",
        "* Another option is to end each bit string with a special sequence that marks the end.\n",
        "\n",
        "* The third option is to use a \"prefix code\", which is how Huffman codes work.\n",
        "\n",
        "A prefix code is a code where no whole bit string in the code is a prefix of any bit string in the code.\n",
        "If a code has this property, we can decode it by reading bits one at a time and checking to see whether we have completed a valid bit string.\n",
        "If so, we know we are at the end of the bit string, because it cannot be the prefix of another bit string.\n",
        "\n",
        "For example, the following is a prefix code with only three symbols:\n",
        "\n",
        "```\n",
        "symbol        bit string\n",
        "x             1\n",
        "y             01\n",
        "z             001\n",
        "```\n",
        "\n",
        "In this code, we can encode the string `xyz` with the bit string `101001`, and we can decode the result without ambiguity.\n",
        "\n",
        "So that's what it means to say that a Huffman code is a prefix code; finally, Huffman codes are \"optimal\" in the sense that they give short codes to the most common symbols and longer codes to the least common symbols.\n",
        "The result is that they minimize the average number of bits needed to encode a sequence of symbols.\n",
        "\n",
        "However, in order to achieve this feat, we have to know the relative frequencies of the symbols.\n",
        "One way to do that is to start with a \"corpus\", which is a text that contains the symbols in the proportions we expect for the text we will encode.\n",
        "\n",
        "As an example, I'll use the text from the [Huffman code Wikipedia page](https://en.wikipedia.org/wiki/Huffman_coding)."
      ]
    },
    {
      "cell_type": "code",
      "execution_count": 1,
      "metadata": {
        "id": "IYm8QTh5x-HJ"
      },
      "outputs": [],
      "source": [
        "text = 'this is an example of a huffman tree'"
      ]
    },
    {
      "cell_type": "markdown",
      "metadata": {
        "id": "Wl4wn6Mjx-HK"
      },
      "source": [
        "We can use a `Counter` to count the number of times each symbol appears in this text."
      ]
    },
    {
      "cell_type": "code",
      "execution_count": 2,
      "metadata": {
        "id": "p2e2x2Jex-HK",
        "outputId": "66047336-ff77-4462-dac1-3cf82a91d503",
        "colab": {
          "base_uri": "https://localhost:8080/"
        }
      },
      "outputs": [
        {
          "output_type": "execute_result",
          "data": {
            "text/plain": [
              "Counter({'t': 2,\n",
              "         'h': 2,\n",
              "         'i': 2,\n",
              "         's': 2,\n",
              "         ' ': 7,\n",
              "         'a': 4,\n",
              "         'n': 2,\n",
              "         'e': 4,\n",
              "         'x': 1,\n",
              "         'm': 2,\n",
              "         'p': 1,\n",
              "         'l': 1,\n",
              "         'o': 1,\n",
              "         'f': 3,\n",
              "         'u': 1,\n",
              "         'r': 1})"
            ]
          },
          "metadata": {},
          "execution_count": 2
        }
      ],
      "source": [
        "from collections import Counter\n",
        "\n",
        "c = Counter(text)\n",
        "c"
      ]
    },
    {
      "cell_type": "markdown",
      "metadata": {
        "id": "xqcz24uAx-HK"
      },
      "source": [
        "Now let's see how we can use these counts to build a Huffman code.\n",
        "The first step is to build a Huffman tree, which is a binary tree where every node contains a count and some nodes contain symbols.\n",
        "\n",
        "To make a Huffman tree, we start with a sequence of nodes, one for each symbol.\n",
        "To represent nodes, I'll use a `namedtuple`."
      ]
    },
    {
      "cell_type": "code",
      "execution_count": 3,
      "metadata": {
        "tags": [],
        "id": "Ty_rSaztx-HK"
      },
      "outputs": [],
      "source": [
        "from collections import namedtuple\n",
        "\n",
        "Node = namedtuple('Node', ['count', 'letter', 'left', 'right'])"
      ]
    },
    {
      "cell_type": "markdown",
      "metadata": {
        "id": "LYlhC681x-HL"
      },
      "source": [
        "For example, here's a node that represents the symbol `a` with count `4`.\n",
        "Since this node has no children, it is a leaf node."
      ]
    },
    {
      "cell_type": "code",
      "execution_count": 4,
      "metadata": {
        "tags": [],
        "id": "DL8w32r1x-HL",
        "outputId": "97d25d0b-40a8-4987-a8ea-946874bfe11b",
        "colab": {
          "base_uri": "https://localhost:8080/"
        }
      },
      "outputs": [
        {
          "output_type": "execute_result",
          "data": {
            "text/plain": [
              "Node(count=4, letter='a', left=None, right=None)"
            ]
          },
          "metadata": {},
          "execution_count": 4
        }
      ],
      "source": [
        "left = Node(4, 'a', None, None)\n",
        "left"
      ]
    },
    {
      "cell_type": "markdown",
      "metadata": {
        "id": "m0ikcjCBx-HL"
      },
      "source": [
        "And here's another leaf node that represents the symbol `n` and its count."
      ]
    },
    {
      "cell_type": "code",
      "execution_count": 5,
      "metadata": {
        "tags": [],
        "id": "Y57ZQ9Lex-HL",
        "outputId": "eec8e505-935b-446c-d2eb-634cddfd46ef",
        "colab": {
          "base_uri": "https://localhost:8080/"
        }
      },
      "outputs": [
        {
          "output_type": "execute_result",
          "data": {
            "text/plain": [
              "Node(count=2, letter='n', left=None, right=None)"
            ]
          },
          "metadata": {},
          "execution_count": 5
        }
      ],
      "source": [
        "right = Node(2, 'n', None, None)\n",
        "right"
      ]
    },
    {
      "cell_type": "markdown",
      "metadata": {
        "id": "UsWMfkYOx-HL"
      },
      "source": [
        "One reason we're using a namedtuple is that it behaves like a tuple, so if we compare two `Node` objects, we get a tuple-like sorting order."
      ]
    },
    {
      "cell_type": "code",
      "execution_count": 6,
      "metadata": {
        "tags": [],
        "id": "PMfO7VDxx-HL",
        "outputId": "6045da8a-97e0-42ca-afc6-3618bc99b63c",
        "colab": {
          "base_uri": "https://localhost:8080/"
        }
      },
      "outputs": [
        {
          "output_type": "execute_result",
          "data": {
            "text/plain": [
              "True"
            ]
          },
          "metadata": {},
          "execution_count": 6
        }
      ],
      "source": [
        "left > right"
      ]
    },
    {
      "cell_type": "markdown",
      "metadata": {
        "id": "ocqCtjkex-HL"
      },
      "source": [
        "If two nodes have the same `count`, they get sorted in alphabetical order by `letter`."
      ]
    },
    {
      "cell_type": "markdown",
      "metadata": {
        "id": "fF7TZKc7x-HL"
      },
      "source": [
        "## Making trees\n",
        "\n",
        "Given these two leaf nodes, we can make a tree like this:"
      ]
    },
    {
      "cell_type": "code",
      "execution_count": 7,
      "metadata": {
        "tags": [],
        "id": "BO-js2e2x-HL",
        "outputId": "930c7a9f-f29e-44e9-d2db-28a13bbaaf91",
        "colab": {
          "base_uri": "https://localhost:8080/"
        }
      },
      "outputs": [
        {
          "output_type": "execute_result",
          "data": {
            "text/plain": [
              "Node(count=6, letter='\\x00', left=Node(count=4, letter='a', left=None, right=None), right=Node(count=2, letter='n', left=None, right=None))"
            ]
          },
          "metadata": {},
          "execution_count": 7
        }
      ],
      "source": [
        "count = left.count + right.count\n",
        "root = Node(count, '\\0', left, right)\n",
        "root"
      ]
    },
    {
      "cell_type": "markdown",
      "metadata": {
        "id": "tzqwtwKmx-HL"
      },
      "source": [
        "Because `root` has children, it is not a leaf node; it is an interior node.\n",
        "In a Huffman tree, the interior nodes do not represent symbols, so I have set `letter` to the null character `\\0`.\n",
        "The count of an interior node is the sum of the count of its children."
      ]
    },
    {
      "cell_type": "markdown",
      "metadata": {
        "id": "F8rrTIRqx-HL"
      },
      "source": [
        "Now, to build a Huffman tree, we'll start with a collection of nodes, one for each symbol, and build the tree \"bottom up\" by following these steps:\n",
        "\n",
        "1) Remove the node with the lowest count.\n",
        "\n",
        "2) Remove the node with the next lowest count.\n",
        "\n",
        "3) Make a new node with the nodes we just removed as children.\n",
        "\n",
        "4) Put the new node back into the collection.\n",
        "\n",
        "5) If there's only one node in the collection, it's the Huffman tree, and we're done.\n",
        "\n",
        "In general, we could use any kind of collection, but if we look at the operations required by this algorithm, the most efficient option is a heap."
      ]
    },
    {
      "cell_type": "markdown",
      "metadata": {
        "id": "K5aFeFzrx-HM"
      },
      "source": [
        "But we'll start by iterating through the `Counter` and making a list of `Node` objects,"
      ]
    },
    {
      "cell_type": "code",
      "execution_count": 8,
      "metadata": {
        "tags": [],
        "id": "qTk8NB3tx-HM",
        "outputId": "aec888a9-722c-45aa-c2f8-68eb298a70b7",
        "colab": {
          "base_uri": "https://localhost:8080/"
        }
      },
      "outputs": [
        {
          "output_type": "execute_result",
          "data": {
            "text/plain": [
              "[Node(count=2, letter='t', left=None, right=None),\n",
              " Node(count=2, letter='h', left=None, right=None),\n",
              " Node(count=2, letter='i', left=None, right=None),\n",
              " Node(count=2, letter='s', left=None, right=None),\n",
              " Node(count=7, letter=' ', left=None, right=None),\n",
              " Node(count=4, letter='a', left=None, right=None),\n",
              " Node(count=2, letter='n', left=None, right=None),\n",
              " Node(count=4, letter='e', left=None, right=None),\n",
              " Node(count=1, letter='x', left=None, right=None),\n",
              " Node(count=2, letter='m', left=None, right=None),\n",
              " Node(count=1, letter='p', left=None, right=None),\n",
              " Node(count=1, letter='l', left=None, right=None),\n",
              " Node(count=1, letter='o', left=None, right=None),\n",
              " Node(count=3, letter='f', left=None, right=None),\n",
              " Node(count=1, letter='u', left=None, right=None),\n",
              " Node(count=1, letter='r', left=None, right=None)]"
            ]
          },
          "metadata": {},
          "execution_count": 8
        }
      ],
      "source": [
        "nodes = [Node(count, letter, None, None)\n",
        "         for (letter, count) in c.items()]\n",
        "nodes"
      ]
    },
    {
      "cell_type": "markdown",
      "metadata": {
        "id": "9ZKL0fG6x-HM"
      },
      "source": [
        "Next we'll use the heap module to convert the list to a heap."
      ]
    },
    {
      "cell_type": "code",
      "execution_count": 9,
      "metadata": {
        "tags": [],
        "id": "8ZgglGzQx-HM",
        "outputId": "7011e7a4-d0c0-4027-b4b9-2fbb1bfcbb1a",
        "colab": {
          "base_uri": "https://localhost:8080/"
        }
      },
      "outputs": [
        {
          "output_type": "execute_result",
          "data": {
            "text/plain": [
              "[Node(count=1, letter='l', left=None, right=None),\n",
              " Node(count=1, letter='p', left=None, right=None),\n",
              " Node(count=1, letter='o', left=None, right=None),\n",
              " Node(count=1, letter='r', left=None, right=None),\n",
              " Node(count=2, letter='h', left=None, right=None),\n",
              " Node(count=2, letter='i', left=None, right=None),\n",
              " Node(count=1, letter='u', left=None, right=None),\n",
              " Node(count=2, letter='s', left=None, right=None),\n",
              " Node(count=1, letter='x', left=None, right=None),\n",
              " Node(count=2, letter='m', left=None, right=None),\n",
              " Node(count=7, letter=' ', left=None, right=None),\n",
              " Node(count=4, letter='a', left=None, right=None),\n",
              " Node(count=2, letter='t', left=None, right=None),\n",
              " Node(count=3, letter='f', left=None, right=None),\n",
              " Node(count=2, letter='n', left=None, right=None),\n",
              " Node(count=4, letter='e', left=None, right=None)]"
            ]
          },
          "metadata": {},
          "execution_count": 9
        }
      ],
      "source": [
        "from heapq import heapify, heappop, heappush\n",
        "\n",
        "heap = nodes.copy()\n",
        "heapify(heap)\n",
        "heap"
      ]
    },
    {
      "cell_type": "markdown",
      "metadata": {
        "id": "zcLQv8oSx-HM"
      },
      "source": [
        "Now we can use the heap to make a tree.\n",
        "\n",
        "**Exercise:** Write a function called `make_tree` that takes a heap of `Node` objects and uses the algorithm I described to make and return a Huffman tree. In other words, it should join up the nodes into a tree and return the root node."
      ]
    },
    {
      "cell_type": "code",
      "execution_count": 10,
      "metadata": {
        "id": "X1RTh5f0x-HM"
      },
      "outputs": [],
      "source": [
        "text = 'this is an example of a huffman tree'\n",
        "\n",
        "from collections import Counter, namedtuple\n",
        "c =  Counter(text)\n",
        "Node = namedtuple('Node', ['count','letter','left','right'])\n",
        "left = Node(4, 'a', None, None)\n",
        "right = Node(2, 'n', None, None)\n",
        "count =  left.count + right.count\n",
        "root = Node(count, '\\0',left, right)\n",
        "nodes = [Node(count,letter, None, None)\n",
        "         for (letter, count) in c.items()]\n",
        "\n",
        "from heapq import heapify, heappop, heappush\n",
        "heap = nodes.copy()\n",
        "heapify(heap)\n",
        "def make_tree(heap):\n",
        "    if len(heap) == 1:\n",
        "        return heap[0]\n",
        "    lowest_count = heappop(heap)\n",
        "    next_lowest_count = heappop(heap)\n",
        "    new_node = Node(lowest_count.count + next_lowest_count.count,'\\0',lowest_count\n",
        "                    ,next_lowest_count)\n",
        "    heappush(heap, new_node)\n",
        "    return make_tree(heap)\n",
        "tree = make_tree(heap)\n",
        "\n"
      ]
    },
    {
      "cell_type": "markdown",
      "metadata": {
        "id": "-w0oGjNAx-HM"
      },
      "source": [
        "Use this code to test it."
      ]
    },
    {
      "cell_type": "code",
      "execution_count": 11,
      "metadata": {
        "tags": [],
        "id": "MX8mRg5Hx-HM"
      },
      "outputs": [],
      "source": [
        "tree = make_tree(heap)"
      ]
    },
    {
      "cell_type": "markdown",
      "metadata": {
        "id": "uLys9x2hx-HM"
      },
      "source": [
        "## Drawing the Tree\n",
        "\n",
        "To see what it looks like, we'll use NetworkX and a library called EoN."
      ]
    },
    {
      "cell_type": "code",
      "execution_count": 12,
      "metadata": {
        "id": "wBrmZ6ekx-HM",
        "outputId": "df40a5c5-d2e8-40cd-84c8-2f356d495c91",
        "colab": {
          "base_uri": "https://localhost:8080/"
        }
      },
      "outputs": [
        {
          "output_type": "stream",
          "name": "stdout",
          "text": [
            "Collecting EoN\n",
            "  Downloading eon-1.2.tar.gz (117 kB)\n",
            "\u001b[2K     \u001b[90m━━━━━━━━━━━━━━━━━━━━━━━━━━━━━━━━━━━━━━━\u001b[0m \u001b[32m117.3/117.3 kB\u001b[0m \u001b[31m2.6 MB/s\u001b[0m eta \u001b[36m0:00:00\u001b[0m\n",
            "\u001b[?25h  Preparing metadata (setup.py) ... \u001b[?25l\u001b[?25hdone\n",
            "Requirement already satisfied: networkx>=2 in /usr/local/lib/python3.11/dist-packages (from EoN) (3.5)\n",
            "Requirement already satisfied: numpy in /usr/local/lib/python3.11/dist-packages (from EoN) (2.0.2)\n",
            "Requirement already satisfied: scipy in /usr/local/lib/python3.11/dist-packages (from EoN) (1.15.3)\n",
            "Requirement already satisfied: matplotlib in /usr/local/lib/python3.11/dist-packages (from EoN) (3.10.0)\n",
            "Requirement already satisfied: contourpy>=1.0.1 in /usr/local/lib/python3.11/dist-packages (from matplotlib->EoN) (1.3.2)\n",
            "Requirement already satisfied: cycler>=0.10 in /usr/local/lib/python3.11/dist-packages (from matplotlib->EoN) (0.12.1)\n",
            "Requirement already satisfied: fonttools>=4.22.0 in /usr/local/lib/python3.11/dist-packages (from matplotlib->EoN) (4.58.1)\n",
            "Requirement already satisfied: kiwisolver>=1.3.1 in /usr/local/lib/python3.11/dist-packages (from matplotlib->EoN) (1.4.8)\n",
            "Requirement already satisfied: packaging>=20.0 in /usr/local/lib/python3.11/dist-packages (from matplotlib->EoN) (24.2)\n",
            "Requirement already satisfied: pillow>=8 in /usr/local/lib/python3.11/dist-packages (from matplotlib->EoN) (11.2.1)\n",
            "Requirement already satisfied: pyparsing>=2.3.1 in /usr/local/lib/python3.11/dist-packages (from matplotlib->EoN) (3.2.3)\n",
            "Requirement already satisfied: python-dateutil>=2.7 in /usr/local/lib/python3.11/dist-packages (from matplotlib->EoN) (2.9.0.post0)\n",
            "Requirement already satisfied: six>=1.5 in /usr/local/lib/python3.11/dist-packages (from python-dateutil>=2.7->matplotlib->EoN) (1.17.0)\n",
            "Building wheels for collected packages: EoN\n",
            "  Building wheel for EoN (setup.py) ... \u001b[?25l\u001b[?25hdone\n",
            "  Created wheel for EoN: filename=EoN-1.2-py3-none-any.whl size=122468 sha256=8c7593a7efba11875cb32b0de3ddb2c9c1db0f311e948edef307bbe8220aa58f\n",
            "  Stored in directory: /root/.cache/pip/wheels/10/ec/88/6daefcc5ebdf7e373db9da6a61386f33143571d885c4c7708a\n",
            "Successfully built EoN\n",
            "Installing collected packages: EoN\n",
            "Successfully installed EoN-1.2\n"
          ]
        }
      ],
      "source": [
        "try:\n",
        "    import EoN\n",
        "except ImportError:\n",
        "    !pip install EoN"
      ]
    },
    {
      "cell_type": "markdown",
      "metadata": {
        "id": "Qq3918ZPx-HM"
      },
      "source": [
        "The following function traverses the Huffman tree and makes a NetworkX `DiGraph`."
      ]
    },
    {
      "cell_type": "code",
      "execution_count": 13,
      "metadata": {
        "id": "aWnmN5GZx-HM"
      },
      "outputs": [],
      "source": [
        "import networkx as nx\n",
        "\n",
        "def add_edges(parent, G):\n",
        "    \"\"\"Make a NetworkX graph that represents the tree.\"\"\"\n",
        "    if parent is None:\n",
        "        return\n",
        "\n",
        "    for child in (parent.left, parent.right):\n",
        "        if child:\n",
        "            G.add_edge(parent, child)\n",
        "            add_edges(child, G)"
      ]
    },
    {
      "cell_type": "code",
      "execution_count": 14,
      "metadata": {
        "id": "o7GrUqqNx-HM"
      },
      "outputs": [],
      "source": [
        "G = nx.DiGraph()\n",
        "add_edges(tree, G)"
      ]
    },
    {
      "cell_type": "markdown",
      "metadata": {
        "id": "NipvNJQ5x-HM"
      },
      "source": [
        "The following function traverses the tree again and collects the node labels in a dictionary."
      ]
    },
    {
      "cell_type": "code",
      "execution_count": 15,
      "metadata": {
        "id": "Hs3quc8vx-HM"
      },
      "outputs": [],
      "source": [
        "def get_labels(parent, labels):\n",
        "    if parent is None:\n",
        "        return\n",
        "\n",
        "    if parent.letter == '\\0':\n",
        "        labels[parent] = parent.count\n",
        "    else:\n",
        "        labels[parent] = parent.letter\n",
        "\n",
        "    get_labels(parent.left, labels)\n",
        "    get_labels(parent.right, labels)"
      ]
    },
    {
      "cell_type": "code",
      "execution_count": 16,
      "metadata": {
        "id": "3ZmfZmb4x-HM"
      },
      "outputs": [],
      "source": [
        "labels = {}\n",
        "get_labels(tree, labels)"
      ]
    },
    {
      "cell_type": "code",
      "execution_count": 17,
      "metadata": {
        "id": "N0Yxc-Ozx-HM"
      },
      "outputs": [],
      "source": [
        "def get_edge_labels(parent, edge_labels):\n",
        "    if parent is None:\n",
        "        return\n",
        "\n",
        "    if parent.left:\n",
        "        edge_labels[parent, parent.left] = '0'\n",
        "        get_edge_labels(parent.left, edge_labels)\n",
        "\n",
        "    if parent.right:\n",
        "        edge_labels[parent, parent.right] = '1'\n",
        "        get_edge_labels(parent.right, edge_labels)"
      ]
    },
    {
      "cell_type": "code",
      "execution_count": 18,
      "metadata": {
        "id": "mawIJiuTx-HN",
        "outputId": "4a79e5c0-4055-440b-ce99-4f0b436a8a9a",
        "colab": {
          "base_uri": "https://localhost:8080/"
        }
      },
      "outputs": [
        {
          "output_type": "execute_result",
          "data": {
            "text/plain": [
              "30"
            ]
          },
          "metadata": {},
          "execution_count": 18
        }
      ],
      "source": [
        "edge_labels = {}\n",
        "get_edge_labels(tree, edge_labels)\n",
        "len(edge_labels)"
      ]
    },
    {
      "cell_type": "markdown",
      "metadata": {
        "id": "rwsiyIjMx-HN"
      },
      "source": [
        "Now we're ready to draw."
      ]
    },
    {
      "cell_type": "code",
      "execution_count": 19,
      "metadata": {
        "id": "KZWC3r0Qx-HN"
      },
      "outputs": [],
      "source": [
        "from EoN import hierarchy_pos\n",
        "\n",
        "def draw_tree(tree):\n",
        "    G = nx.DiGraph()\n",
        "    add_edges(tree, G)\n",
        "    pos = hierarchy_pos(G)\n",
        "    labels = {}\n",
        "    get_labels(tree, labels)\n",
        "    edge_labels = {}\n",
        "    get_edge_labels(tree, edge_labels)\n",
        "    nx.draw(G, pos, labels=labels, alpha=0.4)\n",
        "    nx.draw_networkx_edge_labels(G, pos, edge_labels=edge_labels, font_color='C1')"
      ]
    },
    {
      "cell_type": "code",
      "execution_count": 20,
      "metadata": {
        "id": "tj99c7G-x-HP",
        "outputId": "2652c04a-5794-4116-e776-d157420476ec",
        "colab": {
          "base_uri": "https://localhost:8080/",
          "height": 516
        }
      },
      "outputs": [
        {
          "output_type": "display_data",
          "data": {
            "text/plain": [
              "<Figure size 640x480 with 1 Axes>"
            ],
            "image/png": "[encoded data removed]"
          },
          "metadata": {}
        }
      ],
      "source": [
        "draw_tree(tree)"
      ]
    },
    {
      "cell_type": "markdown",
      "metadata": {
        "id": "Vw9O0Xw4x-HP"
      },
      "source": [
        "The result might not be identical to the tree on [the Wikipedia page](https://en.wikipedia.org/wiki/Huffman_coding), but a letter in our tree should be on the same level as the same letter in their tree."
      ]
    },
    {
      "cell_type": "markdown",
      "metadata": {
        "id": "uav_CXNJx-HP"
      },
      "source": [
        "## Making the Table\n",
        "\n",
        "The following function traverses the tree, keeping track of the path as it goes. When it finds a leaf node, it makes an entry in the table."
      ]
    },
    {
      "cell_type": "code",
      "execution_count": 21,
      "metadata": {
        "tags": [],
        "id": "Y33j0VJDx-HP"
      },
      "outputs": [],
      "source": [
        "def is_leaf(node):\n",
        "    return node.left is None and node.right is None"
      ]
    },
    {
      "cell_type": "code",
      "execution_count": 22,
      "metadata": {
        "tags": [],
        "id": "nUgCGFm9x-HP"
      },
      "outputs": [],
      "source": [
        "def make_table(node, path, table):\n",
        "    if node is None:\n",
        "        return\n",
        "\n",
        "    if is_leaf(node):\n",
        "        table[node.letter] = path\n",
        "        return\n",
        "\n",
        "    make_table(node.left, path+'0', table)\n",
        "    make_table(node.right, path+'1', table)"
      ]
    },
    {
      "cell_type": "code",
      "execution_count": 23,
      "metadata": {
        "tags": [],
        "id": "NnAF5gBNx-HP",
        "outputId": "42e703da-bc2f-4a97-dc77-cc22b05b6892",
        "colab": {
          "base_uri": "https://localhost:8080/"
        }
      },
      "outputs": [
        {
          "output_type": "execute_result",
          "data": {
            "text/plain": [
              "{'l': '00000',\n",
              " 'o': '00001',\n",
              " 'p': '00010',\n",
              " 'r': '00011',\n",
              " 'u': '00100',\n",
              " 'x': '00101',\n",
              " 'h': '0011',\n",
              " 'i': '0100',\n",
              " 'm': '0101',\n",
              " 'n': '0110',\n",
              " 's': '0111',\n",
              " 'a': '100',\n",
              " 'e': '101',\n",
              " 't': '1100',\n",
              " 'f': '1101',\n",
              " ' ': '111'}"
            ]
          },
          "metadata": {},
          "execution_count": 23
        }
      ],
      "source": [
        "table = {}\n",
        "make_table(tree, '', table)\n",
        "\n",
        "table"
      ]
    },
    {
      "cell_type": "markdown",
      "metadata": {
        "id": "MeNDYmx3x-HP"
      },
      "source": [
        "## Encoding\n",
        "\n",
        "We can use the table to encode a string by looking up each symbol in the string and joining the results into a bit string."
      ]
    },
    {
      "cell_type": "code",
      "execution_count": 24,
      "metadata": {
        "tags": [],
        "id": "qf87OYevx-HP"
      },
      "outputs": [],
      "source": [
        "def encode(s, table):\n",
        "    t = [table[letter] for letter in s]\n",
        "    return ''.join(t)"
      ]
    },
    {
      "cell_type": "markdown",
      "metadata": {
        "id": "o60qqwvLx-HP"
      },
      "source": [
        "Here's an example, noting that we can encode strings other than the corpus we started with, provided that it contains no symbols that were not in the corpus."
      ]
    },
    {
      "cell_type": "code",
      "execution_count": 68,
      "metadata": {
        "tags": [],
        "id": "9UT6kYmdx-HP",
        "outputId": "34bfed92-b64c-4e15-8762-119b31c62329",
        "colab": {
          "base_uri": "https://localhost:8080/",
          "height": 35
        }
      },
      "outputs": [
        {
          "output_type": "execute_result",
          "data": {
            "text/plain": [
              "'1100001101000111111010001111110111000100100011010000000111110010000010'"
            ],
            "application/vnd.google.colaboratory.intrinsic+json": {
              "type": "string"
            }
          },
          "metadata": {},
          "execution_count": 68
        }
      ],
      "source": [
        "code = encode('this is spinal tap',table)\n",
        "code"
      ]
    },
    {
      "cell_type": "markdown",
      "metadata": {
        "id": "-3PNn3Lvx-HP"
      },
      "source": [
        "## Decoding\n",
        "\n",
        "To decode the bit string, we start at the top of the tree and follow the path, turning left when we see a `0` and right when we see a `1`.\n",
        "If we get to a leaf node, we have decoded a symbol, so we should record it and then jump back to the top of the tree to start decoding the next symbol.\n",
        "\n",
        "**Exercise:** Write a function called `decode` that takes as parameters a string on 0s and 1s and a Huffman tree. It should decode the message and return it as a string."
      ]
    },
    {
      "cell_type": "code",
      "execution_count": 73,
      "metadata": {
        "id": "6HB7Cb6nx-HP"
      },
      "outputs": [],
      "source": [
        "def decoding(code, tree):\n",
        "  node = tree\n",
        "  sentence = []\n",
        "  for bits in code:\n",
        "    node = node.left if int(bits) == 0 else node.right\n",
        "\n",
        "    if node.left is None and node.right is None:\n",
        "      sentence.append(node.letter)\n",
        "      node = tree\n",
        "  return (''.join(sentence))\n",
        ""
      ]
    },
    {
      "cell_type": "code",
      "execution_count": 75,
      "metadata": {
        "id": "yM6ozl3zx-HP",
        "outputId": "9a5d6965-d8f3-47b4-9367-7cd2bf5a9da2",
        "colab": {
          "base_uri": "https://localhost:8080/",
          "height": 35
        }
      },
      "outputs": [
        {
          "output_type": "execute_result",
          "data": {
            "text/plain": [
              "'this is spinal tap'"
            ],
            "application/vnd.google.colaboratory.intrinsic+json": {
              "type": "string"
            }
          },
          "metadata": {},
          "execution_count": 75
        }
      ],
      "source": [
        "decoding(code, tree)\n"
      ]
    },
    {
      "cell_type": "code",
      "source": [],
      "metadata": {
        "id": "K1I-qM7Dk2Pv",
        "outputId": "cb477dc8-e858-4d20-d598-6932026e2761",
        "colab": {
          "base_uri": "https://localhost:8080/"
        }
      },
      "execution_count": 38,
      "outputs": [
        {
          "output_type": "execute_result",
          "data": {
            "text/plain": [
              "0"
            ]
          },
          "metadata": {},
          "execution_count": 38
        }
      ]
    },
    {
      "cell_type": "code",
      "source": [],
      "metadata": {
        "id": "ekoza4KwpkLZ"
      },
      "execution_count": 60,
      "outputs": []
    },
    {
      "cell_type": "markdown",
      "metadata": {
        "id": "IvKoT5GEx-HP"
      },
      "source": [
        "*Data Structures and Information Retrieval in Python*\n",
        "\n",
        "Copyright 2021 Allen Downey\n",
        "\n",
        "License: [Creative Commons Attribution-NonCommercial-ShareAlike 4.0 International](https://creativecommons.org/licenses/by-nc-sa/4.0/)"
      ]
    }
  ],
  "metadata": {
    "celltoolbar": "Tags",
    "kernelspec": {
      "display_name": "Python 3 (ipykernel)",
      "language": "python",
      "name": "python3"
    },
    "language_info": {
      "codemirror_mode": {
        "name": "ipython",
        "version": 3
      },
      "file_extension": ".py",
      "mimetype": "text/x-python",
      "name": "python",
      "nbconvert_exporter": "python",
      "pygments_lexer": "ipython3",
      "version": "3.10.1"
    },
    "colab": {
      "provenance": []
    }
  },
  "nbformat": 4,
  "nbformat_minor": 0
}