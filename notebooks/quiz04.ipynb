{
  "cells": [
    {
      "cell_type": "markdown",
      "metadata": {
        "id": "wUpZDzdBgAbY"
      },
      "source": [
        "# Quiz 4\n",
        "\n",
        "BEFORE YOU START THIS QUIZ:\n",
        "\n",
        "1. Click on \"Copy to Drive\" to make a copy of the quiz,\n",
        "\n",
        "2. Click on \"Share\",\n",
        "    \n",
        "3. Click on \"Change\" and select \"Anyone with this link can edit\"\n",
        "    \n",
        "4. Click \"Copy link\" and\n",
        "\n",
        "5. Paste the link into [this Canvas assignment](https://canvas.olin.edu/courses/313/assignments/5032).\n",
        "\n",
        "This quiz is open notes, open internet. The only thing you can't do is ask for help.\n",
        "\n",
        "Copyright 2021 Allen Downey, [MIT License](http://opensource.org/licenses/MIT)"
      ]
    },
    {
      "cell_type": "code",
      "execution_count": 1,
      "metadata": {
        "colab": {
          "base_uri": "https://localhost:8080/"
        },
        "id": "HfjS9u-wgAbZ",
        "outputId": "a06df3b7-0ad4-475c-91d8-cd8c6ef74e32"
      },
      "outputs": [
        {
          "output_type": "stream",
          "name": "stdout",
          "text": [
            "Downloaded american-english\n"
          ]
        }
      ],
      "source": [
        "from os.path import basename, exists\n",
        "\n",
        "def download(url):\n",
        "    filename = basename(url)\n",
        "    if not exists(filename):\n",
        "        from urllib.request import urlretrieve\n",
        "        local, _ = urlretrieve(url, filename)\n",
        "        print('Downloaded ' + local)\n",
        "\n",
        "download('https://github.com/AllenDowney/DSIRP/raw/main/american-english')"
      ]
    },
    {
      "cell_type": "markdown",
      "metadata": {
        "id": "ky-w33dQgAbZ"
      },
      "source": [
        "## Question 1\n",
        "\n",
        "According to [Wikipedia](https://en.wikipedia.org/wiki/Gray_code), a Gray code is \"an ordering of the binary numeral system such that two successive values differ in only one bit (binary digit).\"\n",
        "\n",
        "A \"Gray code list\" is a table that lists the Gray code for each decimal number in order. For example, the following is the Gray code list for decimal numbers up to 3:\n",
        "\n",
        "```\n",
        "number    Gray code\n",
        "------    ---------\n",
        "0         00\n",
        "1         01\n",
        "2         11\n",
        "3         10\n",
        "```\n",
        "\n",
        "In this code, the representation of the number 3 is the bit sequence `10`.\n",
        "\n",
        "[This section of the Wikipedia page](https://en.wikipedia.org/wiki/Gray_code#Constructing_an_n-bit_Gray_code) presents an algorithm for constructing a Gray code list with a given number of binary digits.\n",
        "\n",
        "Write a function called `gray_code` that takes the number of binary digits, `n`, as a parameter and returns a list of strings that represents a Gray code list.\n",
        "\n",
        "For example, `gray_code(3)` should return\n",
        "\n",
        "```\n",
        "['000', '001', '011', '010', '110', '111', '101', '100']\n",
        "```\n",
        "\n",
        "Your function can be iterative or recursive."
      ]
    },
    {
      "cell_type": "code",
      "execution_count": null,
      "metadata": {
        "id": "R-n-GlCSgAba"
      },
      "outputs": [],
      "source": [
        "\n",
        "\n"
      ]
    },
    {
      "cell_type": "code",
      "execution_count": null,
      "metadata": {
        "id": "oQs6BJ2AgAba"
      },
      "outputs": [],
      "source": [
        "\n"
      ]
    },
    {
      "cell_type": "code",
      "execution_count": null,
      "metadata": {
        "id": "2SU_7lXcgAba"
      },
      "outputs": [],
      "source": []
    },
    {
      "cell_type": "code",
      "execution_count": null,
      "metadata": {
        "id": "C-LjzWOogAba"
      },
      "outputs": [],
      "source": []
    },
    {
      "cell_type": "code",
      "execution_count": null,
      "metadata": {
        "id": "8dvfdydFgAba"
      },
      "outputs": [],
      "source": []
    },
    {
      "cell_type": "code",
      "execution_count": 27,
      "metadata": {
        "id": "gV3mC8AdgAba"
      },
      "outputs": [],
      "source": [
        "# Buggy solution\n",
        "\n",
        "def gray_code(n):\n",
        "  if n == 1:\n",
        "    return ['0','1']\n",
        "  prev = gray_code(n-1)\n",
        "  r = prev[::-1]\n",
        "  return ['0'+ code for code in prev] + ['1' +code for code in r]"
      ]
    },
    {
      "cell_type": "markdown",
      "metadata": {
        "id": "I_EkFd2JgAbb"
      },
      "source": [
        "You can use the following cells to test your solution."
      ]
    },
    {
      "cell_type": "code",
      "execution_count": 25,
      "metadata": {
        "colab": {
          "base_uri": "https://localhost:8080/"
        },
        "id": "9yzabQfTgAbb",
        "outputId": "20a956a1-94b1-4469-cb2f-07963976fb1c"
      },
      "outputs": [
        {
          "output_type": "execute_result",
          "data": {
            "text/plain": [
              "['0', '1']"
            ]
          },
          "metadata": {},
          "execution_count": 25
        }
      ],
      "source": [
        "gray_code(1)   # should be ['0', '1']"
      ]
    },
    {
      "cell_type": "code",
      "execution_count": 28,
      "metadata": {
        "colab": {
          "base_uri": "https://localhost:8080/"
        },
        "id": "P9dV1zI0gAbb",
        "outputId": "f7ca7c91-d9d2-4bd0-c645-ef2738db530f"
      },
      "outputs": [
        {
          "output_type": "execute_result",
          "data": {
            "text/plain": [
              "['00', '01', '11', '10']"
            ]
          },
          "metadata": {},
          "execution_count": 28
        }
      ],
      "source": [
        "gray_code(2)   # should be ['00', '01', '11', '10']"
      ]
    },
    {
      "cell_type": "code",
      "execution_count": 29,
      "metadata": {
        "colab": {
          "base_uri": "https://localhost:8080/"
        },
        "id": "OprSDthLgAbb",
        "outputId": "61591e73-dce9-445a-8540-0389f5ab1bbd"
      },
      "outputs": [
        {
          "output_type": "execute_result",
          "data": {
            "text/plain": [
              "['000', '001', '011', '010', '110', '111', '101', '100']"
            ]
          },
          "metadata": {},
          "execution_count": 29
        }
      ],
      "source": [
        "gray_code(3)   # see above"
      ]
    },
    {
      "cell_type": "code",
      "execution_count": 30,
      "metadata": {
        "colab": {
          "base_uri": "https://localhost:8080/"
        },
        "id": "KH5_Dk_zgAbb",
        "outputId": "8f3ec90b-9c1c-415a-9bf7-24d76b0ad8fd"
      },
      "outputs": [
        {
          "output_type": "execute_result",
          "data": {
            "text/plain": [
              "['0000',\n",
              " '0001',\n",
              " '0011',\n",
              " '0010',\n",
              " '0110',\n",
              " '0111',\n",
              " '0101',\n",
              " '0100',\n",
              " '1100',\n",
              " '1101',\n",
              " '1111',\n",
              " '1110',\n",
              " '1010',\n",
              " '1011',\n",
              " '1001',\n",
              " '1000']"
            ]
          },
          "metadata": {},
          "execution_count": 30
        }
      ],
      "source": [
        "gray_code(4)   # see above"
      ]
    },
    {
      "cell_type": "markdown",
      "metadata": {
        "id": "5L5TYvG-gAbc"
      },
      "source": [
        "## Question 2\n",
        "\n",
        "Suppose you are given a very large sequence of numbers and you are asked to find the `k` largest elements.\n",
        "One option would be to sort the sequence, but that would take time proportional to `n log n`, where `n` is the length of the sequence.\n",
        "And you would have to store the entire sequence.\n",
        "\n",
        "An alternative is to use a \"bounded heap\", that is, a heap that never contains more than `k` elements.\n",
        "\n",
        "Write a function called `k_largest` that takes as parameters an iterable and an integer `k` and returns a list that contains the `k` largest elements in the iterable. Don't worry about ties.\n",
        "\n",
        "Your implementation should not store more than `k` elements and it should take time proportional to `n log k`."
      ]
    },
    {
      "cell_type": "code",
      "execution_count": 21,
      "metadata": {
        "id": "wsKNe8dkgAbc"
      },
      "outputs": [],
      "source": [
        "import heapq\n",
        "\n",
        "def k_largest(sequence,k):\n",
        "  heap = []\n",
        "  for item in sequence:\n",
        "    if len(heap) <k:\n",
        "      heapq.heappush(heap,item)\n",
        "    else:\n",
        "      if item> heap[0]:\n",
        "        heapq.heappushpop(heap,item)\n",
        "  return heap"
      ]
    },
    {
      "cell_type": "markdown",
      "metadata": {
        "id": "lXcf1ivwgAbc"
      },
      "source": [
        "You can use the following cells to test your function."
      ]
    },
    {
      "cell_type": "code",
      "execution_count": 19,
      "metadata": {
        "colab": {
          "base_uri": "https://localhost:8080/"
        },
        "id": "J9LckHl3gAbc",
        "outputId": "57a5f489-07a7-4761-f025-824f7a515d95"
      },
      "outputs": [
        {
          "output_type": "execute_result",
          "data": {
            "text/plain": [
              "[5, 0, 9, 8, 4, 1, 3, 7, 6, 2]"
            ]
          },
          "metadata": {},
          "execution_count": 19
        }
      ],
      "source": [
        "from random import shuffle\n",
        "\n",
        "sequence = list(range(10))\n",
        "shuffle(sequence)\n",
        "sequence"
      ]
    },
    {
      "cell_type": "code",
      "execution_count": 22,
      "metadata": {
        "colab": {
          "base_uri": "https://localhost:8080/"
        },
        "id": "du-UuOKRgAbc",
        "outputId": "2bd903ff-9af6-4129-b8b1-8aa94d8ca389"
      },
      "outputs": [
        {
          "output_type": "execute_result",
          "data": {
            "text/plain": [
              "[7, 8, 9]"
            ]
          },
          "metadata": {},
          "execution_count": 22
        }
      ],
      "source": [
        "k_largest(sequence, 3)   # should return [7, 8, 9]"
      ]
    },
    {
      "cell_type": "markdown",
      "metadata": {
        "id": "gOSO5CsOgAbc"
      },
      "source": [
        "## Question 3\n",
        "\n",
        "An expression tree is a tree that represents a mathematical expression.\n",
        "For example, the expression `(1+2) * 3` is represented by a tree with the multiplication operator at the root and two children:\n",
        "\n",
        "* The left child is a node that contains the addition operator and two children, the number 1 and the number 2.\n",
        "\n",
        "* The right child is a node that contains the number 3.\n",
        "\n",
        "To represent an expression tree, we can use a `namedtuple` called `Node` that contains three attributes, `data`, `left`, and `right`."
      ]
    },
    {
      "cell_type": "code",
      "execution_count": 31,
      "metadata": {
        "id": "hNu51K0ggAbc"
      },
      "outputs": [],
      "source": [
        "from collections import namedtuple\n",
        "\n",
        "Node = namedtuple('Node', ['data', 'left', 'right'])"
      ]
    },
    {
      "cell_type": "markdown",
      "metadata": {
        "id": "CK8AWsIdgAbc"
      },
      "source": [
        "In a leaf node, `data` contains a number. For example, here are two nodes representing the numbers `1` and `2`."
      ]
    },
    {
      "cell_type": "code",
      "execution_count": 32,
      "metadata": {
        "colab": {
          "base_uri": "https://localhost:8080/"
        },
        "id": "WGC-WDKCgAbc",
        "outputId": "b7e2e3de-907a-4245-9d66-6a8af5895fb2"
      },
      "outputs": [
        {
          "output_type": "execute_result",
          "data": {
            "text/plain": [
              "Node(data=1, left=None, right=None)"
            ]
          },
          "metadata": {},
          "execution_count": 32
        }
      ],
      "source": [
        "operand1 = Node(1, None, None)\n",
        "operand1"
      ]
    },
    {
      "cell_type": "code",
      "execution_count": 33,
      "metadata": {
        "colab": {
          "base_uri": "https://localhost:8080/"
        },
        "id": "uxwII6K6gAbc",
        "outputId": "9dbc1f7d-7b30-487b-93bc-d6673e80cf54"
      },
      "outputs": [
        {
          "output_type": "execute_result",
          "data": {
            "text/plain": [
              "Node(data=2, left=None, right=None)"
            ]
          },
          "metadata": {},
          "execution_count": 33
        }
      ],
      "source": [
        "operand2 = Node(2, None, None)\n",
        "operand2"
      ]
    },
    {
      "cell_type": "markdown",
      "metadata": {
        "id": "yS9ZCky2gAbc"
      },
      "source": [
        "For internal nodes (that is, not leaf nodes) `data` contains a function. To represent addition, subtraction, and multiplication, I'll import functions from the `operator` module."
      ]
    },
    {
      "cell_type": "code",
      "execution_count": 34,
      "metadata": {
        "id": "83SpUgWegAbc"
      },
      "outputs": [],
      "source": [
        "from operator import add, sub, mul"
      ]
    },
    {
      "cell_type": "markdown",
      "metadata": {
        "id": "rqmetROhgAbc"
      },
      "source": [
        "Now we can make an expression tree with the `add` function at the root and two operands as children."
      ]
    },
    {
      "cell_type": "code",
      "execution_count": 35,
      "metadata": {
        "colab": {
          "base_uri": "https://localhost:8080/"
        },
        "id": "ti4SKZQ6gAbd",
        "outputId": "060bd707-0e1a-4e7f-a974-b1a55053fec2"
      },
      "outputs": [
        {
          "output_type": "execute_result",
          "data": {
            "text/plain": [
              "Node(data=<built-in function add>, left=Node(data=1, left=None, right=None), right=Node(data=2, left=None, right=None))"
            ]
          },
          "metadata": {},
          "execution_count": 35
        }
      ],
      "source": [
        "etree = Node(add, operand1, operand2)\n",
        "etree"
      ]
    },
    {
      "cell_type": "markdown",
      "metadata": {
        "id": "Sf33sd_VgAbd"
      },
      "source": [
        "To evaluate this tree, we can extract the function and the two operands, then call the function and pass the operands as arguments."
      ]
    },
    {
      "cell_type": "code",
      "execution_count": 36,
      "metadata": {
        "colab": {
          "base_uri": "https://localhost:8080/"
        },
        "id": "Yo_cj4ANgAbd",
        "outputId": "a8358399-3e2a-43fe-a500-ed946919648c"
      },
      "outputs": [
        {
          "output_type": "execute_result",
          "data": {
            "text/plain": [
              "3"
            ]
          },
          "metadata": {},
          "execution_count": 36
        }
      ],
      "source": [
        "func = etree.data\n",
        "left = operand1.data\n",
        "right = operand2.data\n",
        "func(left, right)"
      ]
    },
    {
      "cell_type": "markdown",
      "metadata": {
        "id": "FUfYSuZ6gAbd"
      },
      "source": [
        "Write a function called `evaluate` that takes an arbitrary expression tree, evaluates it, and returns an integer.\n",
        "\n",
        "You will probably want to write this one recursively."
      ]
    },
    {
      "cell_type": "code",
      "execution_count": 44,
      "metadata": {
        "id": "5QFa3d8BgAbd"
      },
      "outputs": [],
      "source": [
        "def evaluate(tree):\n",
        "  if tree.left == None and tree.right == None:\n",
        "    return tree.data\n",
        "  func = tree.data\n",
        "  left_val = evaluate(tree.left)\n",
        "  right_val = evaluate(tree.right)\n",
        "  return func(left_val,right_val)"
      ]
    },
    {
      "cell_type": "markdown",
      "metadata": {
        "id": "Pj5FjsrCgAbd"
      },
      "source": [
        "You can test your function with the following examples:"
      ]
    },
    {
      "cell_type": "code",
      "execution_count": 45,
      "metadata": {
        "colab": {
          "base_uri": "https://localhost:8080/"
        },
        "id": "MYeG5YHagAbd",
        "outputId": "ac5c23da-42b5-4cdc-db52-a0f1102a0d1d"
      },
      "outputs": [
        {
          "output_type": "execute_result",
          "data": {
            "text/plain": [
              "Node(data=<built-in function add>, left=Node(data=1, left=None, right=None), right=Node(data=2, left=None, right=None))"
            ]
          },
          "metadata": {},
          "execution_count": 45
        }
      ],
      "source": [
        "etree"
      ]
    },
    {
      "cell_type": "code",
      "execution_count": 46,
      "metadata": {
        "colab": {
          "base_uri": "https://localhost:8080/"
        },
        "id": "jDSS4gf7gAbd",
        "outputId": "a1e90b77-8dfc-46a4-91fc-65dc9b767692"
      },
      "outputs": [
        {
          "output_type": "execute_result",
          "data": {
            "text/plain": [
              "3"
            ]
          },
          "metadata": {},
          "execution_count": 46
        }
      ],
      "source": [
        "evaluate(etree)  # result should be 3"
      ]
    },
    {
      "cell_type": "code",
      "execution_count": 47,
      "metadata": {
        "id": "_CIX4yN8gAbd"
      },
      "outputs": [],
      "source": [
        "operand3 = Node(3, None, None)\n",
        "etree2 = Node(mul, etree, operand3)"
      ]
    },
    {
      "cell_type": "code",
      "execution_count": 48,
      "metadata": {
        "colab": {
          "base_uri": "https://localhost:8080/"
        },
        "id": "vUzqN2nagAbd",
        "outputId": "7c918631-c56b-4f8b-874c-e1cea56b1d8f"
      },
      "outputs": [
        {
          "output_type": "execute_result",
          "data": {
            "text/plain": [
              "9"
            ]
          },
          "metadata": {},
          "execution_count": 48
        }
      ],
      "source": [
        "evaluate(etree2)  # result should be 9"
      ]
    },
    {
      "cell_type": "code",
      "execution_count": 49,
      "metadata": {
        "id": "3uLT4ZDxgAbd"
      },
      "outputs": [],
      "source": [
        "operand4 = Node(4, None, None)\n",
        "etree3 = Node(sub, etree2, operand4)"
      ]
    },
    {
      "cell_type": "code",
      "execution_count": 50,
      "metadata": {
        "colab": {
          "base_uri": "https://localhost:8080/"
        },
        "id": "jpRXN4rYgAbd",
        "outputId": "8a72334d-3bca-40f7-9e75-fd4a2b3c5acc"
      },
      "outputs": [
        {
          "output_type": "execute_result",
          "data": {
            "text/plain": [
              "5"
            ]
          },
          "metadata": {},
          "execution_count": 50
        }
      ],
      "source": [
        "evaluate(etree3) # result should be 5"
      ]
    },
    {
      "cell_type": "code",
      "execution_count": null,
      "metadata": {
        "id": "ugcjdp_IgAbg"
      },
      "outputs": [],
      "source": []
    }
  ],
  "metadata": {
    "kernelspec": {
      "display_name": "Python 3",
      "language": "python",
      "name": "python3"
    },
    "language_info": {
      "codemirror_mode": {
        "name": "ipython",
        "version": 3
      },
      "file_extension": ".py",
      "mimetype": "text/x-python",
      "name": "python",
      "nbconvert_exporter": "python",
      "pygments_lexer": "ipython3",
      "version": "3.9.4"
    },
    "colab": {
      "provenance": []
    }
  },
  "nbformat": 4,
  "nbformat_minor": 0
}