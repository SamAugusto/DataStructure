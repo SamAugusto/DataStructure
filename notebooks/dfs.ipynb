{
  "cells": [
    {
      "cell_type": "markdown",
      "id": "c905f415",
      "metadata": {
        "id": "c905f415"
      },
      "source": [
        "# Depth First Search"
      ]
    },
    {
      "cell_type": "markdown",
      "id": "42302f03",
      "metadata": {
        "id": "42302f03"
      },
      "source": [
        "[Click here to run this chapter on Colab](https://colab.research.google.com/github/AllenDowney/DSIRP/blob/main/notebooks/dfs.ipynb)"
      ]
    },
    {
      "cell_type": "markdown",
      "id": "19dc5163",
      "metadata": {
        "id": "19dc5163"
      },
      "source": [
        "This notebook presents \"depth first search\" as a way to iterate through the nodes in a tree.\n",
        "This algorithm applies to any kind of tree, but since we need an example, we'll use BeautifulSoup, which is a Python module that reads HTML (and related languages) and builds a tree that represents the content."
      ]
    },
    {
      "cell_type": "markdown",
      "id": "82af1897",
      "metadata": {
        "id": "82af1897"
      },
      "source": [
        "## Using BeautifulSoup\n",
        "\n",
        "When you download a web page, the contents are written in HyperText Markup Language, aka HTML.\n",
        "For example, here is a minimal HTML document, which I borrowed from the [BeautifulSoup documentation](https://beautiful-soup-4.readthedocs.io). The text is from Lewis Carroll's [*Alice's Adventures in Wonderland*](https://www.gutenberg.org/files/11/11-h/11-h.htm)."
      ]
    },
    {
      "cell_type": "code",
      "execution_count": 1,
      "id": "a777d368",
      "metadata": {
        "id": "a777d368"
      },
      "outputs": [],
      "source": [
        "html_doc = \"\"\"\n",
        "<html><head><title>The Dormouse's story</title></head>\n",
        "<body>\n",
        "<p class=\"title\"><b>The Dormouse's story</b></p>\n",
        "\n",
        "<p class=\"story\">Once upon a time there were three little sisters; and their names were\n",
        "<a href=\"http://example.com/elsie\" class=\"sister\" id=\"link1\">Elsie</a>,\n",
        "<a href=\"http://example.com/lacie\" class=\"sister\" id=\"link2\">Lacie</a> and\n",
        "<a href=\"http://example.com/tillie\" class=\"sister\" id=\"link3\">Tillie</a>;\n",
        "and they lived at the bottom of a well.</p>\n",
        "\n",
        "<p class=\"story\">...</p>\n",
        "\"\"\""
      ]
    },
    {
      "cell_type": "markdown",
      "id": "88220a73",
      "metadata": {
        "id": "88220a73"
      },
      "source": [
        "Here's how we use BeautifulSoup to read it."
      ]
    },
    {
      "cell_type": "code",
      "execution_count": 2,
      "id": "397bda6b",
      "metadata": {
        "tags": [],
        "id": "397bda6b",
        "outputId": "1d8ef8c0-b455-4f5d-f294-aef40320609c",
        "colab": {
          "base_uri": "https://localhost:8080/",
          "height": 221
        }
      },
      "outputs": [
        {
          "output_type": "execute_result",
          "data": {
            "text/plain": [
              "bs4.BeautifulSoup"
            ],
            "text/html": [
              "<div style=\"max-width:800px; border: 1px solid var(--colab-border-color);\"><style>\n",
              "      pre.function-repr-contents {\n",
              "        overflow-x: auto;\n",
              "        padding: 8px 12px;\n",
              "        max-height: 500px;\n",
              "      }\n",
              "\n",
              "      pre.function-repr-contents.function-repr-contents-collapsed {\n",
              "        cursor: pointer;\n",
              "        max-height: 100px;\n",
              "      }\n",
              "    </style>\n",
              "    <pre style=\"white-space: initial; background:\n",
              "         var(--colab-secondary-surface-color); padding: 8px 12px;\n",
              "         border-bottom: 1px solid var(--colab-border-color);\"><b>bs4.BeautifulSoup</b><br/>def __call__(name: Optional[_StrainableElement]=None, attrs: _StrainableAttributes={}, recursive: bool=True, string: Optional[_StrainableString]=None, limit: Optional[int]=None, _stacklevel: int=2, **kwargs: _StrainableAttribute) -&gt; _QueryResults</pre><pre class=\"function-repr-contents function-repr-contents-collapsed\" style=\"\"><a class=\"filepath\" style=\"display:none\" href=\"#\">/usr/local/lib/python3.11/dist-packages/bs4/__init__.py</a>A data structure representing a parsed HTML or XML document.\n",
              "\n",
              "Most of the methods you&#x27;ll call on a BeautifulSoup object are inherited from\n",
              "PageElement or Tag.\n",
              "\n",
              "Internally, this class defines the basic interface called by the\n",
              "tree builders when converting an HTML/XML document into a data\n",
              "structure. The interface abstracts away the differences between\n",
              "parsers. To write a new tree builder, you&#x27;ll need to understand\n",
              "these methods as a whole.\n",
              "\n",
              "These methods will be called by the BeautifulSoup constructor:\n",
              "  * reset()\n",
              "  * feed(markup)\n",
              "\n",
              "The tree builder may call these methods from its feed() implementation:\n",
              "  * handle_starttag(name, attrs) # See note about return value\n",
              "  * handle_endtag(name)\n",
              "  * handle_data(data) # Appends to the current data node\n",
              "  * endData(containerClass) # Ends the current data node\n",
              "\n",
              "No matter how complicated the underlying parser is, you should be\n",
              "able to build a tree using &#x27;start tag&#x27; events, &#x27;end tag&#x27; events,\n",
              "&#x27;data&#x27; events, and &quot;done with data&quot; events.\n",
              "\n",
              "If you encounter an empty-element tag (aka a self-closing tag,\n",
              "like HTML&#x27;s &lt;br&gt; tag), call handle_starttag and then\n",
              "handle_endtag.</pre>\n",
              "      <script>\n",
              "      if (google.colab.kernel.accessAllowed && google.colab.files && google.colab.files.view) {\n",
              "        for (const element of document.querySelectorAll('.filepath')) {\n",
              "          element.style.display = 'block'\n",
              "          element.onclick = (event) => {\n",
              "            event.preventDefault();\n",
              "            event.stopPropagation();\n",
              "            google.colab.files.view(element.textContent, 133);\n",
              "          };\n",
              "        }\n",
              "      }\n",
              "      for (const element of document.querySelectorAll('.function-repr-contents')) {\n",
              "        element.onclick = (event) => {\n",
              "          event.preventDefault();\n",
              "          event.stopPropagation();\n",
              "          element.classList.toggle('function-repr-contents-collapsed');\n",
              "        };\n",
              "      }\n",
              "      </script>\n",
              "      </div>"
            ]
          },
          "metadata": {},
          "execution_count": 2
        }
      ],
      "source": [
        "from bs4 import BeautifulSoup\n",
        "\n",
        "soup = BeautifulSoup(html_doc)\n",
        "type(soup)"
      ]
    },
    {
      "cell_type": "markdown",
      "id": "5313d704",
      "metadata": {
        "id": "5313d704"
      },
      "source": [
        "The result is a `BeautifulSoup` object that represents the root of the tree. If we display the soup, it reproduces the HTML."
      ]
    },
    {
      "cell_type": "code",
      "execution_count": 3,
      "id": "d9cd7d4a",
      "metadata": {
        "tags": [],
        "id": "d9cd7d4a",
        "outputId": "2a817900-ed7e-4af2-81a4-0e3e3b0b02a2",
        "colab": {
          "base_uri": "https://localhost:8080/"
        }
      },
      "outputs": [
        {
          "output_type": "execute_result",
          "data": {
            "text/plain": [
              "<html><head><title>The Dormouse's story</title></head>\n",
              "<body>\n",
              "<p class=\"title\"><b>The Dormouse's story</b></p>\n",
              "<p class=\"story\">Once upon a time there were three little sisters; and their names were\n",
              "<a class=\"sister\" href=\"http://example.com/elsie\" id=\"link1\">Elsie</a>,\n",
              "<a class=\"sister\" href=\"http://example.com/lacie\" id=\"link2\">Lacie</a> and\n",
              "<a class=\"sister\" href=\"http://example.com/tillie\" id=\"link3\">Tillie</a>;\n",
              "and they lived at the bottom of a well.</p>\n",
              "<p class=\"story\">...</p>\n",
              "</body></html>"
            ]
          },
          "metadata": {},
          "execution_count": 3
        }
      ],
      "source": [
        "soup"
      ]
    },
    {
      "cell_type": "markdown",
      "id": "6edc272a",
      "metadata": {
        "id": "6edc272a"
      },
      "source": [
        "`prettify` uses indentation to show the structure of the document."
      ]
    },
    {
      "cell_type": "code",
      "execution_count": 4,
      "id": "179128f7",
      "metadata": {
        "tags": [],
        "id": "179128f7",
        "outputId": "6f65e5f8-9a2f-4916-8edf-b21ed0347687",
        "colab": {
          "base_uri": "https://localhost:8080/"
        }
      },
      "outputs": [
        {
          "output_type": "stream",
          "name": "stdout",
          "text": [
            "<html>\n",
            " <head>\n",
            "  <title>\n",
            "   The Dormouse's story\n",
            "  </title>\n",
            " </head>\n",
            " <body>\n",
            "  <p class=\"title\">\n",
            "   <b>\n",
            "    The Dormouse's story\n",
            "   </b>\n",
            "  </p>\n",
            "  <p class=\"story\">\n",
            "   Once upon a time there were three little sisters; and their names were\n",
            "   <a class=\"sister\" href=\"http://example.com/elsie\" id=\"link1\">\n",
            "    Elsie\n",
            "   </a>\n",
            "   ,\n",
            "   <a class=\"sister\" href=\"http://example.com/lacie\" id=\"link2\">\n",
            "    Lacie\n",
            "   </a>\n",
            "   and\n",
            "   <a class=\"sister\" href=\"http://example.com/tillie\" id=\"link3\">\n",
            "    Tillie\n",
            "   </a>\n",
            "   ;\n",
            "and they lived at the bottom of a well.\n",
            "  </p>\n",
            "  <p class=\"story\">\n",
            "   ...\n",
            "  </p>\n",
            " </body>\n",
            "</html>\n",
            "\n"
          ]
        }
      ],
      "source": [
        "print(soup.prettify())"
      ]
    },
    {
      "cell_type": "markdown",
      "id": "1bd74af3",
      "metadata": {
        "id": "1bd74af3"
      },
      "source": [
        "The `BeautifulSoup` object has a property called `children` that returns an iterator of the objects it contains."
      ]
    },
    {
      "cell_type": "code",
      "execution_count": 5,
      "id": "0141df22",
      "metadata": {
        "tags": [],
        "id": "0141df22",
        "outputId": "1d182158-4a75-46ec-bcee-89a9b093c4f6",
        "colab": {
          "base_uri": "https://localhost:8080/"
        }
      },
      "outputs": [
        {
          "output_type": "execute_result",
          "data": {
            "text/plain": [
              "<generator object Tag.children.<locals>.<genexpr> at 0x7b543c5ea5a0>"
            ]
          },
          "metadata": {},
          "execution_count": 5
        }
      ],
      "source": [
        "soup.children"
      ]
    },
    {
      "cell_type": "markdown",
      "id": "9ccafb05",
      "metadata": {
        "id": "9ccafb05"
      },
      "source": [
        "We can use a for loop to iterate through them."
      ]
    },
    {
      "cell_type": "code",
      "execution_count": 8,
      "id": "863d7d8c",
      "metadata": {
        "tags": [],
        "id": "863d7d8c",
        "outputId": "1a1612d7-4038-42e3-d05d-f134f1df7bb2",
        "colab": {
          "base_uri": "https://localhost:8080/"
        }
      },
      "outputs": [
        {
          "output_type": "stream",
          "name": "stdout",
          "text": [
            "<class 'bs4.element.Tag'>\n"
          ]
        }
      ],
      "source": [
        "for element in soup.children:\n",
        "    print(type(element))"
      ]
    },
    {
      "cell_type": "markdown",
      "id": "b6036c93",
      "metadata": {
        "id": "b6036c93"
      },
      "source": [
        "This soup contains only a single child, which is a `Tag`.\n",
        "\n",
        "`BeautifulSoup` also provides `contents`, which returns the children in the form of a list, which can be more convenient."
      ]
    },
    {
      "cell_type": "code",
      "execution_count": 9,
      "id": "9bcb0f15",
      "metadata": {
        "tags": [],
        "id": "9bcb0f15",
        "outputId": "20a52850-2c96-42d1-96eb-db268477c434",
        "colab": {
          "base_uri": "https://localhost:8080/"
        }
      },
      "outputs": [
        {
          "output_type": "execute_result",
          "data": {
            "text/plain": [
              "[<html><head><title>The Dormouse's story</title></head>\n",
              " <body>\n",
              " <p class=\"title\"><b>The Dormouse's story</b></p>\n",
              " <p class=\"story\">Once upon a time there were three little sisters; and their names were\n",
              " <a class=\"sister\" href=\"http://example.com/elsie\" id=\"link1\">Elsie</a>,\n",
              " <a class=\"sister\" href=\"http://example.com/lacie\" id=\"link2\">Lacie</a> and\n",
              " <a class=\"sister\" href=\"http://example.com/tillie\" id=\"link3\">Tillie</a>;\n",
              " and they lived at the bottom of a well.</p>\n",
              " <p class=\"story\">...</p>\n",
              " </body></html>]"
            ]
          },
          "metadata": {},
          "execution_count": 9
        }
      ],
      "source": [
        "soup.contents"
      ]
    },
    {
      "cell_type": "markdown",
      "id": "26dfbfd3",
      "metadata": {
        "id": "26dfbfd3"
      },
      "source": [
        "The only child is an HTML element that contains the whole document.\n",
        "Let's get just this element:"
      ]
    },
    {
      "cell_type": "code",
      "execution_count": 14,
      "id": "6d83d8f0",
      "metadata": {
        "tags": [],
        "id": "6d83d8f0",
        "outputId": "1cfff13d-9ef7-4ebf-8f4d-e14ddafad9cf",
        "colab": {
          "base_uri": "https://localhost:8080/"
        }
      },
      "outputs": [
        {
          "output_type": "execute_result",
          "data": {
            "text/plain": [
              "<html><head><title>The Dormouse's story</title></head>\n",
              "<body>\n",
              "<p class=\"title\"><b>The Dormouse's story</b></p>\n",
              "<p class=\"story\">Once upon a time there were three little sisters; and their names were\n",
              "<a class=\"sister\" href=\"http://example.com/elsie\" id=\"link1\">Elsie</a>,\n",
              "<a class=\"sister\" href=\"http://example.com/lacie\" id=\"link2\">Lacie</a> and\n",
              "<a class=\"sister\" href=\"http://example.com/tillie\" id=\"link3\">Tillie</a>;\n",
              "and they lived at the bottom of a well.</p>\n",
              "<p class=\"story\">...</p>\n",
              "</body></html>"
            ]
          },
          "metadata": {},
          "execution_count": 14
        }
      ],
      "source": [
        "element = soup.contents[0]\n",
        "element"
      ]
    },
    {
      "cell_type": "markdown",
      "id": "68b7b64d",
      "metadata": {
        "id": "68b7b64d"
      },
      "source": [
        "The type of the element is `Tag`:"
      ]
    },
    {
      "cell_type": "code",
      "execution_count": 15,
      "id": "6aae480b",
      "metadata": {
        "tags": [],
        "id": "6aae480b",
        "outputId": "d2f0deed-3990-45d2-e775-c4a6767f8121",
        "colab": {
          "base_uri": "https://localhost:8080/",
          "height": 221
        }
      },
      "outputs": [
        {
          "output_type": "execute_result",
          "data": {
            "text/plain": [
              "bs4.element.Tag"
            ],
            "text/html": [
              "<div style=\"max-width:800px; border: 1px solid var(--colab-border-color);\"><style>\n",
              "      pre.function-repr-contents {\n",
              "        overflow-x: auto;\n",
              "        padding: 8px 12px;\n",
              "        max-height: 500px;\n",
              "      }\n",
              "\n",
              "      pre.function-repr-contents.function-repr-contents-collapsed {\n",
              "        cursor: pointer;\n",
              "        max-height: 100px;\n",
              "      }\n",
              "    </style>\n",
              "    <pre style=\"white-space: initial; background:\n",
              "         var(--colab-secondary-surface-color); padding: 8px 12px;\n",
              "         border-bottom: 1px solid var(--colab-border-color);\"><b>bs4.element.Tag</b><br/>def __call__(name: Optional[_StrainableElement]=None, attrs: _StrainableAttributes={}, recursive: bool=True, string: Optional[_StrainableString]=None, limit: Optional[int]=None, _stacklevel: int=2, **kwargs: _StrainableAttribute) -&gt; _QueryResults</pre><pre class=\"function-repr-contents function-repr-contents-collapsed\" style=\"\"><a class=\"filepath\" style=\"display:none\" href=\"#\">/usr/local/lib/python3.11/dist-packages/bs4/element.py</a>An HTML or XML tag that is part of a parse tree, along with its\n",
              "attributes, contents, and relationships to other parts of the tree.\n",
              "\n",
              "When Beautiful Soup parses the markup ``&lt;b&gt;penguin&lt;/b&gt;``, it will\n",
              "create a `Tag` object representing the ``&lt;b&gt;`` tag. You can\n",
              "instantiate `Tag` objects directly, but it&#x27;s not necessary unless\n",
              "you&#x27;re adding entirely new markup to a parsed document. Most of\n",
              "the constructor arguments are intended for use by the `TreeBuilder`\n",
              "that&#x27;s parsing a document.\n",
              "\n",
              ":param parser: A `BeautifulSoup` object representing the parse tree this\n",
              "    `Tag` will be part of.\n",
              ":param builder: The `TreeBuilder` being used to build the tree.\n",
              ":param name: The name of the tag.\n",
              ":param namespace: The URI of this tag&#x27;s XML namespace, if any.\n",
              ":param prefix: The prefix for this tag&#x27;s XML namespace, if any.\n",
              ":param attrs: A dictionary of attribute values.\n",
              ":param parent: The `Tag` to use as the parent of this `Tag`. May be\n",
              "   the `BeautifulSoup` object itself.\n",
              ":param previous: The `PageElement` that was parsed immediately before\n",
              "    parsing this tag.\n",
              ":param is_xml: If True, this is an XML tag. Otherwise, this is an\n",
              "    HTML tag.\n",
              ":param sourceline: The line number where this tag was found in its\n",
              "    source document.\n",
              ":param sourcepos: The character position within ``sourceline`` where this\n",
              "    tag was found.\n",
              ":param can_be_empty_element: If True, this tag should be\n",
              "    represented as &lt;tag/&gt;. If False, this tag should be represented\n",
              "    as &lt;tag&gt;&lt;/tag&gt;.\n",
              ":param cdata_list_attributes: A dictionary of attributes whose values should\n",
              "    be parsed as lists of strings if they ever show up on this tag.\n",
              ":param preserve_whitespace_tags: Names of tags whose contents\n",
              "    should have their whitespace preserved if they are encountered inside\n",
              "    this tag.\n",
              ":param interesting_string_types: When iterating over this tag&#x27;s\n",
              "    string contents in methods like `Tag.strings` or\n",
              "    `PageElement.get_text`, these are the types of strings that are\n",
              "    interesting enough to be considered. By default,\n",
              "    `NavigableString` (normal strings) and `CData` (CDATA\n",
              "    sections) are the only interesting string subtypes.\n",
              ":param namespaces: A dictionary mapping currently active\n",
              "    namespace prefixes to URIs, as of the point in the parsing process when\n",
              "    this tag was encountered. This can be used later to\n",
              "    construct CSS selectors.</pre>\n",
              "      <script>\n",
              "      if (google.colab.kernel.accessAllowed && google.colab.files && google.colab.files.view) {\n",
              "        for (const element of document.querySelectorAll('.filepath')) {\n",
              "          element.style.display = 'block'\n",
              "          element.onclick = (event) => {\n",
              "            event.preventDefault();\n",
              "            event.stopPropagation();\n",
              "            google.colab.files.view(element.textContent, 1577);\n",
              "          };\n",
              "        }\n",
              "      }\n",
              "      for (const element of document.querySelectorAll('.function-repr-contents')) {\n",
              "        element.onclick = (event) => {\n",
              "          event.preventDefault();\n",
              "          event.stopPropagation();\n",
              "          element.classList.toggle('function-repr-contents-collapsed');\n",
              "        };\n",
              "      }\n",
              "      </script>\n",
              "      </div>"
            ]
          },
          "metadata": {},
          "execution_count": 15
        }
      ],
      "source": [
        "type(element)"
      ]
    },
    {
      "cell_type": "markdown",
      "id": "2f9b9cad",
      "metadata": {
        "id": "2f9b9cad"
      },
      "source": [
        "And the name of the tag is `html`."
      ]
    },
    {
      "cell_type": "code",
      "execution_count": 16,
      "id": "e11a78d8",
      "metadata": {
        "tags": [],
        "id": "e11a78d8",
        "outputId": "3af84797-e344-4256-c475-d0727fc4050c",
        "colab": {
          "base_uri": "https://localhost:8080/",
          "height": 35
        }
      },
      "outputs": [
        {
          "output_type": "execute_result",
          "data": {
            "text/plain": [
              "'html'"
            ],
            "application/vnd.google.colaboratory.intrinsic+json": {
              "type": "string"
            }
          },
          "metadata": {},
          "execution_count": 16
        }
      ],
      "source": [
        "element.name"
      ]
    },
    {
      "cell_type": "markdown",
      "id": "d2e65f4e",
      "metadata": {
        "id": "d2e65f4e"
      },
      "source": [
        "Now let's get the children of this top-level element:"
      ]
    },
    {
      "cell_type": "code",
      "execution_count": 17,
      "id": "c5a6fd88",
      "metadata": {
        "tags": [],
        "id": "c5a6fd88",
        "outputId": "da0956d1-72d0-4308-ac81-ccd049c8a56e",
        "colab": {
          "base_uri": "https://localhost:8080/"
        }
      },
      "outputs": [
        {
          "output_type": "execute_result",
          "data": {
            "text/plain": [
              "[<head><title>The Dormouse's story</title></head>,\n",
              " '\\n',\n",
              " <body>\n",
              " <p class=\"title\"><b>The Dormouse's story</b></p>\n",
              " <p class=\"story\">Once upon a time there were three little sisters; and their names were\n",
              " <a class=\"sister\" href=\"http://example.com/elsie\" id=\"link1\">Elsie</a>,\n",
              " <a class=\"sister\" href=\"http://example.com/lacie\" id=\"link2\">Lacie</a> and\n",
              " <a class=\"sister\" href=\"http://example.com/tillie\" id=\"link3\">Tillie</a>;\n",
              " and they lived at the bottom of a well.</p>\n",
              " <p class=\"story\">...</p>\n",
              " </body>]"
            ]
          },
          "metadata": {},
          "execution_count": 17
        }
      ],
      "source": [
        "children = element.contents\n",
        "children"
      ]
    },
    {
      "cell_type": "markdown",
      "id": "60cd822d",
      "metadata": {
        "id": "60cd822d"
      },
      "source": [
        "There are three elements in this list, but it's hard to read because when you print an element, it prints all of the HTML.\n",
        "\n",
        "I'll use the following function to print elements in a simple form."
      ]
    },
    {
      "cell_type": "code",
      "execution_count": 18,
      "id": "9860d35c",
      "metadata": {
        "id": "9860d35c"
      },
      "outputs": [],
      "source": [
        "from bs4 import Tag, NavigableString\n",
        "\n",
        "def print_element(element):\n",
        "    if isinstance(element, Tag):\n",
        "        print(f'{type(element).__name__}<{element.name}>')\n",
        "    if isinstance(element, NavigableString):\n",
        "        print(type(element).__name__)"
      ]
    },
    {
      "cell_type": "code",
      "execution_count": 19,
      "id": "9cc4c70d",
      "metadata": {
        "tags": [],
        "id": "9cc4c70d",
        "outputId": "c6938b2b-6483-4cf6-c162-30ddac83bd54",
        "colab": {
          "base_uri": "https://localhost:8080/"
        }
      },
      "outputs": [
        {
          "output_type": "stream",
          "name": "stdout",
          "text": [
            "Tag<html>\n"
          ]
        }
      ],
      "source": [
        "print_element(element)"
      ]
    },
    {
      "cell_type": "markdown",
      "id": "e4f38388",
      "metadata": {
        "id": "e4f38388"
      },
      "source": [
        "And the following function to print a list of elements."
      ]
    },
    {
      "cell_type": "code",
      "execution_count": 26,
      "id": "6d73e622",
      "metadata": {
        "id": "6d73e622"
      },
      "outputs": [],
      "source": [
        "def print_element_list(element_list):\n",
        "    print('[')\n",
        "    for element in element_list:\n",
        "        print_element(element)\n",
        "    print(']')"
      ]
    },
    {
      "cell_type": "code",
      "execution_count": 27,
      "id": "1f64d3bd",
      "metadata": {
        "tags": [],
        "id": "1f64d3bd",
        "outputId": "1b343c99-3abc-4261-839b-9eee499b7e08",
        "colab": {
          "base_uri": "https://localhost:8080/"
        }
      },
      "outputs": [
        {
          "output_type": "stream",
          "name": "stdout",
          "text": [
            "[\n",
            "Tag<head>\n",
            "NavigableString\n",
            "Tag<body>\n",
            "]\n"
          ]
        }
      ],
      "source": [
        "print_element_list(element.contents)"
      ]
    },
    {
      "cell_type": "markdown",
      "id": "d08fbd7f",
      "metadata": {
        "id": "d08fbd7f"
      },
      "source": [
        "Now let's try navigating the tree. I'll start with the first child of `element`."
      ]
    },
    {
      "cell_type": "code",
      "execution_count": 28,
      "id": "c24c19c2",
      "metadata": {
        "tags": [],
        "id": "c24c19c2",
        "outputId": "5264533f-0da3-4513-ed79-479ffc97f640",
        "colab": {
          "base_uri": "https://localhost:8080/"
        }
      },
      "outputs": [
        {
          "output_type": "stream",
          "name": "stdout",
          "text": [
            "Tag<head>\n"
          ]
        }
      ],
      "source": [
        "child = element.contents[0]\n",
        "print_element(child)"
      ]
    },
    {
      "cell_type": "markdown",
      "id": "5fb945ad",
      "metadata": {
        "id": "5fb945ad"
      },
      "source": [
        "And print its children."
      ]
    },
    {
      "cell_type": "code",
      "execution_count": 30,
      "id": "099c0497",
      "metadata": {
        "tags": [],
        "id": "099c0497",
        "outputId": "811f6758-d3af-4ce5-e5de-c7805e8a4325",
        "colab": {
          "base_uri": "https://localhost:8080/"
        }
      },
      "outputs": [
        {
          "output_type": "stream",
          "name": "stdout",
          "text": [
            "[\n",
            "Tag<title>\n",
            "]\n"
          ]
        }
      ],
      "source": [
        "print_element_list(child.contents)"
      ]
    },
    {
      "cell_type": "markdown",
      "id": "52e82d8c",
      "metadata": {
        "id": "52e82d8c"
      },
      "source": [
        "Now let's get the first child of the first child."
      ]
    },
    {
      "cell_type": "code",
      "execution_count": 31,
      "id": "cc81a5bf",
      "metadata": {
        "tags": [],
        "id": "cc81a5bf",
        "outputId": "4393cdce-a413-4231-ed24-508cab25edf1",
        "colab": {
          "base_uri": "https://localhost:8080/"
        }
      },
      "outputs": [
        {
          "output_type": "stream",
          "name": "stdout",
          "text": [
            "Tag<title>\n"
          ]
        }
      ],
      "source": [
        "grandchild = child.contents[0]\n",
        "print_element(grandchild)"
      ]
    },
    {
      "cell_type": "code",
      "execution_count": 32,
      "id": "2896c8ad",
      "metadata": {
        "tags": [],
        "id": "2896c8ad",
        "outputId": "337d96b3-f7e6-4faa-d948-0a38e52c8011",
        "colab": {
          "base_uri": "https://localhost:8080/"
        }
      },
      "outputs": [
        {
          "output_type": "stream",
          "name": "stdout",
          "text": [
            "Tag<title>\n"
          ]
        }
      ],
      "source": [
        "grandchild = child.contents[0]\n",
        "print_element(grandchild)"
      ]
    },
    {
      "cell_type": "markdown",
      "id": "0adf7398",
      "metadata": {
        "id": "0adf7398"
      },
      "source": [
        "And the first child of the first grandchild."
      ]
    },
    {
      "cell_type": "code",
      "execution_count": 33,
      "id": "77d0f128",
      "metadata": {
        "id": "77d0f128",
        "outputId": "e223ed7a-1c42-4903-d091-62f01b10f92e",
        "colab": {
          "base_uri": "https://localhost:8080/"
        }
      },
      "outputs": [
        {
          "output_type": "stream",
          "name": "stdout",
          "text": [
            "NavigableString\n"
          ]
        }
      ],
      "source": [
        "greatgrandchild = grandchild.contents[0]\n",
        "print_element(greatgrandchild)"
      ]
    },
    {
      "cell_type": "code",
      "execution_count": 34,
      "id": "00e55c1c",
      "metadata": {
        "id": "00e55c1c",
        "outputId": "d88fdf8e-27b5-402f-f40e-65b64edf4831",
        "colab": {
          "base_uri": "https://localhost:8080/"
        }
      },
      "outputs": [
        {
          "output_type": "stream",
          "name": "stdout",
          "text": [
            "AttributeError: 'NavigableString' object has no attribute 'contents'\n"
          ]
        }
      ],
      "source": [
        "try:\n",
        "    greatgrandchild.contents\n",
        "except AttributeError as e:\n",
        "    print('AttributeError:', e)"
      ]
    },
    {
      "cell_type": "code",
      "execution_count": 35,
      "id": "a7c6f553",
      "metadata": {
        "id": "a7c6f553",
        "outputId": "353b993d-2fb4-431c-a280-089b90584d7b",
        "colab": {
          "base_uri": "https://localhost:8080/",
          "height": 35
        }
      },
      "outputs": [
        {
          "output_type": "execute_result",
          "data": {
            "text/plain": [
              "\"The Dormouse's story\""
            ],
            "application/vnd.google.colaboratory.intrinsic+json": {
              "type": "string"
            }
          },
          "metadata": {},
          "execution_count": 35
        }
      ],
      "source": [
        "greatgrandchild"
      ]
    },
    {
      "cell_type": "markdown",
      "id": "d7b74ee1",
      "metadata": {
        "id": "d7b74ee1"
      },
      "source": [
        "`NavigableString` has no children, so we've come to the end of the road.\n",
        "\n",
        "In order to continue, we would have to backtrack to the grandchild and select the second child.\n",
        "\n",
        "Which means we have to keep track of which elements we have seen, in order to pick up where we left off.\n",
        "\n",
        "That's what depth-first search does."
      ]
    },
    {
      "cell_type": "markdown",
      "id": "a0565bab",
      "metadata": {
        "id": "a0565bab"
      },
      "source": [
        "## Depth-first search\n",
        "\n",
        "DFS starts at the root of the tree and selects the first child. If the\n",
        "child has children, it selects the first child again. When it gets to a\n",
        "node with no children, it backtracks, moving up the tree to the parent\n",
        "node, where it selects the next child if there is one; otherwise it\n",
        "backtracks again. When it has explored the last child of the root, it's\n",
        "done.\n",
        "\n",
        "There are two common ways to implement DFS, recursively and iteratively.\n",
        "The recursive implementation looks like this:"
      ]
    },
    {
      "cell_type": "code",
      "execution_count": 36,
      "id": "6b3ebd50",
      "metadata": {
        "tags": [],
        "id": "6b3ebd50"
      },
      "outputs": [],
      "source": [
        "def recursive_DFS(element):\n",
        "    if isinstance(element, NavigableString):\n",
        "        print(element, end='')\n",
        "        return\n",
        "\n",
        "    for child in element.children:\n",
        "        recursive_DFS(child)"
      ]
    },
    {
      "cell_type": "code",
      "execution_count": 37,
      "id": "be3f2553",
      "metadata": {
        "tags": [],
        "id": "be3f2553",
        "outputId": "2aaa3525-e34f-45c1-b181-502979d7df2b",
        "colab": {
          "base_uri": "https://localhost:8080/"
        }
      },
      "outputs": [
        {
          "output_type": "stream",
          "name": "stdout",
          "text": [
            "The Dormouse's story\n",
            "\n",
            "The Dormouse's story\n",
            "Once upon a time there were three little sisters; and their names were\n",
            "Elsie,\n",
            "Lacie and\n",
            "Tillie;\n",
            "and they lived at the bottom of a well.\n",
            "...\n"
          ]
        }
      ],
      "source": [
        "recursive_DFS(soup)"
      ]
    },
    {
      "cell_type": "markdown",
      "id": "8bf2a76e",
      "metadata": {
        "id": "8bf2a76e"
      },
      "source": [
        "Here is an iterative version of DFS that uses a list to represent a stack of elements:"
      ]
    },
    {
      "cell_type": "code",
      "execution_count": 38,
      "id": "8a2a2329",
      "metadata": {
        "tags": [],
        "id": "8a2a2329"
      },
      "outputs": [],
      "source": [
        "def iterative_DFS(root):\n",
        "    stack = [root]\n",
        "\n",
        "    while(stack):\n",
        "        element = stack.pop()\n",
        "        if isinstance(element, NavigableString):\n",
        "            print(element, end='')\n",
        "        else:\n",
        "            children = reversed(element.contents)\n",
        "            stack.extend(children)"
      ]
    },
    {
      "cell_type": "markdown",
      "id": "13fc8784",
      "metadata": {
        "id": "13fc8784"
      },
      "source": [
        "The parameter, `root`, is the root of the tree we want to traverse, so\n",
        "we start by creating the stack and pushing the root onto it.\n",
        "\n",
        "The loop continues until the stack is empty. Each time through, it pops\n",
        "a `PageElement` off the stack. If it gets a `NavigableString`, it prints the contents.\n",
        "Then it pushes the children onto the stack. In order to process the\n",
        "children in the right order, we have to push them onto the stack in\n",
        "reverse order.\n"
      ]
    },
    {
      "cell_type": "code",
      "execution_count": 39,
      "id": "6c6dc39d",
      "metadata": {
        "tags": [],
        "id": "6c6dc39d",
        "outputId": "6ec4488d-47a1-4cfd-e9d9-7c936b0d841c",
        "colab": {
          "base_uri": "https://localhost:8080/"
        }
      },
      "outputs": [
        {
          "output_type": "stream",
          "name": "stdout",
          "text": [
            "The Dormouse's story\n",
            "\n",
            "The Dormouse's story\n",
            "Once upon a time there were three little sisters; and their names were\n",
            "Elsie,\n",
            "Lacie and\n",
            "Tillie;\n",
            "and they lived at the bottom of a well.\n",
            "...\n"
          ]
        }
      ],
      "source": [
        "iterative_DFS(soup)"
      ]
    },
    {
      "cell_type": "markdown",
      "id": "bbe16ef6",
      "metadata": {
        "id": "bbe16ef6"
      },
      "source": [
        "**Exercise:** Write a function similar to `PageElement.find` that takes a `PageElement` and a tag name and returns the first tag with the given name. You can write it iteratively or recursively.\n",
        "\n",
        "Here's how to check whether a `PageElement` is a `Tag`.\n",
        "\n",
        "```\n",
        "from bs4 import Tag\n",
        "isinstance(element, Tag)\n",
        "```"
      ]
    },
    {
      "cell_type": "code",
      "execution_count": 41,
      "id": "53e04642",
      "metadata": {
        "id": "53e04642"
      },
      "outputs": [],
      "source": [
        "from bs4 import Tag\n",
        "isinstance(element, Tag)\n",
        "def is_right_tag(element, tag_name):\n",
        "    return (isinstance(element, Tag) and\n",
        "            element.name == tag_name)"
      ]
    },
    {
      "cell_type": "code",
      "execution_count": 124,
      "id": "395250e2",
      "metadata": {
        "id": "395250e2"
      },
      "outputs": [],
      "source": [
        "from bs4 import BeautifulSoup\n",
        "\n",
        "html = \"\"\"\n",
        "<html>\n",
        "  <body>\n",
        "    <div>\n",
        "      <p>Hello, <b>world</b></p>\n",
        "      <a href=\"http://example.com\">Link</a>\n",
        "      <p>Hello, <b>world</b></p>\n",
        "      <p>Hello, <b>world</b></p>\n",
        "    </div>\n",
        "  </body>\n",
        "</html>\n",
        "\"\"\"\n",
        "\n",
        "soup = BeautifulSoup(html, 'html.parser')"
      ]
    },
    {
      "cell_type": "code",
      "execution_count": 52,
      "id": "2129fc36",
      "metadata": {
        "id": "2129fc36",
        "outputId": "e9a7f3ca-00be-42dc-e77e-5a34d1689f62",
        "colab": {
          "base_uri": "https://localhost:8080/"
        }
      },
      "outputs": [
        {
          "output_type": "execute_result",
          "data": {
            "text/plain": [
              "['\\n',\n",
              " <html>\n",
              " <body>\n",
              " <div>\n",
              " <p>Hello, <b>world</b></p>\n",
              " <a href=\"http://example.com\">Link</a>\n",
              " </div>\n",
              " </body>\n",
              " </html>,\n",
              " '\\n']"
            ]
          },
          "metadata": {},
          "execution_count": 52
        }
      ],
      "source": [
        "soup.contents"
      ]
    },
    {
      "cell_type": "code",
      "execution_count": 119,
      "id": "4692e57d",
      "metadata": {
        "id": "4692e57d"
      },
      "outputs": [],
      "source": [
        "from bs4 import BeautifulSoup, NavigableString, Tag\n",
        "\n",
        "def iterative_DFS(root,tag_name):\n",
        "  stack = [root]\n",
        "  while (stack):\n",
        "    element = stack.pop()\n",
        "    if is_right_tag(element, tag_name):\n",
        "      return element\n",
        "    elif isinstance(element, Tag):\n",
        "      children = reversed(element.contents)\n",
        "      stack.extend(children)\n",
        "  return None\n"
      ]
    },
    {
      "cell_type": "code",
      "execution_count": 120,
      "id": "22c8e0a9",
      "metadata": {
        "id": "22c8e0a9",
        "outputId": "86f7c9f5-5c11-496f-b8bc-1da3e9a21c2c",
        "colab": {
          "base_uri": "https://localhost:8080/"
        }
      },
      "outputs": [
        {
          "output_type": "stream",
          "name": "stdout",
          "text": [
            "<p>Hello, <b>world</b></p>\n"
          ]
        }
      ],
      "source": [
        "soup = BeautifulSoup(html, 'html.parser')\n",
        "print(iterative_DFS(soup, \"p\"))   # should return: <p>Hello</p>"
      ]
    },
    {
      "cell_type": "code",
      "execution_count": 121,
      "id": "29ba35e7",
      "metadata": {
        "id": "29ba35e7",
        "outputId": "f480d4d3-517c-4f76-eef6-2ad43bff3491",
        "colab": {
          "base_uri": "https://localhost:8080/",
          "height": 141
        }
      },
      "outputs": [
        {
          "output_type": "error",
          "ename": "NameError",
          "evalue": "name 'elements' is not defined",
          "traceback": [
            "\u001b[0;31m---------------------------------------------------------------------------\u001b[0m",
            "\u001b[0;31mNameError\u001b[0m                                 Traceback (most recent call last)",
            "\u001b[0;32m<ipython-input-121-05e4e3f7fb3c>\u001b[0m in \u001b[0;36m<cell line: 0>\u001b[0;34m()\u001b[0m\n\u001b[0;32m----> 1\u001b[0;31m \u001b[0melements\u001b[0m\u001b[0;34m.\u001b[0m\u001b[0mname\u001b[0m\u001b[0;34m\u001b[0m\u001b[0;34m\u001b[0m\u001b[0m\n\u001b[0m",
            "\u001b[0;31mNameError\u001b[0m: name 'elements' is not defined"
          ]
        }
      ],
      "source": []
    },
    {
      "cell_type": "code",
      "execution_count": null,
      "id": "8b85a2cd",
      "metadata": {
        "id": "8b85a2cd"
      },
      "outputs": [],
      "source": []
    },
    {
      "cell_type": "code",
      "execution_count": null,
      "id": "3618a5b5",
      "metadata": {
        "id": "3618a5b5"
      },
      "outputs": [],
      "source": []
    },
    {
      "cell_type": "markdown",
      "id": "b0b935a4",
      "metadata": {
        "id": "b0b935a4"
      },
      "source": [
        "**Exercise:** Write a generator function similar to `PageElement.find_all` that takes a `PageElement` and a tag name and yields all tags with the given name. You can write it iteratively or recursively."
      ]
    },
    {
      "cell_type": "code",
      "execution_count": 137,
      "id": "e7694762",
      "metadata": {
        "id": "e7694762"
      },
      "outputs": [],
      "source": [
        "from bs4 import BeautifulSoup, NavigableString, Tag\n",
        "\n",
        "def iterative_DFS(root,tag_name):\n",
        "  stack = [root]\n",
        "  tag_list =list()\n",
        "  while (stack):\n",
        "    element = stack.pop()\n",
        "    if is_right_tag(element, tag_name):\n",
        "      tag_list.append(element)\n",
        "    elif isinstance(element, Tag):\n",
        "      children = reversed(element.contents)\n",
        "      stack.extend(children)\n",
        "  for tags in tag_list:\n",
        "    yield tags"
      ]
    },
    {
      "cell_type": "code",
      "execution_count": 138,
      "id": "99c31d24",
      "metadata": {
        "id": "99c31d24"
      },
      "outputs": [],
      "source": [
        "soup = BeautifulSoup(html, 'html.parser')\n",
        "iter = iterative_DFS(soup, \"p\")  # should return: <p>Hello</p>\n",
        "\n",
        "\n"
      ]
    },
    {
      "cell_type": "code",
      "execution_count": 143,
      "id": "c2ca2c7e",
      "metadata": {
        "id": "c2ca2c7e",
        "outputId": "7b4f093d-256b-4520-d3ff-2962146fc2fd",
        "colab": {
          "base_uri": "https://localhost:8080/",
          "height": 141
        }
      },
      "outputs": [
        {
          "output_type": "error",
          "ename": "StopIteration",
          "evalue": "",
          "traceback": [
            "\u001b[0;31m---------------------------------------------------------------------------\u001b[0m",
            "\u001b[0;31mStopIteration\u001b[0m                             Traceback (most recent call last)",
            "\u001b[0;32m<ipython-input-143-1a5d8c630f55>\u001b[0m in \u001b[0;36m<cell line: 0>\u001b[0;34m()\u001b[0m\n\u001b[0;32m----> 1\u001b[0;31m \u001b[0mnext\u001b[0m\u001b[0;34m(\u001b[0m\u001b[0miter\u001b[0m\u001b[0;34m)\u001b[0m\u001b[0;34m\u001b[0m\u001b[0;34m\u001b[0m\u001b[0m\n\u001b[0m",
            "\u001b[0;31mStopIteration\u001b[0m: "
          ]
        }
      ],
      "source": [
        "next(iter)"
      ]
    },
    {
      "cell_type": "code",
      "execution_count": null,
      "id": "689a7e73",
      "metadata": {
        "id": "689a7e73"
      },
      "outputs": [],
      "source": []
    },
    {
      "cell_type": "code",
      "execution_count": null,
      "id": "ed2e86d7",
      "metadata": {
        "id": "ed2e86d7"
      },
      "outputs": [],
      "source": []
    },
    {
      "cell_type": "markdown",
      "id": "00af821b",
      "metadata": {
        "id": "00af821b"
      },
      "source": [
        "*Data Structures and Information Retrieval in Python*\n",
        "\n",
        "Copyright 2021 Allen Downey\n",
        "\n",
        "License: [Creative Commons Attribution-NonCommercial-ShareAlike 4.0 International](https://creativecommons.org/licenses/by-nc-sa/4.0/)"
      ]
    },
    {
      "cell_type": "code",
      "execution_count": null,
      "id": "b848aaaf",
      "metadata": {
        "id": "b848aaaf"
      },
      "outputs": [],
      "source": []
    }
  ],
  "metadata": {
    "celltoolbar": "Tags",
    "kernelspec": {
      "display_name": "Python 3 (ipykernel)",
      "language": "python",
      "name": "python3"
    },
    "language_info": {
      "codemirror_mode": {
        "name": "ipython",
        "version": 3
      },
      "file_extension": ".py",
      "mimetype": "text/x-python",
      "name": "python",
      "nbconvert_exporter": "python",
      "pygments_lexer": "ipython3",
      "version": "3.8.16"
    },
    "colab": {
      "provenance": []
    }
  },
  "nbformat": 4,
  "nbformat_minor": 5
}