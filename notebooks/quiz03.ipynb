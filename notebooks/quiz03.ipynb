{
  "cells": [
    {
      "cell_type": "markdown",
      "metadata": {
        "id": "BQSxxqbj_jVp"
      },
      "source": [
        "# Quiz 3\n",
        "\n",
        "BEFORE YOU START THIS QUIZ:\n",
        "\n",
        "1. Click on \"Copy to Drive\" to make a copy of the quiz,\n",
        "\n",
        "2. Click on \"Share\",\n",
        "    \n",
        "3. Click on \"Change\" and select \"Anyone with this link can edit\"\n",
        "    \n",
        "4. Click \"Copy link\" and\n",
        "\n",
        "5. Paste the link into [this Canvas assignment](https://canvas.olin.edu/courses/313/assignments/4985).\n",
        "\n",
        "This quiz is open notes, open internet. The only thing you can't do is ask for help.\n",
        "\n",
        "Copyright 2021 Allen Downey, [MIT License](http://opensource.org/licenses/MIT)"
      ]
    },
    {
      "cell_type": "code",
      "execution_count": 1,
      "metadata": {
        "colab": {
          "base_uri": "https://localhost:8080/"
        },
        "id": "PGceuV7A_jVr",
        "outputId": "627d9f5e-dac4-42e2-beca-01d8dfff898e"
      },
      "outputs": [
        {
          "output_type": "stream",
          "name": "stdout",
          "text": [
            "Downloaded american-english\n"
          ]
        }
      ],
      "source": [
        "from os.path import basename, exists\n",
        "\n",
        "def download(url):\n",
        "    filename = basename(url)\n",
        "    if not exists(filename):\n",
        "        from urllib.request import urlretrieve\n",
        "        local, _ = urlretrieve(url, filename)\n",
        "        print('Downloaded ' + local)\n",
        "\n",
        "download('https://github.com/AllenDowney/DSIRP/raw/main/american-english')"
      ]
    },
    {
      "cell_type": "markdown",
      "metadata": {
        "id": "WWBQepQN_jVs"
      },
      "source": [
        "## Question 1\n",
        "\n",
        "The following is the implementation of a binary search tree (BST) from `search.ipynb`."
      ]
    },
    {
      "cell_type": "code",
      "execution_count": 2,
      "metadata": {
        "id": "7PUr4zjm_jVs"
      },
      "outputs": [],
      "source": [
        "class Node:\n",
        "    def __init__(self, data, left=None, right=None):\n",
        "        self.data = data\n",
        "        self.left = left\n",
        "        self.right = right\n",
        "\n",
        "    def __repr__(self):\n",
        "        return f'Node({self.data}, {repr(self.left)}, {repr(self.right)})'"
      ]
    },
    {
      "cell_type": "code",
      "execution_count": 3,
      "metadata": {
        "id": "G28pteV5_jVs"
      },
      "outputs": [],
      "source": [
        "class BSTree:\n",
        "    def __init__(self, root=None):\n",
        "        self.root = root\n",
        "\n",
        "    def __repr__(self):\n",
        "        return f'BSTree({repr(self.root)})'"
      ]
    },
    {
      "cell_type": "code",
      "execution_count": 4,
      "metadata": {
        "id": "2W7zqw3A_jVs"
      },
      "outputs": [],
      "source": [
        "def insert(tree, data):\n",
        "    tree.root = insert_rec(tree.root, data)\n",
        "\n",
        "def insert_rec(node, data):\n",
        "    if node is None:\n",
        "        return Node(data)\n",
        "\n",
        "    if data < node.data:\n",
        "        node.left = insert_rec(node.left, data)\n",
        "    else:\n",
        "        node.right = insert_rec(node.right, data)\n",
        "\n",
        "    return node"
      ]
    },
    {
      "cell_type": "markdown",
      "metadata": {
        "id": "qqHly8v__jVs"
      },
      "source": [
        "The following cell reads words from a file and adds them to a BST.\n",
        "But if you run it, you'll get a `RecursionError`."
      ]
    },
    {
      "cell_type": "code",
      "execution_count": 5,
      "metadata": {
        "colab": {
          "base_uri": "https://localhost:8080/",
          "height": 356
        },
        "id": "5m4MFX8K_jVs",
        "outputId": "354ad2d8-12a8-42f5-b6ef-9d931e6077b7"
      },
      "outputs": [
        {
          "output_type": "error",
          "ename": "RecursionError",
          "evalue": "maximum recursion depth exceeded",
          "traceback": [
            "\u001b[0;31m---------------------------------------------------------------------------\u001b[0m",
            "\u001b[0;31mRecursionError\u001b[0m                            Traceback (most recent call last)",
            "\u001b[0;32m<ipython-input-5-51d6de872b69>\u001b[0m in \u001b[0;36m<cell line: 0>\u001b[0;34m()\u001b[0m\n\u001b[1;32m      3\u001b[0m \u001b[0;32mfor\u001b[0m \u001b[0mline\u001b[0m \u001b[0;32min\u001b[0m \u001b[0mopen\u001b[0m\u001b[0;34m(\u001b[0m\u001b[0mfilename\u001b[0m\u001b[0;34m)\u001b[0m\u001b[0;34m:\u001b[0m\u001b[0;34m\u001b[0m\u001b[0;34m\u001b[0m\u001b[0m\n\u001b[1;32m      4\u001b[0m     \u001b[0;32mfor\u001b[0m \u001b[0mword\u001b[0m \u001b[0;32min\u001b[0m \u001b[0mline\u001b[0m\u001b[0;34m.\u001b[0m\u001b[0msplit\u001b[0m\u001b[0;34m(\u001b[0m\u001b[0;34m)\u001b[0m\u001b[0;34m:\u001b[0m\u001b[0;34m\u001b[0m\u001b[0;34m\u001b[0m\u001b[0m\n\u001b[0;32m----> 5\u001b[0;31m         \u001b[0minsert\u001b[0m\u001b[0;34m(\u001b[0m\u001b[0mtree\u001b[0m\u001b[0;34m,\u001b[0m \u001b[0mword\u001b[0m\u001b[0;34m.\u001b[0m\u001b[0mstrip\u001b[0m\u001b[0;34m(\u001b[0m\u001b[0;34m)\u001b[0m\u001b[0;34m)\u001b[0m\u001b[0;34m\u001b[0m\u001b[0;34m\u001b[0m\u001b[0m\n\u001b[0m",
            "\u001b[0;32m<ipython-input-4-6a6c90da7b3d>\u001b[0m in \u001b[0;36minsert\u001b[0;34m(tree, data)\u001b[0m\n\u001b[1;32m      1\u001b[0m \u001b[0;32mdef\u001b[0m \u001b[0minsert\u001b[0m\u001b[0;34m(\u001b[0m\u001b[0mtree\u001b[0m\u001b[0;34m,\u001b[0m \u001b[0mdata\u001b[0m\u001b[0;34m)\u001b[0m\u001b[0;34m:\u001b[0m\u001b[0;34m\u001b[0m\u001b[0;34m\u001b[0m\u001b[0m\n\u001b[0;32m----> 2\u001b[0;31m     \u001b[0mtree\u001b[0m\u001b[0;34m.\u001b[0m\u001b[0mroot\u001b[0m \u001b[0;34m=\u001b[0m \u001b[0minsert_rec\u001b[0m\u001b[0;34m(\u001b[0m\u001b[0mtree\u001b[0m\u001b[0;34m.\u001b[0m\u001b[0mroot\u001b[0m\u001b[0;34m,\u001b[0m \u001b[0mdata\u001b[0m\u001b[0;34m)\u001b[0m\u001b[0;34m\u001b[0m\u001b[0;34m\u001b[0m\u001b[0m\n\u001b[0m\u001b[1;32m      3\u001b[0m \u001b[0;34m\u001b[0m\u001b[0m\n\u001b[1;32m      4\u001b[0m \u001b[0;32mdef\u001b[0m \u001b[0minsert_rec\u001b[0m\u001b[0;34m(\u001b[0m\u001b[0mnode\u001b[0m\u001b[0;34m,\u001b[0m \u001b[0mdata\u001b[0m\u001b[0;34m)\u001b[0m\u001b[0;34m:\u001b[0m\u001b[0;34m\u001b[0m\u001b[0;34m\u001b[0m\u001b[0m\n\u001b[1;32m      5\u001b[0m     \u001b[0;32mif\u001b[0m \u001b[0mnode\u001b[0m \u001b[0;32mis\u001b[0m \u001b[0;32mNone\u001b[0m\u001b[0;34m:\u001b[0m\u001b[0;34m\u001b[0m\u001b[0;34m\u001b[0m\u001b[0m\n",
            "\u001b[0;32m<ipython-input-4-6a6c90da7b3d>\u001b[0m in \u001b[0;36minsert_rec\u001b[0;34m(node, data)\u001b[0m\n\u001b[1;32m      9\u001b[0m         \u001b[0mnode\u001b[0m\u001b[0;34m.\u001b[0m\u001b[0mleft\u001b[0m \u001b[0;34m=\u001b[0m \u001b[0minsert_rec\u001b[0m\u001b[0;34m(\u001b[0m\u001b[0mnode\u001b[0m\u001b[0;34m.\u001b[0m\u001b[0mleft\u001b[0m\u001b[0;34m,\u001b[0m \u001b[0mdata\u001b[0m\u001b[0;34m)\u001b[0m\u001b[0;34m\u001b[0m\u001b[0;34m\u001b[0m\u001b[0m\n\u001b[1;32m     10\u001b[0m     \u001b[0;32melse\u001b[0m\u001b[0;34m:\u001b[0m\u001b[0;34m\u001b[0m\u001b[0;34m\u001b[0m\u001b[0m\n\u001b[0;32m---> 11\u001b[0;31m         \u001b[0mnode\u001b[0m\u001b[0;34m.\u001b[0m\u001b[0mright\u001b[0m \u001b[0;34m=\u001b[0m \u001b[0minsert_rec\u001b[0m\u001b[0;34m(\u001b[0m\u001b[0mnode\u001b[0m\u001b[0;34m.\u001b[0m\u001b[0mright\u001b[0m\u001b[0;34m,\u001b[0m \u001b[0mdata\u001b[0m\u001b[0;34m)\u001b[0m\u001b[0;34m\u001b[0m\u001b[0;34m\u001b[0m\u001b[0m\n\u001b[0m\u001b[1;32m     12\u001b[0m \u001b[0;34m\u001b[0m\u001b[0m\n\u001b[1;32m     13\u001b[0m     \u001b[0;32mreturn\u001b[0m \u001b[0mnode\u001b[0m\u001b[0;34m\u001b[0m\u001b[0;34m\u001b[0m\u001b[0m\n",
            "... last 1 frames repeated, from the frame below ...\n",
            "\u001b[0;32m<ipython-input-4-6a6c90da7b3d>\u001b[0m in \u001b[0;36minsert_rec\u001b[0;34m(node, data)\u001b[0m\n\u001b[1;32m      9\u001b[0m         \u001b[0mnode\u001b[0m\u001b[0;34m.\u001b[0m\u001b[0mleft\u001b[0m \u001b[0;34m=\u001b[0m \u001b[0minsert_rec\u001b[0m\u001b[0;34m(\u001b[0m\u001b[0mnode\u001b[0m\u001b[0;34m.\u001b[0m\u001b[0mleft\u001b[0m\u001b[0;34m,\u001b[0m \u001b[0mdata\u001b[0m\u001b[0;34m)\u001b[0m\u001b[0;34m\u001b[0m\u001b[0;34m\u001b[0m\u001b[0m\n\u001b[1;32m     10\u001b[0m     \u001b[0;32melse\u001b[0m\u001b[0;34m:\u001b[0m\u001b[0;34m\u001b[0m\u001b[0;34m\u001b[0m\u001b[0m\n\u001b[0;32m---> 11\u001b[0;31m         \u001b[0mnode\u001b[0m\u001b[0;34m.\u001b[0m\u001b[0mright\u001b[0m \u001b[0;34m=\u001b[0m \u001b[0minsert_rec\u001b[0m\u001b[0;34m(\u001b[0m\u001b[0mnode\u001b[0m\u001b[0;34m.\u001b[0m\u001b[0mright\u001b[0m\u001b[0;34m,\u001b[0m \u001b[0mdata\u001b[0m\u001b[0;34m)\u001b[0m\u001b[0;34m\u001b[0m\u001b[0;34m\u001b[0m\u001b[0m\n\u001b[0m\u001b[1;32m     12\u001b[0m \u001b[0;34m\u001b[0m\u001b[0m\n\u001b[1;32m     13\u001b[0m     \u001b[0;32mreturn\u001b[0m \u001b[0mnode\u001b[0m\u001b[0;34m\u001b[0m\u001b[0;34m\u001b[0m\u001b[0m\n",
            "\u001b[0;31mRecursionError\u001b[0m: maximum recursion depth exceeded"
          ]
        }
      ],
      "source": [
        "filename = 'american-english'\n",
        "tree = BSTree()\n",
        "for line in open(filename):\n",
        "    for word in line.split():\n",
        "        insert(tree, word.strip())"
      ]
    },
    {
      "cell_type": "markdown",
      "metadata": {
        "id": "UcecSGgC_jVt"
      },
      "source": [
        "However, if we put the words into a list, shuffle the list, and then put the shuffled words into the BST, it works."
      ]
    },
    {
      "cell_type": "code",
      "execution_count": 6,
      "metadata": {
        "id": "J-59Hgta_jVt"
      },
      "outputs": [],
      "source": [
        "word_list = []\n",
        "for line in open(filename):\n",
        "    for word in line.split():\n",
        "        word_list.append(word.strip())"
      ]
    },
    {
      "cell_type": "code",
      "execution_count": 7,
      "metadata": {
        "id": "xI4tBEVG_jVt"
      },
      "outputs": [],
      "source": [
        "from random import shuffle\n",
        "\n",
        "shuffle(word_list)"
      ]
    },
    {
      "cell_type": "code",
      "execution_count": 8,
      "metadata": {
        "id": "-IRf4Iri_jVt"
      },
      "outputs": [],
      "source": [
        "tree = BSTree()\n",
        "for word in word_list:\n",
        "    insert(tree, word.strip())"
      ]
    },
    {
      "cell_type": "code",
      "source": [
        "lst = [1,2,3]\n",
        "no"
      ],
      "metadata": {
        "id": "EzyHAQ91F8xZ",
        "outputId": "611c2f86-16f6-44c3-f214-f79bce9616e8",
        "colab": {
          "base_uri": "https://localhost:8080/"
        }
      },
      "execution_count": 12,
      "outputs": [
        {
          "output_type": "execute_result",
          "data": {
            "text/plain": [
              "[1, 2, 3]"
            ]
          },
          "metadata": {},
          "execution_count": 12
        }
      ]
    },
    {
      "cell_type": "markdown",
      "metadata": {
        "id": "Me6om0_V_jVt"
      },
      "source": [
        "Write a few clear, complete sentences to answer the following two questions:\n",
        "\n",
        "1) Why did we get a `RecursionError`, and why does shuffling the words fix the problem?"
      ]
    },
    {
      "cell_type": "markdown",
      "metadata": {
        "id": "leLDnkGq_jVt"
      },
      "source": [
        "**The reson why the error occurs it is because the operations of a sorted ammount of words in that tree will be O(n), because the tree is not balances it only has right nodes. However shuffling the tree and then appending the items will balance the treee which will reduce the operations to O log(n) which will be approximately 17 instead of 101,000**"
      ]
    },
    {
      "cell_type": "markdown",
      "metadata": {
        "id": "6ueS9QlQ_jVt"
      },
      "source": [
        "2) What is the order of growth for the whole process; that is, reading the words into a list, shuffling the list, and then putting the shuffled words into a binary search tree. You can assume that `shuffle` is linear."
      ]
    },
    {
      "cell_type": "markdown",
      "metadata": {
        "id": "SZ5OGIcf_jVt"
      },
      "source": [
        "The whole operations are O (n) reading all words O (n) given linear and O nlogn wichic is the leading term thus O (nlogn) is the order of growth\n"
      ]
    },
    {
      "cell_type": "markdown",
      "metadata": {
        "id": "3b91XTq5_jVt"
      },
      "source": [
        "## Question 2\n",
        "\n",
        "As we discussed in class, there are three versions of the search problem:\n",
        "\n",
        "1) Checking whether an element is in a collection; for example, this is what the `in` operator does.\n",
        "\n",
        "2) Finding the index of an element in an ordered collection; for example, this is what the string method `find` does.\n",
        "\n",
        "3) In a collection of key-value pairs, finding the value that corresponds to a given key; this is what the dictionary method `get` does.\n",
        "\n",
        "In `search.ipynb`, we used a BST to solve the first problem. In this exercise, you will modify it to solve the third problem.\n",
        "\n",
        "Here's the code again (although notice that the names of the objects are `MapNode` and `BSTMap`)."
      ]
    },
    {
      "cell_type": "code",
      "execution_count": 29,
      "metadata": {
        "id": "ho4lBOHR_jVt"
      },
      "outputs": [],
      "source": [
        "class MapNode:\n",
        "    def __init__(self, key, value, left=None, right=None):\n",
        "        self.key = key\n",
        "        self.value = value\n",
        "        self.left = left\n",
        "        self.right = right\n",
        "\n",
        "    def __repr__(self):\n",
        "        return f'Node({self.key}, {self.value}, {repr(self.left)}, {repr(self.right)})'"
      ]
    },
    {
      "cell_type": "code",
      "execution_count": 26,
      "metadata": {
        "id": "8LkHkY7l_jVt"
      },
      "outputs": [],
      "source": [
        "class BSTMap:\n",
        "    def __init__(self, root=None):\n",
        "        self.root = root\n",
        "\n",
        "    def __repr__(self):\n",
        "        return f'BSTMap({repr(self.root)})'"
      ]
    },
    {
      "cell_type": "code",
      "execution_count": 27,
      "metadata": {
        "id": "XFPuOhB1_jVt"
      },
      "outputs": [],
      "source": [
        "def insert_map(tree, key, value):\n",
        "    tree.root = insert_map_rec(tree.root, key, value)\n",
        "\n",
        "def insert_map_rec(node, key, value):\n",
        "    if node is None:\n",
        "        return MapNode(key, value)\n",
        "\n",
        "    if key < node.key:\n",
        "        node.left = insert_map_rec(node.left, key, value)\n",
        "    else:\n",
        "        node.right = insert_map_rec(node.right, key,value)\n",
        "\n",
        "    return node"
      ]
    },
    {
      "cell_type": "code",
      "execution_count": 44,
      "metadata": {
        "id": "wiNIWK7A_jVt"
      },
      "outputs": [],
      "source": [
        "\n",
        "def get(tree_map, key):\n",
        "    return get_rec(tree_map.root, key)\n",
        "\n",
        "\n",
        "def get_rec(node, key):\n",
        "    if node is None:\n",
        "        raise KeyError(f\"Key {key} not found in tree.\")\n",
        "    if key == node.key:\n",
        "        return node.value\n",
        "    elif key < node.key:\n",
        "        return get_rec(node.left, key)\n",
        "    else:\n",
        "        return get_rec(node.right, key)\n",
        ""
      ]
    },
    {
      "cell_type": "code",
      "source": [],
      "metadata": {
        "id": "cfJS9WXcecN0"
      },
      "execution_count": 42,
      "outputs": []
    },
    {
      "cell_type": "code",
      "execution_count": 32,
      "metadata": {
        "colab": {
          "base_uri": "https://localhost:8080/",
          "height": 159
        },
        "id": "VdUduHDq_jVu",
        "outputId": "8902220a-bcf0-4a73-d6bf-5984e86456a9"
      },
      "outputs": [
        {
          "output_type": "error",
          "ename": "KeyError",
          "evalue": "'b'",
          "traceback": [
            "\u001b[0;31m---------------------------------------------------------------------------\u001b[0m",
            "\u001b[0;31mKeyError\u001b[0m                                  Traceback (most recent call last)",
            "\u001b[0;32m<ipython-input-32-2572945d421f>\u001b[0m in \u001b[0;36m<cell line: 0>\u001b[0;34m()\u001b[0m\n\u001b[1;32m      1\u001b[0m \u001b[0md\u001b[0m \u001b[0;34m=\u001b[0m \u001b[0;34m{\u001b[0m\u001b[0;34m'a'\u001b[0m\u001b[0;34m:\u001b[0m \u001b[0;36m1\u001b[0m\u001b[0;34m}\u001b[0m\u001b[0;34m\u001b[0m\u001b[0;34m\u001b[0m\u001b[0m\n\u001b[0;32m----> 2\u001b[0;31m \u001b[0md\u001b[0m\u001b[0;34m[\u001b[0m\u001b[0;34m'b'\u001b[0m\u001b[0;34m]\u001b[0m  \u001b[0;31m# what happens?\u001b[0m\u001b[0;34m\u001b[0m\u001b[0;34m\u001b[0m\u001b[0m\n\u001b[0m",
            "\u001b[0;31mKeyError\u001b[0m: 'b'"
          ]
        }
      ],
      "source": []
    },
    {
      "cell_type": "markdown",
      "metadata": {
        "id": "0V8UBrez_jVu"
      },
      "source": [
        "Modify this code so that it stores keys and values, rather than just elements of a collection.\n",
        "Then write a function called `get` that takes a `BSTMap` and a key:\n",
        "\n",
        "* If the key is in the map, it should return the corresponding value;\n",
        "\n",
        "* Otherwise it should raise a `KeyError` with an appropriate message.\n",
        "\n",
        "You can use the following code to test your implementation."
      ]
    },
    {
      "cell_type": "code",
      "execution_count": 30,
      "metadata": {
        "colab": {
          "base_uri": "https://localhost:8080/"
        },
        "id": "_dUD2J_b_jVu",
        "outputId": "263fa516-1b22-4e1d-a89f-81bd1e029aba"
      },
      "outputs": [
        {
          "output_type": "stream",
          "name": "stdout",
          "text": [
            "u 0\n",
            "n 1\n",
            "i 2\n",
            "q 3\n",
            "u 4\n",
            "e 5\n",
            "l 6\n",
            "t 7\n",
            "r 8\n",
            "s 9\n"
          ]
        },
        {
          "output_type": "execute_result",
          "data": {
            "text/plain": [
              "BSTMap(Node(u, 0, Node(n, 1, Node(i, 2, Node(e, 5, None, None), Node(l, 6, None, None)), Node(q, 3, None, Node(t, 7, Node(r, 8, None, Node(s, 9, None, None)), None))), Node(u, 4, None, None)))"
            ]
          },
          "metadata": {},
          "execution_count": 30
        }
      ],
      "source": [
        "tree_map = BSTMap()\n",
        "\n",
        "keys = 'uniqueltrs'\n",
        "values = range(len(keys))\n",
        "for key, value in zip(keys, values):\n",
        "    print(key, value)\n",
        "    insert_map(tree_map, key, value)\n",
        "\n",
        "tree_map"
      ]
    },
    {
      "cell_type": "code",
      "execution_count": 48,
      "metadata": {
        "colab": {
          "base_uri": "https://localhost:8080/"
        },
        "id": "M7gOZ774_jVu",
        "outputId": "ec0a9fde-4742-4d16-cdc6-cdc73d8e5295"
      },
      "outputs": [
        {
          "output_type": "stream",
          "name": "stdout",
          "text": [
            "u 0\n",
            "n 1\n",
            "i 2\n",
            "q 3\n",
            "u 0\n",
            "e 5\n",
            "l 6\n",
            "t 7\n",
            "r 8\n",
            "s 9\n"
          ]
        }
      ],
      "source": [
        "for key in keys:\n",
        "    print(key, get(tree_map, key))"
      ]
    },
    {
      "cell_type": "markdown",
      "metadata": {
        "id": "WTGAsK1h_jVu"
      },
      "source": [
        "The following should raise a `KeyError`."
      ]
    },
    {
      "cell_type": "code",
      "execution_count": 49,
      "metadata": {
        "colab": {
          "base_uri": "https://localhost:8080/",
          "height": 287
        },
        "id": "fgA3oDIk_jVu",
        "outputId": "87a1d4b6-adc2-446f-f141-efeba25a53ee"
      },
      "outputs": [
        {
          "output_type": "error",
          "ename": "KeyError",
          "evalue": "'Key b not found in tree.'",
          "traceback": [
            "\u001b[0;31m---------------------------------------------------------------------------\u001b[0m",
            "\u001b[0;31mKeyError\u001b[0m                                  Traceback (most recent call last)",
            "\u001b[0;32m<ipython-input-49-b5e1d200d6dd>\u001b[0m in \u001b[0;36m<cell line: 0>\u001b[0;34m()\u001b[0m\n\u001b[0;32m----> 1\u001b[0;31m \u001b[0mget\u001b[0m\u001b[0;34m(\u001b[0m\u001b[0mtree_map\u001b[0m\u001b[0;34m,\u001b[0m \u001b[0;34m'b'\u001b[0m\u001b[0;34m)\u001b[0m\u001b[0;34m\u001b[0m\u001b[0;34m\u001b[0m\u001b[0m\n\u001b[0m",
            "\u001b[0;32m<ipython-input-44-597af9074497>\u001b[0m in \u001b[0;36mget\u001b[0;34m(tree_map, key)\u001b[0m\n\u001b[1;32m      1\u001b[0m \u001b[0;32mdef\u001b[0m \u001b[0mget\u001b[0m\u001b[0;34m(\u001b[0m\u001b[0mtree_map\u001b[0m\u001b[0;34m,\u001b[0m \u001b[0mkey\u001b[0m\u001b[0;34m)\u001b[0m\u001b[0;34m:\u001b[0m\u001b[0;34m\u001b[0m\u001b[0;34m\u001b[0m\u001b[0m\n\u001b[0;32m----> 2\u001b[0;31m     \u001b[0;32mreturn\u001b[0m \u001b[0mget_rec\u001b[0m\u001b[0;34m(\u001b[0m\u001b[0mtree_map\u001b[0m\u001b[0;34m.\u001b[0m\u001b[0mroot\u001b[0m\u001b[0;34m,\u001b[0m \u001b[0mkey\u001b[0m\u001b[0;34m)\u001b[0m\u001b[0;34m\u001b[0m\u001b[0;34m\u001b[0m\u001b[0m\n\u001b[0m\u001b[1;32m      3\u001b[0m \u001b[0;34m\u001b[0m\u001b[0m\n\u001b[1;32m      4\u001b[0m \u001b[0;34m\u001b[0m\u001b[0m\n\u001b[1;32m      5\u001b[0m \u001b[0;32mdef\u001b[0m \u001b[0mget_rec\u001b[0m\u001b[0;34m(\u001b[0m\u001b[0mnode\u001b[0m\u001b[0;34m,\u001b[0m \u001b[0mkey\u001b[0m\u001b[0;34m)\u001b[0m\u001b[0;34m:\u001b[0m\u001b[0;34m\u001b[0m\u001b[0;34m\u001b[0m\u001b[0m\n",
            "\u001b[0;32m<ipython-input-44-597af9074497>\u001b[0m in \u001b[0;36mget_rec\u001b[0;34m(node, key)\u001b[0m\n\u001b[1;32m      9\u001b[0m         \u001b[0;32mreturn\u001b[0m \u001b[0mnode\u001b[0m\u001b[0;34m.\u001b[0m\u001b[0mvalue\u001b[0m\u001b[0;34m\u001b[0m\u001b[0;34m\u001b[0m\u001b[0m\n\u001b[1;32m     10\u001b[0m     \u001b[0;32melif\u001b[0m \u001b[0mkey\u001b[0m \u001b[0;34m<\u001b[0m \u001b[0mnode\u001b[0m\u001b[0;34m.\u001b[0m\u001b[0mkey\u001b[0m\u001b[0;34m:\u001b[0m\u001b[0;34m\u001b[0m\u001b[0;34m\u001b[0m\u001b[0m\n\u001b[0;32m---> 11\u001b[0;31m         \u001b[0;32mreturn\u001b[0m \u001b[0mget_rec\u001b[0m\u001b[0;34m(\u001b[0m\u001b[0mnode\u001b[0m\u001b[0;34m.\u001b[0m\u001b[0mleft\u001b[0m\u001b[0;34m,\u001b[0m \u001b[0mkey\u001b[0m\u001b[0;34m)\u001b[0m\u001b[0;34m\u001b[0m\u001b[0;34m\u001b[0m\u001b[0m\n\u001b[0m\u001b[1;32m     12\u001b[0m     \u001b[0;32melse\u001b[0m\u001b[0;34m:\u001b[0m\u001b[0;34m\u001b[0m\u001b[0;34m\u001b[0m\u001b[0m\n\u001b[1;32m     13\u001b[0m         \u001b[0;32mreturn\u001b[0m \u001b[0mget_rec\u001b[0m\u001b[0;34m(\u001b[0m\u001b[0mnode\u001b[0m\u001b[0;34m.\u001b[0m\u001b[0mright\u001b[0m\u001b[0;34m,\u001b[0m \u001b[0mkey\u001b[0m\u001b[0;34m)\u001b[0m\u001b[0;34m\u001b[0m\u001b[0;34m\u001b[0m\u001b[0m\n",
            "\u001b[0;32m<ipython-input-44-597af9074497>\u001b[0m in \u001b[0;36mget_rec\u001b[0;34m(node, key)\u001b[0m\n\u001b[1;32m      9\u001b[0m         \u001b[0;32mreturn\u001b[0m \u001b[0mnode\u001b[0m\u001b[0;34m.\u001b[0m\u001b[0mvalue\u001b[0m\u001b[0;34m\u001b[0m\u001b[0;34m\u001b[0m\u001b[0m\n\u001b[1;32m     10\u001b[0m     \u001b[0;32melif\u001b[0m \u001b[0mkey\u001b[0m \u001b[0;34m<\u001b[0m \u001b[0mnode\u001b[0m\u001b[0;34m.\u001b[0m\u001b[0mkey\u001b[0m\u001b[0;34m:\u001b[0m\u001b[0;34m\u001b[0m\u001b[0;34m\u001b[0m\u001b[0m\n\u001b[0;32m---> 11\u001b[0;31m         \u001b[0;32mreturn\u001b[0m \u001b[0mget_rec\u001b[0m\u001b[0;34m(\u001b[0m\u001b[0mnode\u001b[0m\u001b[0;34m.\u001b[0m\u001b[0mleft\u001b[0m\u001b[0;34m,\u001b[0m \u001b[0mkey\u001b[0m\u001b[0;34m)\u001b[0m\u001b[0;34m\u001b[0m\u001b[0;34m\u001b[0m\u001b[0m\n\u001b[0m\u001b[1;32m     12\u001b[0m     \u001b[0;32melse\u001b[0m\u001b[0;34m:\u001b[0m\u001b[0;34m\u001b[0m\u001b[0;34m\u001b[0m\u001b[0m\n\u001b[1;32m     13\u001b[0m         \u001b[0;32mreturn\u001b[0m \u001b[0mget_rec\u001b[0m\u001b[0;34m(\u001b[0m\u001b[0mnode\u001b[0m\u001b[0;34m.\u001b[0m\u001b[0mright\u001b[0m\u001b[0;34m,\u001b[0m \u001b[0mkey\u001b[0m\u001b[0;34m)\u001b[0m\u001b[0;34m\u001b[0m\u001b[0;34m\u001b[0m\u001b[0m\n",
            "\u001b[0;32m<ipython-input-44-597af9074497>\u001b[0m in \u001b[0;36mget_rec\u001b[0;34m(node, key)\u001b[0m\n\u001b[1;32m      9\u001b[0m         \u001b[0;32mreturn\u001b[0m \u001b[0mnode\u001b[0m\u001b[0;34m.\u001b[0m\u001b[0mvalue\u001b[0m\u001b[0;34m\u001b[0m\u001b[0;34m\u001b[0m\u001b[0m\n\u001b[1;32m     10\u001b[0m     \u001b[0;32melif\u001b[0m \u001b[0mkey\u001b[0m \u001b[0;34m<\u001b[0m \u001b[0mnode\u001b[0m\u001b[0;34m.\u001b[0m\u001b[0mkey\u001b[0m\u001b[0;34m:\u001b[0m\u001b[0;34m\u001b[0m\u001b[0;34m\u001b[0m\u001b[0m\n\u001b[0;32m---> 11\u001b[0;31m         \u001b[0;32mreturn\u001b[0m \u001b[0mget_rec\u001b[0m\u001b[0;34m(\u001b[0m\u001b[0mnode\u001b[0m\u001b[0;34m.\u001b[0m\u001b[0mleft\u001b[0m\u001b[0;34m,\u001b[0m \u001b[0mkey\u001b[0m\u001b[0;34m)\u001b[0m\u001b[0;34m\u001b[0m\u001b[0;34m\u001b[0m\u001b[0m\n\u001b[0m\u001b[1;32m     12\u001b[0m     \u001b[0;32melse\u001b[0m\u001b[0;34m:\u001b[0m\u001b[0;34m\u001b[0m\u001b[0;34m\u001b[0m\u001b[0m\n\u001b[1;32m     13\u001b[0m         \u001b[0;32mreturn\u001b[0m \u001b[0mget_rec\u001b[0m\u001b[0;34m(\u001b[0m\u001b[0mnode\u001b[0m\u001b[0;34m.\u001b[0m\u001b[0mright\u001b[0m\u001b[0;34m,\u001b[0m \u001b[0mkey\u001b[0m\u001b[0;34m)\u001b[0m\u001b[0;34m\u001b[0m\u001b[0;34m\u001b[0m\u001b[0m\n",
            "\u001b[0;32m<ipython-input-44-597af9074497>\u001b[0m in \u001b[0;36mget_rec\u001b[0;34m(node, key)\u001b[0m\n\u001b[1;32m      9\u001b[0m         \u001b[0;32mreturn\u001b[0m \u001b[0mnode\u001b[0m\u001b[0;34m.\u001b[0m\u001b[0mvalue\u001b[0m\u001b[0;34m\u001b[0m\u001b[0;34m\u001b[0m\u001b[0m\n\u001b[1;32m     10\u001b[0m     \u001b[0;32melif\u001b[0m \u001b[0mkey\u001b[0m \u001b[0;34m<\u001b[0m \u001b[0mnode\u001b[0m\u001b[0;34m.\u001b[0m\u001b[0mkey\u001b[0m\u001b[0;34m:\u001b[0m\u001b[0;34m\u001b[0m\u001b[0;34m\u001b[0m\u001b[0m\n\u001b[0;32m---> 11\u001b[0;31m         \u001b[0;32mreturn\u001b[0m \u001b[0mget_rec\u001b[0m\u001b[0;34m(\u001b[0m\u001b[0mnode\u001b[0m\u001b[0;34m.\u001b[0m\u001b[0mleft\u001b[0m\u001b[0;34m,\u001b[0m \u001b[0mkey\u001b[0m\u001b[0;34m)\u001b[0m\u001b[0;34m\u001b[0m\u001b[0;34m\u001b[0m\u001b[0m\n\u001b[0m\u001b[1;32m     12\u001b[0m     \u001b[0;32melse\u001b[0m\u001b[0;34m:\u001b[0m\u001b[0;34m\u001b[0m\u001b[0;34m\u001b[0m\u001b[0m\n\u001b[1;32m     13\u001b[0m         \u001b[0;32mreturn\u001b[0m \u001b[0mget_rec\u001b[0m\u001b[0;34m(\u001b[0m\u001b[0mnode\u001b[0m\u001b[0;34m.\u001b[0m\u001b[0mright\u001b[0m\u001b[0;34m,\u001b[0m \u001b[0mkey\u001b[0m\u001b[0;34m)\u001b[0m\u001b[0;34m\u001b[0m\u001b[0;34m\u001b[0m\u001b[0m\n",
            "\u001b[0;32m<ipython-input-44-597af9074497>\u001b[0m in \u001b[0;36mget_rec\u001b[0;34m(node, key)\u001b[0m\n\u001b[1;32m      5\u001b[0m \u001b[0;32mdef\u001b[0m \u001b[0mget_rec\u001b[0m\u001b[0;34m(\u001b[0m\u001b[0mnode\u001b[0m\u001b[0;34m,\u001b[0m \u001b[0mkey\u001b[0m\u001b[0;34m)\u001b[0m\u001b[0;34m:\u001b[0m\u001b[0;34m\u001b[0m\u001b[0;34m\u001b[0m\u001b[0m\n\u001b[1;32m      6\u001b[0m     \u001b[0;32mif\u001b[0m \u001b[0mnode\u001b[0m \u001b[0;32mis\u001b[0m \u001b[0;32mNone\u001b[0m\u001b[0;34m:\u001b[0m\u001b[0;34m\u001b[0m\u001b[0;34m\u001b[0m\u001b[0m\n\u001b[0;32m----> 7\u001b[0;31m         \u001b[0;32mraise\u001b[0m \u001b[0mKeyError\u001b[0m\u001b[0;34m(\u001b[0m\u001b[0;34mf\"Key {key} not found in tree.\"\u001b[0m\u001b[0;34m)\u001b[0m\u001b[0;34m\u001b[0m\u001b[0;34m\u001b[0m\u001b[0m\n\u001b[0m\u001b[1;32m      8\u001b[0m     \u001b[0;32mif\u001b[0m \u001b[0mkey\u001b[0m \u001b[0;34m==\u001b[0m \u001b[0mnode\u001b[0m\u001b[0;34m.\u001b[0m\u001b[0mkey\u001b[0m\u001b[0;34m:\u001b[0m\u001b[0;34m\u001b[0m\u001b[0;34m\u001b[0m\u001b[0m\n\u001b[1;32m      9\u001b[0m         \u001b[0;32mreturn\u001b[0m \u001b[0mnode\u001b[0m\u001b[0;34m.\u001b[0m\u001b[0mvalue\u001b[0m\u001b[0;34m\u001b[0m\u001b[0;34m\u001b[0m\u001b[0m\n",
            "\u001b[0;31mKeyError\u001b[0m: 'Key b not found in tree.'"
          ]
        }
      ],
      "source": [
        "get(tree_map, 'b')"
      ]
    },
    {
      "cell_type": "markdown",
      "metadata": {
        "id": "3Vo5T6qx_jVu"
      },
      "source": [
        "## Alternative solution"
      ]
    },
    {
      "cell_type": "code",
      "execution_count": 45,
      "metadata": {
        "id": "wbzITxc7_jVu"
      },
      "outputs": [],
      "source": [
        "def iterative_get(tree_map,key):\n",
        "    node = tree_map.root\n",
        "\n",
        "    while(node is not None):\n",
        "        if key == node.key:\n",
        "          return node.value\n",
        "        elif key < node.key:\n",
        "          node =  node.left\n",
        "        else:\n",
        "          node = node.right\n",
        "    raise KeyError(f\"Key {key} not found\")"
      ]
    },
    {
      "cell_type": "code",
      "execution_count": null,
      "metadata": {
        "id": "uGj_GUsw_jVu"
      },
      "outputs": [],
      "source": []
    },
    {
      "cell_type": "code",
      "execution_count": null,
      "metadata": {
        "id": "buuN7eif_jVu"
      },
      "outputs": [],
      "source": []
    },
    {
      "cell_type": "code",
      "execution_count": null,
      "metadata": {
        "id": "htIfEV-U_jVu"
      },
      "outputs": [],
      "source": []
    },
    {
      "cell_type": "markdown",
      "metadata": {
        "id": "g2l583FM_jVu"
      },
      "source": [
        "Modify this code so that it stores keys and values, rather than just elements of a collection.\n",
        "Then write a function called `get` that takes a `BSTMap` and a key:\n",
        "\n",
        "* If the key is in the map, it should return the corresponding value;\n",
        "\n",
        "* Otherwise it should raise a `KeyError` with an appropriate message.\n",
        "\n",
        "You can use the following code to test your implementation."
      ]
    },
    {
      "cell_type": "code",
      "execution_count": 47,
      "metadata": {
        "colab": {
          "base_uri": "https://localhost:8080/"
        },
        "id": "U9SSvflu_jVu",
        "outputId": "a5a09bbd-397f-4408-97a9-5c948b5bd365"
      },
      "outputs": [
        {
          "output_type": "stream",
          "name": "stdout",
          "text": [
            "u 0\n",
            "n 1\n",
            "i 2\n",
            "q 3\n",
            "u 4\n",
            "e 5\n",
            "l 6\n",
            "t 7\n",
            "r 8\n",
            "s 9\n"
          ]
        },
        {
          "output_type": "execute_result",
          "data": {
            "text/plain": [
              "BSTMap(Node(u, 0, Node(n, 1, Node(i, 2, Node(e, 5, None, None), Node(l, 6, None, None)), Node(q, 3, None, Node(t, 7, Node(r, 8, None, Node(s, 9, None, None)), None))), Node(u, 4, None, None)))"
            ]
          },
          "metadata": {},
          "execution_count": 47
        }
      ],
      "source": [
        "tree_map = BSTMap()\n",
        "\n",
        "keys = 'uniqueltrs'\n",
        "values = range(len(keys))\n",
        "for key, value in zip(keys, values):\n",
        "    print(key, value)\n",
        "    insert_map(tree_map, key, value)\n",
        "\n",
        "tree_map"
      ]
    },
    {
      "cell_type": "code",
      "execution_count": 46,
      "metadata": {
        "colab": {
          "base_uri": "https://localhost:8080/"
        },
        "id": "G5Gz1s0K_jVu",
        "outputId": "dc5ff0e5-fe30-4e2e-9e7a-75f7870df05d"
      },
      "outputs": [
        {
          "output_type": "stream",
          "name": "stdout",
          "text": [
            "u 0\n",
            "n 1\n",
            "i 2\n",
            "q 3\n",
            "u 0\n",
            "e 5\n",
            "l 6\n",
            "t 7\n",
            "r 8\n",
            "s 9\n"
          ]
        }
      ],
      "source": [
        "for key in keys:\n",
        "    print(key, iterative_get(tree_map, key))"
      ]
    },
    {
      "cell_type": "code",
      "execution_count": null,
      "metadata": {
        "id": "5QcuQgcI_jVu"
      },
      "outputs": [],
      "source": []
    }
  ],
  "metadata": {
    "kernelspec": {
      "display_name": "Python 3",
      "language": "python",
      "name": "python3"
    },
    "language_info": {
      "codemirror_mode": {
        "name": "ipython",
        "version": 3
      },
      "file_extension": ".py",
      "mimetype": "text/x-python",
      "name": "python",
      "nbconvert_exporter": "python",
      "pygments_lexer": "ipython3",
      "version": "3.9.4"
    },
    "colab": {
      "provenance": []
    }
  },
  "nbformat": 4,
  "nbformat_minor": 0
}