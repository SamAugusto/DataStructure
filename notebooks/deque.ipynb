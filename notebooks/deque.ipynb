{
  "cells": [
    {
      "cell_type": "markdown",
      "id": "af0fce85",
      "metadata": {
        "id": "af0fce85"
      },
      "source": [
        "# Deque"
      ]
    },
    {
      "cell_type": "markdown",
      "id": "c91bcf8f",
      "metadata": {
        "id": "c91bcf8f"
      },
      "source": [
        "[Click here to run this chapter on Colab](https://colab.research.google.com/github/AllenDowney/DSIRP/blob/main/notebooks/deque.ipynb)"
      ]
    },
    {
      "cell_type": "markdown",
      "id": "394c2889",
      "metadata": {
        "id": "394c2889"
      },
      "source": [
        "## Double-ended Queue\n",
        "\n",
        "With Python lists, we can add and remove elements from the *end* of the list in constant time, but adding and removing from the beginning takes linear time.\n",
        "That's because Python lists are implemented using arrays that grow dynamically.\n",
        "\n",
        "With linked lists, we can add and remove elements from the *beginning* of the list in constant time, but adding and removing from the end takes linear time.\n",
        "\n",
        "With either of these implementations, it is easy to make a stack, that is, a collection where the first element we add is the last element we remove. A stack is also called a \"first-in, last-out\" queue, abbreviated FILO.\n",
        "\n",
        "But it is not easy to implement a \"first-in, first-out\" queue, that is, a collection where the first element we add is the *first* element we remove.\n",
        "\n",
        "Fortunately, there are ways to implement lists that can add and remove elements from both ends in constant time.\n",
        "A collection that has this property is called a double-ended queue, abbreviated \"deque\" and pronounced like \"deck\".\n",
        "\n",
        "One way to implement a deque is a doubly-linked list, also known as a \"head-tail linked list\".\n",
        "Each node in a doubly-linked list has a reference to the previous node in the list as well as the next element, which I will call `left` and `right`.\n"
      ]
    },
    {
      "cell_type": "code",
      "execution_count": 59,
      "id": "c3eda892",
      "metadata": {
        "id": "c3eda892"
      },
      "outputs": [],
      "source": [
        "class Node:\n",
        "    def __init__(self, data, left=None, right=None):\n",
        "        self.data = data\n",
        "        self.left = left\n",
        "        self.right = right\n",
        "\n",
        "    def __repr__(self):\n",
        "        return f'Node({self.data})'"
      ]
    },
    {
      "cell_type": "markdown",
      "id": "bbf5ad6f",
      "metadata": {
        "id": "bbf5ad6f"
      },
      "source": [
        "We can create nodes like this:"
      ]
    },
    {
      "cell_type": "code",
      "execution_count": 60,
      "id": "3eb18535",
      "metadata": {
        "tags": [],
        "colab": {
          "base_uri": "https://localhost:8080/"
        },
        "id": "3eb18535",
        "outputId": "5ca201b7-09b1-4c4c-e350-b07b0f065ae7"
      },
      "outputs": [
        {
          "output_type": "execute_result",
          "data": {
            "text/plain": [
              "Node(1)"
            ]
          },
          "metadata": {},
          "execution_count": 60
        }
      ],
      "source": [
        "node1 = Node(1)\n",
        "node2 = Node(2)\n",
        "node3 = Node(3)\n",
        "\n",
        "node1"
      ]
    },
    {
      "cell_type": "markdown",
      "id": "fdfd0222",
      "metadata": {
        "id": "fdfd0222"
      },
      "source": [
        "And then link them up, like this:"
      ]
    },
    {
      "cell_type": "code",
      "execution_count": 61,
      "id": "80748b5d",
      "metadata": {
        "tags": [],
        "id": "80748b5d"
      },
      "outputs": [],
      "source": [
        "node1.right = node2\n",
        "node2.right = node3\n",
        "\n",
        "node2.left = node1\n",
        "node3.left = node2"
      ]
    },
    {
      "cell_type": "markdown",
      "id": "889fdd16",
      "metadata": {
        "id": "889fdd16"
      },
      "source": [
        "To traverse the list from left to right, we can start at the beginning and follow the `right` links."
      ]
    },
    {
      "cell_type": "code",
      "execution_count": 62,
      "id": "ca630b64",
      "metadata": {
        "colab": {
          "base_uri": "https://localhost:8080/"
        },
        "id": "ca630b64",
        "outputId": "2be5b292-eaf7-4117-f956-c359a9d147fe"
      },
      "outputs": [
        {
          "output_type": "stream",
          "name": "stdout",
          "text": [
            "Node(1)\n",
            "Node(2)\n",
            "Node(3)\n"
          ]
        }
      ],
      "source": [
        "node = node1\n",
        "while node:\n",
        "    print(node)\n",
        "    node = node.right"
      ]
    },
    {
      "cell_type": "markdown",
      "id": "016025b3",
      "metadata": {
        "id": "016025b3"
      },
      "source": [
        "To traverse from right to left, we start and the end and follow the `left` links."
      ]
    },
    {
      "cell_type": "code",
      "execution_count": 63,
      "id": "a259cbd5",
      "metadata": {
        "colab": {
          "base_uri": "https://localhost:8080/"
        },
        "id": "a259cbd5",
        "outputId": "07044d86-5326-45fd-96ce-8598b32aca97"
      },
      "outputs": [
        {
          "output_type": "stream",
          "name": "stdout",
          "text": [
            "Node(3)\n",
            "Node(2)\n",
            "Node(1)\n"
          ]
        }
      ],
      "source": [
        "node = node3\n",
        "while node:\n",
        "    print(node)\n",
        "    node = node.left"
      ]
    },
    {
      "cell_type": "markdown",
      "id": "f21575f6",
      "metadata": {
        "id": "f21575f6"
      },
      "source": [
        "## Deque objects\n",
        "\n",
        "For some operations, it will be convenient to have another object that represents the whole list (as opposed to one of its nodes).\n",
        "\n",
        "Here's the class definition."
      ]
    },
    {
      "cell_type": "code",
      "execution_count": 64,
      "id": "f1c32da2",
      "metadata": {
        "id": "f1c32da2"
      },
      "outputs": [],
      "source": [
        "class Deque:\n",
        "    def __init__(self, head=None, tail=None):\n",
        "        self.head = head\n",
        "        self.tail = tail\n",
        "\n",
        "    def __repr__(self):\n",
        "        return f'LinkedList({self.head}, {self.tail})'"
      ]
    },
    {
      "cell_type": "markdown",
      "id": "c41fb536",
      "metadata": {
        "id": "c41fb536"
      },
      "source": [
        "Now we can create a `Deque` with references to `node1` and `node3`:"
      ]
    },
    {
      "cell_type": "code",
      "execution_count": 66,
      "id": "f8def755",
      "metadata": {
        "tags": [],
        "colab": {
          "base_uri": "https://localhost:8080/",
          "height": 159
        },
        "id": "f8def755",
        "outputId": "9ce86fe9-af91-4052-e9b1-cfd37910ba9f"
      },
      "outputs": [
        {
          "output_type": "error",
          "ename": "TypeError",
          "evalue": "object of type 'Deque' has no len()",
          "traceback": [
            "\u001b[0;31m---------------------------------------------------------------------------\u001b[0m",
            "\u001b[0;31mTypeError\u001b[0m                                 Traceback (most recent call last)",
            "\u001b[0;32m/tmp/ipython-input-66-1464240632.py\u001b[0m in \u001b[0;36m<cell line: 0>\u001b[0;34m()\u001b[0m\n\u001b[1;32m      1\u001b[0m \u001b[0mdeque\u001b[0m \u001b[0;34m=\u001b[0m \u001b[0mDeque\u001b[0m\u001b[0;34m(\u001b[0m\u001b[0mnode1\u001b[0m\u001b[0;34m,\u001b[0m \u001b[0mnode3\u001b[0m\u001b[0;34m)\u001b[0m\u001b[0;34m\u001b[0m\u001b[0;34m\u001b[0m\u001b[0m\n\u001b[0;32m----> 2\u001b[0;31m \u001b[0mlen\u001b[0m\u001b[0;34m(\u001b[0m\u001b[0mdeque\u001b[0m\u001b[0;34m)\u001b[0m\u001b[0;34m\u001b[0m\u001b[0;34m\u001b[0m\u001b[0m\n\u001b[0m",
            "\u001b[0;31mTypeError\u001b[0m: object of type 'Deque' has no len()"
          ]
        }
      ],
      "source": [
        "deque = Deque(node1, node3)\n",
        "deque"
      ]
    },
    {
      "cell_type": "markdown",
      "id": "d6828e7f",
      "metadata": {
        "id": "d6828e7f"
      },
      "source": [
        "For debugging purposes, I'll use the following function, which prints the list from right to left and then left to right, which confirms that all of the links are correct."
      ]
    },
    {
      "cell_type": "code",
      "execution_count": 8,
      "id": "c89bece9",
      "metadata": {
        "id": "c89bece9"
      },
      "outputs": [],
      "source": [
        "def print_deque(deque):\n",
        "    node = deque.head\n",
        "    while node:\n",
        "        print(node.data, end=', ')\n",
        "        node = node.right\n",
        "    print()\n",
        "\n",
        "    node = deque.tail\n",
        "    while node:\n",
        "        print(node.data, end=', ')\n",
        "        node = node.left\n",
        "    print()"
      ]
    },
    {
      "cell_type": "markdown",
      "id": "2f9532f2",
      "metadata": {
        "id": "2f9532f2"
      },
      "source": [
        "Here's an example."
      ]
    },
    {
      "cell_type": "code",
      "execution_count": 9,
      "id": "c246a024",
      "metadata": {
        "colab": {
          "base_uri": "https://localhost:8080/"
        },
        "id": "c246a024",
        "outputId": "a988badf-faec-42b5-f974-e31a5e5b6cb5"
      },
      "outputs": [
        {
          "output_type": "stream",
          "name": "stdout",
          "text": [
            "1, 2, 3, \n",
            "3, 2, 1, \n"
          ]
        }
      ],
      "source": [
        "print_deque(deque)"
      ]
    },
    {
      "cell_type": "markdown",
      "id": "44af708a",
      "metadata": {
        "id": "44af708a"
      },
      "source": [
        "## Push\n",
        "\n",
        "Now let's see how we can add and remove elements from the beginning and end in constant time.\n",
        "We'll start with the push operations.\n",
        "\n",
        "If we start with an empty deque, adding the first node is a special case, so I'll pull that into a function."
      ]
    },
    {
      "cell_type": "code",
      "execution_count": 10,
      "id": "7b522c71",
      "metadata": {
        "tags": [],
        "id": "7b522c71"
      },
      "outputs": [],
      "source": [
        "def push_first(deque, value):\n",
        "    deque.head = deque.tail = Node(value, None, None)"
      ]
    },
    {
      "cell_type": "markdown",
      "id": "79c720b4",
      "metadata": {
        "id": "79c720b4"
      },
      "source": [
        "Here's an example."
      ]
    },
    {
      "cell_type": "code",
      "execution_count": 11,
      "id": "9ee37b46",
      "metadata": {
        "tags": [],
        "colab": {
          "base_uri": "https://localhost:8080/"
        },
        "id": "9ee37b46",
        "outputId": "c512e691-a23f-4c6d-d1b1-81ef96fa0b52"
      },
      "outputs": [
        {
          "output_type": "stream",
          "name": "stdout",
          "text": [
            "1, \n",
            "1, \n"
          ]
        }
      ],
      "source": [
        "deque = Deque()\n",
        "push_first(deque, 1)\n",
        "print_deque(deque)"
      ]
    },
    {
      "cell_type": "markdown",
      "id": "a83f633d",
      "metadata": {
        "id": "a83f633d"
      },
      "source": [
        "**Exercise:**  Write `left_push`, which takes a `Deque` object and a new value, and adds the value to the beginning of the deque.\n",
        "\n",
        "If the queue is empty, it should call `push_first` to handle the special case; otherwise it should handle the general case."
      ]
    },
    {
      "cell_type": "code",
      "execution_count": 50,
      "id": "541d2764",
      "metadata": {
        "id": "541d2764"
      },
      "outputs": [],
      "source": [
        "def left_push(deque,value):\n",
        "  if deque.head is None:\n",
        "    return push_first(deque,value)\n",
        "  else:\n",
        "    push = deque.head\n",
        "\n",
        "    deque.head = Node(value, None ,push)\n",
        "    push.left = deque.head\n",
        "    return deque"
      ]
    },
    {
      "cell_type": "code",
      "source": [],
      "metadata": {
        "colab": {
          "base_uri": "https://localhost:8080/",
          "height": 141
        },
        "id": "RkZYiUnLVNXN",
        "outputId": "7c60458c-9632-421e-84fb-9ae4d7ea1265"
      },
      "id": "RkZYiUnLVNXN",
      "execution_count": 38,
      "outputs": [
        {
          "output_type": "error",
          "ename": "NameError",
          "evalue": "name 'push' is not defined",
          "traceback": [
            "\u001b[0;31m---------------------------------------------------------------------------\u001b[0m",
            "\u001b[0;31mNameError\u001b[0m                                 Traceback (most recent call last)",
            "\u001b[0;32m/tmp/ipython-input-38-2424453030.py\u001b[0m in \u001b[0;36m<cell line: 0>\u001b[0;34m()\u001b[0m\n\u001b[0;32m----> 1\u001b[0;31m \u001b[0mtype\u001b[0m\u001b[0;34m(\u001b[0m\u001b[0mpush\u001b[0m\u001b[0;34m)\u001b[0m\u001b[0;34m\u001b[0m\u001b[0;34m\u001b[0m\u001b[0m\n\u001b[0m",
            "\u001b[0;31mNameError\u001b[0m: name 'push' is not defined"
          ]
        }
      ]
    },
    {
      "cell_type": "markdown",
      "id": "df6d86a0",
      "metadata": {
        "id": "df6d86a0"
      },
      "source": [
        "You can use the following examples to test your function:"
      ]
    },
    {
      "cell_type": "code",
      "execution_count": 51,
      "id": "b57d9562",
      "metadata": {
        "colab": {
          "base_uri": "https://localhost:8080/"
        },
        "id": "b57d9562",
        "outputId": "4d9a2fa4-7f50-46e8-cd5b-09531f7e99c9"
      },
      "outputs": [
        {
          "output_type": "stream",
          "name": "stdout",
          "text": [
            "2, \n",
            "2, \n"
          ]
        }
      ],
      "source": [
        "deque = Deque()\n",
        "left_push(deque, 2)\n",
        "print_deque(deque)"
      ]
    },
    {
      "cell_type": "code",
      "execution_count": 52,
      "id": "511a9f52",
      "metadata": {
        "colab": {
          "base_uri": "https://localhost:8080/"
        },
        "id": "511a9f52",
        "outputId": "01f5bea2-138c-4c4e-c92d-6ff834b1c2f6"
      },
      "outputs": [
        {
          "output_type": "stream",
          "name": "stdout",
          "text": [
            "1, 2, \n",
            "2, 1, \n"
          ]
        }
      ],
      "source": [
        "left_push(deque, 1)\n",
        "print_deque(deque)"
      ]
    },
    {
      "cell_type": "markdown",
      "id": "fe3c572e",
      "metadata": {
        "id": "fe3c572e"
      },
      "source": [
        "**Exercise:**  Write `right_push`, which takes a `Deque` object and a new value, and adds the value to the end of the deque.\n",
        "\n",
        "If the queue is empty, it should call `push_first` to handle the special case; otherwise it should handle the general case."
      ]
    },
    {
      "cell_type": "code",
      "execution_count": 53,
      "id": "091cf27c",
      "metadata": {
        "id": "091cf27c"
      },
      "outputs": [],
      "source": [
        "def right_push(deque,value):\n",
        "  if deque.tail is None:\n",
        "    return push_first(deque,value)\n",
        "  else:\n",
        "    push = deque.tail\n",
        "\n",
        "    deque.tail = Node(value, push ,None)\n",
        "    push.right = deque.tail\n",
        "    return deque"
      ]
    },
    {
      "cell_type": "markdown",
      "id": "05942662",
      "metadata": {
        "id": "05942662"
      },
      "source": [
        "You can use the following examples to test your function:"
      ]
    },
    {
      "cell_type": "code",
      "execution_count": 54,
      "id": "7d3e7688",
      "metadata": {
        "colab": {
          "base_uri": "https://localhost:8080/"
        },
        "id": "7d3e7688",
        "outputId": "328389e2-ffc5-45fc-c1ef-c9ed218973c7"
      },
      "outputs": [
        {
          "output_type": "stream",
          "name": "stdout",
          "text": [
            "3, \n",
            "3, \n"
          ]
        }
      ],
      "source": [
        "deque = Deque()\n",
        "right_push(deque, 3)\n",
        "print_deque(deque)"
      ]
    },
    {
      "cell_type": "code",
      "execution_count": 55,
      "id": "23ac16de",
      "metadata": {
        "colab": {
          "base_uri": "https://localhost:8080/"
        },
        "id": "23ac16de",
        "outputId": "be8fd08c-e4bc-4288-b9e0-0ea74b70e91a"
      },
      "outputs": [
        {
          "output_type": "stream",
          "name": "stdout",
          "text": [
            "3, 4, \n",
            "4, 3, \n"
          ]
        }
      ],
      "source": [
        "right_push(deque, 4)\n",
        "print_deque(deque)"
      ]
    },
    {
      "cell_type": "markdown",
      "id": "82eaab11",
      "metadata": {
        "id": "82eaab11"
      },
      "source": [
        "## Pop\n",
        "\n",
        "To pop elements from the deque, we have to handle two special cases:\n",
        "\n",
        "* If `head` and `tail` are both `None`, the deque is empty and we should raise a `ValueError`.\n",
        "\n",
        "* If `head` and `tail` refer to the same `Node`, there is only one element, so we should remove it and leave the deque empty.\n",
        "\n",
        "The following function handles these cases."
      ]
    },
    {
      "cell_type": "code",
      "execution_count": 56,
      "id": "0830b88e",
      "metadata": {
        "tags": [],
        "id": "0830b88e"
      },
      "outputs": [],
      "source": [
        "def pop_last(deque):\n",
        "    if deque.head is None:\n",
        "        raise ValueError('Tried to pop from empty deque')\n",
        "\n",
        "    old_head = deque.head\n",
        "    deque.head = deque.tail = None\n",
        "    return old_head.data"
      ]
    },
    {
      "cell_type": "markdown",
      "id": "8be920cb",
      "metadata": {
        "id": "8be920cb"
      },
      "source": [
        "We can test it like this:"
      ]
    },
    {
      "cell_type": "code",
      "execution_count": 57,
      "id": "2b79c2a5",
      "metadata": {
        "tags": [],
        "colab": {
          "base_uri": "https://localhost:8080/"
        },
        "id": "2b79c2a5",
        "outputId": "f14956fe-ad3e-4abc-9354-7e5d1afc3c44"
      },
      "outputs": [
        {
          "output_type": "execute_result",
          "data": {
            "text/plain": [
              "1"
            ]
          },
          "metadata": {},
          "execution_count": 57
        }
      ],
      "source": [
        "deque = Deque()\n",
        "left_push(deque, 1)\n",
        "pop_last(deque)"
      ]
    },
    {
      "cell_type": "code",
      "execution_count": 58,
      "id": "466cbad6",
      "metadata": {
        "tags": [],
        "colab": {
          "base_uri": "https://localhost:8080/"
        },
        "id": "466cbad6",
        "outputId": "38a24da6-1056-4989-ab15-9c9b0ba7a040"
      },
      "outputs": [
        {
          "output_type": "stream",
          "name": "stdout",
          "text": [
            "\n",
            "\n"
          ]
        }
      ],
      "source": [
        "print_deque(deque)"
      ]
    },
    {
      "cell_type": "markdown",
      "id": "ac600f8a",
      "metadata": {
        "id": "ac600f8a"
      },
      "source": [
        "**Exercise:**  Write `left_pop`, which takes a `Deque` object, remove the first node, and return the first data value.\n",
        "\n",
        "If the queue is empty or has a single element, it should call `pop_last` to handle the special case; otherwise it should handle the general case."
      ]
    },
    {
      "cell_type": "code",
      "execution_count": 67,
      "id": "4a6d6869",
      "metadata": {
        "id": "4a6d6869"
      },
      "outputs": [],
      "source": [
        "def left_pop(deque):\n",
        "  if deque.head is None or (deque.head.left is None and deque.head.right is None):\n",
        "    return pop_last(deque)\n",
        "  else:\n",
        "    old_head = deque.head\n",
        "    right = deque.head.right\n",
        "    right.left = None\n",
        "    deque.head = right\n",
        "\n",
        "    return old_head.data\n",
        "\n",
        ""
      ]
    },
    {
      "cell_type": "markdown",
      "id": "03468ac4",
      "metadata": {
        "id": "03468ac4"
      },
      "source": [
        "You can use the following example to test your code."
      ]
    },
    {
      "cell_type": "code",
      "execution_count": 68,
      "id": "31aecffc",
      "metadata": {
        "colab": {
          "base_uri": "https://localhost:8080/"
        },
        "id": "31aecffc",
        "outputId": "e7930ff9-beca-4e3d-ceb6-547e193d2ca4"
      },
      "outputs": [
        {
          "output_type": "stream",
          "name": "stdout",
          "text": [
            "1, 2, \n",
            "2, 1, \n"
          ]
        }
      ],
      "source": [
        "deque = Deque()\n",
        "left_push(deque, 2)\n",
        "left_push(deque, 1)\n",
        "print_deque(deque)"
      ]
    },
    {
      "cell_type": "code",
      "execution_count": 69,
      "id": "e598b176",
      "metadata": {
        "colab": {
          "base_uri": "https://localhost:8080/"
        },
        "id": "e598b176",
        "outputId": "8177a0b3-3677-4a84-c7a0-16b3b95621b4"
      },
      "outputs": [
        {
          "output_type": "execute_result",
          "data": {
            "text/plain": [
              "1"
            ]
          },
          "metadata": {},
          "execution_count": 69
        }
      ],
      "source": [
        "left_pop(deque)"
      ]
    },
    {
      "cell_type": "markdown",
      "id": "9a7bb10e",
      "metadata": {
        "id": "9a7bb10e"
      },
      "source": [
        "Check to see whether the remaining list is well-formed."
      ]
    },
    {
      "cell_type": "code",
      "execution_count": 70,
      "id": "854f03c7",
      "metadata": {
        "colab": {
          "base_uri": "https://localhost:8080/"
        },
        "id": "854f03c7",
        "outputId": "3a865682-375e-40f1-98bf-8c68062c23bd"
      },
      "outputs": [
        {
          "output_type": "stream",
          "name": "stdout",
          "text": [
            "2, \n",
            "2, \n"
          ]
        }
      ],
      "source": [
        "print_deque(deque)"
      ]
    },
    {
      "cell_type": "code",
      "execution_count": 71,
      "id": "40c86ff1",
      "metadata": {
        "colab": {
          "base_uri": "https://localhost:8080/"
        },
        "id": "40c86ff1",
        "outputId": "f925fa58-d82b-4005-8c70-837f84b76b0b"
      },
      "outputs": [
        {
          "output_type": "execute_result",
          "data": {
            "text/plain": [
              "2"
            ]
          },
          "metadata": {},
          "execution_count": 71
        }
      ],
      "source": [
        "left_pop(deque)"
      ]
    },
    {
      "cell_type": "code",
      "execution_count": 72,
      "id": "e0f844f6",
      "metadata": {
        "colab": {
          "base_uri": "https://localhost:8080/"
        },
        "id": "e0f844f6",
        "outputId": "d3a653fb-ab49-499a-d244-fd0a175707ba"
      },
      "outputs": [
        {
          "output_type": "stream",
          "name": "stdout",
          "text": [
            "Tried to pop from empty deque\n"
          ]
        }
      ],
      "source": [
        "try:\n",
        "    left_pop(deque)\n",
        "except ValueError as e:\n",
        "    print(e)"
      ]
    },
    {
      "cell_type": "markdown",
      "id": "8f1e64ee",
      "metadata": {
        "id": "8f1e64ee"
      },
      "source": [
        "**Exercise:**  Write `right_pop`, which takes a `Deque` object, remove the last node, and return the last data value.\n",
        "\n",
        "If the queue is empty or has a single element, it should call `pop_last` to handle the special case; otherwise it should handle the general case."
      ]
    },
    {
      "cell_type": "code",
      "execution_count": 82,
      "id": "860a382c",
      "metadata": {
        "id": "860a382c"
      },
      "outputs": [],
      "source": [
        "def right_pop(deque):\n",
        "  if deque.head is None or (deque.head.left is None and deque.head.right is None):\n",
        "    return pop_last(deque)\n",
        "  else:\n",
        "    old_tail = deque.tail\n",
        "    left = deque.tail.left\n",
        "    left.right = None\n",
        "    deque.tail = left\n",
        "\n",
        "    return old_tail.data\n",
        "\n",
        ""
      ]
    },
    {
      "cell_type": "markdown",
      "id": "35867cbd",
      "metadata": {
        "id": "35867cbd"
      },
      "source": [
        "You can use the following examples to test your function."
      ]
    },
    {
      "cell_type": "code",
      "execution_count": 83,
      "id": "490ec809",
      "metadata": {
        "colab": {
          "base_uri": "https://localhost:8080/"
        },
        "id": "490ec809",
        "outputId": "5318b53e-601a-4ef9-db36-92045d41444a"
      },
      "outputs": [
        {
          "output_type": "stream",
          "name": "stdout",
          "text": [
            "LinkedList(Node(1), Node(2))\n"
          ]
        }
      ],
      "source": [
        "deque = Deque()\n",
        "left_push(deque, 2)\n",
        "left_push(deque, 1)\n",
        "print(deque)"
      ]
    },
    {
      "cell_type": "code",
      "execution_count": 84,
      "id": "df1579df",
      "metadata": {
        "colab": {
          "base_uri": "https://localhost:8080/"
        },
        "id": "df1579df",
        "outputId": "8f9f37f8-1c95-4df7-a1e0-b8a1dbcc370f"
      },
      "outputs": [
        {
          "output_type": "execute_result",
          "data": {
            "text/plain": [
              "2"
            ]
          },
          "metadata": {},
          "execution_count": 84
        }
      ],
      "source": [
        "right_pop(deque)"
      ]
    },
    {
      "cell_type": "code",
      "execution_count": 85,
      "id": "e9ede434",
      "metadata": {
        "colab": {
          "base_uri": "https://localhost:8080/"
        },
        "id": "e9ede434",
        "outputId": "14383bd4-edaa-4652-dee9-95ecddd89c18"
      },
      "outputs": [
        {
          "output_type": "stream",
          "name": "stdout",
          "text": [
            "1, \n",
            "1, \n"
          ]
        }
      ],
      "source": [
        "print_deque(deque)"
      ]
    },
    {
      "cell_type": "code",
      "execution_count": 86,
      "id": "28038595",
      "metadata": {
        "colab": {
          "base_uri": "https://localhost:8080/"
        },
        "id": "28038595",
        "outputId": "2b4c3577-f46f-4ae0-b55f-4e672448bd56"
      },
      "outputs": [
        {
          "output_type": "execute_result",
          "data": {
            "text/plain": [
              "1"
            ]
          },
          "metadata": {},
          "execution_count": 86
        }
      ],
      "source": [
        "right_pop(deque)"
      ]
    },
    {
      "cell_type": "code",
      "execution_count": 87,
      "id": "1bbbd530",
      "metadata": {
        "colab": {
          "base_uri": "https://localhost:8080/"
        },
        "id": "1bbbd530",
        "outputId": "f77c18e9-d650-4b0c-c1d0-866095a85e95"
      },
      "outputs": [
        {
          "output_type": "stream",
          "name": "stdout",
          "text": [
            "Tried to pop from empty deque\n"
          ]
        }
      ],
      "source": [
        "try:\n",
        "    right_pop(deque)\n",
        "except ValueError as e:\n",
        "    print(e)"
      ]
    },
    {
      "cell_type": "markdown",
      "id": "2601cf79",
      "metadata": {
        "id": "2601cf79"
      },
      "source": [
        "## collections.deque\n",
        "\n",
        "The Python collections module provides an implementation of a deque.\n",
        "You can read the\n",
        "[documentation here](https://docs.python.org/3/library/collections.html#collections.deque)\n",
        "and the\n",
        "[source code here](https://github.com/python/cpython/blob/d943d19172aa93ce88bade15b9f23a0ce3bc72ff/Modules/_collectionsmodule.c).\n",
        "\n",
        "To confirm that it can add and remove elements from the beginning and end in constant time, let's run some timing tests."
      ]
    },
    {
      "cell_type": "code",
      "execution_count": 88,
      "id": "693d5e28",
      "metadata": {
        "colab": {
          "base_uri": "https://localhost:8080/"
        },
        "id": "693d5e28",
        "outputId": "15244d87-4e7f-40ff-92bb-3b4987caa990"
      },
      "outputs": [
        {
          "output_type": "stream",
          "name": "stdout",
          "text": [
            "Downloaded timing.py\n"
          ]
        }
      ],
      "source": [
        "from os.path import basename, exists\n",
        "\n",
        "def download(url):\n",
        "    filename = basename(url)\n",
        "    if not exists(filename):\n",
        "        from urllib.request import urlretrieve\n",
        "        local, _ = urlretrieve(url, filename)\n",
        "        print('Downloaded ' + local)\n",
        "\n",
        "download('https://github.com/AllenDowney/DSIRP/raw/main/timing.py')"
      ]
    },
    {
      "cell_type": "code",
      "execution_count": 89,
      "id": "f2a0e363",
      "metadata": {
        "id": "f2a0e363"
      },
      "outputs": [],
      "source": [
        "from collections import deque\n",
        "\n",
        "def appendleft(n):\n",
        "    d = deque()\n",
        "    [d.appendleft(x) for x in range(n)]"
      ]
    },
    {
      "cell_type": "code",
      "execution_count": 90,
      "id": "38d3e7a6",
      "metadata": {
        "id": "38d3e7a6"
      },
      "outputs": [],
      "source": [
        "def popleft(n):\n",
        "    d = deque()\n",
        "    [d.appendleft(x) for x in range(n)]\n",
        "    [d.popleft() for _ in range(n)]"
      ]
    },
    {
      "cell_type": "code",
      "execution_count": 91,
      "id": "5b5de53e",
      "metadata": {
        "colab": {
          "base_uri": "https://localhost:8080/"
        },
        "id": "5b5de53e",
        "outputId": "c500afb3-01fa-49cb-bfab-4c6e222d912e"
      },
      "outputs": [
        {
          "output_type": "stream",
          "name": "stdout",
          "text": [
            "1024 0.0\n",
            "2048 0.0\n",
            "4096 0.0\n",
            "8192 0.0\n",
            "16384 0.010000000000005116\n",
            "32768 0.0\n",
            "65536 0.00999999999999801\n",
            "131072 0.00999999999999801\n",
            "262144 0.00999999999999801\n",
            "524288 0.04999999999999716\n",
            "1048576 0.0800000000000054\n",
            "2097152 0.17999999999999972\n",
            "4194304 0.36999999999999744\n",
            "8388608 0.8500000000000014\n",
            "16777216 2.180000000000007\n"
          ]
        }
      ],
      "source": [
        "from timing import run_timing_test\n",
        "\n",
        "ns, ts = run_timing_test(appendleft)"
      ]
    },
    {
      "cell_type": "code",
      "execution_count": 92,
      "id": "48d2628f",
      "metadata": {
        "id": "48d2628f"
      },
      "outputs": [],
      "source": [
        "def append(n):\n",
        "    d = deque()\n",
        "    [d.append(x) for x in range(n)]"
      ]
    },
    {
      "cell_type": "code",
      "execution_count": 93,
      "id": "2d1aad80",
      "metadata": {
        "colab": {
          "base_uri": "https://localhost:8080/",
          "height": 449
        },
        "id": "2d1aad80",
        "outputId": "7e25d62c-9a62-4cf3-e838-0d483ad5aa05"
      },
      "outputs": [
        {
          "output_type": "display_data",
          "data": {
            "text/plain": [
              "<Figure size 640x480 with 1 Axes>"
            ],
            "image/png": "[encoded data removed]"
          },
          "metadata": {}
        }
      ],
      "source": [
        "from timing import plot_timing_test\n",
        "\n",
        "plot_timing_test(ns, ts, scale='linear')"
      ]
    },
    {
      "cell_type": "markdown",
      "id": "e2b4aef5",
      "metadata": {
        "id": "e2b4aef5"
      },
      "source": [
        "Running these operations `n` times is linear in `n`, which means that each one is constant time, at least on average."
      ]
    },
    {
      "cell_type": "markdown",
      "id": "33d085cd",
      "metadata": {
        "id": "33d085cd"
      },
      "source": [
        "**Exercise:** Modify the examples above to confirm that `append` and `pop` are also constant time."
      ]
    },
    {
      "cell_type": "markdown",
      "id": "ef58e92d",
      "metadata": {
        "id": "ef58e92d"
      },
      "source": [
        "*Data Structures and Information Retrieval in Python*\n",
        "\n",
        "Copyright 2021 Allen Downey\n",
        "\n",
        "License: [Creative Commons Attribution-NonCommercial-ShareAlike 4.0 International](https://creativecommons.org/licenses/by-nc-sa/4.0/)"
      ]
    }
  ],
  "metadata": {
    "celltoolbar": "Tags",
    "kernelspec": {
      "display_name": "Python 3 (ipykernel)",
      "language": "python",
      "name": "python3"
    },
    "language_info": {
      "codemirror_mode": {
        "name": "ipython",
        "version": 3
      },
      "file_extension": ".py",
      "mimetype": "text/x-python",
      "name": "python",
      "nbconvert_exporter": "python",
      "pygments_lexer": "ipython3",
      "version": "3.10.1"
    },
    "colab": {
      "provenance": []
    }
  },
  "nbformat": 4,
  "nbformat_minor": 5
}